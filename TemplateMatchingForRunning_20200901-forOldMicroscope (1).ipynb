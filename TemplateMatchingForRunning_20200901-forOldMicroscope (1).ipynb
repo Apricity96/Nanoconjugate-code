{
 "cells": [
  {
   "cell_type": "code",
   "execution_count": 1,
   "id": "falling-destination",
   "metadata": {
    "scrolled": false
   },
   "outputs": [
    {
     "name": "stdout",
     "output_type": "stream",
     "text": [
      "C:\\Users\\Image Processing PC\\Downloads\\1106\\s1by\\w1\\Analysisfolder_Template\n",
      "processing images\n",
      "C:\\Users\\Image Processing PC\\Downloads\\1106\\s1by\\w1\\Analysisfolder_thresholding\n",
      "processing images\n",
      "processed and converted images\n",
      "calculating image 1 of 15\n"
     ]
    },
    {
     "name": "stderr",
     "output_type": "stream",
     "text": [
      "c:\\program files\\python36\\lib\\site-packages\\numpy\\core\\fromnumeric.py:3373: RuntimeWarning: Mean of empty slice.\n",
      "  out=out, **kwargs)\n",
      "c:\\program files\\python36\\lib\\site-packages\\numpy\\core\\_methods.py:170: RuntimeWarning: invalid value encountered in double_scalars\n",
      "  ret = ret.dtype.type(ret / rcount)\n"
     ]
    },
    {
     "name": "stdout",
     "output_type": "stream",
     "text": [
      "max is  2.085819344622437  min is  -2.893368285016714\n",
      "average is  -0.18797146101621787 median is  -0.0024549378621063767\n",
      "standard deviation is  1.1767434004843291\n",
      "max is  6.304608307974876  min is  -3.956610825323316\n",
      "average is  0.3992312065052857 median is  0.0\n",
      "standard deviation is  2.0250645805699397\n",
      "minus values here ------------\n",
      "max value is  2.5412498462160498 min value is  -4.218788963352439  mean value is  -0.5872026675215036\n",
      " median value is  -0.14139926095310976  standard deviation is  1.6942530336596908\n"
     ]
    },
    {
     "data": {
      "application/vnd.jupyter.widget-view+json": {
       "model_id": "bfdbb4fd2fe34f33bb113a60988fc8c2",
       "version_major": 2,
       "version_minor": 0
      },
      "text/plain": [
       "  0%|          | 0/6 [00:00<?, ?it/s]"
      ]
     },
     "metadata": {},
     "output_type": "display_data"
    },
    {
     "data": {
      "application/vnd.jupyter.widget-view+json": {
       "model_id": "6918c9a9b1eb4dddacb1b8ced8fd0e08",
       "version_major": 2,
       "version_minor": 0
      },
      "text/plain": [
       "  0%|          | 0/3 [00:00<?, ?it/s]"
      ]
     },
     "metadata": {},
     "output_type": "display_data"
    },
    {
     "data": {
      "application/vnd.jupyter.widget-view+json": {
       "model_id": "229d15eda4f540eea195bf5d3cb70cad",
       "version_major": 2,
       "version_minor": 0
      },
      "text/plain": [
       "  0%|          | 0/2 [00:00<?, ?it/s]"
      ]
     },
     "metadata": {},
     "output_type": "display_data"
    },
    {
     "name": "stdout",
     "output_type": "stream",
     "text": [
      "max is  6.210665739984622  min is  -9.858622704710573\n",
      "average is  -2.2464211482050978 median is  -1.9821398417192673\n",
      "standard deviation is  3.531715091124412\n",
      "max is  9.847061701567263  min is  -16.007537535347584\n",
      "average is  -2.1525343198250355 median is  -0.988466119227278\n",
      "standard deviation is  4.889919300672173\n",
      "minus values here ------------\n",
      "max value is  10.743628238428052 min value is  -8.839662773909644  mean value is  -0.09388682838006254\n",
      " median value is  -0.050292268947021546  standard deviation is  2.901620620512858\n",
      "calculating image 2 of 15\n",
      "max is  3.551794772040713  min is  -2.0731728473210995\n",
      "average is  0.290355167663429 median is  -0.0024549378621063767\n",
      "standard deviation is  1.2050202909167123\n",
      "max is  3.903276985450328  min is  -3.5920877775649416\n",
      "average is  0.37593145158467456 median is  -0.0018699721996513416\n",
      "standard deviation is  1.759616351160237\n",
      "minus values here ------------\n",
      "max value is  2.6925253113510523 min value is  -3.581766886703261  mean value is  -0.08557628392124557\n",
      " median value is  -0.0005849656624550351  standard deviation is  1.4240383405624963\n"
     ]
    },
    {
     "data": {
      "application/vnd.jupyter.widget-view+json": {
       "model_id": "adb9a266811b4eeaa373fc960a174856",
       "version_major": 2,
       "version_minor": 0
      },
      "text/plain": [
       "  0%|          | 0/6 [00:00<?, ?it/s]"
      ]
     },
     "metadata": {},
     "output_type": "display_data"
    },
    {
     "data": {
      "application/vnd.jupyter.widget-view+json": {
       "model_id": "43bd6ca409ea4c9a908fd90bddcf7b1e",
       "version_major": 2,
       "version_minor": 0
      },
      "text/plain": [
       "  0%|          | 0/3 [00:00<?, ?it/s]"
      ]
     },
     "metadata": {},
     "output_type": "display_data"
    },
    {
     "data": {
      "application/vnd.jupyter.widget-view+json": {
       "model_id": "5ae48cd692dd4549b280e56f1af200c4",
       "version_major": 2,
       "version_minor": 0
      },
      "text/plain": [
       "  0%|          | 0/2 [00:00<?, ?it/s]"
      ]
     },
     "metadata": {},
     "output_type": "display_data"
    },
    {
     "name": "stdout",
     "output_type": "stream",
     "text": [
      "max is  5.5382485481890615  min is  -10.785051592450007\n",
      "average is  -1.2436911137508735 median is  -1.088256887289095\n",
      "standard deviation is  3.4182569033275003\n",
      "max is  8.049367298186704  min is  -10.359719914866956\n",
      "average is  -1.4184814956086278 median is  -0.8761948245045696\n",
      "standard deviation is  3.6930796174152647\n",
      "minus values here ------------\n",
      "max value is  5.8900030762994895 min value is  -8.33243305339149  mean value is  0.1747903818577542\n",
      " median value is  0.19239764984640284  standard deviation is  2.049553233676247\n",
      "calculating image 3 of 15\n",
      "max is  2.673047424001882  min is  -2.35378287719389\n",
      "average is  -0.0337666202397104 median is  -0.0024549378621063767\n",
      "standard deviation is  1.2093307110743645\n",
      "max is  6.658699327945764  min is  -2.4312366662415417\n",
      "average is  0.27073275339327824 median is  -0.0018699721996513416\n",
      "standard deviation is  2.0582565759975013\n",
      "minus values here ------------\n",
      "max value is  2.46857504322454 min value is  -3.9856519039438822  mean value is  -0.3044993736329885\n",
      " median value is  -0.0005849656624550351  standard deviation is  1.6411446319627647\n"
     ]
    },
    {
     "data": {
      "application/vnd.jupyter.widget-view+json": {
       "model_id": "6d93251c30f74cac850b07c9e2eb92b1",
       "version_major": 2,
       "version_minor": 0
      },
      "text/plain": [
       "  0%|          | 0/6 [00:00<?, ?it/s]"
      ]
     },
     "metadata": {},
     "output_type": "display_data"
    },
    {
     "data": {
      "application/vnd.jupyter.widget-view+json": {
       "model_id": "55c0756decfd45789a0058b07afe5389",
       "version_major": 2,
       "version_minor": 0
      },
      "text/plain": [
       "  0%|          | 0/3 [00:00<?, ?it/s]"
      ]
     },
     "metadata": {},
     "output_type": "display_data"
    },
    {
     "data": {
      "application/vnd.jupyter.widget-view+json": {
       "model_id": "bfe057665b3b488895f82f4410da4644",
       "version_major": 2,
       "version_minor": 0
      },
      "text/plain": [
       "  0%|          | 0/2 [00:00<?, ?it/s]"
      ]
     },
     "metadata": {},
     "output_type": "display_data"
    },
    {
     "name": "stdout",
     "output_type": "stream",
     "text": [
      "max is  7.063837435481689  min is  -10.913702660491385\n",
      "average is  -1.4789616451267682 median is  -1.521826910831227\n",
      "standard deviation is  3.3033366080501456\n",
      "max is  6.658604488982947  min is  -14.928878454349213\n",
      "average is  -1.614544767733172 median is  -0.6963451636401815\n",
      "standard deviation is  3.744879976400781\n",
      "minus values here ------------\n",
      "max value is  14.227994143780073 min value is  -8.245297460242174  mean value is  0.1355831226064033\n",
      " median value is  0.2250155976031165  standard deviation is  3.0888487188731286\n",
      "calculating image 4 of 15\n",
      "max is  0.6860337674187353  min is  -1.9496358503178042\n",
      "average is  -0.09964965357658265 median is  -0.0024549378621063767\n",
      "standard deviation is  0.650738800478286\n",
      "max is  0.3793892157921732  min is  -1.3953477627619195\n",
      "average is  -0.10367416984267144 median is  -0.0018699721996513416\n",
      "standard deviation is  0.44537182881393744\n",
      "minus values here ------------\n",
      "max value is  0.3066445516265621 min value is  -0.5542880875558847  mean value is  0.004024516266088772\n",
      " median value is  -0.0005849656624550351  standard deviation is  0.21638180386394912\n"
     ]
    },
    {
     "data": {
      "application/vnd.jupyter.widget-view+json": {
       "model_id": "8a5a8074a87b4fd9b0434be652ab4841",
       "version_major": 2,
       "version_minor": 0
      },
      "text/plain": [
       "  0%|          | 0/6 [00:00<?, ?it/s]"
      ]
     },
     "metadata": {},
     "output_type": "display_data"
    },
    {
     "data": {
      "application/vnd.jupyter.widget-view+json": {
       "model_id": "8eeed34828bf4817ac977ea0d9d3ac87",
       "version_major": 2,
       "version_minor": 0
      },
      "text/plain": [
       "  0%|          | 0/3 [00:00<?, ?it/s]"
      ]
     },
     "metadata": {},
     "output_type": "display_data"
    },
    {
     "data": {
      "application/vnd.jupyter.widget-view+json": {
       "model_id": "9e26a1c66a4a47bcaa0cf86d886942bc",
       "version_major": 2,
       "version_minor": 0
      },
      "text/plain": [
       "  0%|          | 0/2 [00:00<?, ?it/s]"
      ]
     },
     "metadata": {},
     "output_type": "display_data"
    },
    {
     "name": "stdout",
     "output_type": "stream",
     "text": [
      "max is  4.9531826142967414  min is  -6.599289470810292\n",
      "average is  -0.4720545639743821 median is  -0.06727882570456756\n",
      "standard deviation is  2.6517632797465533\n",
      "max is  6.678755965495754  min is  -10.105666841243263\n",
      "average is  -0.054568063777085854 median is  0.0\n",
      "standard deviation is  3.112451521047208\n",
      "minus values here ------------\n",
      "max value is  5.025937662017297 min value is  -6.599289470810292  mean value is  -0.4174865001972962\n",
      " median value is  -0.48419171403365824  standard deviation is  2.003835670759392\n",
      "calculating image 5 of 15\n",
      "max is  0.8829275353723866  min is  -0.3809883647083016\n",
      "average is  0.0820199032026099 median is  -0.0024549378621063767\n",
      "standard deviation is  0.38392136488984674\n",
      "max is  1.0361935925617458  min is  -0.0018699721996513416\n",
      "average is  0.17176394599379863 median is  -0.0009349860998256708\n",
      "standard deviation is  0.38658559483292015\n",
      "minus values here ------------\n",
      "max value is  0.8829275353723866 min value is  -1.4171819572700475  mean value is  -0.08974404279118874\n",
      " median value is  -0.0005849656624550351  standard deviation is  0.6757278577832283\n"
     ]
    },
    {
     "data": {
      "application/vnd.jupyter.widget-view+json": {
       "model_id": "a0d86c9cce48446482d146113efc5927",
       "version_major": 2,
       "version_minor": 0
      },
      "text/plain": [
       "  0%|          | 0/6 [00:00<?, ?it/s]"
      ]
     },
     "metadata": {},
     "output_type": "display_data"
    },
    {
     "data": {
      "application/vnd.jupyter.widget-view+json": {
       "model_id": "faccc8a1b04b4220b2b2bbc4fe034ac0",
       "version_major": 2,
       "version_minor": 0
      },
      "text/plain": [
       "  0%|          | 0/3 [00:00<?, ?it/s]"
      ]
     },
     "metadata": {},
     "output_type": "display_data"
    },
    {
     "data": {
      "application/vnd.jupyter.widget-view+json": {
       "model_id": "b9f6cc82875a41e9abfe32167c394ba3",
       "version_major": 2,
       "version_minor": 0
      },
      "text/plain": [
       "  0%|          | 0/2 [00:00<?, ?it/s]"
      ]
     },
     "metadata": {},
     "output_type": "display_data"
    },
    {
     "name": "stdout",
     "output_type": "stream",
     "text": [
      "max is  5.27941295514754  min is  -5.685828870904421\n",
      "average is  -0.06457521832183676 median is  0.5927233633324495\n",
      "standard deviation is  2.4621715346925552\n",
      "max is  9.977913353230335  min is  -5.514074537002745\n",
      "average is  0.36517385694731236 median is  0.0\n",
      "standard deviation is  2.6206514018723697\n",
      "minus values here ------------\n",
      "max value is  4.99130844523466 min value is  -5.056052522758028  mean value is  -0.42974907526914896\n",
      " median value is  -0.0314866651687139  standard deviation is  1.840856221831995\n",
      "calculating image 6 of 15\n",
      "max is  0.9901967271252665  min is  -0.7369676050825322\n",
      "average is  0.0151362059003336 median is  -0.021990921703726525\n",
      "standard deviation is  0.4674973036861033\n",
      "max is  0.0  min is  -0.6035245608112969\n",
      "average is  -0.11109026324023095 median is  -0.017247571139522577\n",
      "standard deviation is  0.20356134376678303\n",
      "minus values here ------------\n",
      "max value is  0.9901967271252665 min value is  -0.6698594840544285  mean value is  0.12622646914056454\n",
      " median value is  0.0147926332774162  standard deviation is  0.4802352028749643\n"
     ]
    },
    {
     "data": {
      "application/vnd.jupyter.widget-view+json": {
       "model_id": "dffd1f5019564b3f8b6aaa719c2bdafe",
       "version_major": 2,
       "version_minor": 0
      },
      "text/plain": [
       "  0%|          | 0/6 [00:00<?, ?it/s]"
      ]
     },
     "metadata": {},
     "output_type": "display_data"
    },
    {
     "data": {
      "application/vnd.jupyter.widget-view+json": {
       "model_id": "611d091997b34895b566925a4d7ae20b",
       "version_major": 2,
       "version_minor": 0
      },
      "text/plain": [
       "  0%|          | 0/3 [00:00<?, ?it/s]"
      ]
     },
     "metadata": {},
     "output_type": "display_data"
    },
    {
     "data": {
      "application/vnd.jupyter.widget-view+json": {
       "model_id": "07a38836a80c4f91b397dcce24c661bd",
       "version_major": 2,
       "version_minor": 0
      },
      "text/plain": [
       "  0%|          | 0/2 [00:00<?, ?it/s]"
      ]
     },
     "metadata": {},
     "output_type": "display_data"
    },
    {
     "name": "stdout",
     "output_type": "stream",
     "text": [
      "max is  6.161845939162458  min is  -7.647485014767756\n",
      "average is  -1.6191389230528217 median is  -1.8495406886574315\n",
      "standard deviation is  2.9659322208390266\n",
      "max is  3.327710611637292  min is  -8.366077317951842\n",
      "average is  -1.4768364952641841 median is  -0.44185105182810713\n",
      "standard deviation is  2.530499196756709\n",
      "minus values here ------------\n",
      "max value is  3.531697447478469 min value is  -5.967925385984829  mean value is  -0.1423024277886375\n",
      " median value is  0.31656333437739836  standard deviation is  2.1377384692413273\n",
      "calculating image 7 of 15\n",
      "max is  3.67963009237586  min is  -0.7921130616142547\n",
      "average is  1.006129018413556 median is  0.2908215919629962\n",
      "standard deviation is  1.5168251545010385\n",
      "max is  3.795465364360527  min is  -2.0058040787998133\n",
      "average is  0.9112082270489459 median is  0.4107361938719809\n",
      "standard deviation is  1.7102016593812557\n",
      "minus values here ------------\n",
      "max value is  1.6314672250908944 min value is  -1.6200277780471324  mean value is  0.09492079136461021\n",
      " median value is  -0.05593306049032397  standard deviation is  0.904462644077021\n"
     ]
    },
    {
     "data": {
      "application/vnd.jupyter.widget-view+json": {
       "model_id": "27fbc848d8404c32b319c0b490b0ea39",
       "version_major": 2,
       "version_minor": 0
      },
      "text/plain": [
       "  0%|          | 0/6 [00:00<?, ?it/s]"
      ]
     },
     "metadata": {},
     "output_type": "display_data"
    },
    {
     "data": {
      "application/vnd.jupyter.widget-view+json": {
       "model_id": "b6d03e3203af4b61b42b1cb55a827afb",
       "version_major": 2,
       "version_minor": 0
      },
      "text/plain": [
       "  0%|          | 0/3 [00:00<?, ?it/s]"
      ]
     },
     "metadata": {},
     "output_type": "display_data"
    },
    {
     "data": {
      "application/vnd.jupyter.widget-view+json": {
       "model_id": "9906fa4150f74a81b0b8d6de6e2b7f05",
       "version_major": 2,
       "version_minor": 0
      },
      "text/plain": [
       "  0%|          | 0/2 [00:00<?, ?it/s]"
      ]
     },
     "metadata": {},
     "output_type": "display_data"
    },
    {
     "name": "stdout",
     "output_type": "stream",
     "text": [
      "max is  7.7328375333633055  min is  -6.304376419078776\n",
      "average is  -0.3512932612435931 median is  -0.25682137180279563\n",
      "standard deviation is  3.04022067451204\n",
      "max is  6.6591559657930315  min is  -7.378240225188144\n",
      "average is  -0.7190533372713375 median is  0.0\n",
      "standard deviation is  2.647309108834006\n",
      "minus values here ------------\n",
      "max value is  6.26057837164862 min value is  -4.992049786776736  mean value is  0.36776007602774435\n",
      " median value is  0.3182971473557181  standard deviation is  2.005096602393521\n",
      "calculating image 8 of 15\n",
      "max is  3.1361978249268105  min is  -1.9954292805131213\n",
      "average is  0.3686196023925388 median is  -0.0024549378621063767\n",
      "standard deviation is  1.2550885054998135\n",
      "max is  1.5345776631052028  min is  -6.068060539619658\n",
      "average is  -0.4002801827603026 median is  -0.0018699721996513416\n",
      "standard deviation is  1.6184427315435075\n",
      "minus values here ------------\n",
      "max value is  4.072631259106537 min value is  -0.7575166163852964  mean value is  0.7688997851528413\n",
      " median value is  0.2463562114289495  standard deviation is  1.2002054177413146\n"
     ]
    },
    {
     "data": {
      "application/vnd.jupyter.widget-view+json": {
       "model_id": "dfe87238125b4e46b69c9363769a73e9",
       "version_major": 2,
       "version_minor": 0
      },
      "text/plain": [
       "  0%|          | 0/6 [00:00<?, ?it/s]"
      ]
     },
     "metadata": {},
     "output_type": "display_data"
    },
    {
     "data": {
      "application/vnd.jupyter.widget-view+json": {
       "model_id": "00878f78a3c74eeca79e6cdcbb9e1ff6",
       "version_major": 2,
       "version_minor": 0
      },
      "text/plain": [
       "  0%|          | 0/3 [00:00<?, ?it/s]"
      ]
     },
     "metadata": {},
     "output_type": "display_data"
    },
    {
     "data": {
      "application/vnd.jupyter.widget-view+json": {
       "model_id": "ca616d5e07b74d61b495ad73c30f3642",
       "version_major": 2,
       "version_minor": 0
      },
      "text/plain": [
       "  0%|          | 0/2 [00:00<?, ?it/s]"
      ]
     },
     "metadata": {},
     "output_type": "display_data"
    },
    {
     "name": "stdout",
     "output_type": "stream",
     "text": [
      "max is  4.890822544072665  min is  -14.157843567057332\n",
      "average is  -1.7646831018231512 median is  -1.2780614956256988\n",
      "standard deviation is  3.6505749446636706\n",
      "max is  4.921668483960163  min is  -11.972978886622432\n",
      "average is  -1.557722429101565 median is  -0.34680142209521914\n",
      "standard deviation is  3.3918273133291823\n",
      "minus values here ------------\n",
      "max value is  5.20829826706379 min value is  -8.694191627258189  mean value is  -0.20696067272158658\n",
      " median value is  0.41772723196885764  standard deviation is  2.6341155689238067\n",
      "calculating image 9 of 15\n",
      "max is  7.1287025205657795  min is  -1.8284457773854204\n",
      "average is  2.3456837822851635 median is  1.856162241940197\n",
      "standard deviation is  2.306216042545479\n",
      "max is  8.196868979553665  min is  -5.150335008130447\n",
      "average is  1.417421155828792 median is  1.162531714254365\n",
      "standard deviation is  2.2624476274287533\n",
      "minus values here ------------\n",
      "max value is  5.375550205932584 min value is  -7.423942940928439  mean value is  0.9282626264563713\n",
      " median value is  0.6880089491063761  standard deviation is  2.3263862867074536\n"
     ]
    },
    {
     "data": {
      "application/vnd.jupyter.widget-view+json": {
       "model_id": "cb05635c775d44f0853d90d53d7bf0a4",
       "version_major": 2,
       "version_minor": 0
      },
      "text/plain": [
       "  0%|          | 0/6 [00:00<?, ?it/s]"
      ]
     },
     "metadata": {},
     "output_type": "display_data"
    },
    {
     "data": {
      "application/vnd.jupyter.widget-view+json": {
       "model_id": "b901a9ddb4c64adaab168fff07580636",
       "version_major": 2,
       "version_minor": 0
      },
      "text/plain": [
       "  0%|          | 0/3 [00:00<?, ?it/s]"
      ]
     },
     "metadata": {},
     "output_type": "display_data"
    },
    {
     "data": {
      "application/vnd.jupyter.widget-view+json": {
       "model_id": "263a3c8803a346bcbde6ba7c141b826a",
       "version_major": 2,
       "version_minor": 0
      },
      "text/plain": [
       "  0%|          | 0/2 [00:00<?, ?it/s]"
      ]
     },
     "metadata": {},
     "output_type": "display_data"
    },
    {
     "name": "stdout",
     "output_type": "stream",
     "text": [
      "max is  7.144446511545455  min is  -17.89756248395746\n",
      "average is  -3.6420719303737896 median is  -3.4948150730220915\n",
      "standard deviation is  4.788466756306441\n",
      "max is  5.797827021956641  min is  -11.034674306260726\n",
      "average is  -2.21146247485805 median is  -1.2886737337758765\n",
      "standard deviation is  3.324121241125315\n",
      "minus values here ------------\n",
      "max value is  11.29396399751366 min value is  -13.921652690339737  mean value is  -1.4306094555157396\n",
      " median value is  -0.8171744120681235  standard deviation is  3.909146817509362\n",
      "calculating image 10 of 15\n",
      "max is  2.159983323322869  min is  -2.8935386223867545\n",
      "average is  0.10710222348456631 median is  0.06301266722781973\n",
      "standard deviation is  1.3157837861097739\n",
      "max is  2.6593131341816663  min is  -2.51763084636696\n",
      "average is  0.1571900085428569 median is  0.0\n",
      "standard deviation is  1.2609526013508054\n",
      "minus values here ------------\n",
      "max value is  2.644735778938458 min value is  -3.461832510006988  mean value is  -0.0500877850582905\n",
      " median value is  0.1179966139593336  standard deviation is  1.7654162924438577\n"
     ]
    },
    {
     "data": {
      "application/vnd.jupyter.widget-view+json": {
       "model_id": "25e851f837564423a54ce3afcabc4777",
       "version_major": 2,
       "version_minor": 0
      },
      "text/plain": [
       "  0%|          | 0/6 [00:00<?, ?it/s]"
      ]
     },
     "metadata": {},
     "output_type": "display_data"
    },
    {
     "data": {
      "application/vnd.jupyter.widget-view+json": {
       "model_id": "169509250b5b495994c186e28c749a1e",
       "version_major": 2,
       "version_minor": 0
      },
      "text/plain": [
       "  0%|          | 0/3 [00:00<?, ?it/s]"
      ]
     },
     "metadata": {},
     "output_type": "display_data"
    },
    {
     "data": {
      "application/vnd.jupyter.widget-view+json": {
       "model_id": "a2432b6514484fe1afd5e0b9654f1eae",
       "version_major": 2,
       "version_minor": 0
      },
      "text/plain": [
       "  0%|          | 0/2 [00:00<?, ?it/s]"
      ]
     },
     "metadata": {},
     "output_type": "display_data"
    },
    {
     "name": "stdout",
     "output_type": "stream",
     "text": [
      "max is  6.590685257365818  min is  -19.962906827818642\n",
      "average is  -3.3070249526383306 median is  -3.6118261334580977\n",
      "standard deviation is  4.399124719697119\n",
      "max is  5.658970269034622  min is  -20.07814195009209\n",
      "average is  -2.3401570017781603 median is  -1.4632627735155816\n",
      "standard deviation is  4.129864987472494\n",
      "minus values here ------------\n",
      "max value is  6.526530662795957 min value is  -9.00234504057487  mean value is  -0.9668679508601692\n",
      " median value is  -0.7163015425728535  standard deviation is  2.6747921989359353\n",
      "calculating image 11 of 15\n",
      "max is  1.8866076450020608  min is  -0.7200170424472652\n",
      "average is  0.2078963276914218 median is  -0.0024549378621063767\n",
      "standard deviation is  0.7288171828238498\n",
      "max is  4.116257583777967  min is  -0.783454002189312\n",
      "average is  0.64773237852013 median is  0.0\n",
      "standard deviation is  1.419269519169885\n",
      "minus values here ------------\n",
      "max value is  0.07502303934207843 min value is  -2.2296499387759066  mean value is  -0.4398360508287082\n",
      " median value is  -0.0015199517622807059  standard deviation is  0.7490488444716531\n"
     ]
    },
    {
     "data": {
      "application/vnd.jupyter.widget-view+json": {
       "model_id": "fdd1cf69f50d44fc875096a923bce793",
       "version_major": 2,
       "version_minor": 0
      },
      "text/plain": [
       "  0%|          | 0/6 [00:00<?, ?it/s]"
      ]
     },
     "metadata": {},
     "output_type": "display_data"
    },
    {
     "data": {
      "application/vnd.jupyter.widget-view+json": {
       "model_id": "d69c82da4cb54bf9a3b178e47a2dd7f3",
       "version_major": 2,
       "version_minor": 0
      },
      "text/plain": [
       "  0%|          | 0/3 [00:00<?, ?it/s]"
      ]
     },
     "metadata": {},
     "output_type": "display_data"
    },
    {
     "data": {
      "application/vnd.jupyter.widget-view+json": {
       "model_id": "ad08fe2ff02143b2b026e6d930192cf5",
       "version_major": 2,
       "version_minor": 0
      },
      "text/plain": [
       "  0%|          | 0/2 [00:00<?, ?it/s]"
      ]
     },
     "metadata": {},
     "output_type": "display_data"
    },
    {
     "name": "stdout",
     "output_type": "stream",
     "text": [
      "max is  5.982321701302679  min is  -9.768179102975818\n",
      "average is  -2.336616184919907 median is  -2.460673621446628\n",
      "standard deviation is  3.716928460111964\n",
      "max is  7.09745972729819  min is  -9.224404767926961\n",
      "average is  -1.936432009727995 median is  -1.1102896795323525\n",
      "standard deviation is  3.2142111780156415\n",
      "minus values here ------------\n",
      "max value is  5.799326741966833 min value is  -8.094433188448875  mean value is  -0.400184175191912\n",
      " median value is  0.11921153765430026  standard deviation is  2.7424087509684183\n",
      "calculating image 12 of 15\n",
      "max is  0.2556615196757934  min is  -0.0024549378621063767\n",
      "average is  0.04056447172754359 median is  -0.0024549378621063767\n",
      "standard deviation is  0.09619432419436365\n",
      "max is  0.513623899450543  min is  -5.09028894926451\n",
      "average is  -0.7946961245760719 median is  -0.018571386849552927\n",
      "standard deviation is  1.9326439983691979\n",
      "minus values here ------------\n",
      "max value is  5.345950468940304 min value is  -0.5160788373126494  mean value is  0.8352605963036156\n",
      " median value is  0.01611644898744655  standard deviation is  2.028288418038953\n"
     ]
    },
    {
     "data": {
      "application/vnd.jupyter.widget-view+json": {
       "model_id": "d272da12b0c14b3b9c11b3020529b67c",
       "version_major": 2,
       "version_minor": 0
      },
      "text/plain": [
       "  0%|          | 0/6 [00:00<?, ?it/s]"
      ]
     },
     "metadata": {},
     "output_type": "display_data"
    },
    {
     "data": {
      "application/vnd.jupyter.widget-view+json": {
       "model_id": "6553895000244a73b0f042ff368c6ad9",
       "version_major": 2,
       "version_minor": 0
      },
      "text/plain": [
       "  0%|          | 0/3 [00:00<?, ?it/s]"
      ]
     },
     "metadata": {},
     "output_type": "display_data"
    },
    {
     "data": {
      "application/vnd.jupyter.widget-view+json": {
       "model_id": "33cbf525c8464dfb9cd5d23563129f75",
       "version_major": 2,
       "version_minor": 0
      },
      "text/plain": [
       "  0%|          | 0/2 [00:00<?, ?it/s]"
      ]
     },
     "metadata": {},
     "output_type": "display_data"
    },
    {
     "name": "stdout",
     "output_type": "stream",
     "text": [
      "max is  9.71027898694063  min is  -7.839470841845265\n",
      "average is  -1.0567018355443547 median is  -1.6221509046746592\n",
      "standard deviation is  3.3819482091293973\n",
      "max is  6.7503586433133025  min is  -8.031952647648062\n",
      "average is  0.126807265981835 median is  0.0\n",
      "standard deviation is  2.320838740095534\n",
      "minus values here ------------\n",
      "max value is  8.439190490037765 min value is  -6.31779492805714  mean value is  -1.18350910152619\n",
      " median value is  -1.87461875462773  standard deviation is  3.216116531180368\n",
      "calculating image 13 of 15\n",
      "max is  3.2373224157751803  min is  -0.0024549378621063767\n",
      "average is  1.1320938167026775 median is  0.5497043876099879\n",
      "standard deviation is  1.2862676314234027\n",
      "max is  1.6536421091260765  min is  -5.713974508607942\n",
      "average is  -0.7826212075641754 median is  -0.0018699721996513416\n",
      "standard deviation is  2.174357810905114\n",
      "minus values here ------------\n",
      "max value is  8.951296924383122 min value is  -0.0005849656624550351  mean value is  1.914715024266853\n",
      " median value is  0.5497043876099879  standard deviation is  2.951246546824615\n"
     ]
    },
    {
     "data": {
      "application/vnd.jupyter.widget-view+json": {
       "model_id": "681b0ded90f14ae28da4635e9a510b0f",
       "version_major": 2,
       "version_minor": 0
      },
      "text/plain": [
       "  0%|          | 0/6 [00:00<?, ?it/s]"
      ]
     },
     "metadata": {},
     "output_type": "display_data"
    },
    {
     "data": {
      "application/vnd.jupyter.widget-view+json": {
       "model_id": "2c7b93912f4442e39a008b2763ffb2a7",
       "version_major": 2,
       "version_minor": 0
      },
      "text/plain": [
       "  0%|          | 0/3 [00:00<?, ?it/s]"
      ]
     },
     "metadata": {},
     "output_type": "display_data"
    },
    {
     "data": {
      "application/vnd.jupyter.widget-view+json": {
       "model_id": "320af96f0b6b4df282f3e9e245a4ae24",
       "version_major": 2,
       "version_minor": 0
      },
      "text/plain": [
       "  0%|          | 0/2 [00:00<?, ?it/s]"
      ]
     },
     "metadata": {},
     "output_type": "display_data"
    },
    {
     "name": "stdout",
     "output_type": "stream",
     "text": [
      "max is  4.167247533332682  min is  -11.426020299424392\n",
      "average is  -1.1408138097366474 median is  -0.9060751798227225\n",
      "standard deviation is  2.9857018661344794\n",
      "max is  8.262645589812323  min is  -6.590691769097003\n",
      "average is  -0.24138931028373894 median is  0.0\n",
      "standard deviation is  2.4673989431723338\n",
      "minus values here ------------\n",
      "max value is  5.584983751128336 min value is  -11.426020299424392  mean value is  -0.8994244994529085\n",
      " median value is  -0.409892377523998  standard deviation is  2.758294426944963\n",
      "calculating image 14 of 15\n",
      "max is  3.5912850242411656  min is  -0.0024549378621063767\n",
      "average is  0.6129761901322258 median is  -0.0024549378621063767\n",
      "standard deviation is  1.1284116722324524\n",
      "max is  2.9461342733391467  min is  -0.6750965375758999\n",
      "average is  0.30952688333814354 median is  -0.0018699721996513416\n",
      "standard deviation is  0.9413739498609349\n",
      "minus values here ------------\n",
      "max value is  1.9720586606745771 min value is  -0.5170817469209763  mean value is  0.3034493067940823\n",
      " median value is  -0.0005849656624550351  standard deviation is  0.6893484789281841\n"
     ]
    },
    {
     "data": {
      "application/vnd.jupyter.widget-view+json": {
       "model_id": "97b8836394fe40abb4ccc0628f576914",
       "version_major": 2,
       "version_minor": 0
      },
      "text/plain": [
       "  0%|          | 0/6 [00:00<?, ?it/s]"
      ]
     },
     "metadata": {},
     "output_type": "display_data"
    },
    {
     "data": {
      "application/vnd.jupyter.widget-view+json": {
       "model_id": "5ac71e784c2e4e50983aa53802f92de2",
       "version_major": 2,
       "version_minor": 0
      },
      "text/plain": [
       "  0%|          | 0/3 [00:00<?, ?it/s]"
      ]
     },
     "metadata": {},
     "output_type": "display_data"
    },
    {
     "data": {
      "application/vnd.jupyter.widget-view+json": {
       "model_id": "e0b4b0486bbe4d12950515b8a5b7e135",
       "version_major": 2,
       "version_minor": 0
      },
      "text/plain": [
       "  0%|          | 0/2 [00:00<?, ?it/s]"
      ]
     },
     "metadata": {},
     "output_type": "display_data"
    },
    {
     "name": "stdout",
     "output_type": "stream",
     "text": [
      "max is  7.66542090210757  min is  -9.664446197166455\n",
      "average is  -1.3157000964797356 median is  -0.7631852194224864\n",
      "standard deviation is  4.020493944719618\n",
      "max is  4.631876052231918  min is  -11.332214503492317\n",
      "average is  -1.1235467519408064 median is  0.0\n",
      "standard deviation is  3.5950247827669704\n",
      "minus values here ------------\n",
      "max value is  4.3251314961780185 min value is  -4.431008935161121  mean value is  -0.192153344538929\n",
      " median value is  -0.10140358911796543  standard deviation is  1.8136271759678084\n",
      "calculating image 15 of 15\n",
      "max is  4.847308720339681  min is  -3.2629589518970645\n",
      "average is  0.9032411944745476 median is  0.015361840934423852\n",
      "standard deviation is  1.583167074923206\n",
      "max is  4.703384149798028  min is  -3.7105001636625525\n",
      "average is  0.584710330250739 median is  -0.0018699721996513416\n",
      "standard deviation is  1.5715280439279893\n",
      "minus values here ------------\n",
      "max value is  4.359356265742432 min value is  -1.241128474460231  mean value is  0.31853086422380866\n",
      " median value is  -0.0005849656624550351  standard deviation is  1.0197318153267974\n"
     ]
    },
    {
     "data": {
      "application/vnd.jupyter.widget-view+json": {
       "model_id": "226e284cd7f04203b59bd3bd312592c0",
       "version_major": 2,
       "version_minor": 0
      },
      "text/plain": [
       "  0%|          | 0/6 [00:00<?, ?it/s]"
      ]
     },
     "metadata": {},
     "output_type": "display_data"
    },
    {
     "data": {
      "application/vnd.jupyter.widget-view+json": {
       "model_id": "c85da881909d44ddabd51728a377c85b",
       "version_major": 2,
       "version_minor": 0
      },
      "text/plain": [
       "  0%|          | 0/3 [00:00<?, ?it/s]"
      ]
     },
     "metadata": {},
     "output_type": "display_data"
    },
    {
     "data": {
      "application/vnd.jupyter.widget-view+json": {
       "model_id": "7aecb0705af94dc0b33cedd3dbf1e87a",
       "version_major": 2,
       "version_minor": 0
      },
      "text/plain": [
       "  0%|          | 0/2 [00:00<?, ?it/s]"
      ]
     },
     "metadata": {},
     "output_type": "display_data"
    },
    {
     "name": "stdout",
     "output_type": "stream",
     "text": [
      "max is  4.847308720339681  min is  -17.062144362018348\n",
      "average is  -3.686757706647357 median is  -3.306233045169618\n",
      "standard deviation is  4.230432169398764\n",
      "max is  4.985430024483354  min is  -13.454615195285964\n",
      "average is  -2.5449500999484975 median is  -1.9236832935826311\n",
      "standard deviation is  3.268052906780866\n",
      "minus values here ------------\n",
      "max value is  7.301285098814493 min value is  -17.062144362018348  mean value is  -1.1418076066988603\n",
      " median value is  -1.1485218054522717  standard deviation is  2.4912455279895562\n",
      "Finished analysis woohoo\n",
      "C:\\Users\\Image Processing PC\\Downloads\\1106\\s1by\\w2\\Analysisfolder_Template\n",
      "processing images\n",
      "C:\\Users\\Image Processing PC\\Downloads\\1106\\s1by\\w2\\Analysisfolder_thresholding\n",
      "processing images\n",
      "processed and converted images\n",
      "calculating image 1 of 13\n",
      "max is  0.3521725319839335  min is  -0.029286705198924325\n",
      "average is  0.02747994359668321 median is  -0.0024549378621063767\n",
      "standard deviation is  0.09951763564610816\n",
      "max is  0.029156931542879527  min is  -0.0075968826536291275\n",
      "average is  0.00043291028743374483 median is  -0.0018699721996513416\n",
      "standard deviation is  0.008837785296129294\n",
      "minus values here ------------\n",
      "max value is  0.323015600441054 min value is  -0.029474031634783147  mean value is  0.027047033309249468\n",
      " median value is  -0.0005849656624550351  standard deviation is  0.09133546720539787\n"
     ]
    },
    {
     "data": {
      "application/vnd.jupyter.widget-view+json": {
       "model_id": "134a5f22851e4eb1ac8a5b3bd9501dbe",
       "version_major": 2,
       "version_minor": 0
      },
      "text/plain": [
       "  0%|          | 0/6 [00:00<?, ?it/s]"
      ]
     },
     "metadata": {},
     "output_type": "display_data"
    },
    {
     "data": {
      "application/vnd.jupyter.widget-view+json": {
       "model_id": "5b142bda88fd4ed9a3ac8f54b95d9d71",
       "version_major": 2,
       "version_minor": 0
      },
      "text/plain": [
       "  0%|          | 0/3 [00:00<?, ?it/s]"
      ]
     },
     "metadata": {},
     "output_type": "display_data"
    },
    {
     "data": {
      "application/vnd.jupyter.widget-view+json": {
       "model_id": "ad3e3031f13a44fc91662ba20082fd7c",
       "version_major": 2,
       "version_minor": 0
      },
      "text/plain": [
       "  0%|          | 0/2 [00:00<?, ?it/s]"
      ]
     },
     "metadata": {},
     "output_type": "display_data"
    },
    {
     "name": "stdout",
     "output_type": "stream",
     "text": [
      "max is  4.7542983874718  min is  -9.326097163466338\n",
      "average is  -0.3355651624938705 median is  0.15510423100088133\n",
      "standard deviation is  2.8276364711775703\n",
      "max is  4.722751468885829  min is  -9.439852618201733\n",
      "average is  -0.44212664606104674 median is  0.0\n",
      "standard deviation is  3.0783823025588117\n",
      "minus values here ------------\n",
      "max value is  3.339539268535775 min value is  -5.445009040294953  mean value is  0.10656148356717636\n",
      " median value is  0.11375545473539539  standard deviation is  1.59720074098581\n",
      "calculating image 2 of 13\n",
      "max is  2.2726608388853755  min is  -1.0608290886490455\n",
      "average is  0.30103649695569273 median is  -0.0024549378621063767\n",
      "standard deviation is  1.089459590145684\n",
      "max is  3.94832614213087  min is  -1.2862888629862612\n",
      "average is  0.5320611138630218 median is  -0.0018699721996513416\n",
      "standard deviation is  1.7792362616290183\n",
      "minus values here ------------\n",
      "max value is  0.313516032289772 min value is  -1.6756653032454945  mean value is  -0.23102461690732898\n",
      " median value is  -0.006502000231858613  standard deviation is  0.7335259220441449\n"
     ]
    },
    {
     "data": {
      "application/vnd.jupyter.widget-view+json": {
       "model_id": "4e7f515acf214f1ea34ad986f6cb93eb",
       "version_major": 2,
       "version_minor": 0
      },
      "text/plain": [
       "  0%|          | 0/6 [00:00<?, ?it/s]"
      ]
     },
     "metadata": {},
     "output_type": "display_data"
    },
    {
     "data": {
      "application/vnd.jupyter.widget-view+json": {
       "model_id": "67c60bb5aa874ed2a71f75f5aae6fc52",
       "version_major": 2,
       "version_minor": 0
      },
      "text/plain": [
       "  0%|          | 0/3 [00:00<?, ?it/s]"
      ]
     },
     "metadata": {},
     "output_type": "display_data"
    },
    {
     "data": {
      "application/vnd.jupyter.widget-view+json": {
       "model_id": "e692d7d3515641afa9e3727e64987d24",
       "version_major": 2,
       "version_minor": 0
      },
      "text/plain": [
       "  0%|          | 0/2 [00:00<?, ?it/s]"
      ]
     },
     "metadata": {},
     "output_type": "display_data"
    },
    {
     "name": "stdout",
     "output_type": "stream",
     "text": [
      "max is  8.226587278078739  min is  -11.116749180838557\n",
      "average is  0.16084516979321956 median is  0.21617130266926454\n",
      "standard deviation is  4.005652986701141\n",
      "max is  5.2065693360356065  min is  -8.068575931493324\n",
      "average is  0.08420812647428366 median is  0.897715277880893\n",
      "standard deviation is  3.0889810087412832\n",
      "minus values here ------------\n",
      "max value is  6.250289770367361 min value is  -3.781183603347012  mean value is  0.07663704331893602\n",
      " median value is  0.07483335758896947  standard deviation is  2.1883317839660763\n",
      "calculating image 3 of 13\n",
      "max is  0.6232118587103552  min is  -0.6595121494829935\n",
      "average is  -0.010302541624212763 median is  -0.0024549378621063767\n",
      "standard deviation is  0.4535793150423179\n",
      "max is  0.004904741378846137  min is  -0.0018699721996513416\n",
      "average is  0.000758692294798699 median is  0.0\n",
      "standard deviation is  0.002512510100879533\n",
      "minus values here ------------\n",
      "max value is  0.6232118587103552 min value is  -0.6595121494829935  mean value is  -0.011061233919011463\n",
      " median value is  -0.0039723224517037746  standard deviation is  0.45357314725218406\n"
     ]
    },
    {
     "data": {
      "application/vnd.jupyter.widget-view+json": {
       "model_id": "37377a286bf94f8db4829b9746cf8b4b",
       "version_major": 2,
       "version_minor": 0
      },
      "text/plain": [
       "  0%|          | 0/6 [00:00<?, ?it/s]"
      ]
     },
     "metadata": {},
     "output_type": "display_data"
    },
    {
     "data": {
      "application/vnd.jupyter.widget-view+json": {
       "model_id": "5e335d07ca2d4a3db56aa7a6e2f5a0b9",
       "version_major": 2,
       "version_minor": 0
      },
      "text/plain": [
       "  0%|          | 0/3 [00:00<?, ?it/s]"
      ]
     },
     "metadata": {},
     "output_type": "display_data"
    },
    {
     "data": {
      "application/vnd.jupyter.widget-view+json": {
       "model_id": "2003f60f97d944ffb35269cc9995e7fd",
       "version_major": 2,
       "version_minor": 0
      },
      "text/plain": [
       "  0%|          | 0/2 [00:00<?, ?it/s]"
      ]
     },
     "metadata": {},
     "output_type": "display_data"
    },
    {
     "name": "stdout",
     "output_type": "stream",
     "text": [
      "max is  3.0547771057805435  min is  -11.174728377204898\n",
      "average is  -0.9892654458464826 median is  -0.4335812287722185\n",
      "standard deviation is  2.712240784847161\n",
      "max is  5.685931542162953  min is  -9.824416557120177\n",
      "average is  -0.39564988764496994 median is  0.0\n",
      "standard deviation is  3.2035269817966237\n",
      "minus values here ------------\n",
      "max value is  3.149240144295902 min value is  -3.718136234953861  mean value is  -0.5936155582015129\n",
      " median value is  -0.7490237361538217  standard deviation is  1.7864052223594726\n",
      "calculating image 4 of 13\n",
      "max is  0.09824658536211016  min is  -0.0024549378621063767\n",
      "average is  0.04789582375000189 median is  0.04789582375000189\n",
      "standard deviation is  0.05035076161210827\n",
      "max is  -0.0018699721996513416  min is  -0.007851476955954891\n",
      "average is  -0.004860724577803116 median is  -0.004860724577803116\n",
      "standard deviation is  0.002990752378151775\n",
      "minus values here ------------\n",
      "max value is  0.10609806231806505 min value is  -0.0005849656624550351  mean value is  0.052756548327805006\n",
      " median value is  0.052756548327805006  standard deviation is  0.05334151399026005\n"
     ]
    },
    {
     "data": {
      "application/vnd.jupyter.widget-view+json": {
       "model_id": "46f40841611643bda3a450f14aab1ac9",
       "version_major": 2,
       "version_minor": 0
      },
      "text/plain": [
       "  0%|          | 0/6 [00:00<?, ?it/s]"
      ]
     },
     "metadata": {},
     "output_type": "display_data"
    },
    {
     "data": {
      "application/vnd.jupyter.widget-view+json": {
       "model_id": "c67aa02e20204a59b2ece422b7aac9fe",
       "version_major": 2,
       "version_minor": 0
      },
      "text/plain": [
       "  0%|          | 0/3 [00:00<?, ?it/s]"
      ]
     },
     "metadata": {},
     "output_type": "display_data"
    },
    {
     "data": {
      "application/vnd.jupyter.widget-view+json": {
       "model_id": "42c00ec9334246b4b39001c43e16e9fd",
       "version_major": 2,
       "version_minor": 0
      },
      "text/plain": [
       "  0%|          | 0/2 [00:00<?, ?it/s]"
      ]
     },
     "metadata": {},
     "output_type": "display_data"
    },
    {
     "name": "stdout",
     "output_type": "stream",
     "text": [
      "max is  4.661700545359824  min is  -5.519356831668499\n",
      "average is  -0.10423955872695848 median is  -0.49460613044987384\n",
      "standard deviation is  2.8724456249215375\n",
      "max is  5.320188432599361  min is  -6.768343938675436\n",
      "average is  -0.30285993042437714 median is  0.0\n",
      "standard deviation is  2.496802929507983\n",
      "minus values here ------------\n",
      "max value is  2.7605817613687718 min value is  -5.519356831668499  mean value is  0.19862037169741872\n",
      " median value is  0.14199067160048395  standard deviation is  1.7980990867391569\n",
      "calculating image 5 of 13\n",
      "max is  3.7820273956144783  min is  -0.1819626563254657\n",
      "average is  0.23833247837523439 median is  -0.0024549378621063767\n",
      "standard deviation is  0.8417199541016798\n",
      "max is  2.3373448582064866  min is  -0.07873909156425249\n",
      "average is  0.24753806410947876 median is  -0.0008850502746758637\n",
      "standard deviation is  0.5224611284753035\n",
      "minus values here ------------\n",
      "max value is  1.4446825374079917 min value is  -0.8301956441854443  mean value is  -0.009205585734244376\n",
      " median value is  -0.0005849656624550351  standard deviation is  0.48515261827441425\n"
     ]
    },
    {
     "data": {
      "application/vnd.jupyter.widget-view+json": {
       "model_id": "a51ccd3a063c48a4a7e292ad84ddc074",
       "version_major": 2,
       "version_minor": 0
      },
      "text/plain": [
       "  0%|          | 0/6 [00:00<?, ?it/s]"
      ]
     },
     "metadata": {},
     "output_type": "display_data"
    },
    {
     "data": {
      "application/vnd.jupyter.widget-view+json": {
       "model_id": "d4d18bcbfb3d4269ad46f438f77fc5c2",
       "version_major": 2,
       "version_minor": 0
      },
      "text/plain": [
       "  0%|          | 0/3 [00:00<?, ?it/s]"
      ]
     },
     "metadata": {},
     "output_type": "display_data"
    },
    {
     "data": {
      "application/vnd.jupyter.widget-view+json": {
       "model_id": "c7c84bb929324038a092c33603e90596",
       "version_major": 2,
       "version_minor": 0
      },
      "text/plain": [
       "  0%|          | 0/2 [00:00<?, ?it/s]"
      ]
     },
     "metadata": {},
     "output_type": "display_data"
    },
    {
     "name": "stdout",
     "output_type": "stream",
     "text": [
      "max is  5.337631480655668  min is  -7.746410605607906\n",
      "average is  -1.2406301678527387 median is  -1.181985245047413\n",
      "standard deviation is  3.066248141995301\n",
      "max is  2.8829655996648604  min is  -6.167323912506341\n",
      "average is  -0.6498364687870017 median is  0.0\n",
      "standard deviation is  2.259758944315484\n",
      "minus values here ------------\n",
      "max value is  5.337631480655668 min value is  -5.544504551688792  mean value is  -0.5907936990657368\n",
      " median value is  -0.4741213294901038  standard deviation is  1.9996135589716544\n",
      "calculating image 6 of 13\n",
      "max is  0.8220666014222502  min is  -0.08755597939406715\n",
      "average is  0.060656615217264835 median is  -0.0024549378621063767\n",
      "standard deviation is  0.2097203847274187\n",
      "max is  0.5047957483954902  min is  -0.012128369109739657\n",
      "average is  0.038722205719839954 median is  -0.0018699721996513416\n",
      "standard deviation is  0.1264859563197545\n",
      "minus values here ------------\n",
      "max value is  0.8220666014222502 min value is  -0.5923517277895574  mean value is  0.02193440949742487\n",
      " median value is  -0.0005849656624550351  standard deviation is  0.2661273587848897\n"
     ]
    },
    {
     "data": {
      "application/vnd.jupyter.widget-view+json": {
       "model_id": "b1c656baa67a41ce9708ca5dbb562919",
       "version_major": 2,
       "version_minor": 0
      },
      "text/plain": [
       "  0%|          | 0/6 [00:00<?, ?it/s]"
      ]
     },
     "metadata": {},
     "output_type": "display_data"
    },
    {
     "data": {
      "application/vnd.jupyter.widget-view+json": {
       "model_id": "0aa973753b614536872d941bc2f891fd",
       "version_major": 2,
       "version_minor": 0
      },
      "text/plain": [
       "  0%|          | 0/3 [00:00<?, ?it/s]"
      ]
     },
     "metadata": {},
     "output_type": "display_data"
    },
    {
     "data": {
      "application/vnd.jupyter.widget-view+json": {
       "model_id": "2b14b958179c4315831b5e0069739b8c",
       "version_major": 2,
       "version_minor": 0
      },
      "text/plain": [
       "  0%|          | 0/2 [00:00<?, ?it/s]"
      ]
     },
     "metadata": {},
     "output_type": "display_data"
    },
    {
     "name": "stdout",
     "output_type": "stream",
     "text": [
      "max is  5.338194206544979  min is  -6.994942182811204\n",
      "average is  -0.2624569453199223 median is  0.06640714199282871\n",
      "standard deviation is  2.3907628204365734\n",
      "max is  6.097311502824864  min is  -8.538967715519785\n",
      "average is  -0.07966236202736682 median is  0.0\n",
      "standard deviation is  2.4606037162384915\n",
      "minus values here ------------\n",
      "max value is  7.268087732057188 min value is  -4.802463209009806  mean value is  -0.1827945832925555\n",
      " median value is  0.11816559974725172  standard deviation is  2.1056838456695535\n",
      "calculating image 7 of 13\n",
      "max is  2.372435510780426  min is  -0.9410661083575469\n",
      "average is  0.8938104642190964 median is  0.49298799962395534\n",
      "standard deviation is  1.0709939477535992\n",
      "max is  3.6393550794879275  min is  -2.086443329066249\n",
      "average is  1.0998880344510669 median is  1.7068882816600335\n",
      "standard deviation is  1.6239623084385477\n",
      "minus values here ------------\n",
      "max value is  1.145377220708702 min value is  -1.676266133772465  mean value is  -0.20607757023197062\n",
      " median value is  -0.040256831356414835  standard deviation is  0.8136487988169504\n"
     ]
    },
    {
     "data": {
      "application/vnd.jupyter.widget-view+json": {
       "model_id": "8df6e603d3ab46caa4f9da7c472e4cb2",
       "version_major": 2,
       "version_minor": 0
      },
      "text/plain": [
       "  0%|          | 0/6 [00:00<?, ?it/s]"
      ]
     },
     "metadata": {},
     "output_type": "display_data"
    },
    {
     "data": {
      "application/vnd.jupyter.widget-view+json": {
       "model_id": "a95458cf1119456f9230eb18be9a04b3",
       "version_major": 2,
       "version_minor": 0
      },
      "text/plain": [
       "  0%|          | 0/3 [00:00<?, ?it/s]"
      ]
     },
     "metadata": {},
     "output_type": "display_data"
    },
    {
     "data": {
      "application/vnd.jupyter.widget-view+json": {
       "model_id": "45a77658cc54404f979c4e60c178580f",
       "version_major": 2,
       "version_minor": 0
      },
      "text/plain": [
       "  0%|          | 0/2 [00:00<?, ?it/s]"
      ]
     },
     "metadata": {},
     "output_type": "display_data"
    },
    {
     "name": "stdout",
     "output_type": "stream",
     "text": [
      "max is  6.192073737871091  min is  -4.861207032641584\n",
      "average is  0.7961779859755678 median is  1.3461362257968683\n",
      "standard deviation is  2.521145540526565\n",
      "max is  6.86419165571856  min is  -7.962875719376672\n",
      "average is  0.2748221387961194 median is  0.0\n",
      "standard deviation is  2.766365187069321\n",
      "minus values here ------------\n",
      "max value is  4.580492579603773 min value is  -4.861207032641584  mean value is  0.5213558471794485\n",
      " median value is  0.7448539022512284  standard deviation is  1.819649514480429\n",
      "calculating image 8 of 13\n",
      "max is  0.542754953507715  min is  -0.6533879383771525\n",
      "average is  -0.028885715148412566 median is  -0.0024549378621063767\n",
      "standard deviation is  0.4237255163591107\n",
      "max is  0.9406462563718341  min is  -0.7662333064227941\n",
      "average is  0.042668251387434325 median is  -0.0018699721996513416\n",
      "standard deviation is  0.6051143558006543\n",
      "minus values here ------------\n",
      "max value is  0.1128453680456416 min value is  -0.3978913028641191  mean value is  -0.07155396653584689\n",
      " median value is  -0.0005849656624550351  standard deviation is  0.1940182786787514\n"
     ]
    },
    {
     "data": {
      "application/vnd.jupyter.widget-view+json": {
       "model_id": "8a9d4e84373340c9ac02244381815d39",
       "version_major": 2,
       "version_minor": 0
      },
      "text/plain": [
       "  0%|          | 0/6 [00:00<?, ?it/s]"
      ]
     },
     "metadata": {},
     "output_type": "display_data"
    },
    {
     "data": {
      "application/vnd.jupyter.widget-view+json": {
       "model_id": "66b165592ea648258d44a795cfa6ad0a",
       "version_major": 2,
       "version_minor": 0
      },
      "text/plain": [
       "  0%|          | 0/3 [00:00<?, ?it/s]"
      ]
     },
     "metadata": {},
     "output_type": "display_data"
    },
    {
     "data": {
      "application/vnd.jupyter.widget-view+json": {
       "model_id": "693e383dfc594d4c8fbd13d458f6a249",
       "version_major": 2,
       "version_minor": 0
      },
      "text/plain": [
       "  0%|          | 0/2 [00:00<?, ?it/s]"
      ]
     },
     "metadata": {},
     "output_type": "display_data"
    },
    {
     "name": "stdout",
     "output_type": "stream",
     "text": [
      "max is  3.886049496603442  min is  -7.120027191005375\n",
      "average is  0.2140014211906003 median is  0.5427549535077151\n",
      "standard deviation is  2.4812754857424157\n",
      "max is  5.799379293433874  min is  -6.700111647754948\n",
      "average is  0.12544428188025952 median is  0.0\n",
      "standard deviation is  2.7866593462043205\n",
      "minus values here ------------\n",
      "max value is  2.687812631206273 min value is  -2.6578027230799215  mean value is  0.08855713931034083\n",
      " median value is  0.35913252041232324  standard deviation is  1.3753624131445974\n",
      "calculating image 9 of 13\n",
      "max is  0.4088370681294678  min is  -0.1282381904832278\n",
      "average is  0.048790514463005974 median is  -0.0024549378621063767\n",
      "standard deviation is  0.16903997060606074\n",
      "max is  0.424168655200217  min is  -0.09231640851823296\n",
      "average is  0.06527855237528528 median is  0.02390825821397419\n",
      "standard deviation is  0.17015798224599915\n",
      "minus values here ------------\n",
      "max value is  0.09914425305728657 min value is  -0.09409271934305717  mean value is  -0.0164880379122793\n",
      " median value is  -0.025626684517872027  standard deviation is  0.05931633867166576\n"
     ]
    },
    {
     "data": {
      "application/vnd.jupyter.widget-view+json": {
       "model_id": "1e03e1ce37dd4278844c2d317a923cd6",
       "version_major": 2,
       "version_minor": 0
      },
      "text/plain": [
       "  0%|          | 0/6 [00:00<?, ?it/s]"
      ]
     },
     "metadata": {},
     "output_type": "display_data"
    },
    {
     "data": {
      "application/vnd.jupyter.widget-view+json": {
       "model_id": "e6e47da282124cb8a84a854bd246c324",
       "version_major": 2,
       "version_minor": 0
      },
      "text/plain": [
       "  0%|          | 0/3 [00:00<?, ?it/s]"
      ]
     },
     "metadata": {},
     "output_type": "display_data"
    },
    {
     "data": {
      "application/vnd.jupyter.widget-view+json": {
       "model_id": "88b7bd2049b14283aac380216e99c774",
       "version_major": 2,
       "version_minor": 0
      },
      "text/plain": [
       "  0%|          | 0/2 [00:00<?, ?it/s]"
      ]
     },
     "metadata": {},
     "output_type": "display_data"
    },
    {
     "name": "stdout",
     "output_type": "stream",
     "text": [
      "max is  6.27529594759269  min is  -5.135681200683598\n",
      "average is  -0.4406743855657652 median is  0.137584019569449\n",
      "standard deviation is  2.5004211197831023\n",
      "max is  5.085070955446166  min is  -6.845266489619519\n",
      "average is  -0.6172060930609592 median is  0.0\n",
      "standard deviation is  2.5227683324105987\n",
      "minus values here ------------\n",
      "max value is  2.008709601000339 min value is  -2.8437272418673634  mean value is  0.176531707495194\n",
      " median value is  0.3456730960927037  standard deviation is  1.161343216560428\n",
      "calculating image 10 of 13\n",
      "max is  1.4306957843240276  min is  -0.0024549378621063767\n",
      "average is  0.2023859080549477 median is  -0.0024549378621063767\n",
      "standard deviation is  0.41793460656768605\n",
      "max is  2.873643533431049  min is  -0.8232820743586037\n",
      "average is  0.24346995490175635 median is  -0.0018699721996513416\n",
      "standard deviation is  0.8507969438678077\n",
      "minus values here ------------\n",
      "max value is  1.0674524032699384 min value is  -2.1853474512224844  mean value is  -0.04108404684680856\n",
      " median value is  -0.0005849656624550351  standard deviation is  0.7433023596464482\n"
     ]
    },
    {
     "data": {
      "application/vnd.jupyter.widget-view+json": {
       "model_id": "8752082e46b64fe4910c6d283b2bfdd4",
       "version_major": 2,
       "version_minor": 0
      },
      "text/plain": [
       "  0%|          | 0/6 [00:00<?, ?it/s]"
      ]
     },
     "metadata": {},
     "output_type": "display_data"
    },
    {
     "data": {
      "application/vnd.jupyter.widget-view+json": {
       "model_id": "2efd2c5248f94efcb7e18777a2915b86",
       "version_major": 2,
       "version_minor": 0
      },
      "text/plain": [
       "  0%|          | 0/3 [00:00<?, ?it/s]"
      ]
     },
     "metadata": {},
     "output_type": "display_data"
    },
    {
     "data": {
      "application/vnd.jupyter.widget-view+json": {
       "model_id": "546debd78a3546368d2f2d346c8e6594",
       "version_major": 2,
       "version_minor": 0
      },
      "text/plain": [
       "  0%|          | 0/2 [00:00<?, ?it/s]"
      ]
     },
     "metadata": {},
     "output_type": "display_data"
    },
    {
     "name": "stdout",
     "output_type": "stream",
     "text": [
      "max is  3.4820946697087316  min is  -4.990622054597329\n",
      "average is  -0.36960394117196826 median is  -0.49001501221990185\n",
      "standard deviation is  2.1949442727147632\n",
      "max is  3.7224970108852258  min is  -5.594539810457227\n",
      "average is  -0.02523873162900394 median is  0.0\n",
      "standard deviation is  1.9968602933047033\n",
      "minus values here ------------\n",
      "max value is  2.7877562802777485 min value is  -3.2885162373660264  mean value is  -0.34436520954296446\n",
      " median value is  -0.07707512635646069  standard deviation is  1.745861321009285\n",
      "calculating image 11 of 13\n",
      "max is  0.7303199135377094  min is  -0.457039647875801\n",
      "average is  0.09457288195425824 median is  0.010438380200866293\n",
      "standard deviation is  0.48837461223190104\n",
      "max is  0.8703910477612491  min is  -2.3099050519923\n",
      "average is  -1.0502899008705173 median is  -1.7113556983805012\n",
      "standard deviation is  1.3799340109838687\n",
      "minus values here ------------\n",
      "max value is  2.320343432193166 min value is  -0.14007113422353967  mean value is  1.1448627828247755\n",
      " median value is  1.2543160505047002  standard deviation is  1.0074373340356333\n"
     ]
    },
    {
     "data": {
      "application/vnd.jupyter.widget-view+json": {
       "model_id": "74bf3b9141224dc1b17da24179fba0b5",
       "version_major": 2,
       "version_minor": 0
      },
      "text/plain": [
       "  0%|          | 0/6 [00:00<?, ?it/s]"
      ]
     },
     "metadata": {},
     "output_type": "display_data"
    },
    {
     "data": {
      "application/vnd.jupyter.widget-view+json": {
       "model_id": "9a872a508c0c4617ade26f96e37ba7e1",
       "version_major": 2,
       "version_minor": 0
      },
      "text/plain": [
       "  0%|          | 0/3 [00:00<?, ?it/s]"
      ]
     },
     "metadata": {},
     "output_type": "display_data"
    },
    {
     "data": {
      "application/vnd.jupyter.widget-view+json": {
       "model_id": "eb7d4e9f3c5c4254b3c44fe53dd32ad1",
       "version_major": 2,
       "version_minor": 0
      },
      "text/plain": [
       "  0%|          | 0/2 [00:00<?, ?it/s]"
      ]
     },
     "metadata": {},
     "output_type": "display_data"
    },
    {
     "name": "stdout",
     "output_type": "stream",
     "text": [
      "max is  3.437637501468487  min is  -9.36218492048738\n",
      "average is  -1.4735208845473753 median is  -2.0327209185275565\n",
      "standard deviation is  2.7807588114828374\n",
      "max is  6.102400026841142  min is  -6.949932954470217\n",
      "average is  -1.0950708360891699 median is  -0.5353467485371253\n",
      "standard deviation is  2.7021212727558033\n",
      "minus values here ------------\n",
      "max value is  3.2572742995152133 min value is  -4.485384429625363  mean value is  -0.3784500484582055\n",
      " median value is  -0.39522071699901895  standard deviation is  1.946229939817114\n",
      "calculating image 12 of 13\n",
      "max is  0.5206929818668496  min is  -1.053713191417878\n",
      "average is  -0.1784917158043782 median is  -0.0024549378621063767\n",
      "standard deviation is  0.6546909754535531\n",
      "max is  9.987165029961415e-05  min is  -5.925592793290367\n",
      "average is  -1.975787631279906 median is  -0.0018699721996513416\n",
      "standard deviation is  2.792934130200061\n",
      "minus values here ------------\n",
      "max value is  4.871879601872489 min value is  -0.0005849656624550351  mean value is  1.7972959154755281\n",
      " median value is  0.5205931102165501  standard deviation is  2.1844458153328774\n"
     ]
    },
    {
     "data": {
      "application/vnd.jupyter.widget-view+json": {
       "model_id": "e698d4e5cc3d4cfcb6149bb8a96501d4",
       "version_major": 2,
       "version_minor": 0
      },
      "text/plain": [
       "  0%|          | 0/6 [00:00<?, ?it/s]"
      ]
     },
     "metadata": {},
     "output_type": "display_data"
    },
    {
     "data": {
      "application/vnd.jupyter.widget-view+json": {
       "model_id": "22eb0edaba084a03bc3d7ea2b6c3711d",
       "version_major": 2,
       "version_minor": 0
      },
      "text/plain": [
       "  0%|          | 0/3 [00:00<?, ?it/s]"
      ]
     },
     "metadata": {},
     "output_type": "display_data"
    },
    {
     "data": {
      "application/vnd.jupyter.widget-view+json": {
       "model_id": "040df0146888459ba9d45959f0c4d23e",
       "version_major": 2,
       "version_minor": 0
      },
      "text/plain": [
       "  0%|          | 0/2 [00:00<?, ?it/s]"
      ]
     },
     "metadata": {},
     "output_type": "display_data"
    },
    {
     "name": "stdout",
     "output_type": "stream",
     "text": [
      "max is  4.5441931633161285  min is  -8.108676772814578\n",
      "average is  -1.0218874475525241 median is  -0.6491652615168397\n",
      "standard deviation is  2.7103486627349866\n",
      "max is  2.6411126152294533  min is  -9.046313870623301\n",
      "average is  -0.8574593015028599 median is  0.0\n",
      "standard deviation is  2.7122831020970124\n",
      "minus values here ------------\n",
      "max value is  4.521526510667852 min value is  -3.4930608119538076  mean value is  -0.1644281460496644\n",
      " median value is  -0.42252367878410607  standard deviation is  2.0746712671892844\n",
      "calculating image 13 of 13\n",
      "max is  4.7866897842514735  min is  -0.08975796129815627\n",
      "average is  1.0570508947620008 median is  -0.0024549378621063767\n",
      "standard deviation is  1.8414474100954943\n",
      "max is  2.82525731891341  min is  -3.4091308129728546\n",
      "average is  0.1812571135313049 median is  -0.0018699721996513416\n",
      "standard deviation is  1.5689657511063952\n",
      "minus values here ------------\n",
      "max value is  4.0921414334915465 min value is  -1.3097448795387123  mean value is  0.875793781230696\n",
      " median value is  0.024520786276753654  standard deviation is  1.7386995780086147\n"
     ]
    },
    {
     "data": {
      "application/vnd.jupyter.widget-view+json": {
       "model_id": "93c1fd3de3cc43ffb4c7a5aa02963dce",
       "version_major": 2,
       "version_minor": 0
      },
      "text/plain": [
       "  0%|          | 0/6 [00:00<?, ?it/s]"
      ]
     },
     "metadata": {},
     "output_type": "display_data"
    },
    {
     "data": {
      "application/vnd.jupyter.widget-view+json": {
       "model_id": "ea00d2c7da4942a68ab71d626b0749e1",
       "version_major": 2,
       "version_minor": 0
      },
      "text/plain": [
       "  0%|          | 0/3 [00:00<?, ?it/s]"
      ]
     },
     "metadata": {},
     "output_type": "display_data"
    },
    {
     "data": {
      "application/vnd.jupyter.widget-view+json": {
       "model_id": "f9b496dcb72842d4803bb7a4d7dd8547",
       "version_major": 2,
       "version_minor": 0
      },
      "text/plain": [
       "  0%|          | 0/2 [00:00<?, ?it/s]"
      ]
     },
     "metadata": {},
     "output_type": "display_data"
    },
    {
     "name": "stdout",
     "output_type": "stream",
     "text": [
      "max is  7.27603883085996  min is  -14.429067782783013\n",
      "average is  -2.9266022753569527 median is  -2.647788381025384\n",
      "standard deviation is  4.561646123706861\n",
      "max is  5.125658981114522  min is  -7.581059083092521\n",
      "average is  -0.706580609312227 median is  0.0\n",
      "standard deviation is  2.627093248935496\n",
      "minus values here ------------\n",
      "max value is  6.0539202906419725 min value is  -8.597842534538659  mean value is  -2.2200216660447256\n",
      " median value is  -2.598800601652012  standard deviation is  3.2314291929107006\n",
      "Finished analysis woohoo\n",
      "C:\\Users\\Image Processing PC\\Downloads\\1106\\s1by\\w3\\Analysisfolder_Template\n",
      "processing images\n",
      "C:\\Users\\Image Processing PC\\Downloads\\1106\\s1by\\w3\\Analysisfolder_thresholding\n",
      "processing images\n",
      "processed and converted images\n",
      "calculating image 1 of 14\n",
      "max is  -0.0024549378621063767  min is  -3.084823899898435\n",
      "average is  -1.5436394188802707 median is  -1.5436394188802707\n",
      "standard deviation is  1.5411844810181643\n",
      "max is  0.0  min is  0.0\n",
      "average is  0.0 median is  0.0\n",
      "standard deviation is  0.0\n",
      "minus values here ------------\n",
      "max value is  -0.0024549378621063767 min value is  -3.084823899898435  mean value is  -1.5436394188802707\n",
      " median value is  -1.5436394188802707  standard deviation is  1.5411844810181643\n"
     ]
    },
    {
     "data": {
      "application/vnd.jupyter.widget-view+json": {
       "model_id": "63cb7777082943ccad552d671bc43b37",
       "version_major": 2,
       "version_minor": 0
      },
      "text/plain": [
       "  0%|          | 0/6 [00:00<?, ?it/s]"
      ]
     },
     "metadata": {},
     "output_type": "display_data"
    },
    {
     "data": {
      "application/vnd.jupyter.widget-view+json": {
       "model_id": "28cc9064f23b48f0b6a1a7d39ca86dfb",
       "version_major": 2,
       "version_minor": 0
      },
      "text/plain": [
       "  0%|          | 0/3 [00:00<?, ?it/s]"
      ]
     },
     "metadata": {},
     "output_type": "display_data"
    },
    {
     "data": {
      "application/vnd.jupyter.widget-view+json": {
       "model_id": "feb17b12d8be4e66b3a8be8dae17c58d",
       "version_major": 2,
       "version_minor": 0
      },
      "text/plain": [
       "  0%|          | 0/2 [00:00<?, ?it/s]"
      ]
     },
     "metadata": {},
     "output_type": "display_data"
    },
    {
     "name": "stdout",
     "output_type": "stream",
     "text": [
      "max is  4.015868926750434  min is  -14.250357420618982\n",
      "average is  -2.4310416148000566 median is  -1.5006594887564626\n",
      "standard deviation is  3.856003183380763\n",
      "max is  8.07316023226564  min is  -13.241391350936935\n",
      "average is  -2.569207381389721 median is  -0.9079992350294905\n",
      "standard deviation is  4.541714681415256\n",
      "minus values here ------------\n",
      "max value is  6.089782726113972 min value is  -14.250357420618982  mean value is  0.1381657665896649\n",
      " median value is  0.40655416235058917  standard deviation is  2.7937872259808936\n",
      "calculating image 2 of 14\n",
      "max is  1.943426748350489  min is  -2.4674194999808594\n",
      "average is  0.1774947426740322 median is  -0.0024549378621063767\n",
      "standard deviation is  1.0081511431390324\n",
      "max is  2.246891407115896  min is  -2.8486614479085826\n",
      "average is  0.28316088387655863 median is  0.0\n",
      "standard deviation is  1.2807960670922758\n",
      "minus values here ------------\n",
      "max value is  1.2048339768993044 min value is  -1.2735540045674076  mean value is  -0.10566614120252643\n",
      " median value is  -0.0024549378621063767  standard deviation is  0.649856085935604\n"
     ]
    },
    {
     "data": {
      "application/vnd.jupyter.widget-view+json": {
       "model_id": "19d9209dda00460594f57d4e2d9814fc",
       "version_major": 2,
       "version_minor": 0
      },
      "text/plain": [
       "  0%|          | 0/6 [00:00<?, ?it/s]"
      ]
     },
     "metadata": {},
     "output_type": "display_data"
    },
    {
     "data": {
      "application/vnd.jupyter.widget-view+json": {
       "model_id": "03ab000cada545cb89fd1d417c60ba13",
       "version_major": 2,
       "version_minor": 0
      },
      "text/plain": [
       "  0%|          | 0/3 [00:00<?, ?it/s]"
      ]
     },
     "metadata": {},
     "output_type": "display_data"
    },
    {
     "data": {
      "application/vnd.jupyter.widget-view+json": {
       "model_id": "ac96f27ebc794b3483c12d003daf0615",
       "version_major": 2,
       "version_minor": 0
      },
      "text/plain": [
       "  0%|          | 0/2 [00:00<?, ?it/s]"
      ]
     },
     "metadata": {},
     "output_type": "display_data"
    },
    {
     "name": "stdout",
     "output_type": "stream",
     "text": [
      "max is  6.920237905932469  min is  -17.30597732825952\n",
      "average is  -1.989552143838952 median is  -0.7229089779125075\n",
      "standard deviation is  4.071038335883481\n",
      "max is  7.26833161046679  min is  -16.692159081703167\n",
      "average is  -2.050913809293164 median is  0.0\n",
      "standard deviation is  4.338997981462081\n",
      "minus values here ------------\n",
      "max value is  5.796337112326556 min value is  -9.053060352589123  mean value is  0.06136166545421179\n",
      " median value is  0.42521568802861553  standard deviation is  2.4728523726106264\n",
      "calculating image 3 of 14\n",
      "max is  1.2625928129506723  min is  -3.3167822006958034\n",
      "average is  -0.7694706540858682 median is  -0.0024549378621063767\n",
      "standard deviation is  1.4324117549618451\n",
      "max is  1.109336642284272  min is  -3.9770493487412173\n",
      "average is  -0.6092112923122847 median is  -0.0018699721996513416\n",
      "standard deviation is  1.5247313968243832\n",
      "minus values here ------------\n",
      "max value is  0.8374659044974023 min value is  -2.5898090912691765  mean value is  -0.16025936177358363\n",
      " median value is  -0.0005849656624550351  standard deviation is  0.8203093698943167\n"
     ]
    },
    {
     "data": {
      "application/vnd.jupyter.widget-view+json": {
       "model_id": "d132625b6eaa4b7aad07c48b188e2a38",
       "version_major": 2,
       "version_minor": 0
      },
      "text/plain": [
       "  0%|          | 0/6 [00:00<?, ?it/s]"
      ]
     },
     "metadata": {},
     "output_type": "display_data"
    },
    {
     "data": {
      "application/vnd.jupyter.widget-view+json": {
       "model_id": "e7ffec3958de428b91f1c5298bad6fd3",
       "version_major": 2,
       "version_minor": 0
      },
      "text/plain": [
       "  0%|          | 0/3 [00:00<?, ?it/s]"
      ]
     },
     "metadata": {},
     "output_type": "display_data"
    },
    {
     "data": {
      "application/vnd.jupyter.widget-view+json": {
       "model_id": "6064cf5b0cde442eb2158087b531ab04",
       "version_major": 2,
       "version_minor": 0
      },
      "text/plain": [
       "  0%|          | 0/2 [00:00<?, ?it/s]"
      ]
     },
     "metadata": {},
     "output_type": "display_data"
    },
    {
     "name": "stdout",
     "output_type": "stream",
     "text": [
      "max is  5.7122107190302085  min is  -11.618639876467858\n",
      "average is  -1.6868130257739005 median is  -1.540338931332018\n",
      "standard deviation is  3.4689427379183915\n",
      "max is  5.139465009837583  min is  -12.19179611252737\n",
      "average is  -1.6681623762802649 median is  0.0\n",
      "standard deviation is  3.527129604464529\n",
      "minus values here ------------\n",
      "max value is  4.65893209409573 min value is  -6.349111321989517  mean value is  -0.018650649493635495\n",
      " median value is  0.2534313060232629  standard deviation is  2.147528789127336\n",
      "calculating image 4 of 14\n",
      "max is  3.4781977355390885  min is  -0.0024549378621063767\n",
      "average is  1.1328821065058614 median is  0.4917618131188978\n",
      "standard deviation is  1.2553134612841734\n",
      "max is  6.072739324416381  min is  -0.00824717872469849\n",
      "average is  1.5050997066452514 median is  0.8696279872084811\n",
      "standard deviation is  1.9350338082432026\n",
      "minus values here ------------\n",
      "max value is  1.2139819333173003 min value is  -2.5945415888772927  mean value is  -0.37221760013939026\n",
      " median value is  -0.0005849656624550351  standard deviation is  0.961893873232912\n"
     ]
    },
    {
     "data": {
      "application/vnd.jupyter.widget-view+json": {
       "model_id": "4d7b3777096c4223af3f0c3c19fa32b3",
       "version_major": 2,
       "version_minor": 0
      },
      "text/plain": [
       "  0%|          | 0/6 [00:00<?, ?it/s]"
      ]
     },
     "metadata": {},
     "output_type": "display_data"
    },
    {
     "data": {
      "application/vnd.jupyter.widget-view+json": {
       "model_id": "0c181535e922496fba7e1701bd804aee",
       "version_major": 2,
       "version_minor": 0
      },
      "text/plain": [
       "  0%|          | 0/3 [00:00<?, ?it/s]"
      ]
     },
     "metadata": {},
     "output_type": "display_data"
    },
    {
     "data": {
      "application/vnd.jupyter.widget-view+json": {
       "model_id": "cfd17d0f9f0a4a269ea4c282a2b9af0b",
       "version_major": 2,
       "version_minor": 0
      },
      "text/plain": [
       "  0%|          | 0/2 [00:00<?, ?it/s]"
      ]
     },
     "metadata": {},
     "output_type": "display_data"
    },
    {
     "name": "stdout",
     "output_type": "stream",
     "text": [
      "max is  5.953047122974688  min is  -13.921050455721641\n",
      "average is  -2.3043833155223714 median is  -2.2984010894610467\n",
      "standard deviation is  4.666187324092163\n",
      "max is  7.229182656570121  min is  -12.683593123959236\n",
      "average is  -0.993110705163527 median is  -0.05097343284546957\n",
      "standard deviation is  4.264159472667407\n",
      "minus values here ------------\n",
      "max value is  3.4213319257351067 min value is  -6.941645119420501  mean value is  -1.3112726103588446\n",
      " median value is  -1.0652637361461683  standard deviation is  2.095013550565791\n",
      "calculating image 5 of 14\n",
      "max is  2.6278617772893824  min is  -0.0024549378621063767\n",
      "average is  1.0932193008148046 median is  0.6892399565304023\n",
      "standard deviation is  1.1456347180625954\n",
      "max is  2.0877851221677854  min is  -0.0018699721996513416\n",
      "average is  0.5891626147088163 median is  0.22295086166194725\n",
      "standard deviation is  0.722529325830657\n",
      "minus values here ------------\n",
      "max value is  2.417913259168273 min value is  -1.158321228094128  mean value is  0.5040566861059882\n",
      " median value is  0.12419425714972811  standard deviation is  1.1232023570626506\n"
     ]
    },
    {
     "data": {
      "application/vnd.jupyter.widget-view+json": {
       "model_id": "aaded81ed7804e0592a7e565e68e3fd4",
       "version_major": 2,
       "version_minor": 0
      },
      "text/plain": [
       "  0%|          | 0/6 [00:00<?, ?it/s]"
      ]
     },
     "metadata": {},
     "output_type": "display_data"
    },
    {
     "data": {
      "application/vnd.jupyter.widget-view+json": {
       "model_id": "0ed395daae6a4ba2bc7a340dc4b0f6b0",
       "version_major": 2,
       "version_minor": 0
      },
      "text/plain": [
       "  0%|          | 0/3 [00:00<?, ?it/s]"
      ]
     },
     "metadata": {},
     "output_type": "display_data"
    },
    {
     "data": {
      "application/vnd.jupyter.widget-view+json": {
       "model_id": "3c5ca87f0e2247769ecf98971f71f3f3",
       "version_major": 2,
       "version_minor": 0
      },
      "text/plain": [
       "  0%|          | 0/2 [00:00<?, ?it/s]"
      ]
     },
     "metadata": {},
     "output_type": "display_data"
    },
    {
     "name": "stdout",
     "output_type": "stream",
     "text": [
      "max is  9.720565179177775  min is  -10.184974056587617\n",
      "average is  -1.7046475090376962 median is  -2.2657650457405967\n",
      "standard deviation is  3.955852957837989\n",
      "max is  3.8833699360686964  min is  -10.443930765570066\n",
      "average is  -1.186226688218366 median is  -0.6772841780735246\n",
      "standard deviation is  2.750399463299377\n",
      "minus values here ------------\n",
      "max value is  6.425812247456562 min value is  -8.418794896729034  mean value is  -0.5184208208193302\n",
      " median value is  -0.5673078259143721  standard deviation is  2.3313078370506415\n",
      "calculating image 6 of 14\n",
      "max is  3.034610949063583  min is  -2.8503103021161937\n",
      "average is  0.1444727940429365 median is  -0.0024549378621063767\n",
      "standard deviation is  1.405479029560617\n",
      "max is  2.492019666878427  min is  -1.8567243387792052\n",
      "average is  0.07442336541273495 median is  -0.0018699721996513416\n",
      "standard deviation is  1.076433505788177\n",
      "minus values here ------------\n",
      "max value is  2.0469454737430746 min value is  -0.9935859633369886  mean value is  0.07004942863020158\n",
      " median value is  -0.0005849656624550351  standard deviation is  0.6693371654047315\n"
     ]
    },
    {
     "data": {
      "application/vnd.jupyter.widget-view+json": {
       "model_id": "84ab53dfc91e46789895ca72038a2ff7",
       "version_major": 2,
       "version_minor": 0
      },
      "text/plain": [
       "  0%|          | 0/6 [00:00<?, ?it/s]"
      ]
     },
     "metadata": {},
     "output_type": "display_data"
    },
    {
     "data": {
      "application/vnd.jupyter.widget-view+json": {
       "model_id": "2f81f413bd3a476b9ac3cb1ca7badf86",
       "version_major": 2,
       "version_minor": 0
      },
      "text/plain": [
       "  0%|          | 0/3 [00:00<?, ?it/s]"
      ]
     },
     "metadata": {},
     "output_type": "display_data"
    },
    {
     "data": {
      "application/vnd.jupyter.widget-view+json": {
       "model_id": "9719f19ab5a945289958cc3663ae706c",
       "version_major": 2,
       "version_minor": 0
      },
      "text/plain": [
       "  0%|          | 0/2 [00:00<?, ?it/s]"
      ]
     },
     "metadata": {},
     "output_type": "display_data"
    },
    {
     "name": "stdout",
     "output_type": "stream",
     "text": [
      "max is  8.392003577356267  min is  -16.95720150836059\n",
      "average is  -2.5032089261730106 median is  -1.927458723712051\n",
      "standard deviation is  4.1708087750991005\n",
      "max is  9.103760443623578  min is  -17.69987030434913\n",
      "average is  -1.4301425603000344 median is  0.0\n",
      "standard deviation is  4.035417617223198\n",
      "minus values here ------------\n",
      "max value is  5.947186919555735 min value is  -8.318284616200089  mean value is  -1.0730663658729758\n",
      " median value is  -0.8014838100891262  standard deviation is  2.3558840731922692\n",
      "calculating image 7 of 14\n",
      "max is  3.2575170053168137  min is  -1.910326620702318\n",
      "average is  0.6115906075092774 median is  0.026364082048558887\n",
      "standard deviation is  1.2700219530327472\n",
      "max is  3.9021197940212207  min is  -3.393463914134238\n",
      "average is  -0.14560424627900972 median is  -0.0018699721996513416\n",
      "standard deviation is  1.8092869690067792\n",
      "minus values here ------------\n",
      "max value is  6.650980919451052 min value is  -1.878177600697648  mean value is  0.757194853788287\n",
      " median value is  0.004384345454476829  standard deviation is  2.0345232984924904\n"
     ]
    },
    {
     "data": {
      "application/vnd.jupyter.widget-view+json": {
       "model_id": "3ca47679c6b44b7db8af1d16a5f12144",
       "version_major": 2,
       "version_minor": 0
      },
      "text/plain": [
       "  0%|          | 0/6 [00:00<?, ?it/s]"
      ]
     },
     "metadata": {},
     "output_type": "display_data"
    },
    {
     "data": {
      "application/vnd.jupyter.widget-view+json": {
       "model_id": "dca71d06742b4361a856d076dc7e03e1",
       "version_major": 2,
       "version_minor": 0
      },
      "text/plain": [
       "  0%|          | 0/3 [00:00<?, ?it/s]"
      ]
     },
     "metadata": {},
     "output_type": "display_data"
    },
    {
     "data": {
      "application/vnd.jupyter.widget-view+json": {
       "model_id": "2126c0fa4dbe4872acf44d33a609c1d0",
       "version_major": 2,
       "version_minor": 0
      },
      "text/plain": [
       "  0%|          | 0/2 [00:00<?, ?it/s]"
      ]
     },
     "metadata": {},
     "output_type": "display_data"
    },
    {
     "name": "stdout",
     "output_type": "stream",
     "text": [
      "max is  6.050149460788509  min is  -13.740486338966349\n",
      "average is  -2.165275993339825 median is  -1.9710906086239088\n",
      "standard deviation is  4.31770950979581\n",
      "max is  5.240121471276457  min is  -12.536010851171072\n",
      "average is  -1.529089016161828 median is  0.0\n",
      "standard deviation is  4.026773799901765\n",
      "minus values here ------------\n",
      "max value is  7.731610542483116 min value is  -10.693476691343927  mean value is  -0.6361869771779969\n",
      " median value is  -0.8395605389500802  standard deviation is  2.985002788076336\n",
      "calculating image 8 of 14\n",
      "max is  1.9768691627133483  min is  -1.6799306927396223\n",
      "average is  0.33642506747619977 median is  0.29254752862328987\n",
      "standard deviation is  0.7576858100143884\n",
      "max is  11.657360014039629  min is  -2.0720655460497026\n",
      "average is  1.690199675798314 median is  0.9908429593085661\n",
      "standard deviation is  2.8092528137939556\n",
      "minus values here ------------\n",
      "max value is  2.955179383686767 min value is  -11.281412236038644  mean value is  -1.353774608322114\n",
      " median value is  -0.865479483378286  standard deviation is  2.7839204816111756\n"
     ]
    },
    {
     "data": {
      "application/vnd.jupyter.widget-view+json": {
       "model_id": "5ffec9fadb284845b9fc0578ddf4f8d7",
       "version_major": 2,
       "version_minor": 0
      },
      "text/plain": [
       "  0%|          | 0/6 [00:00<?, ?it/s]"
      ]
     },
     "metadata": {},
     "output_type": "display_data"
    },
    {
     "data": {
      "application/vnd.jupyter.widget-view+json": {
       "model_id": "37acf4cc234a401589aedfe553af629b",
       "version_major": 2,
       "version_minor": 0
      },
      "text/plain": [
       "  0%|          | 0/3 [00:00<?, ?it/s]"
      ]
     },
     "metadata": {},
     "output_type": "display_data"
    },
    {
     "data": {
      "application/vnd.jupyter.widget-view+json": {
       "model_id": "476f83470d6f47b789c393b30503e5dd",
       "version_major": 2,
       "version_minor": 0
      },
      "text/plain": [
       "  0%|          | 0/2 [00:00<?, ?it/s]"
      ]
     },
     "metadata": {},
     "output_type": "display_data"
    },
    {
     "name": "stdout",
     "output_type": "stream",
     "text": [
      "max is  6.2364405278103385  min is  -13.54105870195007\n",
      "average is  -1.392603995284834 median is  -0.38351523234205614\n",
      "standard deviation is  3.6278712399196276\n",
      "max is  11.946981327658552  min is  -14.714754021076116\n",
      "average is  -1.3649769697568621 median is  0.0\n",
      "standard deviation is  4.832348020641383\n",
      "minus values here ------------\n",
      "max value is  11.091625898331518 min value is  -11.571033549657567  mean value is  -0.027627025527971964\n",
      " median value is  0.01882913964925237  standard deviation is  2.844339804384541\n",
      "calculating image 9 of 14\n",
      "max is  3.2755507285895558  min is  -3.6859643837459473\n",
      "average is  0.11571130290382736 median is  0.009281291806628192\n",
      "standard deviation is  1.4510131303385503\n",
      "max is  8.046483827474676  min is  -6.2462456082317495\n",
      "average is  0.8213371485015594 median is  1.1797050284542594\n",
      "standard deviation is  2.5543889608578243\n",
      "minus values here ------------\n",
      "max value is  7.636885481600469 min value is  -5.874702319060017  mean value is  -0.7056258455977319\n",
      " median value is  -1.0270595427721767  standard deviation is  2.0848708097630984\n"
     ]
    },
    {
     "data": {
      "application/vnd.jupyter.widget-view+json": {
       "model_id": "de64a5efa1324ae1ae7e955685bda6d2",
       "version_major": 2,
       "version_minor": 0
      },
      "text/plain": [
       "  0%|          | 0/6 [00:00<?, ?it/s]"
      ]
     },
     "metadata": {},
     "output_type": "display_data"
    },
    {
     "data": {
      "application/vnd.jupyter.widget-view+json": {
       "model_id": "3586395e4c48436692887f240fef4dad",
       "version_major": 2,
       "version_minor": 0
      },
      "text/plain": [
       "  0%|          | 0/3 [00:00<?, ?it/s]"
      ]
     },
     "metadata": {},
     "output_type": "display_data"
    },
    {
     "data": {
      "application/vnd.jupyter.widget-view+json": {
       "model_id": "89963fd129f24403a5f23f05dc3c1f7a",
       "version_major": 2,
       "version_minor": 0
      },
      "text/plain": [
       "  0%|          | 0/2 [00:00<?, ?it/s]"
      ]
     },
     "metadata": {},
     "output_type": "display_data"
    },
    {
     "name": "stdout",
     "output_type": "stream",
     "text": [
      "max is  5.331665311267224  min is  -13.238786655238167\n",
      "average is  -2.2751594303799427 median is  -1.6770504449857935\n",
      "standard deviation is  3.885958090860873\n",
      "max is  10.728720326723842  min is  -20.051332937915134\n",
      "average is  -2.1620284416362128 median is  -0.17118228206069894\n",
      "standard deviation is  5.133639686971837\n",
      "minus values here ------------\n",
      "max value is  11.108437725299193 min value is  -7.584711781750954  mean value is  -0.11313098874372997\n",
      " median value is  -0.07971734162341515  standard deviation is  2.491776836227837\n",
      "calculating image 10 of 14\n",
      "max is  2.548882565381276  min is  -1.6551000584046278\n",
      "average is  0.27207874225212053 median is  0.11427426711159527\n",
      "standard deviation is  1.0572765134715087\n",
      "max is  4.010364031060217  min is  -1.0943204448248511\n",
      "average is  0.6022142868366746 median is  0.03470591045159771\n",
      "standard deviation is  1.342559947299652\n",
      "minus values here ------------\n",
      "max value is  2.548882565381276 min value is  -2.6254574016755337  mean value is  -0.3301355445845539\n",
      " median value is  -0.08963687430077982  standard deviation is  1.1736343124821949\n"
     ]
    },
    {
     "data": {
      "application/vnd.jupyter.widget-view+json": {
       "model_id": "2693138c64224dd5bf617dd965c0adae",
       "version_major": 2,
       "version_minor": 0
      },
      "text/plain": [
       "  0%|          | 0/6 [00:00<?, ?it/s]"
      ]
     },
     "metadata": {},
     "output_type": "display_data"
    },
    {
     "data": {
      "application/vnd.jupyter.widget-view+json": {
       "model_id": "5696e4adb3504c5dbed8c657eead5ca4",
       "version_major": 2,
       "version_minor": 0
      },
      "text/plain": [
       "  0%|          | 0/3 [00:00<?, ?it/s]"
      ]
     },
     "metadata": {},
     "output_type": "display_data"
    },
    {
     "data": {
      "application/vnd.jupyter.widget-view+json": {
       "model_id": "c8026b6921d94f5db16cf763e5c0a0c8",
       "version_major": 2,
       "version_minor": 0
      },
      "text/plain": [
       "  0%|          | 0/2 [00:00<?, ?it/s]"
      ]
     },
     "metadata": {},
     "output_type": "display_data"
    },
    {
     "name": "stdout",
     "output_type": "stream",
     "text": [
      "max is  5.467557010362578  min is  -12.002090730862143\n",
      "average is  -1.7424561885093246 median is  -1.5470751676280299\n",
      "standard deviation is  3.6289676926706993\n",
      "max is  10.630622273042444  min is  -13.05703271929691\n",
      "average is  -1.2530604721081484 median is  0.0\n",
      "standard deviation is  4.344160229029553\n",
      "minus values here ------------\n",
      "max value is  5.05105778524184 min value is  -10.7132578191474  mean value is  -0.48939571640117613\n",
      " median value is  -0.35598005333661664  standard deviation is  2.106210037655649\n",
      "calculating image 11 of 14\n",
      "max is  0.32148180643749674  min is  -1.6267982942245396\n",
      "average is  -0.39878256476362645 median is  -0.3545336788432937\n",
      "standard deviation is  0.5848204049058083\n",
      "max is  1.466147090502914  min is  -0.6942189444483512\n",
      "average is  0.19418460156471268 median is  -0.019176026485090036\n",
      "standard deviation is  0.7923595011500826\n",
      "minus values here ------------\n",
      "max value is  0.03724480787748656 min value is  -1.5324268395352376  mean value is  -0.5929671663283391\n",
      " median value is  -0.43033923481254543  standard deviation is  0.5351472193480954\n"
     ]
    },
    {
     "data": {
      "application/vnd.jupyter.widget-view+json": {
       "model_id": "155aee5529784cc282b77d372e96f54b",
       "version_major": 2,
       "version_minor": 0
      },
      "text/plain": [
       "  0%|          | 0/6 [00:00<?, ?it/s]"
      ]
     },
     "metadata": {},
     "output_type": "display_data"
    },
    {
     "data": {
      "application/vnd.jupyter.widget-view+json": {
       "model_id": "8e7ba5848f0b4592b55a540d7095c5bc",
       "version_major": 2,
       "version_minor": 0
      },
      "text/plain": [
       "  0%|          | 0/3 [00:00<?, ?it/s]"
      ]
     },
     "metadata": {},
     "output_type": "display_data"
    },
    {
     "data": {
      "application/vnd.jupyter.widget-view+json": {
       "model_id": "2bc02a71d16942c4923881fe9da04fc1",
       "version_major": 2,
       "version_minor": 0
      },
      "text/plain": [
       "  0%|          | 0/2 [00:00<?, ?it/s]"
      ]
     },
     "metadata": {},
     "output_type": "display_data"
    },
    {
     "name": "stdout",
     "output_type": "stream",
     "text": [
      "max is  6.002819890455606  min is  -8.51904690045398\n",
      "average is  -1.1611333392994099 median is  -0.3545336788432938\n",
      "standard deviation is  3.487459715090178\n",
      "max is  7.41445496411934  min is  -8.15909710377737\n",
      "average is  -0.35263590849850374 median is  0.0\n",
      "standard deviation is  3.013747326959028\n",
      "minus values here ------------\n",
      "max value is  4.00726762088891 min value is  -8.51904690045398  mean value is  -0.8084974308009061\n",
      " median value is  -0.2755182119787385  standard deviation is  2.380681904248192\n",
      "calculating image 12 of 14\n",
      "max is  2.488214046968512  min is  -0.3471904021907397\n",
      "average is  1.2781989779047458 median is  1.691984022450431\n",
      "standard deviation is  1.0333274257462033\n",
      "max is  5.353261018831822  min is  -0.0025520834767618107\n",
      "average is  1.175601812864246 median is  1.2192939271747663\n",
      "standard deviation is  1.392639884770207\n",
      "minus values here ------------\n",
      "max value is  2.4713659948931865 min value is  -3.0671220369346486  mean value is  0.10259716504049962\n",
      " median value is  0.09542743487729313  standard deviation is  1.3685524571378334\n"
     ]
    },
    {
     "data": {
      "application/vnd.jupyter.widget-view+json": {
       "model_id": "c406c326c2334100a7c35a9c1edfa132",
       "version_major": 2,
       "version_minor": 0
      },
      "text/plain": [
       "  0%|          | 0/6 [00:00<?, ?it/s]"
      ]
     },
     "metadata": {},
     "output_type": "display_data"
    },
    {
     "data": {
      "application/vnd.jupyter.widget-view+json": {
       "model_id": "0c2815a7795f4355a3f4777ec0dad16c",
       "version_major": 2,
       "version_minor": 0
      },
      "text/plain": [
       "  0%|          | 0/3 [00:00<?, ?it/s]"
      ]
     },
     "metadata": {},
     "output_type": "display_data"
    },
    {
     "data": {
      "application/vnd.jupyter.widget-view+json": {
       "model_id": "f8bce31c90f4402a8c7b9ff75616d9fa",
       "version_major": 2,
       "version_minor": 0
      },
      "text/plain": [
       "  0%|          | 0/2 [00:00<?, ?it/s]"
      ]
     },
     "metadata": {},
     "output_type": "display_data"
    },
    {
     "name": "stdout",
     "output_type": "stream",
     "text": [
      "max is  6.9384457540909  min is  -11.214887074972289\n",
      "average is  -0.598781113581996 median is  -0.04303015868658122\n",
      "standard deviation is  3.6897519570790314\n",
      "max is  7.813893929679727  min is  -10.8824711665756\n",
      "average is  -0.7288328217980244 median is  0.0\n",
      "standard deviation is  3.5483269863216393\n",
      "minus values here ------------\n",
      "max value is  6.058128657789203 min value is  -6.201290740716276  mean value is  0.1300517082160283\n",
      " median value is  0.2464405002144029  standard deviation is  1.6615949986876304\n",
      "calculating image 13 of 14\n",
      "max is  1.45860858965802  min is  -1.1808369346808802\n",
      "average is  0.20224451206955993 median is  0.1821837729461489\n",
      "standard deviation is  0.8087752076495152\n",
      "max is  1.7545511401722587  min is  -1.3807562591177747\n",
      "average is  0.15933789875604568 median is  -0.0018699721996513416\n",
      "standard deviation is  0.8227938374122339\n",
      "minus values here ------------\n",
      "max value is  0.9499680890937661 min value is  -1.6364387542838736  mean value is  0.042906613313514294\n",
      " median value is  0.19991932443689442  standard deviation is  0.7558370799551584\n"
     ]
    },
    {
     "data": {
      "application/vnd.jupyter.widget-view+json": {
       "model_id": "34f4b3cb203f4d489db770e318971c53",
       "version_major": 2,
       "version_minor": 0
      },
      "text/plain": [
       "  0%|          | 0/6 [00:00<?, ?it/s]"
      ]
     },
     "metadata": {},
     "output_type": "display_data"
    },
    {
     "data": {
      "application/vnd.jupyter.widget-view+json": {
       "model_id": "0fe3f62efad44614b27a21ecb5487dd1",
       "version_major": 2,
       "version_minor": 0
      },
      "text/plain": [
       "  0%|          | 0/3 [00:00<?, ?it/s]"
      ]
     },
     "metadata": {},
     "output_type": "display_data"
    },
    {
     "data": {
      "application/vnd.jupyter.widget-view+json": {
       "model_id": "720b8906a75847c58f35af916ff03194",
       "version_major": 2,
       "version_minor": 0
      },
      "text/plain": [
       "  0%|          | 0/2 [00:00<?, ?it/s]"
      ]
     },
     "metadata": {},
     "output_type": "display_data"
    },
    {
     "name": "stdout",
     "output_type": "stream",
     "text": [
      "max is  5.705537690406228  min is  -10.77744912556554\n",
      "average is  -1.3743755796248365 median is  -0.931725401447505\n",
      "standard deviation is  3.5223119616280685\n",
      "max is  12.458410768543438  min is  -14.332901625447015\n",
      "average is  -1.284295810830738 median is  -0.01469631814592054\n",
      "standard deviation is  5.1198953278543335\n",
      "minus values here ------------\n",
      "max value is  7.656878876196112 min value is  -8.781479501564156  mean value is  -0.09007976879409858\n",
      " median value is  0.15851537657851722  standard deviation is  2.823507574693638\n",
      "calculating image 14 of 14\n",
      "max is  3.2617213505841405  min is  -1.1484576388783558\n",
      "average is  0.6272920216120814 median is  0.048214554040109214\n",
      "standard deviation is  1.0884034628807309\n",
      "max is  3.1871354934126237  min is  -0.7133381200357616\n",
      "average is  0.680066301081179 median is  0.2298898731240268\n",
      "standard deviation is  0.9958454062881853\n",
      "minus values here ------------\n",
      "max value is  0.21941837285785049 min value is  -0.43511951884259426  mean value is  -0.05277427946909774\n",
      " median value is  -0.033219327235890383  standard deviation is  0.15513705328737087\n"
     ]
    },
    {
     "data": {
      "application/vnd.jupyter.widget-view+json": {
       "model_id": "47188c70a24d4841a5050753009d8af3",
       "version_major": 2,
       "version_minor": 0
      },
      "text/plain": [
       "  0%|          | 0/6 [00:00<?, ?it/s]"
      ]
     },
     "metadata": {},
     "output_type": "display_data"
    },
    {
     "data": {
      "application/vnd.jupyter.widget-view+json": {
       "model_id": "023170a6b0d54d5e85c8be986aec0b6d",
       "version_major": 2,
       "version_minor": 0
      },
      "text/plain": [
       "  0%|          | 0/3 [00:00<?, ?it/s]"
      ]
     },
     "metadata": {},
     "output_type": "display_data"
    },
    {
     "data": {
      "application/vnd.jupyter.widget-view+json": {
       "model_id": "55c7487fa7af42039f3e8fa16cafe7a1",
       "version_major": 2,
       "version_minor": 0
      },
      "text/plain": [
       "  0%|          | 0/2 [00:00<?, ?it/s]"
      ]
     },
     "metadata": {},
     "output_type": "display_data"
    },
    {
     "name": "stdout",
     "output_type": "stream",
     "text": [
      "max is  6.423186482208293  min is  -11.984299242229515\n",
      "average is  -1.1714475612756086 median is  -0.42050174271394924\n",
      "standard deviation is  3.809853510876526\n",
      "max is  6.7721272832576425  min is  -12.11850663707416\n",
      "average is  -1.2273097189467284 median is  0.0\n",
      "standard deviation is  3.843509032746249\n",
      "minus values here ------------\n",
      "max value is  4.243427384433643 min value is  -6.912520915050033  mean value is  0.055862157671119926\n",
      " median value is  0.06751854749590391  standard deviation is  1.568424651157874\n",
      "Finished analysis woohoo\n",
      "C:\\Users\\Image Processing PC\\Downloads\\1106\\s1by\\w4\\Analysisfolder_Template\n",
      "processing images\n",
      "C:\\Users\\Image Processing PC\\Downloads\\1106\\s1by\\w4\\Analysisfolder_thresholding\n",
      "processing images\n",
      "processed and converted images\n",
      "calculating image 1 of 17\n",
      "max is  1.5756119656671692  min is  -0.0024549378621063767\n",
      "average is  0.3774151665878954 median is  -0.0024549378621063767\n",
      "standard deviation is  0.5187907874678861\n",
      "max is  2.087677070060674  min is  -0.8026890284645856\n",
      "average is  0.4230132123844107 median is  -0.0009349860998256708\n",
      "standard deviation is  0.9027439738819596\n",
      "minus values here ------------\n",
      "max value is  1.5244577820202179 min value is  -1.263599574983397  mean value is  -0.04559804579651523\n",
      " median value is  -0.0015199517622807059  standard deviation is  0.6481591896226083\n"
     ]
    },
    {
     "data": {
      "application/vnd.jupyter.widget-view+json": {
       "model_id": "6734e7fec67d431f96924da2f65de185",
       "version_major": 2,
       "version_minor": 0
      },
      "text/plain": [
       "  0%|          | 0/6 [00:00<?, ?it/s]"
      ]
     },
     "metadata": {},
     "output_type": "display_data"
    },
    {
     "data": {
      "application/vnd.jupyter.widget-view+json": {
       "model_id": "5772f7d0844d4f378fbfa2724d9230b9",
       "version_major": 2,
       "version_minor": 0
      },
      "text/plain": [
       "  0%|          | 0/3 [00:00<?, ?it/s]"
      ]
     },
     "metadata": {},
     "output_type": "display_data"
    },
    {
     "data": {
      "application/vnd.jupyter.widget-view+json": {
       "model_id": "bfaa13d7cdb3459888f069e5720ab873",
       "version_major": 2,
       "version_minor": 0
      },
      "text/plain": [
       "  0%|          | 0/2 [00:00<?, ?it/s]"
      ]
     },
     "metadata": {},
     "output_type": "display_data"
    },
    {
     "name": "stdout",
     "output_type": "stream",
     "text": [
      "max is  5.0968361287744255  min is  -11.54242089982269\n",
      "average is  -0.9993153579303069 median is  -0.5097084515016543\n",
      "standard deviation is  3.61622496382104\n",
      "max is  6.198951754550783  min is  -14.46144937344073\n",
      "average is  -1.2901727608992997 median is  0.0\n",
      "standard deviation is  3.681635811612406\n",
      "minus values here ------------\n",
      "max value is  4.400394923991997 min value is  -6.537131887922328  mean value is  0.2908574029689929\n",
      " median value is  0.851534622938956  standard deviation is  2.2558891139260004\n",
      "calculating image 2 of 17\n",
      "max is  3.1259925186759707  min is  -1.017117369342913\n",
      "average is  0.5628783249906358 median is  -0.0024549378621063767\n",
      "standard deviation is  1.2655879263907586\n",
      "max is  2.514759090322373  min is  -3.6438840809330566\n",
      "average is  0.015547268653514261 median is  -0.0018699721996513416\n",
      "standard deviation is  1.6011369106757025\n",
      "minus values here ------------\n",
      "max value is  2.6267667115901436 min value is  -1.0992307060963349  mean value is  0.5473310563371215\n",
      " median value is  -0.0005849656624550351  standard deviation is  0.9675679392102877\n"
     ]
    },
    {
     "data": {
      "application/vnd.jupyter.widget-view+json": {
       "model_id": "825e62340e274e8589b0e8afe9559e8c",
       "version_major": 2,
       "version_minor": 0
      },
      "text/plain": [
       "  0%|          | 0/6 [00:00<?, ?it/s]"
      ]
     },
     "metadata": {},
     "output_type": "display_data"
    },
    {
     "data": {
      "application/vnd.jupyter.widget-view+json": {
       "model_id": "445dc335f01f4530890853eff977b6e0",
       "version_major": 2,
       "version_minor": 0
      },
      "text/plain": [
       "  0%|          | 0/3 [00:00<?, ?it/s]"
      ]
     },
     "metadata": {},
     "output_type": "display_data"
    },
    {
     "data": {
      "application/vnd.jupyter.widget-view+json": {
       "model_id": "2d6877172bfc42c695d61e2e4b164131",
       "version_major": 2,
       "version_minor": 0
      },
      "text/plain": [
       "  0%|          | 0/2 [00:00<?, ?it/s]"
      ]
     },
     "metadata": {},
     "output_type": "display_data"
    },
    {
     "name": "stdout",
     "output_type": "stream",
     "text": [
      "max is  6.204621787345207  min is  -6.5537046915167645\n",
      "average is  0.12782127888349779 median is  -0.009473110697525378\n",
      "standard deviation is  3.0812599892426644\n",
      "max is  5.722336316305595  min is  -8.371694447594303\n",
      "average is  -0.40184748233808804 median is  0.0\n",
      "standard deviation is  3.0663897617989377\n",
      "minus values here ------------\n",
      "max value is  4.139462256456614 min value is  -6.5537046915167645  mean value is  0.5296687612215857\n",
      " median value is  0.5015655626880815  standard deviation is  1.9030083091601255\n",
      "calculating image 3 of 17\n",
      "max is  0.3243728708691464  min is  -0.1788948945960513\n",
      "average is  0.03450813528359123 median is  -0.0024549378621063767\n",
      "standard deviation is  0.13727996707918683\n",
      "max is  4.712730869297447  min is  -0.021960793212254033\n",
      "average is  0.5827539107822536 median is  -0.0018699721996513416\n",
      "standard deviation is  1.470926798234177\n",
      "minus values here ------------\n",
      "max value is  0.19696313484329278 min value is  -4.388357998428301  mean value is  -0.5482457754986624\n",
      " median value is  -0.0005849656624550351  standard deviation is  1.3703402129725408\n"
     ]
    },
    {
     "data": {
      "application/vnd.jupyter.widget-view+json": {
       "model_id": "bd50fdd48ba54f359aa7c2dfed2f06d9",
       "version_major": 2,
       "version_minor": 0
      },
      "text/plain": [
       "  0%|          | 0/6 [00:00<?, ?it/s]"
      ]
     },
     "metadata": {},
     "output_type": "display_data"
    },
    {
     "data": {
      "application/vnd.jupyter.widget-view+json": {
       "model_id": "3baaf70d5a4b4b5a91d4cefb693e6a70",
       "version_major": 2,
       "version_minor": 0
      },
      "text/plain": [
       "  0%|          | 0/3 [00:00<?, ?it/s]"
      ]
     },
     "metadata": {},
     "output_type": "display_data"
    },
    {
     "data": {
      "application/vnd.jupyter.widget-view+json": {
       "model_id": "73837c8b05644e0c81851fe0acdca19b",
       "version_major": 2,
       "version_minor": 0
      },
      "text/plain": [
       "  0%|          | 0/2 [00:00<?, ?it/s]"
      ]
     },
     "metadata": {},
     "output_type": "display_data"
    },
    {
     "name": "stdout",
     "output_type": "stream",
     "text": [
      "max is  3.706433065187958  min is  -7.61317147723512\n",
      "average is  -0.9199462431212739 median is  -0.3923189083086154\n",
      "standard deviation is  2.9345095551316165\n",
      "max is  5.036204154883192  min is  -17.594287071481236\n",
      "average is  -1.4100274207210115 median is  -0.2266260805523106\n",
      "standard deviation is  3.8383039662880285\n",
      "minus values here ------------\n",
      "max value is  12.095004813662047 min value is  -4.683074536711488  mean value is  0.49008117759973746\n",
      " median value is  0.5608052848990125  standard deviation is  2.44442583234754\n",
      "calculating image 4 of 17\n",
      "max is  1.4783141820335395  min is  -1.2759158209350314\n",
      "average is  -0.13006653105158458 median is  -0.0024549378621063767\n",
      "standard deviation is  0.7525374166514875\n",
      "max is  3.695656422886809  min is  -1.6499072593745878\n",
      "average is  0.3501977732860535 median is  -0.0018699721996513416\n",
      "standard deviation is  1.0733702789671682\n",
      "minus values here ------------\n",
      "max value is  1.4783141820335395 min value is  -2.5420719300941963  mean value is  -0.48026430433763817\n",
      " median value is  -0.10670382121357325  standard deviation is  1.0136445305715491\n"
     ]
    },
    {
     "data": {
      "application/vnd.jupyter.widget-view+json": {
       "model_id": "9831d950445f4b029f0fe08b11f8b625",
       "version_major": 2,
       "version_minor": 0
      },
      "text/plain": [
       "  0%|          | 0/6 [00:00<?, ?it/s]"
      ]
     },
     "metadata": {},
     "output_type": "display_data"
    },
    {
     "data": {
      "application/vnd.jupyter.widget-view+json": {
       "model_id": "472fbaa8678b4404aa523685a4f3d5ba",
       "version_major": 2,
       "version_minor": 0
      },
      "text/plain": [
       "  0%|          | 0/3 [00:00<?, ?it/s]"
      ]
     },
     "metadata": {},
     "output_type": "display_data"
    },
    {
     "data": {
      "application/vnd.jupyter.widget-view+json": {
       "model_id": "1341a1ae609f4f47832e2d67fd3c29e1",
       "version_major": 2,
       "version_minor": 0
      },
      "text/plain": [
       "  0%|          | 0/2 [00:00<?, ?it/s]"
      ]
     },
     "metadata": {},
     "output_type": "display_data"
    },
    {
     "name": "stdout",
     "output_type": "stream",
     "text": [
      "max is  5.665472350297533  min is  -6.653071752098265\n",
      "average is  -0.6985723087934479 median is  -0.2791303968043441\n",
      "standard deviation is  2.495875781232401\n",
      "max is  5.724145955092736  min is  -7.330974925573722\n",
      "average is  -0.4095984749909477 median is  0.0\n",
      "standard deviation is  2.786376047285236\n",
      "minus values here ------------\n",
      "max value is  4.657896852162569 min value is  -5.270768588787206  mean value is  -0.28897383380250014\n",
      " median value is  -0.05380298169631015  standard deviation is  1.586150612683\n",
      "calculating image 5 of 17\n",
      "max is  2.3340306611095145  min is  -1.7877852349627033\n",
      "average is  0.15513063992432052 median is  -0.0024549378621063767\n",
      "standard deviation is  1.1508689608877956\n",
      "max is  3.685134677790688  min is  -1.560913224794207\n",
      "average is  0.8846800260479539 median is  0.0\n",
      "standard deviation is  1.6683843660209718\n",
      "minus values here ------------\n",
      "max value is  0.46956613131427427 min value is  -2.2164673688344037  mean value is  -0.7295493861236335\n",
      " median value is  -0.7496833168093128  standard deviation is  0.8428647981860228\n"
     ]
    },
    {
     "data": {
      "application/vnd.jupyter.widget-view+json": {
       "model_id": "bedca09535b34d7b8f8c5f9db39a4f56",
       "version_major": 2,
       "version_minor": 0
      },
      "text/plain": [
       "  0%|          | 0/6 [00:00<?, ?it/s]"
      ]
     },
     "metadata": {},
     "output_type": "display_data"
    },
    {
     "data": {
      "application/vnd.jupyter.widget-view+json": {
       "model_id": "ae2dd5431fa649b58f29bfd0e4d84532",
       "version_major": 2,
       "version_minor": 0
      },
      "text/plain": [
       "  0%|          | 0/3 [00:00<?, ?it/s]"
      ]
     },
     "metadata": {},
     "output_type": "display_data"
    },
    {
     "data": {
      "application/vnd.jupyter.widget-view+json": {
       "model_id": "28c7bebc574b494faab577941c102159",
       "version_major": 2,
       "version_minor": 0
      },
      "text/plain": [
       "  0%|          | 0/2 [00:00<?, ?it/s]"
      ]
     },
     "metadata": {},
     "output_type": "display_data"
    },
    {
     "name": "stdout",
     "output_type": "stream",
     "text": [
      "max is  3.9379804485181595  min is  -8.037536906515793\n",
      "average is  -0.7701081951424035 median is  -0.3114626741851527\n",
      "standard deviation is  2.4405662941388004\n",
      "max is  7.8637560405910625  min is  -9.242587249184291\n",
      "average is  -0.5969803743278863 median is  0.0\n",
      "standard deviation is  3.1786024637485397\n",
      "minus values here ------------\n",
      "max value is  5.833270352765119 min value is  -6.376790514530184  mean value is  -0.17312782081451697\n",
      " median value is  -0.2022796937554866  standard deviation is  1.7691699256188462\n",
      "calculating image 6 of 17\n",
      "max is  0.41703085446777205  min is  -0.018609546116996778\n",
      "average is  0.06476692615039163 median is  -0.0024549378621063767\n",
      "standard deviation is  0.15764761723889464\n",
      "max is  1.803350876716553  min is  -0.0018699721996513416\n",
      "average is  0.2990001692863827 median is  -0.0018699721996513416\n",
      "standard deviation is  0.6727660887627518\n",
      "minus values here ------------\n",
      "max value is  0.4189008266674234 min value is  -1.8219604228335498  mean value is  -0.23423324313599106\n",
      " median value is  -0.0005849656624550351  standard deviation is  0.7263869240464222\n"
     ]
    },
    {
     "data": {
      "application/vnd.jupyter.widget-view+json": {
       "model_id": "a9404e2aff774117915002ce5403d8d7",
       "version_major": 2,
       "version_minor": 0
      },
      "text/plain": [
       "  0%|          | 0/6 [00:00<?, ?it/s]"
      ]
     },
     "metadata": {},
     "output_type": "display_data"
    },
    {
     "data": {
      "application/vnd.jupyter.widget-view+json": {
       "model_id": "c3e89ccbec634d89be6228d05ee58535",
       "version_major": 2,
       "version_minor": 0
      },
      "text/plain": [
       "  0%|          | 0/3 [00:00<?, ?it/s]"
      ]
     },
     "metadata": {},
     "output_type": "display_data"
    },
    {
     "data": {
      "application/vnd.jupyter.widget-view+json": {
       "model_id": "3095b9b5af874063b96e21cc71ccc3e9",
       "version_major": 2,
       "version_minor": 0
      },
      "text/plain": [
       "  0%|          | 0/2 [00:00<?, ?it/s]"
      ]
     },
     "metadata": {},
     "output_type": "display_data"
    },
    {
     "name": "stdout",
     "output_type": "stream",
     "text": [
      "max is  6.230655151308  min is  -7.6729638211524955\n",
      "average is  -0.7279678842138018 median is  -0.20973755065541777\n",
      "standard deviation is  2.462891422137792\n",
      "max is  5.769000254851447  min is  -7.943219953132252\n",
      "average is  -0.623023607719518 median is  0.0\n",
      "standard deviation is  2.851491413903888\n",
      "minus values here ------------\n",
      "max value is  6.230655151308 min value is  -6.272316390622232  mean value is  -0.10494427649428369\n",
      " median value is  -0.178572167354704  standard deviation is  1.9000598258165524\n",
      "calculating image 7 of 17\n",
      "max is  2.2829604117115796  min is  -0.00630611156446359\n",
      "average is  0.41262669290232645 median is  0.0\n",
      "standard deviation is  0.6750050206681446\n",
      "max is  2.1760634675331376  min is  -0.3059437099826056\n",
      "average is  0.24524897496130948 median is  0.0\n",
      "standard deviation is  0.6377651972874735\n",
      "minus values here ------------\n",
      "max value is  1.0433757661210314 min value is  -0.4957516522083384  mean value is  0.167377717941017\n",
      " median value is  -0.0005849656624550351  standard deviation is  0.434256322638127\n"
     ]
    },
    {
     "data": {
      "application/vnd.jupyter.widget-view+json": {
       "model_id": "30d0e7a376fc454ca336d154c95bee73",
       "version_major": 2,
       "version_minor": 0
      },
      "text/plain": [
       "  0%|          | 0/6 [00:00<?, ?it/s]"
      ]
     },
     "metadata": {},
     "output_type": "display_data"
    },
    {
     "data": {
      "application/vnd.jupyter.widget-view+json": {
       "model_id": "6db164def1164040898387b2739359ff",
       "version_major": 2,
       "version_minor": 0
      },
      "text/plain": [
       "  0%|          | 0/3 [00:00<?, ?it/s]"
      ]
     },
     "metadata": {},
     "output_type": "display_data"
    },
    {
     "data": {
      "application/vnd.jupyter.widget-view+json": {
       "model_id": "74a5cc5e166b461596fd0036faaa57e5",
       "version_major": 2,
       "version_minor": 0
      },
      "text/plain": [
       "  0%|          | 0/2 [00:00<?, ?it/s]"
      ]
     },
     "metadata": {},
     "output_type": "display_data"
    },
    {
     "name": "stdout",
     "output_type": "stream",
     "text": [
      "max is  5.660346840626319  min is  -4.808838509571825\n",
      "average is  0.4526993762666894 median is  0.8938577126626297\n",
      "standard deviation is  2.383191154103875\n",
      "max is  4.098543636290014  min is  -5.128499022347901\n",
      "average is  0.18355962915258622 median is  0.0\n",
      "standard deviation is  1.8965030713164102\n",
      "minus values here ------------\n",
      "max value is  6.225033926331893 min value is  -3.727002034509556  mean value is  0.2691397471141032\n",
      " median value is  0.14187684065403072  standard deviation is  1.7332157584517265\n",
      "calculating image 8 of 17\n",
      "max is  1.2142030576895555  min is  -0.49192262475355164\n",
      "average is  0.10010499783443212 median is  -0.0024549378621063767\n",
      "standard deviation is  0.4352780627492332\n",
      "max is  0.11812179694514129  min is  -7.399504471848806\n",
      "average is  -1.8736623098882905 median is  -0.0018699721996513416\n",
      "standard deviation is  2.7919506203221673\n",
      "minus values here ------------\n",
      "max value is  8.613707529538361 min value is  -0.22867677998934016  mean value is  1.9737673077227231\n",
      " median value is  -0.0005849656624550351  standard deviation is  2.974769951290015\n"
     ]
    },
    {
     "data": {
      "application/vnd.jupyter.widget-view+json": {
       "model_id": "2ec827db19ed42a5ac67cb70d151dff4",
       "version_major": 2,
       "version_minor": 0
      },
      "text/plain": [
       "  0%|          | 0/6 [00:00<?, ?it/s]"
      ]
     },
     "metadata": {},
     "output_type": "display_data"
    },
    {
     "data": {
      "application/vnd.jupyter.widget-view+json": {
       "model_id": "d02e9067bf0f4cf7a4a1306144bf2fc2",
       "version_major": 2,
       "version_minor": 0
      },
      "text/plain": [
       "  0%|          | 0/3 [00:00<?, ?it/s]"
      ]
     },
     "metadata": {},
     "output_type": "display_data"
    },
    {
     "data": {
      "application/vnd.jupyter.widget-view+json": {
       "model_id": "fafe0700c85c42e88b2293b98bffe3fe",
       "version_major": 2,
       "version_minor": 0
      },
      "text/plain": [
       "  0%|          | 0/2 [00:00<?, ?it/s]"
      ]
     },
     "metadata": {},
     "output_type": "display_data"
    },
    {
     "name": "stdout",
     "output_type": "stream",
     "text": [
      "max is  4.999719212088328  min is  -11.831210237996263\n",
      "average is  -0.22076463005057065 median is  0.30845955937813385\n",
      "standard deviation is  2.6498222159610068\n",
      "max is  12.2646206088451  min is  -15.05353919396207\n",
      "average is  -1.9973253475439645 median is  -0.8103067416075158\n",
      "standard deviation is  4.860862648904935\n",
      "minus values here ------------\n",
      "max value is  13.083335506834235 min value is  -11.831210237996263  mean value is  1.7765607174933942\n",
      " median value is  2.1326379623154357  standard deviation is  4.433055890022994\n",
      "calculating image 9 of 17\n",
      "max is  2.6338855812609103  min is  -0.623877831592929\n",
      "average is  0.711947292814937 median is  0.5746524195819758\n",
      "standard deviation is  1.0269288307732833\n",
      "max is  5.278282403906168  min is  -0.7724223700392207\n",
      "average is  1.2860555920484031 median is  -0.0018699721996513416\n",
      "standard deviation is  1.9874745118912056\n",
      "minus values here ------------\n",
      "max value is  1.3470747896211965 min value is  -2.6443968226452577  mean value is  -0.5741082992334662\n",
      " median value is  -0.4993913896663452  standard deviation is  1.1559867716897079\n"
     ]
    },
    {
     "data": {
      "application/vnd.jupyter.widget-view+json": {
       "model_id": "0b0ab021b018465f8ad41bdcf411cf54",
       "version_major": 2,
       "version_minor": 0
      },
      "text/plain": [
       "  0%|          | 0/6 [00:00<?, ?it/s]"
      ]
     },
     "metadata": {},
     "output_type": "display_data"
    },
    {
     "data": {
      "application/vnd.jupyter.widget-view+json": {
       "model_id": "89e30879f6a841f0b37170abfda1d5a8",
       "version_major": 2,
       "version_minor": 0
      },
      "text/plain": [
       "  0%|          | 0/3 [00:00<?, ?it/s]"
      ]
     },
     "metadata": {},
     "output_type": "display_data"
    },
    {
     "data": {
      "application/vnd.jupyter.widget-view+json": {
       "model_id": "32a63e7c766c44dabb8991839eebc37a",
       "version_major": 2,
       "version_minor": 0
      },
      "text/plain": [
       "  0%|          | 0/2 [00:00<?, ?it/s]"
      ]
     },
     "metadata": {},
     "output_type": "display_data"
    },
    {
     "name": "stdout",
     "output_type": "stream",
     "text": [
      "max is  5.733591212670621  min is  -8.214742486234785\n",
      "average is  -0.20744047955598108 median is  -0.3167886934041478\n",
      "standard deviation is  2.958701290662562\n",
      "max is  7.463925081022012  min is  -8.072743298006719\n",
      "average is  -0.2642369924478602 median is  0.0\n",
      "standard deviation is  2.8381452161292158\n",
      "minus values here ------------\n",
      "max value is  3.6443634017633433 min value is  -4.989326483626319  mean value is  0.056796512891879085\n",
      " median value is  0.3819976127368654  standard deviation is  1.5343778188715995\n",
      "calculating image 10 of 17\n",
      "max is  0.8415671417466555  min is  -0.6013299928669666\n",
      "average is  0.10186405045332567 median is  -0.0024549378621063767\n",
      "standard deviation is  0.39949170381394733\n",
      "max is  2.5291130919620466  min is  -0.0018699721996513416\n",
      "average is  0.5013794822634056 median is  -0.0018699721996513416\n",
      "standard deviation is  0.846481720492227\n",
      "minus values here ------------\n",
      "max value is  0.0013848781874959207 min value is  -2.135923698240156  mean value is  -0.39951543181008\n",
      " median value is  -0.0005849656624550351  standard deviation is  0.7741305006484692\n"
     ]
    },
    {
     "data": {
      "application/vnd.jupyter.widget-view+json": {
       "model_id": "08f9c429954c4c62aa01bdae2ecf4e73",
       "version_major": 2,
       "version_minor": 0
      },
      "text/plain": [
       "  0%|          | 0/6 [00:00<?, ?it/s]"
      ]
     },
     "metadata": {},
     "output_type": "display_data"
    },
    {
     "data": {
      "application/vnd.jupyter.widget-view+json": {
       "model_id": "f2dd68845c3549bea15f01575e5a88ad",
       "version_major": 2,
       "version_minor": 0
      },
      "text/plain": [
       "  0%|          | 0/3 [00:00<?, ?it/s]"
      ]
     },
     "metadata": {},
     "output_type": "display_data"
    },
    {
     "data": {
      "application/vnd.jupyter.widget-view+json": {
       "model_id": "572a9539594e4a59b644029abbedcec2",
       "version_major": 2,
       "version_minor": 0
      },
      "text/plain": [
       "  0%|          | 0/2 [00:00<?, ?it/s]"
      ]
     },
     "metadata": {},
     "output_type": "display_data"
    },
    {
     "name": "stdout",
     "output_type": "stream",
     "text": [
      "max is  3.282852188598992  min is  -6.887961959046333\n",
      "average is  -0.9885883243598437 median is  -0.5178924795562414\n",
      "standard deviation is  2.8177245450528976\n",
      "max is  3.938680310117176  min is  -8.13750478663009\n",
      "average is  -0.7469830193481173 median is  0.0\n",
      "standard deviation is  2.867029649865511\n",
      "minus values here ------------\n",
      "max value is  3.0013550605103463 min value is  -5.781055315300512  mean value is  -0.2416053050117262\n",
      " median value is  0.20398915688431085  standard deviation is  1.849689563925091\n",
      "calculating image 11 of 17\n",
      "max is  3.7499200618753727  min is  -1.8969231891331808\n",
      "average is  0.8573396065246899 median is  0.187151145214168\n",
      "standard deviation is  1.4885390294387744\n",
      "max is  5.896266823704613  min is  -2.8452396549842827\n",
      "average is  1.04660061990022 median is  0.04591093631016462\n",
      "standard deviation is  2.027276701751075\n",
      "minus values here ------------\n",
      "max value is  2.137674119276675 min value is  -4.368998056286609  mean value is  -0.1892610133755301\n",
      " median value is  -0.0005849656624550351  standard deviation is  1.3894977538572912\n"
     ]
    },
    {
     "data": {
      "application/vnd.jupyter.widget-view+json": {
       "model_id": "be3d2ad7ff7e430db25eabdff4e24ac3",
       "version_major": 2,
       "version_minor": 0
      },
      "text/plain": [
       "  0%|          | 0/6 [00:00<?, ?it/s]"
      ]
     },
     "metadata": {},
     "output_type": "display_data"
    },
    {
     "data": {
      "application/vnd.jupyter.widget-view+json": {
       "model_id": "d1b2e3f419234350a02d90bde9f6316a",
       "version_major": 2,
       "version_minor": 0
      },
      "text/plain": [
       "  0%|          | 0/3 [00:00<?, ?it/s]"
      ]
     },
     "metadata": {},
     "output_type": "display_data"
    },
    {
     "data": {
      "application/vnd.jupyter.widget-view+json": {
       "model_id": "b2966fcb76a343199f3a9ddba932e918",
       "version_major": 2,
       "version_minor": 0
      },
      "text/plain": [
       "  0%|          | 0/2 [00:00<?, ?it/s]"
      ]
     },
     "metadata": {},
     "output_type": "display_data"
    },
    {
     "name": "stdout",
     "output_type": "stream",
     "text": [
      "max is  7.033544780524006  min is  -7.477251145321741\n",
      "average is  -0.27220165414364833 median is  -0.22543610501530165\n",
      "standard deviation is  3.0132372412175306\n",
      "max is  4.7966829682299545  min is  -8.908738229591997\n",
      "average is  -0.5255210305030295 median is  0.0\n",
      "standard deviation is  2.9846732622880796\n",
      "minus values here ------------\n",
      "max value is  3.4573817458531404 min value is  -4.368747206014349  mean value is  0.2533193763593811\n",
      " median value is  0.5302394899123766  standard deviation is  1.7257047496539761\n",
      "calculating image 12 of 17\n",
      "max is  2.945045963288633  min is  -0.0024549378621063767\n",
      "average is  0.5572519398412118 median is  -0.0024549378621063767\n",
      "standard deviation is  1.0321675544156053\n",
      "max is  3.8730080102543676  min is  -0.0018699721996513416\n",
      "average is  0.7017051316919579 median is  -0.0009349860998256708\n",
      "standard deviation is  1.3245160991867246\n",
      "minus values here ------------\n",
      "max value is  -0.0005849656624550351 min value is  -0.9279620469657344  mean value is  -0.14445319185074612\n",
      " median value is  -0.0015199517622807059  standard deviation is  0.3028029798320724\n"
     ]
    },
    {
     "data": {
      "application/vnd.jupyter.widget-view+json": {
       "model_id": "836f664744d7436489f11f7ce6eb85ab",
       "version_major": 2,
       "version_minor": 0
      },
      "text/plain": [
       "  0%|          | 0/6 [00:00<?, ?it/s]"
      ]
     },
     "metadata": {},
     "output_type": "display_data"
    },
    {
     "data": {
      "application/vnd.jupyter.widget-view+json": {
       "model_id": "f1dc7934f3364f20b642a40cd370f0c4",
       "version_major": 2,
       "version_minor": 0
      },
      "text/plain": [
       "  0%|          | 0/3 [00:00<?, ?it/s]"
      ]
     },
     "metadata": {},
     "output_type": "display_data"
    },
    {
     "data": {
      "application/vnd.jupyter.widget-view+json": {
       "model_id": "92dd5ff663d04aebb32dc6c43919a6ae",
       "version_major": 2,
       "version_minor": 0
      },
      "text/plain": [
       "  0%|          | 0/2 [00:00<?, ?it/s]"
      ]
     },
     "metadata": {},
     "output_type": "display_data"
    },
    {
     "name": "stdout",
     "output_type": "stream",
     "text": [
      "max is  7.6079140227513395  min is  -6.261898957905307\n",
      "average is  -0.3510830634465681 median is  -0.4914727150698724\n",
      "standard deviation is  2.7374710179346105\n",
      "max is  3.873008010254368  min is  -6.851619795516954\n",
      "average is  -0.1785903474837321 median is  0.0\n",
      "standard deviation is  2.345439757759231\n",
      "minus values here ------------\n",
      "max value is  4.093051557878589 min value is  -4.2640974338916475  mean value is  -0.17249271596283597\n",
      " median value is  -0.19656592383461158  standard deviation is  1.7840839113220426\n",
      "calculating image 13 of 17\n",
      "max is  0.8362066392071434  min is  -0.5743735155483347\n",
      "average is  0.013890730416512717 median is  -0.0024549378621063767\n",
      "standard deviation is  0.36411962996330866\n",
      "max is  1.1070447845800309  min is  -0.6552472092972128\n",
      "average is  -0.016164076417337164 median is  -0.0018699721996513416\n",
      "standard deviation is  0.501852582144037\n",
      "minus values here ------------\n",
      "max value is  0.47730175897555216 min value is  -0.2708381453728874  mean value is  0.03005480683384988\n",
      " median value is  -0.0005849656624550351  standard deviation is  0.1919473322033817\n"
     ]
    },
    {
     "data": {
      "application/vnd.jupyter.widget-view+json": {
       "model_id": "8cd0a52d69ce4625973bfb134a5b08aa",
       "version_major": 2,
       "version_minor": 0
      },
      "text/plain": [
       "  0%|          | 0/6 [00:00<?, ?it/s]"
      ]
     },
     "metadata": {},
     "output_type": "display_data"
    },
    {
     "data": {
      "application/vnd.jupyter.widget-view+json": {
       "model_id": "27fc87d1b52646e3ac21d9fbeb10139a",
       "version_major": 2,
       "version_minor": 0
      },
      "text/plain": [
       "  0%|          | 0/3 [00:00<?, ?it/s]"
      ]
     },
     "metadata": {},
     "output_type": "display_data"
    },
    {
     "data": {
      "application/vnd.jupyter.widget-view+json": {
       "model_id": "48e5ecf6071e4ba8bde2d3b3c045f34f",
       "version_major": 2,
       "version_minor": 0
      },
      "text/plain": [
       "  0%|          | 0/2 [00:00<?, ?it/s]"
      ]
     },
     "metadata": {},
     "output_type": "display_data"
    },
    {
     "name": "stdout",
     "output_type": "stream",
     "text": [
      "max is  3.9141971316163504  min is  -5.565524615137509\n",
      "average is  -0.6645684581922625 median is  -0.5377392710958611\n",
      "standard deviation is  2.5439878331431522\n",
      "max is  4.692948632205045  min is  -9.240690689008972\n",
      "average is  -0.5725108635169046 median is  0.0\n",
      "standard deviation is  3.2222799637999247\n",
      "minus values here ------------\n",
      "max value is  4.927813045145432 min value is  -3.776363228114908  mean value is  -0.09205759467535787\n",
      " median value is  -0.10444641818708922  standard deviation is  1.9555582497076067\n",
      "calculating image 14 of 17\n",
      "max is  0.8998697377361969  min is  -2.988175572834861\n",
      "average is  -0.4179256860677346 median is  -0.0024549378621063767\n",
      "standard deviation is  1.3315911028259024\n",
      "max is  3.4727262602728395  min is  -2.817015952584055\n",
      "average is  0.3929314547894466 median is  0.009954109341905708\n",
      "standard deviation is  2.045276391901685\n",
      "minus values here ------------\n",
      "max value is  -0.0005849656624550351 min value is  -2.5728565225366427  mean value is  -0.8108571408571812\n",
      " median value is  -0.1711596202508061  standard deviation is  1.0044419308734678\n"
     ]
    },
    {
     "data": {
      "application/vnd.jupyter.widget-view+json": {
       "model_id": "3133037131be4eefb3b587f805cd4235",
       "version_major": 2,
       "version_minor": 0
      },
      "text/plain": [
       "  0%|          | 0/6 [00:00<?, ?it/s]"
      ]
     },
     "metadata": {},
     "output_type": "display_data"
    },
    {
     "data": {
      "application/vnd.jupyter.widget-view+json": {
       "model_id": "9bc991c2f6da49a9ac9bdb152566193c",
       "version_major": 2,
       "version_minor": 0
      },
      "text/plain": [
       "  0%|          | 0/3 [00:00<?, ?it/s]"
      ]
     },
     "metadata": {},
     "output_type": "display_data"
    },
    {
     "data": {
      "application/vnd.jupyter.widget-view+json": {
       "model_id": "f6f67775a9c34f999266594008350ce2",
       "version_major": 2,
       "version_minor": 0
      },
      "text/plain": [
       "  0%|          | 0/2 [00:00<?, ?it/s]"
      ]
     },
     "metadata": {},
     "output_type": "display_data"
    },
    {
     "name": "stdout",
     "output_type": "stream",
     "text": [
      "max is  3.8904959472634464  min is  -6.962014985504083\n",
      "average is  -1.0586521948340568 median is  -0.5437130946915605\n",
      "standard deviation is  2.743020800163426\n",
      "max is  5.203415462182178  min is  -7.81095950160301\n",
      "average is  -0.9091561569853173 median is  0.0\n",
      "standard deviation is  2.8709580305547906\n",
      "minus values here ------------\n",
      "max value is  4.464137552631649 min value is  -4.435989457592034  mean value is  -0.14949603784873944\n",
      " median value is  0.12473868649052289  standard deviation is  1.961416379927287\n",
      "calculating image 15 of 17\n",
      "max is  1.9555705519545343  min is  -0.9593480555742835\n",
      "average is  0.06933692170137756 median is  -0.3594374047873703\n",
      "standard deviation is  1.1444035455059638\n",
      "max is  1.1312557806803047  min is  -0.40112633808074305\n",
      "average is  0.3389051352357774 median is  0.312745549171774\n",
      "standard deviation is  0.5862594620338948\n",
      "minus values here ------------\n",
      "max value is  0.8243147712742296 min value is  -1.3437809422558336  mean value is  -0.26956821353439986\n",
      " median value is  -0.27940334157799773  standard deviation is  0.7915468722673052\n"
     ]
    },
    {
     "data": {
      "application/vnd.jupyter.widget-view+json": {
       "model_id": "12c9a0f0968a43c2a85b21b517931dc8",
       "version_major": 2,
       "version_minor": 0
      },
      "text/plain": [
       "  0%|          | 0/6 [00:00<?, ?it/s]"
      ]
     },
     "metadata": {},
     "output_type": "display_data"
    },
    {
     "data": {
      "application/vnd.jupyter.widget-view+json": {
       "model_id": "d28d39166c854cee8bb7f850055d1833",
       "version_major": 2,
       "version_minor": 0
      },
      "text/plain": [
       "  0%|          | 0/3 [00:00<?, ?it/s]"
      ]
     },
     "metadata": {},
     "output_type": "display_data"
    },
    {
     "data": {
      "application/vnd.jupyter.widget-view+json": {
       "model_id": "9e1e6caec2624b758ff4e7a1cdf160ec",
       "version_major": 2,
       "version_minor": 0
      },
      "text/plain": [
       "  0%|          | 0/2 [00:00<?, ?it/s]"
      ]
     },
     "metadata": {},
     "output_type": "display_data"
    },
    {
     "name": "stdout",
     "output_type": "stream",
     "text": [
      "max is  4.811031147749056  min is  -7.009765614565083\n",
      "average is  0.05334989941245087 median is  0.6174685345156665\n",
      "standard deviation is  2.910255467975513\n",
      "max is  3.5294827109665023  min is  -6.921364890121053\n",
      "average is  0.1725657371739159 median is  0.3565501424605695\n",
      "standard deviation is  2.328814782604272\n",
      "minus values here ------------\n",
      "max value is  3.031489643208979 min value is  -3.4766309977005228  mean value is  -0.11921583776146494\n",
      " median value is  -0.43277665247348285  standard deviation is  1.429320386435997\n",
      "calculating image 16 of 17\n",
      "max is  0.2896690283676748  min is  -0.03318570607330858\n",
      "average is  0.08985504559944466 median is  0.07760796417421263\n",
      "standard deviation is  0.113584963575422\n",
      "max is  0.8686735783506019  min is  -0.023670849378381376\n",
      "average is  0.1678785624746533 median is  -0.0018699721996513416\n",
      "standard deviation is  0.3504992229748977\n",
      "minus values here ------------\n",
      "max value is  0.11950885159040217 min value is  -0.579004549982927  mean value is  -0.07802351687520863\n",
      " median value is  -0.0005849656624550351  standard deviation is  0.25514619559558716\n"
     ]
    },
    {
     "data": {
      "application/vnd.jupyter.widget-view+json": {
       "model_id": "4db3d323c48e48639ff58cfe5b18db7d",
       "version_major": 2,
       "version_minor": 0
      },
      "text/plain": [
       "  0%|          | 0/6 [00:00<?, ?it/s]"
      ]
     },
     "metadata": {},
     "output_type": "display_data"
    },
    {
     "data": {
      "application/vnd.jupyter.widget-view+json": {
       "model_id": "9273ba09842d4452bbff9126cb035b29",
       "version_major": 2,
       "version_minor": 0
      },
      "text/plain": [
       "  0%|          | 0/3 [00:00<?, ?it/s]"
      ]
     },
     "metadata": {},
     "output_type": "display_data"
    },
    {
     "data": {
      "application/vnd.jupyter.widget-view+json": {
       "model_id": "2affc07eae2a448a8be4eceebe1e8d2f",
       "version_major": 2,
       "version_minor": 0
      },
      "text/plain": [
       "  0%|          | 0/2 [00:00<?, ?it/s]"
      ]
     },
     "metadata": {},
     "output_type": "display_data"
    },
    {
     "name": "stdout",
     "output_type": "stream",
     "text": [
      "max is  4.91631063519494  min is  -6.128061815188185\n",
      "average is  -0.20289281121227876 median is  0.05016561200440495\n",
      "standard deviation is  3.0008496285772486\n",
      "max is  4.276901481510573  min is  -5.932881661045634\n",
      "average is  -0.6199267389972799 median is  0.0\n",
      "standard deviation is  2.5672114694732118\n",
      "minus values here ------------\n",
      "max value is  4.91631063519494 min value is  -5.3898299608389415  mean value is  0.4170339277850015\n",
      " median value is  0.19329843643330502  standard deviation is  1.929364523357637\n",
      "calculating image 17 of 17\n",
      "max is  0.004546905415182085  min is  -0.0024549378621063767\n",
      "average is  -0.00012099010301022267 median is  -0.0024549378621063767\n",
      "standard deviation is  0.003300700574784074\n",
      "max is  -0.0018699721996513416  min is  -0.0018699721996513416\n",
      "average is  -0.0018699721996513416 median is  -0.0018699721996513416\n",
      "standard deviation is  0.0\n",
      "minus values here ------------\n",
      "max value is  0.006416877614833427 min value is  -0.0005849656624550351  mean value is  0.001748982096641119\n",
      " median value is  -0.0005849656624550351  standard deviation is  0.0033007005747840742\n"
     ]
    },
    {
     "data": {
      "application/vnd.jupyter.widget-view+json": {
       "model_id": "f5b9fa249de145908f423bc9e91cb127",
       "version_major": 2,
       "version_minor": 0
      },
      "text/plain": [
       "  0%|          | 0/6 [00:00<?, ?it/s]"
      ]
     },
     "metadata": {},
     "output_type": "display_data"
    },
    {
     "data": {
      "application/vnd.jupyter.widget-view+json": {
       "model_id": "563c71c35c004131bf1e24704614c6dd",
       "version_major": 2,
       "version_minor": 0
      },
      "text/plain": [
       "  0%|          | 0/3 [00:00<?, ?it/s]"
      ]
     },
     "metadata": {},
     "output_type": "display_data"
    },
    {
     "data": {
      "application/vnd.jupyter.widget-view+json": {
       "model_id": "02dea3e2c8e6425e81e98c104d1ede44",
       "version_major": 2,
       "version_minor": 0
      },
      "text/plain": [
       "  0%|          | 0/2 [00:00<?, ?it/s]"
      ]
     },
     "metadata": {},
     "output_type": "display_data"
    },
    {
     "name": "stdout",
     "output_type": "stream",
     "text": [
      "max is  4.187578874492027  min is  -6.661540592426899\n",
      "average is  -0.627578257424612 median is  -0.3921882978497397\n",
      "standard deviation is  2.5812456499310237\n",
      "max is  8.922864837367197  min is  -6.598783151872343\n",
      "average is  -0.14164081997804812 median is  0.0\n",
      "standard deviation is  3.028589323761644\n",
      "minus values here ------------\n",
      "max value is  5.429451838077031 min value is  -4.73528596287517  mean value is  -0.4859374374465638\n",
      " median value is  -0.3500687883084307  standard deviation is  2.010721683930972\n",
      "Finished analysis woohoo\n"
     ]
    }
   ],
   "source": [
    "##### CHANGE THIS TO YOUR FOLDER##################\n",
    "##################################################\n",
    "bigfol=r\"C:\\Users\\Image Processing PC\\Downloads\\1106\"\n",
    "##################################################\n",
    "#################################################\n",
    "\n",
    "\n",
    "\n",
    "\n",
    "\n",
    "\n",
    "#initialise dependencies\n",
    "\n",
    "\n",
    "from matplotlib import pyplot as plt\n",
    "from numpy.linalg import norm\n",
    "import numpy as np\n",
    "\n",
    "from scipy import sparse\n",
    "from imutils.object_detection import non_max_suppression\n",
    "\n",
    "\n",
    "from pathlib import Path\n",
    "from skimage.color import rgb2lab, lab2rgb\n",
    "\n",
    "\n",
    "from os import listdir\n",
    "import os\n",
    "import glob\n",
    "from PIL import Image\n",
    "import rawpy\n",
    "import imageio\n",
    "\n",
    "\n",
    "from PIL import Image\n",
    "import PIL\n",
    "\n",
    "from PIL.ExifTags import TAGS\n",
    "import imutils\n",
    "\n",
    "import os\n",
    "#import hcluster\n",
    "\n",
    "import re\n",
    "from datetime import datetime\n",
    "import pandas as pd\n",
    "import time\n",
    "\n",
    "from math import pow\n",
    "import scipy.signal \n",
    "%matplotlib qt\n",
    "#template matching\n",
    "\n",
    "import cv2 as cv\n",
    "import numpy as np\n",
    "\n",
    "import os\n",
    "import sys\n",
    "from tqdm.notebook import tqdm\n",
    "from time import sleep\n",
    "from skimage.filters import threshold_otsu, threshold_local\n",
    "from skimage.filters import threshold_otsu, rank\n",
    "from skimage.util import img_as_ubyte\n",
    "\n",
    "\n",
    "\n",
    "\n",
    "\n",
    "#General Functions\n",
    "def listdirs(folder):\n",
    "## a function which lists the files in a folder and adds to a list. returns a list of folders, \n",
    "##input folder: the file path to folder\n",
    "    return [\n",
    "        d for d in (os.path.join(folder, d1) for d1 in os.listdir(folder))\n",
    "        if os.path.isdir(d)\n",
    "    ]\n",
    "\n",
    "def makeclippingmask(image):\n",
    "    \n",
    "\n",
    "    #makes a clipping mask around each bright spot so the analysis isn't thrown off\n",
    "    grayA = cv.cvtColor(image, cv.COLOR_RGB2GRAY)\n",
    "    blurred = cv.GaussianBlur(grayA, (11,11), 0)\n",
    "\n",
    "    #watershed thresholding. Based on: https://docs.opencv.org/3.4/d2/dbd/tutorial_distance_transform.html\n",
    "    src = image.copy()\n",
    "    \n",
    "    \n",
    "    # Create a kernel that we will use to sharpen our image\n",
    "    # an approximation of second derivative, a quite strong kernel\n",
    "    kernel = np.array([[1, 1, 1], [1, -8, 1], [1, 1, 1]], dtype=np.float32)\n",
    "    # do the laplacian filtering as it is\n",
    "    # well, we need to convert everything in something more deeper then CV_8U\n",
    "    # because the kernel has some negative values,\n",
    "    # and we can expect in general to have a Laplacian image with negative values\n",
    "    # BUT a 8bits unsigned int (the one we are working with) can contain values from 0 to 255\n",
    "    # so the possible negative number will be truncated\n",
    "    imgLaplacian = cv.filter2D(src, cv.CV_32F, kernel)\n",
    "    sharp = np.float32(src)\n",
    "    imgResult = sharp - imgLaplacian\n",
    "    # convert back to 8bits gray scale\n",
    "    imgResult = np.clip(imgResult, 0, 255)\n",
    "    imgResult = imgResult.astype('uint8')\n",
    "    imgLaplacian = np.clip(imgLaplacian, 0, 255)\n",
    "    imgLaplacian = np.uint8(imgLaplacian)\n",
    "    #cv.imshow('Laplace Filtered Image', imgLaplacian)\n",
    "    #cv.imshow('New Sharped Image', imgResult)\n",
    "    \n",
    "    # Create binary image from source image\n",
    "    # Create binary image from source image\n",
    "    bw = cv.cvtColor(imgResult, cv.COLOR_BGR2GRAY)\n",
    "   # _, bw2 = cv.threshold(grayA, 30, 255, cv.THRESH_BINARY | cv.THRESH_OTSU)\n",
    "    #plt.imshow(bw)\n",
    "    bw = cv.adaptiveThreshold(bw, 255, cv.ADAPTIVE_THRESH_MEAN_C, cv.THRESH_BINARY, 21, 1)\n",
    "    #cv.imshow('Binary Image', bw)\n",
    "    \n",
    "    \n",
    "    opening = cv.morphologyEx(bw,cv.MORPH_OPEN,kernel, iterations = 3)\n",
    "    \n",
    "    \n",
    "    \n",
    "    # sure background area\n",
    "    sure_bg = cv.dilate(opening,kernel,iterations=3)\n",
    "    \n",
    "    # Finding sure foreground area\n",
    "    dist_transform = cv.distanceTransform(opening,cv.DIST_L2,5)\n",
    "    # Threshold to obtain the peaks\n",
    "    # This will be the markers for the foreground objects\n",
    "    _, sure_fg = cv.threshold(dist_transform, 0.2, 1.0, cv.THRESH_BINARY)\n",
    "    # Dilate a bit the dist image\n",
    "    kernel1 = np.ones((3,3), dtype=np.uint8)\n",
    "    sure_fg = cv.dilate(sure_fg, kernel1)\n",
    "    ret, markers = cv.connectedComponents(np.uint8(sure_fg))\n",
    "    \n",
    "    \n",
    "    #cv.imshow('Final Result', sure_fg)\n",
    "    # Finding unknown region\n",
    "    sure_fg = np.float32(sure_fg)\n",
    "    sure_bg = np.float32(sure_bg)\n",
    "    unknown = cv.subtract(sure_bg,sure_fg)\n",
    "    \n",
    "    #cv.imshow('Distance Transform Image', dist_transform)\n",
    "    \n",
    "    # Marker labelling\n",
    "    \n",
    "\n",
    "    # Add one to all labels so that sure background is not 0, but 1\n",
    "    markers = markers+1\n",
    "\n",
    "    # Now, mark the region of unknown with zero\n",
    "    markers[unknown==255] = 0\n",
    "    #print(markers.shape)\n",
    "    \n",
    "    markers = cv.watershed(imgResult,markers)\n",
    "    #print(markers)\n",
    "    \n",
    "    mask2 = np.zeros(image.shape[:2], dtype= np.uint8)\n",
    "    mask2[markers >1] = [255]\n",
    "    \n",
    "    #colours=((255,255,255))\n",
    "    # Fill labeled objects with random colors\n",
    "    #for i in range(markers.shape[0]):\n",
    "    #    for j in range(markers.shape[1]):\n",
    "    #        index = markers[i,j]\n",
    "    #        if index>0:\n",
    "    #            mask2[i,j] = 255\n",
    "    \n",
    "\n",
    "    image_rgb=image.copy()\n",
    "    image_blocked = cv.bitwise_and(image_rgb, image_rgb, mask=mask2)\n",
    "    #plt.imshow(image_blocked)\n",
    "    return image_blocked\n",
    "\n",
    "def imgregfun(imagebef, imageafter):\n",
    "#### A function for image registration, stolen of the internet but I can't remember where from\n",
    "###Inputs: imagebef- the before image\n",
    "##########imageafter- the after image\n",
    "###outputs: transimaf- the translated after image\n",
    "    # Open the image files.\n",
    "    img1_color = imageafter  # Image to be aligned.\n",
    "    img2_color = imagebef  # Reference image.\n",
    "\n",
    "    # Convert to grayscale.\n",
    "    img1 = cv.cvtColor(img1_color, cv.COLOR_BGR2GRAY)\n",
    "    img2 = cv.cvtColor(img2_color, cv.COLOR_BGR2GRAY)\n",
    "    height, width = img2.shape\n",
    "\n",
    "    # Create ORB detector with 5000 features.\n",
    "    orb_detector = cv.ORB_create(5000)\n",
    "\n",
    "    # Find keypoints and descriptors.\n",
    "    # The first arg is the image, second arg is the mask\n",
    "    #  (which is not reqiured in this case).\n",
    "    kp1, d1 = orb_detector.detectAndCompute(img1, None)\n",
    "    kp2, d2 = orb_detector.detectAndCompute(img2, None)\n",
    "\n",
    "    # Match features between the two images.\n",
    "    # We create a Brute Force matcher with\n",
    "    # Hamming distance as measurement mode.\n",
    "    matcher = cv.BFMatcher(cv.NORM_HAMMING, crossCheck=True)\n",
    "\n",
    "    # Match the two sets of descriptors.\n",
    "    matches = matcher.match(d1, d2)\n",
    "\n",
    "    # Sort matches on the basis of their Hamming distance.\n",
    "    matches.sort(key=lambda x: x.distance)\n",
    "\n",
    "    # Take the top 90 % matches forward.\n",
    "    matches = matches[:np.int(len(matches) * 90)]\n",
    "    no_of_matches = len(matches)\n",
    "\n",
    "    # Define empty matrices of shape no_of_matches * 2.\n",
    "    p1 = np.zeros((no_of_matches, 2))\n",
    "    p2 = np.zeros((no_of_matches, 2))\n",
    "\n",
    "    for i in range(len(matches)):\n",
    "        p1[i, :] = kp1[matches[i].queryIdx].pt\n",
    "        p2[i, :] = kp2[matches[i].trainIdx].pt\n",
    "\n",
    "    # Find the homography matrix.\n",
    "    homography, mask = cv.findHomography(p1, p2, cv.RANSAC)\n",
    "\n",
    "    # Use this matrix to transform the\n",
    "    # colored image wrt the reference image.\n",
    "    transformed_img = cv.warpPerspective(img1_color, homography,\n",
    "                                          (width, height))\n",
    "    transimaf=transformed_img\n",
    "    return transimaf\n",
    "def imageprocessingfunction(beforefol,afterfol):\n",
    "###A function for getting all the CR2 files within the before and after folders, then reading them\n",
    "### and saving them on the disk as virtual images \n",
    "##########################################################################\n",
    "###Inputs: beforefol: selected before folder\n",
    "##########afterfol: selected after folder \n",
    "###Outputs: imaf: the images in the after folder as an array\n",
    "###########imbef: the images in the before folder as an array \n",
    "###########beforeimfile: the list of before image files\n",
    "###########afterimfile: the list of after image files\n",
    "    # Get file list\n",
    "    beforeimfile=glob.glob(beforefol+\"\\\\\"+\"*.CR2\")\n",
    "    afterimfile=glob.glob(afterfol+\"\\\\\"+\"*.CR2\")\n",
    "    #print(afterimfile)\n",
    "\n",
    "    #Exifdata is just there in case you need to edit the images in a fancy way.\n",
    "    imaf,labaf,imbef,labef=[],[],[],[]\n",
    "    for impath in afterimfile:\n",
    "        image,exifdata=   convertfilefun(impath)\n",
    "        imaf.append(np.dstack((image)))\n",
    "        labaf.append(exifdata)\n",
    "    for impath in beforeimfile:\n",
    "        image,exifdata= convertfilefun(impath)\n",
    "        imbef.append(np.dstack((image)))\n",
    "        labef.append(exifdata)\n",
    "    return imaf,imbef,beforeimfile,afterimfile\n",
    "\n",
    "def convertfilefun(path):\n",
    "## a function which converts CR2 images to TIFF images the computer can actually read\n",
    "## input: path- path to raw image\n",
    "## output : an image that is readable using cv2\n",
    "    with rawpy.imread(path) as raw:\n",
    "        #Can fiddle with camera settings but I wouldn't reccoment it\n",
    "        rgb = raw.postprocess(use_camera_wb=True,\n",
    "                              no_auto_bright=True,\n",
    "                              gamma=(2.222, 4.5),\n",
    "                              chromatic_aberration=(1, 1))\n",
    "        #cv2.imwrite(path + '.tiff',rgb)\n",
    "        # extract EXIF data to save as metadata\n",
    "        metdat = Image.open(path)\n",
    "        exifdata = metdat.getexif()\n",
    "        image = rgb\n",
    "        image = rgb.reshape(\n",
    "            (1, image.shape[0], image.shape[1], image.shape[2]))\n",
    "        return image, exifdata\n",
    "        #plt.imsave(path + '.png',rgb)\n",
    "        #g=print(path + '.png')\n",
    "        #return g\n",
    "        \n",
    "def saveexcelfun(dimercoord,corecoord,savepath):\n",
    "#Save the coordinates of everything to an excel spreadsheet. Yeah I know it's ugly. \n",
    "#input: dimercoord- the dimer coordinates\n",
    "########corecoord- the core coordinates \n",
    "########savepath- the folder location where the files will be saved \n",
    "    columns=['Before Dimers xval']\n",
    "    saveexcel=savepath+\".\"+\"xlsx\"\n",
    "    beforedimercentres = pd.DataFrame({'Before Dimers xval':dimercoord})\n",
    "    try:\n",
    "        aftercorecentres = pd.DataFrame({'After core xval': corecoord})\n",
    "    except:\n",
    "        aftercorecentres=pd.DataFrame({'After core xval': np.array([0]), \n",
    "                                'After core yval': np.array([0])})\n",
    "\n",
    "   \n",
    "    writer = pd.ExcelWriter(saveexcel,engine='xlsxwriter')\n",
    "    workbook=writer.book\n",
    "    worksheet=workbook.add_worksheet('DimersPicked')\n",
    "    writer.sheets['DimersPicked'] = worksheet\n",
    "    worksheet2=workbook.add_worksheet('CoresPicked')\n",
    "    writer.sheets['CoresPicked'] = worksheet2\n",
    "\n",
    "\n",
    "    beforedimercentres.to_excel(writer,sheet_name='DimersPicked',startrow=1 , startcol=0)\n",
    "    #worksheet.write_string(beforedimercentres.shape[0] + 4, 0, beforedimercentres.name)\n",
    "\n",
    "    aftercorecentres.to_excel(writer,sheet_name='CoresPicked',startrow=1, startcol=3)\n",
    "    \n",
    "\n",
    "    writer.save()\n",
    "def savetextfilefun(data,savepath,datastring):\n",
    "##### A function which saves an array to a text file. Is a little buggy in that sometimes there's weird spaces. \n",
    "##### reccomend the excel save functions instead. Python struggles to re-read these text tiles\n",
    "\n",
    "    savetextstring=savepath+datastring+\".txt\"\n",
    "    file = open(savetextstring,\"w\")\n",
    "    for dataentry in data:\n",
    "        arr_of_strings = np.array2string(dataentry)\n",
    "        file.write(arr_of_strings) \n",
    "    file.close() \n",
    "    \n",
    "\n",
    "def load_images_from_folder(folder):\n",
    "## A function which reads in images and adds them to a list of images.\n",
    "## input: folder- a string which points to the folder location\n",
    "## output: images, a list of images within the folder\n",
    "## note !! The images wil be read in with open cv, and will be in BGR format and will look strange unless converted\n",
    "    images = []\n",
    "    for filename in os.listdir(folder):\n",
    "        img = cv.imread(os.path.join(folder,filename))        \n",
    "        if img is not None:\n",
    "            images.append(img)\n",
    "    return images\n",
    "def load_images_from_foldercv(folder):\n",
    "## A function which reads in images and adds them to a list of images. This function also converts them to RGB\n",
    "## input: folder- a string which points to the folder location\n",
    "## output: images, a list of images within the folder\n",
    "\n",
    "    images = []\n",
    "    for filename in os.listdir(folder):\n",
    "        img = cv.imread(os.path.join(folder,filename))\n",
    "       \n",
    "        if img is not None:\n",
    "            img= cv.cvtColor(img, cv.COLOR_BGR2RGB)\n",
    "            images.append(img)\n",
    "            \n",
    "    return images\n",
    "def load_images_from_folderhsv(folder):\n",
    "## A function which reads in images and adds them to a list of images. This function also converts them to HSV\n",
    "## input: folder- a string which points to the folder location\n",
    "## output: images, a list of images within the folder\n",
    "    images = []\n",
    "    for filename in os.listdir(folder):\n",
    "        img = cv.imread(os.path.join(folder,filename))\n",
    "        img= cv.cvtColor(img,  cv.COLOR_BGR2HSV)\n",
    "        if img is not None:\n",
    "            images.append(img)\n",
    "    return images\n",
    "\n",
    "#####################################################\n",
    "###################################################\n",
    "#Template matching functions\n",
    "\n",
    "\n",
    "def findidealimagescale(image,template):\n",
    "    # loop over the images to find the template in\n",
    "   \n",
    "        # load the image, convert it to grayscale, and initialize the\n",
    "        # bookkeeping variable to keep track of the matched region\n",
    "        \n",
    "    gray = cv.cvtColor(image, cv.COLOR_RGB2GRAY)\n",
    "    template=cv.cvtColor(template, cv.COLOR_HSV2RGB)\n",
    "    template=cv.cvtColor(template, cv.COLOR_RGB2GRAY)\n",
    "    #template.astype(np.uint8)\n",
    "    #gray.astype(np.uint8)\n",
    "    found = None\n",
    "    scalefin= None\n",
    "    (h, w) = template.shape[:2]\n",
    "    i=0\n",
    "    # loop over the scales of the image\n",
    "    for scale in np.linspace(0.2, 1.0, 20)[::-1]:\n",
    "        # resize the image according to the scale, and keep track\n",
    "        # of the ratio of the resizing\n",
    "        resized = imutils.resize(gray, width = int(gray.shape[1] * scale))\n",
    "        r = gray.shape[1] / float(resized.shape[1])\n",
    "        # if the resized image is smaller than the template, then break\n",
    "        # from the loop\n",
    "        if resized.shape[0] < h or resized.shape[1] < w:\n",
    "            break\n",
    "        result = cv.matchTemplate(gray, template, cv.TM_SQDIFF_NORMED)\n",
    "        (minval, _, minloc, _) = cv.minMaxLoc(result)\n",
    "        if found is None or minval < found:\n",
    "            found = minval\n",
    "            scalefin=scale\n",
    "    return scalefin \n",
    "        \n",
    "# Malisiewicz et al.\n",
    "def non_max_suppression_fast(boxes, overlapThresh):\n",
    "    # if there are no boxes, return an empty list\n",
    "    if len(boxes) == 0:\n",
    "        return []\n",
    "    # if the bounding boxes integers, convert them to floats --\n",
    "    # this is important since we'll be doing a bunch of divisions\n",
    "    if boxes.dtype.kind == \"i\":\n",
    "        boxes = boxes.astype(\"float\")\n",
    "    # initialize the list of picked indexes\t\n",
    "    pick = []\n",
    "    # grab the coordinates of the bounding boxes\n",
    "    x1 = boxes[:,0]\n",
    "    y1 = boxes[:,1]\n",
    "    x2 = boxes[:,2]\n",
    "    y2 = boxes[:,3]\n",
    "    # compute the area of the bounding boxes and sort the bounding\n",
    "    # boxes by the bottom-right y-coordinate of the bounding box\n",
    "    area = (x2 - x1 + 1) * (y2 - y1 + 1)\n",
    "    idxs = np.argsort(y2)\n",
    "    # keep looping while some indexes still remain in the indexes\n",
    "    # list\n",
    "    while len(idxs) > 0:\n",
    "        # grab the last index in the indexes list and add the\n",
    "        # index value to the list of picked indexes\n",
    "        last = len(idxs) - 1\n",
    "        i = idxs[last]\n",
    "        pick.append(i)\n",
    "        # find the largest (x, y) coordinates for the start of\n",
    "        # the bounding box and the smallest (x, y) coordinates\n",
    "        # for the end of the bounding box\n",
    "        xx1 = np.maximum(x1[i], x1[idxs[:last]])\n",
    "        yy1 = np.maximum(y1[i], y1[idxs[:last]])\n",
    "        xx2 = np.minimum(x2[i], x2[idxs[:last]])\n",
    "        yy2 = np.minimum(y2[i], y2[idxs[:last]])\n",
    "        # compute the width and height of the bounding box\n",
    "        w = np.maximum(0, xx2 - xx1 + 1)\n",
    "        h = np.maximum(0, yy2 - yy1 + 1)\n",
    "        # compute the ratio of overlap\n",
    "        overlap = (w * h) / area[idxs[:last]]\n",
    "        # delete all indexes from the index list that have\n",
    "        idxs = np.delete(idxs, np.concatenate(([last],\n",
    "            np.where(overlap > overlapThresh)[0])))\n",
    "    # return only the bounding boxes that were picked using the\n",
    "    # integer data type\n",
    "    return boxes[pick].astype(\"int\")\n",
    "        \n",
    "def nonmaxsuppression(xCoords,yCoords,template):\n",
    "    center_coordinates=[]\n",
    "    rects=[]\n",
    "    rectangle_coordinates=[]\n",
    "    (w, h) = template.shape[:2]\n",
    "    #print(w)\n",
    "    #print(h)\n",
    "## stops the overcounting of variables with nonmax suppression and returns an updated list\n",
    "    for (x, y) in zip(xCoords, yCoords):\n",
    "    # update our list of rectangles\n",
    "        rects.append((x, y, x +w, y + h))\n",
    "    picked_rectangles=non_max_suppression_fast(np.array(rects),0.5)\n",
    "        #I hate how opencv does rectangles, so arrange these to finds the centres\n",
    "    for (startX, startY, endX, endY) in picked_rectangles:\n",
    "        #the coordinates are top left hand corner, bottom right hand corner for rectangles \n",
    "        center_coordinates.append((startX+h//2,startY+h//2))\n",
    "        rectangle_coordinates.append((startX, startY, endX, endY))\n",
    "     \n",
    "    #print(\"center coordinates are \",center_coordinates)\n",
    "    #print(\"rectangle_coordinates are \", rectangle_coordinates)\n",
    "    return center_coordinates,rectangle_coordinates,w,h\n",
    "\n",
    "def templatematchingalgorithm(img_hsv,template, method,threshold):\n",
    "# defines the template matching algorithm and finds the minimum locations\n",
    "#inputs: img_rgb- the image to be matched in HSV format\n",
    "#########template- the template to be matched in HSV format\n",
    "#########method- the method of determining the minim. cv.TM_SQDIFF_NORMED is good for colour\n",
    "##### extras found here: https://docs.opencv.org/master/df/dfb/group__imgproc__object.html#ga3a7850640f1fe1f58fe91a2d7583695d\n",
    "#########threshold: the threshold where the minimum is defined. Variable. May want to do something with min_val and max\n",
    "#outputs: locations_of_minimum- a really big array that needs to be zipped. \n",
    "#Note: this works on colour (3 d) images but may want to change to just hue\n",
    "    \n",
    "    mat_of_matching_results=cv.matchTemplate(img_hsv,template,method) \n",
    "    #This is to get some details about the minimum but isn't actually used\n",
    "    #print(\"template matching done\")\n",
    "    (min_val, max_val, _, max_loc) = cv.minMaxLoc(mat_of_matching_results)\n",
    "    #print(\"The min is done\")\n",
    "    #print(min_val)\n",
    "    #print(max_val)\n",
    "    (yCoords, xCoords) = np.where( mat_of_matching_results <= ((max_val-min_val)/threshold)+min_val)\n",
    "    while (len(xCoords))>250000:\n",
    "        threshold=threshold+0.1\n",
    "        (yCoords, xCoords) = np.where( mat_of_matching_results <= ((max_val-min_val)/threshold)+min_val)\n",
    "    \n",
    "    center_coordinates,rectangle_coordinates,w,h=nonmaxsuppression(xCoords,yCoords,template)\n",
    "    \n",
    "    #print(locations_of_minimum)\n",
    "    return center_coordinates,rectangle_coordinates,w,h\n",
    "\n",
    "\n",
    "\n",
    "    \n",
    "    \n",
    "def imagetempmatch(imgpath,img_rgb,threshold):\n",
    "## performs the template matching function on each template image found in imgpath\n",
    "## input: imgpath: a string pointing to the folder the template images are contained in\n",
    "##########img_rgb: the image to be matched, in rgb format \n",
    "##########threshold: the threshold at which the minimum is accepted. The minimum value is the value where the \n",
    "#####################template matching function thinks that the image is matched. Note, this may be a maximum \n",
    "####################for other methods\n",
    "    #loads the template images in as HSV\n",
    "    images=load_images_from_folderhsv(imgpath)\n",
    "    #Creates a mask which has the shape of the image to be matched. The dtype is important or error will occur. \n",
    "    # This mask is to test whether the template matching has counted the same point multiple times\n",
    "    mask = np.zeros(img_rgb.shape, dtype=np.uint8)\n",
    "    res=[[]];\n",
    "    scale=findidealimagescale(img_rgb,images[0])\n",
    "    #print(scale)\n",
    "    resized = imutils.resize(img_rgb, width = int(img_rgb.shape[1]*scale))\n",
    "    for template in tqdm(images):\n",
    "        #for each template, the width and height is taken\n",
    "        \n",
    "        w=16\n",
    "        h=16\n",
    "        \n",
    "        #big image converted to hsv format\n",
    "        img_hsv= cv.cvtColor(resized,  cv.COLOR_RGB2HSV)\n",
    "        #the location minima identified with the template matching algorithm\n",
    "        center_coordinates,rectangle_coordinates,w,h=templatematchingalgorithm(img_hsv,template,cv.TM_SQDIFF_NORMED,threshold)\n",
    "        \n",
    "        \n",
    "        #print(\"locations of min are\", locations_of_min)\n",
    "        # the locations are checked for multiple counting of the same point. \n",
    "        #particle_count=checkfordoublecounting(img_hsv,locations_of_min)\n",
    "        #print(particle_count)\n",
    "    return center_coordinates,rectangle_coordinates,w,h\n",
    "\n",
    "\n",
    "def blockimagecombo(image_rgb, points,r,bok):\n",
    "    #print(points)\n",
    "    if bok==1:\n",
    "        image_blocked=image_rgb.copy()\n",
    "        for pt in points:\n",
    "            \n",
    "            image_blocked = cv.circle(image_blocked,pt,r, (255,255,255), -1)\n",
    "    elif bok==2:\n",
    "        image_blocked=image_rgb.copy()\n",
    "        for pt in points:\n",
    "            \n",
    "            image_blocked = cv.circle(image_blocked,pt,r, (255,255,0), 2)\n",
    "        \n",
    "    else:\n",
    "        mask2 = np.zeros(image_rgb.shape[:2], dtype= np.uint8)\n",
    "        for pt in points: \n",
    "            #print(pt)\n",
    "            mask2 = cv.circle(mask2,pt,r, (255,255,255), -1)\n",
    "            \n",
    "            # a rectangle is drawn on the mask, which marks where the points are \n",
    "        #invmask=255-mask2\n",
    "        #This is an inbuilt cv function which clips the image around the mask. \n",
    "        #plt.imshow(cv.bitwise_and(image_rgb, image_rgb, mask=invmask))\n",
    "        image_blocked = cv.bitwise_and(image_rgb, image_rgb, mask=mask2)\n",
    "    return image_blocked\n",
    "\n",
    "\n",
    "def performtemplatematching(image_rgb,imgpath,bok,threshold):\n",
    "## a function which performs template matching on the images and blocks them depending on whether\n",
    "## we want to keep the particles or block them out for more accuracy \n",
    "#input: image_rgb: the big image in rgb format where we are looking for matches\n",
    "########imgpath: the path to the template images, as a string\n",
    "#########bok: block or keep. 0 is for keeping, 1 is for blocking with a rectange\n",
    "#########threshold: the threshold for the minimum values. Variable. \n",
    "    \n",
    "    center_coordinates,rectangle_coordinates,w,h=imagetempmatch(imgpath,image_rgb,threshold)\n",
    "    r=round(w/1.5)\n",
    "\n",
    "    correctedimg=blockimagecombo(image_rgb,center_coordinates ,r,bok)\n",
    "    return correctedimg,center_coordinates,r\n",
    "\n",
    "def performsaveimage(image,path):\n",
    "## saves image using pillow, which is a lot faster than matplot lib. \n",
    "    img_rgb_corr=image\n",
    "    try:\n",
    "        im_pil = Image.fromarray(img_rgb_corr)\n",
    "        im_pil.save(path, compress_level=1)\n",
    "    except:\n",
    "        exception=1\n",
    "\n",
    "def savetotrainingfol(foldername,image,points):\n",
    "## saves the cropped images to a folder, for use in machine learning. uses a 16 pixel box.\n",
    "#input: foldername: name of the folder where you want the images stored\n",
    "#######image: an image in rgb format which you want to cut up\n",
    "########points: the coordinates of the particles which you have selected. \n",
    "    boxwid=round(16/2)\n",
    "    w=16\n",
    "    for j,pt in enumerate(points):\n",
    "        savepathfol= addstringwithtime(foldername +'\\\\')\n",
    "        savepath= savepathfol+str(j)+\"registeredimg\" + \".\" + \"png\"\n",
    "        #savepath=os.path.join(savepathfol, str(j)+\"registeredimg\" + \".\" + \"png\")\n",
    "        lilimage=image[pt[1]-w:pt[1]+w, pt[0]-w:pt[0]+w]\n",
    "        performsaveimage(lilimage,savepath)\n",
    "def blockoutunwantedparticles(analpath,sat_img,path,threshold):\n",
    "## a function which blocks out that particles which are interfering with analysis i.e. clumps and clusters\n",
    "#inputs: analpath: the path to the analysis folder\n",
    "######## sat_img: the before target image in rgb format\n",
    "#output: correctedimgcore, the corrected image after accounting for cores and clumps\n",
    "# These images are hardcoded into a folder, so the code has some dependencies. But any exmaples of the correct size will do\n",
    "    #The threshold of 0.25 seems to be highly variable\n",
    "    correctedimg,_,r= performtemplatematching(sat_img, path,1,threshold)\n",
    "    return correctedimg,r\n",
    "\n",
    "def unwantedparticleblocking(analpath,sat_img):\n",
    "    #clusterpath=  r\"D:\\OneDrive - UNSW\\Image_Analysis\\typesofParticles\\NewAItraining\\Cluster\"\n",
    "    #threshold= 0.25\n",
    "    #correctedimgcluster=blockoutunwantedparticles(analpath,sat_img,clusterpath,threshold)\n",
    "    \n",
    "    clumppath= r\"D:\\OneDrive - UNSW\\Image_Analysis\\typesofParticles\\NewAItraining\\newmicroscope\\clump\"\n",
    "    threshold=1.5\n",
    "    savepath=os.path.join(analpath, \"clumpcorrectedimg\" + \".\" + \"png\")\n",
    "    correctedimgclump,r=blockoutunwantedparticles(analpath,sat_img,clumppath,threshold)\n",
    "    performsaveimage(correctedimgclump,savepath)\n",
    "    \n",
    "    corepath= r\"D:\\OneDrive - UNSW\\Image_Analysis\\typesofParticles\\NewAItraining\\newmicroscope\\core2\"\n",
    "    threshold=4\n",
    "    correctedimgcore,r=blockoutunwantedparticles(analpath,correctedimgclump,corepath,threshold)\n",
    "    savepath=os.path.join(analpath, \"corecorrectedimg\" + \".\" + \"png\")\n",
    "    performsaveimage(correctedimgcore,savepath)\n",
    "    \n",
    "    return correctedimgcore,r\n",
    "    \n",
    "def keepmatchedparticles(path,image,threshold):\n",
    "## a function which keeps the wanted particles and blocks out the rest. \n",
    "#inputs: analpath: the path to the analysis folder\n",
    "######## sat_img: the before target image in rgb format\n",
    "#########path: path to the images to analyse\n",
    "    correctedimgdimer,pointsdimer,r= performtemplatematching(image, path, 0, threshold)\n",
    "    \n",
    "    return correctedimgdimer,pointsdimer,r\n",
    "                                                              \n",
    "\n",
    "def performkeepmatchedparticles(analpath,image):\n",
    "## a function which keeps the wanted particles and blocks out the rest. \n",
    "#inputs: analpath: the path to the analysis folder\n",
    "######## sat_img: the before target image in rgb format\n",
    "#########path: path to the images to analyse\n",
    "#outputs: the selected image and the dimer points selected\n",
    "    dimerpath= r\"D:\\OneDrive - UNSW\\Image_Analysis\\typesofParticles\\NewAItraining\\newmicroscope\\dimeroldmic\"\n",
    "    threshold=1.5\n",
    "    \n",
    "    correctedimgdimer,pointsdimer,r=keepmatchedparticles(dimerpath,image,threshold)\n",
    "    savepath=os.path.join(analpath, \"pickeddimersimg\" + \".\" + \"png\")\n",
    "    performsaveimage(correctedimgdimer,savepath)\n",
    "    \n",
    "    return correctedimgdimer,pointsdimer,r\n",
    "\n",
    "def getaveragevaluesLAB(image,points,analpath):\n",
    "    w=8\n",
    "    labim = rgb2lab(image)\n",
    "    l_vec,a_vec,b = cv.split(labim)\n",
    "    average_colour_aDivg=[]\n",
    "    max_val_lDivg=[]\n",
    "    average_lum=[]\n",
    "    #converts the image to hsv\n",
    "    #image = cv.cvtColor(image,  cv.COLOR_RGB2HSV)\n",
    "    #image_hue=np.true_divide(image[:,:,0], image[:,:,1], where=(image[:,:,0]!=0) | (image[:,:,1]!=0))\n",
    "    #image_hue=image[:,:,0]\n",
    "    for i,pt in enumerate(points):           \n",
    "        try: \n",
    "            crop_im=a_vec[pt[1]-w:pt[1]+w, pt[0]-w:pt[0]+w]\n",
    "            dividedval=crop_im.reshape((1,-1))\n",
    "            \n",
    "            crop_im_lval=l_vec[pt[1]-w:pt[1]+w, pt[0]-w:pt[0]+w]\n",
    "            dividedval_lval=crop_im_lval.reshape((1,-1))\n",
    "            #print(dividedval)\n",
    "            average_colour_aDivg.append(np.mean(dividedval))\n",
    "            \n",
    "            max_val_lDivg.append(np.max(dividedval_lval))\n",
    "            average_lum.append(np.mean(dividedval_lval))\n",
    "            \n",
    "        except:\n",
    "            z=1;\n",
    "    if not average_colour_aDivg:\n",
    "        average_colour_aDivg=[0]\n",
    "    \n",
    "    print(\"max is \",np.max(np.array(average_colour_aDivg)), \" min is \",np.min(np.array(average_colour_aDivg)))\n",
    "    print(\"average is \", np.mean(np.array(average_colour_aDivg)), \"median is \", np.median(np.array(average_colour_aDivg)) )\n",
    "    print(\"standard deviation is \", np.std(np.array(average_colour_aDivg)))\n",
    "    return np.array(average_colour_aDivg),np.array(average_lum),np.array(max_val_lDivg)\n",
    "\n",
    "\n",
    "def getaveragevalueshsv(image,points,analpath):\n",
    "# a function to get the average values of the image in rgb format\n",
    "#inputs: image: the hsv image\n",
    "#########points: the selected dimer values\n",
    "#########w,h- the width and height in pixels\n",
    "#########analpath: the path to the analysis folder\n",
    "#outputs: an array of the average colour of the red divided by the green vector\n",
    "    w=8\n",
    "\n",
    "    average_colour_rDivg=[]\n",
    "    \n",
    "    #converts the image to hsv\n",
    "    image = cv.cvtColor(image,  cv.COLOR_RGB2HSV)\n",
    "    image_hue=np.true_divide(image[:,:,0], image[:,:,1], where=(image[:,:,0]!=0) | (image[:,:,1]!=0))\n",
    "    #image_hue=image[:,:,0]\n",
    "    for i,pt in enumerate(points):           \n",
    "        try: \n",
    "            crop_im=image_hue[pt[1]-w:pt[1]+w, pt[0]-w:pt[0]+w]\n",
    "            dividedval=crop_im.reshape((1,-1))\n",
    "            #print(dividedval)\n",
    "            average_colour_rDivg.append(np.median(dividedval))\n",
    "            \n",
    "        except:\n",
    "            z=1;\n",
    "    \n",
    "    print(\"max is \",np.max(np.array(average_colour_rDivg)), \" min is \",np.min(np.array(average_colour_rDivg)))\n",
    "    print(\"average is \", np.mean(np.array(average_colour_rDivg)), \"median is \", np.median(np.array(average_colour_rDivg)) )\n",
    "    print(\"standard deviation is \", np.std(np.array(average_colour_rDivg)))\n",
    "    return np.array(average_colour_rDivg)\n",
    "\n",
    "def averagehistogramshift(correctedimgdimer,pointsdimer,correctedimgtarget,threshold,analpath):\n",
    "# a function which uses the average shift of the particle colour (either hue or rgb depending ) to \n",
    "#select the particles which have shifted in the after image \n",
    "#inputs: correctedimgdimer: the image with only dimers selected\n",
    "#########pointsdimer: the locations of the dimers in the image\n",
    "#########correctedimgtarget: the registered image after target added wherein the coordinates of the selected\n",
    "# dimers have been used to clip it\n",
    "#########threshold: the values which the shifted average value must be above or below. was 0.2 \n",
    "#output: loc- the shifted selected particles. \n",
    "    r=16\n",
    "    w=8\n",
    "    h=8\n",
    "    avdim,ldim,maxldim=getaveragevaluesLAB(correctedimgdimer,pointsdimer,analpath)\n",
    "    \n",
    "    avcore,lcore,maxlcore=getaveragevaluesLAB(correctedimgtarget,pointsdimer,analpath)\n",
    "    minus= np.array(avdim)-np.array(avcore)\n",
    "    minus_l=np.array(ldim)-np.array(lcore)\n",
    "    \n",
    "    print(\"minus values here ------------\")\n",
    "    print(\"max value is \", np.max(minus), \"min value is \", np.min(minus), \" mean value is \", np.mean(minus))\n",
    "    print(\" median value is \", np.median(minus), \" standard deviation is \", np.std(minus))\n",
    "    loc=np.array(pointsdimer)[np.logical_and(minus>5,maxlcore>1)]\n",
    "    ldim2=ldim[np.logical_and(minus>5,maxlcore>1)]\n",
    "    loc=loc[ldim2<30]\n",
    "    #loc=np.array(pointsdimer)[np.logical_and(minus<threshold, minus > -3)]\n",
    "    targetpicked= blockimagecombo(correctedimgtarget,loc,r,0)\n",
    "    #average_values=np.array(minus)[np.logical_and(minus<threshold, minus > -3)]\n",
    "    average_values=np.array(minus)[np.logical_and(minus>5,maxlcore>1)]\n",
    "    #print(minus)\n",
    "    average_values=average_values[ldim2<30]\n",
    "    #print(ldim2)\n",
    "    \n",
    "    savepath=os.path.join(analpath, \"tarmaskedimg\" + \".\" + \"png\")\n",
    "    performsaveimage(targetpicked,savepath)\n",
    "    return loc,average_values.tolist()\n",
    "\n",
    "\n",
    "\n",
    "\n",
    "\n",
    "        \n",
    "        \n",
    "def performtemplatetrainingonimages(transtarimg,analpath,sat_img):\n",
    "    \n",
    "\n",
    "    #blocks unwated particles\n",
    "    correctedimgcore,r=unwantedparticleblocking(analpath,sat_img)\n",
    "    \n",
    "    \n",
    "    #selects dimers\n",
    "    correctedimgdimer,pointsdimer,r=performkeepmatchedparticles(analpath, correctedimgcore)\n",
    "    image_circle=blockimagecombo(sat_img, pointsdimer,16,2)\n",
    "    savepath=os.path.join(analpath, \"dimerCircled\" + \".\" + \"png\")\n",
    "    performsaveimage(image_circle,savepath)\n",
    "    \n",
    "    \n",
    "    #print(np.unique(np.array(pointsdimer),axis=0))\n",
    "    #pointsdimer_corrected=np.unique(np.array(pointsdimer),axis=0)\n",
    "    pointsdimer_corrected=pointsdimer\n",
    "    #uses those points to select the same points in the target image \n",
    "    \n",
    "    transtarimg=makeclippingmask(transtarimg)\n",
    "    correctedimgtarget=blockimagecombo(transtarimg,pointsdimer_corrected,r,0)\n",
    "    \n",
    "    savepath=os.path.join(analpath, \"targetblocked\" + \".\" + \"png\")\n",
    "    performsaveimage(correctedimgtarget,savepath)\n",
    "    \n",
    "    #scans the before and after dimers to determine if the particles shift in hue\n",
    "    threshold=-0.001\n",
    "    selected_target_locations,average_values=averagehistogramshift(correctedimgdimer,pointsdimer_corrected,correctedimgtarget,threshold,analpath)\n",
    "    image_circle=blockimagecombo(transtarimg, selected_target_locations,16,2)\n",
    "    savepath=os.path.join(analpath, \"targetCircled\" + \".\" + \"png\")\n",
    "    performsaveimage(image_circle,savepath)\n",
    "    \n",
    "    \n",
    "    #comment out if don't want\n",
    "    #savetotrainingfol(r\"D:\\OneDrive - UNSW\\Image_Analysis\\typesofParticles\\NewAItraining\\newmicroscope\\unsorted\\before\",sat_img,pointsdimer_corrected)\n",
    "    #savetotrainingfol(r\"D:\\OneDrive - UNSW\\Image_Analysis\\typesofParticles\\NewAItraining\\newmicroscope\\unsorted\\after\",transtarimg,selected_target_locations)\n",
    "    \n",
    "    return selected_target_locations,pointsdimer_corrected,average_values\n",
    "\n",
    "\n",
    "######### Extra functions\n",
    "\n",
    "def getindividualfoldersandsuch(bigfol):\n",
    "# a function which gets the folders underneath the big folder. Must be the format: bigfol>slide>sample>satellite | target> images\n",
    "    topfolders=listdirs(bigfol)\n",
    "    subfolders=[0]\n",
    "    for nextfolders in topfolders:\n",
    "        subfolders= subfolders+ listdirs(nextfolders)\n",
    "    subfolders.pop(0)\n",
    "    #print(subfolders)\n",
    "    subfolders=np.array(subfolders).reshape(-1,1)\n",
    "    #print(subfolders)\n",
    "    return subfolders\n",
    "def searchforsatandtargetfolders(folder):\n",
    "#finds the satellite and targetfolders using regexp\n",
    "    subfolders2 = folder.tolist()\n",
    "    subfolders3=str(subfolders2).replace('[','').replace(']','').replace('\\\\\\\\','\\\\')\n",
    "\n",
    "    listexpfolders=listdirs(subfolders3[1:len(subfolders3)-1])\n",
    "    beforefol = [x for x in listexpfolders if re.search(\"satellite\",x)]\n",
    "    beforefol=beforefol[0]\n",
    "    afterfol= [x for x in listexpfolders if re.search(\"target\",x)]\n",
    "    afterfol=afterfol[0]\n",
    "    \n",
    "    return beforefol,afterfol\n",
    "\n",
    "def createanalysisfolder(beforefol,string):\n",
    "#creates an analysis folder in the address above where the satellite and target folders are located.\n",
    "    oneuppath=os.path.dirname(beforefol)\n",
    "    analysisfolderpath=oneuppath+\"\\\\\"+string\n",
    "    try:\n",
    "        os.mkdir(analysisfolderpath)\n",
    "    except:\n",
    "        print(\"folder already exists\")\n",
    "    print(analysisfolderpath)\n",
    "    print(\"processing images\")\n",
    "    return analysisfolderpath,oneuppath\n",
    "\n",
    "def createimagesubfolderforsaving(pathtomatch,analysisfolderpath):\n",
    "# creates a folder with the name of the image in the analysis folder \n",
    "    pathtomatch=beforeimfile[j]\n",
    "    matchingsearch=re.search(\"IMG_.*.CR2\",pathtomatch)\n",
    "    savefilespath=analysisfolderpath+\"\\\\\"+matchingsearch.group()+\"\\\\\"\n",
    "    try: \n",
    "        os.mkdir(savefilespath)\n",
    "    except:\n",
    "        print(\"folder already exists\")\n",
    "    return savefilespath\n",
    "def addstringwithtime(savefilespath):\n",
    "# adds the current date and time so there's no saving over the top of different analysis\n",
    "    now = datetime.now()\n",
    "    dt_string = now.strftime(\"%d_%m_%Y_%H_%M_%S\")\n",
    "    savepath=savefilespath+dt_string\n",
    "    return savepath\n",
    "def makeanalysisfolder(savefilespath,string):\n",
    "# makes a directory in the folder which matches the image name which says 'analysis'\n",
    "    analpath=os.path.join(savefilespath,string)\n",
    "                        #saves the registered image\n",
    "    try: \n",
    "        os.mkdir(analpath)\n",
    "    except:\n",
    "        print(\"folder already exists\")\n",
    "    \n",
    "    return analpath\n",
    "\n",
    "################ THRESHOLDING\n",
    "def gethuevaluesthreshHSV(image,points):\n",
    "    image_hsv = cv.cvtColor(image, cv.COLOR_RGB2HSV)\n",
    "    image_hue=image_hsv[:,:,0]\n",
    "    w=8\n",
    "    average_colour_rDivg=[]\n",
    "    for i,pt in enumerate(points):           \n",
    "        try: \n",
    "            crop_im=image_hue[pt[1]-w:pt[1]+w, pt[0]-w:pt[0]+w]\n",
    "            dividedval=crop_im.reshape((1,-1))\n",
    "            #print(dividedval)\n",
    "            average_colour_rDivg.append(np.mean(dividedval))\n",
    "            \n",
    "        except:\n",
    "            z=1;\n",
    "    return np.array(average_colour_rDivg)\n",
    "\n",
    "def getcentroidsandcenters(image):\n",
    "    \n",
    "    #wmakes an excellent binary image\n",
    "    src = image.copy()\n",
    "\n",
    "    \n",
    "    # Create a kernel that we will use to sharpen our image\n",
    "    # an approximation of second derivative, a quite strong kernel\n",
    "    kernel = np.array([[1, 1, 1], [1, -8, 1], [1, 1, 1]], dtype=np.float32)\n",
    "    # do the laplacian filtering as it is\n",
    "    # well, we need to convert everything in something more deeper then CV_8U\n",
    "    # because the kernel has some negative values,\n",
    "    # and we can expect in general to have a Laplacian image with negative values\n",
    "    # BUT a 8bits unsigned int (the one we are working with) can contain values from 0 to 255\n",
    "    # so the possible negative number will be truncated\n",
    "    imgLaplacian = cv.filter2D(src, cv.CV_32F, kernel)\n",
    "    sharp = np.float32(src)\n",
    "    imgResult = sharp - imgLaplacian\n",
    "    # convert back to 8bits gray scale\n",
    "    imgResult = np.clip(imgResult, 0, 255)\n",
    "    imgResult = imgResult.astype('uint8')\n",
    "    \n",
    "    # Create binary image from source image\n",
    "    # Create binary image from source image\n",
    "    bw = cv.cvtColor(imgResult, cv.COLOR_RGB2GRAY)\n",
    "    #_, bw = cv.threshold(bw, 40, 255, cv.THRESH_BINARY | cv.THRESH_OTSU)\n",
    "    contours, hierarchy = cv.findContours(bw, cv.RETR_TREE, cv.CHAIN_APPROX_SIMPLE)\n",
    "    list_of_centres=[]\n",
    "    boundRect = [None]*len(contours)\n",
    "    contours_poly = [None]*len(contours)\n",
    "    for i, c in enumerate(contours):\n",
    "        contours_poly[i] = cv.approxPolyDP(c, 3, True)\n",
    "        center_circle, _ = cv.minEnclosingCircle(contours_poly[i])\n",
    "        list_of_centres.append((np.int(np.round(center_circle[0])),np.int(np.round(center_circle[1]))))\n",
    "        \n",
    "        boundRect[i] = cv.boundingRect(contours_poly[i])\n",
    "        cv.circle(src, ((np.int(np.round(center_circle[0])),np.int(np.round(center_circle[1])))), 20, (255, 255, 0), 1)\n",
    "        \n",
    "        \n",
    "        #print((np.int(np.round(center_circle[0])),np.int(np.round(center_circle[1]))))\n",
    "    #picked_rectangles=non_max_suppression_fast(np.array(boundRect),0.01)\n",
    "    #h=16;\n",
    "    #for (startX, startY, endX, endY) in picked_rectangles:\n",
    "        #the coordinates are top left hand corner, bottom right hand corner for rectangles \n",
    "    #    list_of_centres.append((np.round((startX+endX/2)),np.round((startY+endY/2))))\n",
    "        #cv.circle(src, (np.int(np.round((startX+endX/2))),np.int(np.round((startY+endY/2)))), 20, (255, 255, 0), 1)\n",
    "        \n",
    "    #cv.imshow(\"Image\", src)\n",
    "    #plt.show()\n",
    "    #list_of_centres=np.array(list_of_centres)\n",
    "    #print(list_of_centres)\n",
    "    return list_of_centres\n",
    "\n",
    "\n",
    "def performthresholding(beforeim,afterim,analpath):\n",
    "    list_of_centres=getcentroidsandcenters(beforeim)\n",
    "    #average_colour=getaveragevalueshsv(beforeim,list_of_centres,16,16,analpath)\n",
    "    average_colour=gethuevaluesthreshHSV(beforeim,list_of_centres)\n",
    "    dimer_points= np.array(list_of_centres)[average_colour <= 10]\n",
    "    \n",
    "   \n",
    "    \n",
    "    #average_colour_dimer=getaveragevalueshsv(beforeim,dimer_points,16,16,analpath)\n",
    "    #average_colour_dimer=gethuevaluesthreshHSV(image,dimer_points)\n",
    "    dimers_blocked=blockimagecombo(beforeim, dimer_points,16,0)\n",
    "    savepath=os.path.join(analpath, \"dimersblocked\" + \".\" + \"png\")\n",
    "    performsaveimage(dimers_blocked,savepath)\n",
    "    target_image=blockimagecombo(afterim, dimer_points,8,0)\n",
    "    savepath=os.path.join(analpath, \"targetblocked\" + \".\" + \"png\")\n",
    "    performsaveimage(target_image,savepath)\n",
    "    \n",
    "    target_points,average_values=averagehistogramshift(dimers_blocked,dimer_points,target_image,-0.01,analpath)\n",
    "    #average_colour_after=getaveragevalueshsv(target_image,dimer_points,16,16,analpath)\n",
    "    #average_colour_after=gethuevaluesthreshHSV(target_image,dimer_points)\n",
    "    #particle_difference=average_colour_dimer-average_colour_after\n",
    "    #target_points= np.array(dimer_points)[np.logical_and(particle_difference < -0.01, particle_difference > -0.2) ]\n",
    "    target_image_picked=blockimagecombo(afterim, target_points,16,0)\n",
    "    savepath=os.path.join(analpath, \"targetpicked\" + \".\" + \"png\")\n",
    "    performsaveimage(target_image_picked,savepath)\n",
    "    \n",
    "    \n",
    "    image_circle=blockimagecombo(beforeim, dimer_points,16,2)\n",
    "    savepath=os.path.join(analpath, \"dimerCircled\" + \".\" + \"png\")\n",
    "    performsaveimage(image_circle,savepath)\n",
    "    \n",
    "    image_circle=blockimagecombo(afterim, target_points,16,2)\n",
    "    savepath=os.path.join(analpath, \"targetCircled\" + \".\" + \"png\")\n",
    "    performsaveimage(image_circle,savepath)\n",
    "    \n",
    "    \n",
    "    \n",
    "    \n",
    "    \n",
    "    return dimer_points,target_points\n",
    "    \n",
    "#########################\n",
    "\n",
    "\n",
    "subfolders=getindividualfoldersandsuch(bigfol)\n",
    "\n",
    "for folder in subfolders:\n",
    "    #automatically find the before and after folder \n",
    "    beforefol,afterfol= searchforsatandtargetfolders(folder)\n",
    "    \n",
    "    #Create the relevant folder for saving,as well as the path one folder up \n",
    "    analysisfolderpath_temp,oneuppath_temp=createanalysisfolder(beforefol,\"Analysisfolder_Template\")\n",
    "    analysisfolderpath_thresh,oneuppath_thresh=createanalysisfolder(beforefol,\"Analysisfolder_thresholding\")\n",
    "    \n",
    "    \n",
    "    #loadsall the images in \n",
    "\n",
    "    imaf,imbef,beforeimfile,afterimfile=imageprocessingfunction(beforefol,afterfol)\n",
    "    print(\"processed and converted images\")\n",
    "    \n",
    "    \n",
    "    response=[0]*len(beforeimfile)\n",
    "    dimercount=[0]*len(beforeimfile)\n",
    "    targetcount=[0]*len(beforeimfile)\n",
    "    response_thresh=[0]*len(beforeimfile)\n",
    "    dimercount_thresh=[0]*len(beforeimfile)\n",
    "    targetcount_thresh=[0]*len(beforeimfile)\n",
    "    hueshift=[0]*len(beforeimfile)\n",
    "    \n",
    "    #t = tqdm(total=len(imbef))\n",
    "    for j,image in enumerate(imbef):\n",
    "        #with tqdm(total=len(imbef), file=sys.stdout) as pbar:\n",
    "\n",
    "            #pbar.write('processed: %d' % (j+1))\n",
    "            #pbar.update(0.25)\n",
    "            #sleep(0.1)\n",
    "\n",
    "        pathtomatch=beforeimfile[j]\n",
    "        savefilespath_temp= createimagesubfolderforsaving(pathtomatch,analysisfolderpath_temp)\n",
    "        savefilespath_thresh= createimagesubfolderforsaving(pathtomatch,analysisfolderpath_thresh)\n",
    "        \n",
    "        \n",
    "        #add on the currentdate and time \n",
    "        savepath_temp=addstringwithtime(savefilespath_temp)\n",
    "        savepath_thresh=addstringwithtime(savefilespath_thresh)\n",
    "        \n",
    "        \n",
    "        print(\"calculating image \"+str(j+1)+\" of \"+ str(len(imbef)))\n",
    "        \n",
    "        #make an analysis folder which says analysis in the image folder just created \n",
    "        analpath_temp=makeanalysisfolder(savefilespath_temp,\"Analysisimages_Template\")\n",
    "        analpath_thresh=makeanalysisfolder(savefilespath_thresh,\"Analysisimages_thresholding\")\n",
    "        \n",
    "        #spot matches the before and after images \n",
    "        transimaf=imgregfun(image, imaf[j])\n",
    "        #saves the redistered image\n",
    "        saveregisteredimage=os.path.join(analpath_temp, \"registeredimg\" + \".\" + \"png\")\n",
    "        performsaveimage(transimaf,saveregisteredimage)\n",
    "        #with tqdm(total=len(imbef), file=sys.stdout) as pbar:\n",
    "\n",
    "            #pbar.write('processed: %d' % (j+1))\n",
    "        #    pbar.update(0.5)\n",
    "        #    sleep(0.1)\n",
    "        \n",
    "        #uncomment if you want a crop box    \n",
    "        height, width = image.shape[:2]\n",
    "        boxwid=round(3000/2)\n",
    "        centreimagebefore=image[round(height/2)-boxwid:round(height/2)+boxwid,round(width/2)-boxwid:round(width/2)+boxwid]\n",
    "        centreimageafter=transimaf[round(height/2)-boxwid:round(height/2)+boxwid,round(width/2)-boxwid:round(width/2)+boxwid]\n",
    "        centreimagebefore=makeclippingmask(centreimagebefore)\n",
    "        #plt.imshow(centreimagebefore)\n",
    "        centreimageafter=makeclippingmask(centreimageafter)\n",
    "        \n",
    "        #with tqdm(total=len(imbef), file=sys.stdout) as pbar:\n",
    "\n",
    "            #pbar.write('processed: %d' % (j+1))\n",
    "            #pbar.update(0.75)\n",
    "            #sleep(0.1)\n",
    "        dimer_points,target_points=performthresholding(centreimagebefore,centreimageafter,analpath_thresh)\n",
    "        \n",
    "        #perform the template matching and see which particles shift\n",
    "        targetpicked,pointsdimer,average_values=performtemplatetrainingonimages(centreimageafter,analpath_temp,centreimagebefore)\n",
    "       \n",
    "        \n",
    "        #saves the to an excel spreadsheet and saves the results to a list to get the overall results at the end \n",
    "        #if I feel bothered I can add something in that uses the already analysed images but meh \n",
    "        dimercount[j]=len(pointsdimer)\n",
    "        targetcount[j]=len(targetpicked)\n",
    "        hueshift[j]=len(average_values)\n",
    "        try: \n",
    "            response[j]=(len(targetpicked)/len(pointsdimer))*100\n",
    "        except:\n",
    "            response[j]=0\n",
    "        \n",
    "        saveexcelfun(pointsdimer,targetpicked,savepath_temp)\n",
    "        \n",
    "        dimercount_thresh[j]=len(dimer_points)\n",
    "        targetcount_thresh[j]=len(target_points)\n",
    "        try: \n",
    "            response_thresh[j]=(len(target_points)/len(dimer_points))*100\n",
    "        except:\n",
    "            response_thresh[j]=0\n",
    "        #print(pointsdimer.type)\n",
    "        #print(dimer_points.type)\n",
    "        #saveexcelfun(dimer_points,target_points,savepath_thresh)\n",
    "  \n",
    "        \n",
    "        \n",
    "        #save important coordinates to a text file for later analysis\n",
    "        #Probably can delete this don't know what it's used for anymore \n",
    "        #savetextfilefun(np.array(pointsdimer),savepath,\"dimerbefore\")\n",
    "        #savetextfilefun(np.array(targetpicked),savepath,\"selectedResponse\")\n",
    "\n",
    "    print(\"Finished analysis woohoo\")\n",
    "    #t.close()\n",
    "    #Find the folders which contain the analysis and read the text files\n",
    "    #Find the image folders\n",
    "    searchfolder=oneuppath_temp\n",
    "    #insearchfolder=os.listdir(searchfolder)\n",
    "    savedir_temp= searchfolder+'\\\\'+\"Analysisfolder_Template\"\n",
    "    imagefilefolders=os.listdir(savedir_temp)\n",
    "    #Write excel worsheet in the analysis folder\n",
    "    responseforexcel = pd.DataFrame({'dimers_picked':np.array(dimercount),'target_picked':np.array(targetcount),'response': np.array(response),'Hue shift': np.array(hueshift)})\n",
    "    responsepath_temp=addstringwithtime(savedir_temp+'\\\\')\n",
    "    responsepath_temp=responsepath_temp+\"responseforallimages.xlsx\"\n",
    "    responseforexcel.to_excel(responsepath_temp) \n",
    "    \n",
    "    searchfolder_thresh=oneuppath_thresh\n",
    "    #insearchfolder=os.listdir(searchfolder)\n",
    "    savedir_thresh= searchfolder+'\\\\'+\"Analysisfolder_thresholding\"\n",
    "    imagefilefolders=os.listdir(savedir_thresh)\n",
    "    #Write excel worsheet in the analysis folder\n",
    "    responseforexcel = pd.DataFrame({'dimers_picked':np.array(dimercount_thresh),'target_picked':np.array(targetcount_thresh),'response': np.array(response_thresh)})\n",
    "    responsepath_thresh=addstringwithtime(savedir_thresh+'\\\\')\n",
    "    \n",
    "    responsepath_thresh=responsepath_thresh+\"responseforallimages.xlsx\"\n",
    "    responseforexcel.to_excel(responsepath_thresh) \n"
   ]
  },
  {
   "cell_type": "markdown",
   "id": "senior-silence",
   "metadata": {},
   "source": [
    "#################### TEMPLATE MATCHING MAIN\n"
   ]
  },
  {
   "cell_type": "code",
   "execution_count": 2,
   "id": "tough-guest",
   "metadata": {},
   "outputs": [],
   "source": [
    "from skimage import data, img_as_float\n",
    "from skimage import exposure\n",
    "\n",
    "\n",
    "def adjust_gamma(image, gamma=1.0):\n",
    "    # build a lookup table mapping the pixel values [0, 255] to\n",
    "    # their adjusted gamma values\n",
    "    invGamma = 1.0 / gamma\n",
    "    table = np.array([((i / 255.0) ** invGamma) * 255\n",
    "        for i in np.arange(0, 256)]).astype(\"uint8\")\n",
    "    return cv.LUT(image, table)\n",
    "\n",
    "def getlittleimages(bigfol):\n",
    "    %matplotlib inline\n",
    "    dimerpath= r\"D:\\OneDrive - UNSW\\Image_Analysis\\typesofParticles\\NewAItraining\\newmicroscope\\dimer2\"\n",
    "    corepath=r\"D:\\OneDrive - UNSW\\Image_Analysis\\typesofParticles\\NewAItraining\\newmicroscope\\core2\"\n",
    "    subfolders=getindividualfoldersandsuch(bigfol)\n",
    "    firstfolder=subfolders[0]\n",
    "    beforefol,afterfol= searchforsatandtargetfolders(folder)\n",
    "    imaf,imbef,beforeimfile,afterimfile=imageprocessingfunction(beforefol,afterfol)\n",
    "    print(\"processed and converted images\")\n",
    "    transimaf=imgregfun(imbef[0], imaf[0])\n",
    "    #plt.imshow(imbef[0])\n",
    "    centreimagebefore=makeclippingmask(imbef[0])\n",
    "    #plt.imshow(centreimagebefore)\n",
    "    centreimageafter=makeclippingmask(transimaf)\n",
    "    targetpicked,pointsdimer,hueshift=performtemplatetrainingonimages(centreimageafter,analpath,centreimagebefore)\n",
    "    for pt in targetpicked:\n",
    "        image_crop=centreimageafter[pt[1]-8:pt[1]+8, pt[0]-8:pt[0]+8]\n",
    "        \n",
    "        #plt.imshow(image_crop)\n",
    "        plt.show()\n",
    "        cv.waitKey(0)\n",
    "        username = input(\"Is the particle a core (c), dimer(d) or neither(n):\")\n",
    "        if username==\"c\":\n",
    "            savepath= corepath+'\\\\'+str(pt[1])+\"coreimg\" + \".\" + \"png\"\n",
    "            performsaveimage(image_crop,savepath)\n",
    "        elif username==\"d\":\n",
    "            savepath= dimerpath+'\\\\'+str(pt[1])+\"dimerimg\" + \".\" + \"png\"\n",
    "            performsaveimage(image_crop,savepath)\n",
    "        else:\n",
    "            print(\"not anything of interest\")\n",
    "    \n",
    "def getdifferenceimages(bigfol):\n",
    "    %matplotlib inline\n",
    "    beforepath= r\"D:\\OneDrive - UNSW\\Image_Analysis\\typesofParticles\\NewAItraining\\oldmicroscope\\difference_images\\before\"\n",
    "    afterpath=r\"D:\\OneDrive - UNSW\\Image_Analysis\\typesofParticles\\NewAItraining\\oldmicroscope\\difference_images\\after\"\n",
    "    differencepath=r\"D:\\OneDrive - UNSW\\Image_Analysis\\typesofParticles\\NewAItraining\\oldmicroscope\\difference_images\\difference\"\n",
    "    subfolders=getindividualfoldersandsuch(bigfol)\n",
    "    firstfolder=subfolders[0]\n",
    "    beforefol,afterfol= searchforsatandtargetfolders(folder)\n",
    "    imaf,imbef,beforeimfile,afterimfile=imageprocessingfunction(beforefol,afterfol)\n",
    "    print(\"processed and converted images\")\n",
    "    image_no=0\n",
    "    transimaf=imgregfun(imbef[image_no], imaf[image_no])\n",
    "    #plt.imshow(imbef[0])\n",
    "    centreimagebefore=makeclippingmask(imbef[image_no])\n",
    "    #plt.imshow(centreimagebefore)\n",
    "    centreimageafter=makeclippingmask(transimaf)\n",
    "    #targetpicked=performtemplatematchingondifferenceimages(centreimagebefore,centreimageafter,analpath_temp)\n",
    "    #pausehere=yep\n",
    "    #pointsdimer,targetpicked=performthresholding(centreimagebefore,centreimageafter,analpath_temp)\n",
    "    targetpicked,pointsdimer,hueshift=performtemplatetrainingonimages(centreimageafter,analpath_temp,centreimagebefore)\n",
    "    for i, pt in enumerate(targetpicked):\n",
    "        image_crop_bef=centreimagebefore[pt[1]-8:pt[1]+8, pt[0]-8:pt[0]+8]\n",
    "        #hsv = cv.cvtColor(image_crop_bef, cv.COLOR_RGB2HSV)\n",
    "        labim = rgb2lab(image_crop_bef)\n",
    "        h,s,v = cv.split(labim)\n",
    "        #h[h<10]=0\n",
    "        #s[s<10]=0\n",
    "        #v[v<10]=0\n",
    "        #resultv = cv.equalizeHist(v)\n",
    "        #results = cv.equalizeHist(s)\n",
    "        \n",
    "        n_bins=20\n",
    "        hsv = cv.merge((h,s,v))\n",
    "        adjusted_bef = image_crop_bef#cv.cvtColor(hsv, cv.COLOR_HSV2RGB)\n",
    "        fig, axs = plt.subplots(1, 3, sharey=True, tight_layout=True)\n",
    "        axs[0].hist(h, bins=n_bins)\n",
    "        axs[1].hist(s, bins=n_bins)\n",
    "        axs[2].hist(v, bins=n_bins)\n",
    "        plt.show()\n",
    "        \n",
    "        #adjusted_bef = adjust_gamma(image_crop_bef, gamma=1.5)\n",
    "        #adjusted_bef = exposure.equalize_adapthist(image_crop_bef, clip_limit=0.03)\n",
    "        #p2, p98 = np.percentile(image_crop_bef, (10, 90))\n",
    "        #adjusted_bef = exposure.rescale_intensity(image_crop_bef, in_range=(p2, p98))\n",
    "        \n",
    "        \n",
    "        image_crop_after=centreimageafter[pt[1]-8:pt[1]+8, pt[0]-8:pt[0]+8]\n",
    "        #hsv = cv.cvtColor(image_crop_after, cv.COLOR_RGB2HSV)\n",
    "        labim = rgb2lab(image_crop_after)\n",
    "        h,s,v = cv.split(labim)\n",
    "        #h[h>250]=0\n",
    "        #s[s>250]=0\n",
    "        #v[v>250]=0\n",
    "        #resultv = cv.equalizeHist(v)\n",
    "        #results = cv.equalizeHist(s)\n",
    "        #adjusted_after = adjust_gamma(image_crop_after, gamma=1.5)\n",
    "        #adjusted_after = exposure.equalize_adapthist(image_crop_after, clip_limit=0.03)\n",
    "        #p2, p98 = np.percentile(image_crop_after, (10, 90))\n",
    "        #adjusted_after = exposure.rescale_intensity(image_crop_after, in_range=(p2, p98))\n",
    "        \n",
    "        hsv = cv.merge((h,s,v))\n",
    "        fig, axs = plt.subplots(1, 3, sharey=True, tight_layout=True)\n",
    "        axs[0].hist(h, bins=n_bins)\n",
    "        axs[1].hist(s, bins=n_bins)\n",
    "        axs[2].hist(v, bins=n_bins)\n",
    "        plt.show()\n",
    "        \n",
    "        adjusted_after = image_crop_after#cv.cvtColor(hsv, cv.COLOR_HSV2RGB)\n",
    "        plt.figure()\n",
    "        plt.imshow(adjusted_bef)\n",
    "        plt.show()\n",
    "        \n",
    "        plt.figure()\n",
    "        plt.imshow(adjusted_after)\n",
    "        plt.show()\n",
    "        print(hueshift[i])\n",
    "        cv.waitKey(0)\n",
    "        username = input(\"Is the particle a correct change, yes(y) or no (n):\")\n",
    "        if username==\"y\":\n",
    "            savepath= beforepath+'\\\\'+str(pt[1])+\"beforeimg\" + \".\" + \"png\"\n",
    "            performsaveimage(image_crop_bef,savepath)\n",
    "            savepath= afterpath+'\\\\'+str(pt[1])+\"afterimg\" + \".\" + \"png\"\n",
    "            performsaveimage(image_crop_after,savepath)\n",
    "            HSV_image_before = cv.cvtColor(image_crop_bef, cv.COLOR_RGB2HSV)\n",
    "            HSV_image_after = cv.cvtColor(image_crop_after, cv.COLOR_RGB2HSV)\n",
    "            difference=HSV_image_before-HSV_image_after\n",
    "            difference=cv.cvtColor(difference, cv.COLOR_HSV2RGB)\n",
    "            savepath= differencepath+'\\\\'+str(pt[1])+\"differenceimg\" + \".\" + \"png\"\n",
    "            performsaveimage(difference,savepath)\n",
    "            \n",
    "            \n",
    "        else:\n",
    "            print(\"not anything of interest\")\n",
    "    \n",
    "\n",
    "def performtemplatematchingondifferenceimages(imbef,imaf,analpath_temp):\n",
    "    differencepath= r\"D:\\OneDrive - UNSW\\Image_Analysis\\typesofParticles\\NewAItraining\\newmicroscope\\difference_images\\difference\"\n",
    "    threshold=6\n",
    "    targetpicked,pointsdimer,hueshift=performtemplatetrainingonimages(imaf,analpath_temp,imbef)\n",
    "    dimer=blockimagecombo(imbef, pointsdimer,16,0)\n",
    "    target=blockimagecombo(imaf, pointsdimer,16,0)\n",
    "    \n",
    "    HSV_image_before = cv.cvtColor(dimer, cv.COLOR_RGB2HSV)\n",
    "    HSV_image_after = cv.cvtColor(target, cv.COLOR_RGB2HSV)\n",
    "    difference_big=HSV_image_before-HSV_image_after\n",
    "    difference=cv.cvtColor(difference_big, cv.COLOR_HSV2RGB)\n",
    "\n",
    "    \n",
    "    correctedimgdifference,pointsdifference,r=keepmatchedparticles(differencepath,difference_big,threshold)\n",
    "    \n",
    "    dimers_responded=blockimagecombo(imbef, pointsdifference,16,0)\n",
    "    savepath=os.path.join(analpath_thresh, \"pickeddimersimg\" + \".\" + \"png\")\n",
    "    performsaveimage(dimers_responded,savepath)\n",
    "    \n",
    "    target_responded=blockimagecombo(imaf, pointsdifference,16,0)\n",
    "    savepath=os.path.join(analpath_thresh, \"pickedtargetimg\" + \".\" + \"png\")\n",
    "    performsaveimage(target_responded,savepath)\n",
    "    plt.figure()\n",
    "    plt.imshow(dimers_responded)\n",
    "    plt.show()\n",
    "    plt.figure()\n",
    "    plt.imshow(target_responded)\n",
    "    plt.show()\n",
    "    \n",
    "    return pointsdifference \n",
    "    \n",
    "    "
   ]
  },
  {
   "cell_type": "code",
   "execution_count": 3,
   "id": "sought-blend",
   "metadata": {
    "scrolled": false
   },
   "outputs": [
    {
     "name": "stdout",
     "output_type": "stream",
     "text": [
      "processed and converted images\n"
     ]
    },
    {
     "data": {
      "application/vnd.jupyter.widget-view+json": {
       "model_id": "889420816d0f49f3a390944000695418",
       "version_major": 2,
       "version_minor": 0
      },
      "text/plain": [
       "  0%|          | 0/6 [00:00<?, ?it/s]"
      ]
     },
     "metadata": {},
     "output_type": "display_data"
    },
    {
     "data": {
      "application/vnd.jupyter.widget-view+json": {
       "model_id": "55cc05a183e0409884b500d1593d2683",
       "version_major": 2,
       "version_minor": 0
      },
      "text/plain": [
       "  0%|          | 0/3 [00:00<?, ?it/s]"
      ]
     },
     "metadata": {},
     "output_type": "display_data"
    },
    {
     "data": {
      "application/vnd.jupyter.widget-view+json": {
       "model_id": "c40f2219391c4a9dae8f529bcbbf6cf0",
       "version_major": 2,
       "version_minor": 0
      },
      "text/plain": [
       "  0%|          | 0/2 [00:00<?, ?it/s]"
      ]
     },
     "metadata": {},
     "output_type": "display_data"
    },
    {
     "name": "stdout",
     "output_type": "stream",
     "text": [
      "max is  5.1377849922316  min is  -10.805843633508772\n",
      "average is  -1.044877742659228 median is  -0.4815500123304831\n",
      "standard deviation is  3.714404092538513\n",
      "max is  8.275233958044382  min is  -13.96040150088796\n",
      "average is  -0.9074115620471616 median is  0.0\n",
      "standard deviation is  3.3826092259786527\n",
      "minus values here ------------\n",
      "max value is  9.057624503971152 min value is  -8.490928828278449  mean value is  -0.13746618061206664\n",
      " median value is  0.15197871308642993  standard deviation is  2.876645277324833\n"
     ]
    }
   ],
   "source": [
    "getdifferenceimages(bigfol)\n",
    "    "
   ]
  },
  {
   "cell_type": "code",
   "execution_count": 4,
   "id": "unsigned-exposure",
   "metadata": {},
   "outputs": [],
   "source": [
    "from skimage.metrics import structural_similarity as ssim\n",
    "\n",
    "\n",
    "def mse(imageA, imageB):\n",
    "    # the 'Mean Squared Error' between the two images is the\n",
    "    # sum of the squared difference between the two images;\n",
    "    # NOTE: the two images must have the same dimension\n",
    "    err = np.sum((imageA.astype(\"float\") - imageB.astype(\"float\")) ** 2)\n",
    "    err /= float(imageA.shape[0] * imageA.shape[1])\n",
    "\n",
    "    # return the MSE, the lower the error, the more \"similar\"\n",
    "    # the two images are\n",
    "    return err\n",
    "def compare_images(imageA, imageB, title):\n",
    "    # compute the mean squared error and structural similarity\n",
    "    # index for the images\n",
    "    m = mse(imageA, imageB)\n",
    "    s = ssim(imageA, imageB)\n",
    "    # setup the figure\n",
    "    fig = plt.figure(title)\n",
    "    plt.suptitle(\"MSE: %.2f, SSIM: %.2f\" % (m, s))\n",
    "    # show first image\n",
    "    ax = fig.add_subplot(1, 2, 1)\n",
    "    plt.imshow(imageA, cmap = plt.cm.gray)\n",
    "    plt.axis(\"off\")\n",
    "    # show the second image\n",
    "    ax = fig.add_subplot(1, 2, 2)\n",
    "    plt.imshow(imageB, cmap = plt.cm.gray)\n",
    "    plt.axis(\"off\")\n",
    "    # show the images\n",
    "    plt.show()\n",
    "def flattenimage(image):\n",
    "    image_shape=image.shape\n",
    "    print(image_shape)\n",
    "    image_flat = image.flatten()\n",
    "    image_flattened=image_flat.reshape(image_shape[0],image_shape[1])\n",
    "    return image_flattened\n",
    "    \n",
    "    \n",
    "def getimagedifference(variable):\n",
    "    %matplotlib qt\n",
    "    beforepath= r\"D:\\OneDrive - UNSW\\Image_Analysis\\typesofParticles\\NewAItraining\\oldmicroscope\\difference_images\\before\"\n",
    "    afterpath=r\"D:\\OneDrive - UNSW\\Image_Analysis\\typesofParticles\\NewAItraining\\oldmicroscope\\difference_images\\after\"\n",
    "    differencepath=r\"D:\\OneDrive - UNSW\\Image_Analysis\\typesofParticles\\NewAItraining\\oldmicroscope\\difference_images\\difference\"\n",
    "    imagelistB=load_images_from_foldercv(beforepath)\n",
    "    imagelistA=load_images_from_foldercv(afterpath)\n",
    "    imageA_flat=flattenimage(imagelistB[0])\n",
    "    imageB_flat=flattenimage(imagelistA[0])\n",
    "    variable=variable+2\n",
    "    compareimages(imageA_flat,imageB_flat,\"Comparison\")\n",
    "    \n",
    "    \n"
   ]
  },
  {
   "cell_type": "code",
   "execution_count": 5,
   "id": "danish-employee",
   "metadata": {},
   "outputs": [
    {
     "name": "stdout",
     "output_type": "stream",
     "text": [
      "(16, 16, 3)\n"
     ]
    },
    {
     "ename": "ValueError",
     "evalue": "cannot reshape array of size 768 into shape (16,16)",
     "output_type": "error",
     "traceback": [
      "\u001b[1;31m---------------------------------------------------------------------------\u001b[0m",
      "\u001b[1;31mValueError\u001b[0m                                Traceback (most recent call last)",
      "\u001b[1;32m<ipython-input-5-a4c4dee61e27>\u001b[0m in \u001b[0;36m<module>\u001b[1;34m\u001b[0m\n\u001b[1;32m----> 1\u001b[1;33m \u001b[0mgetimagedifference\u001b[0m\u001b[1;33m(\u001b[0m\u001b[1;36m1\u001b[0m\u001b[1;33m)\u001b[0m\u001b[1;33m\u001b[0m\u001b[1;33m\u001b[0m\u001b[0m\n\u001b[0m",
      "\u001b[1;32m<ipython-input-4-890903a8d44e>\u001b[0m in \u001b[0;36mgetimagedifference\u001b[1;34m(variable)\u001b[0m\n\u001b[0;32m     45\u001b[0m     \u001b[0mimagelistB\u001b[0m\u001b[1;33m=\u001b[0m\u001b[0mload_images_from_foldercv\u001b[0m\u001b[1;33m(\u001b[0m\u001b[0mbeforepath\u001b[0m\u001b[1;33m)\u001b[0m\u001b[1;33m\u001b[0m\u001b[1;33m\u001b[0m\u001b[0m\n\u001b[0;32m     46\u001b[0m     \u001b[0mimagelistA\u001b[0m\u001b[1;33m=\u001b[0m\u001b[0mload_images_from_foldercv\u001b[0m\u001b[1;33m(\u001b[0m\u001b[0mafterpath\u001b[0m\u001b[1;33m)\u001b[0m\u001b[1;33m\u001b[0m\u001b[1;33m\u001b[0m\u001b[0m\n\u001b[1;32m---> 47\u001b[1;33m     \u001b[0mimageA_flat\u001b[0m\u001b[1;33m=\u001b[0m\u001b[0mflattenimage\u001b[0m\u001b[1;33m(\u001b[0m\u001b[0mimagelistB\u001b[0m\u001b[1;33m[\u001b[0m\u001b[1;36m0\u001b[0m\u001b[1;33m]\u001b[0m\u001b[1;33m)\u001b[0m\u001b[1;33m\u001b[0m\u001b[1;33m\u001b[0m\u001b[0m\n\u001b[0m\u001b[0;32m     48\u001b[0m     \u001b[0mimageB_flat\u001b[0m\u001b[1;33m=\u001b[0m\u001b[0mflattenimage\u001b[0m\u001b[1;33m(\u001b[0m\u001b[0mimagelistA\u001b[0m\u001b[1;33m[\u001b[0m\u001b[1;36m0\u001b[0m\u001b[1;33m]\u001b[0m\u001b[1;33m)\u001b[0m\u001b[1;33m\u001b[0m\u001b[1;33m\u001b[0m\u001b[0m\n\u001b[0;32m     49\u001b[0m     \u001b[0mvariable\u001b[0m\u001b[1;33m=\u001b[0m\u001b[0mvariable\u001b[0m\u001b[1;33m+\u001b[0m\u001b[1;36m2\u001b[0m\u001b[1;33m\u001b[0m\u001b[1;33m\u001b[0m\u001b[0m\n",
      "\u001b[1;32m<ipython-input-4-890903a8d44e>\u001b[0m in \u001b[0;36mflattenimage\u001b[1;34m(image)\u001b[0m\n\u001b[0;32m     34\u001b[0m     \u001b[0mprint\u001b[0m\u001b[1;33m(\u001b[0m\u001b[0mimage_shape\u001b[0m\u001b[1;33m)\u001b[0m\u001b[1;33m\u001b[0m\u001b[1;33m\u001b[0m\u001b[0m\n\u001b[0;32m     35\u001b[0m     \u001b[0mimage_flat\u001b[0m \u001b[1;33m=\u001b[0m \u001b[0mimage\u001b[0m\u001b[1;33m.\u001b[0m\u001b[0mflatten\u001b[0m\u001b[1;33m(\u001b[0m\u001b[1;33m)\u001b[0m\u001b[1;33m\u001b[0m\u001b[1;33m\u001b[0m\u001b[0m\n\u001b[1;32m---> 36\u001b[1;33m     \u001b[0mimage_flattened\u001b[0m\u001b[1;33m=\u001b[0m\u001b[0mimage_flat\u001b[0m\u001b[1;33m.\u001b[0m\u001b[0mreshape\u001b[0m\u001b[1;33m(\u001b[0m\u001b[0mimage_shape\u001b[0m\u001b[1;33m[\u001b[0m\u001b[1;36m0\u001b[0m\u001b[1;33m]\u001b[0m\u001b[1;33m,\u001b[0m\u001b[0mimage_shape\u001b[0m\u001b[1;33m[\u001b[0m\u001b[1;36m1\u001b[0m\u001b[1;33m]\u001b[0m\u001b[1;33m)\u001b[0m\u001b[1;33m\u001b[0m\u001b[1;33m\u001b[0m\u001b[0m\n\u001b[0m\u001b[0;32m     37\u001b[0m     \u001b[1;32mreturn\u001b[0m \u001b[0mimage_flattened\u001b[0m\u001b[1;33m\u001b[0m\u001b[1;33m\u001b[0m\u001b[0m\n\u001b[0;32m     38\u001b[0m \u001b[1;33m\u001b[0m\u001b[0m\n",
      "\u001b[1;31mValueError\u001b[0m: cannot reshape array of size 768 into shape (16,16)"
     ]
    }
   ],
   "source": [
    "getimagedifference(1)"
   ]
  },
  {
   "cell_type": "code",
   "execution_count": null,
   "id": "administrative-prague",
   "metadata": {},
   "outputs": [],
   "source": [
    "\n"
   ]
  },
  {
   "cell_type": "code",
   "execution_count": null,
   "id": "streaming-brush",
   "metadata": {},
   "outputs": [],
   "source": []
  },
  {
   "cell_type": "code",
   "execution_count": null,
   "id": "national-dispatch",
   "metadata": {},
   "outputs": [],
   "source": []
  },
  {
   "cell_type": "code",
   "execution_count": null,
   "id": "precise-beatles",
   "metadata": {},
   "outputs": [],
   "source": []
  },
  {
   "cell_type": "code",
   "execution_count": null,
   "id": "subtle-collection",
   "metadata": {},
   "outputs": [],
   "source": []
  }
 ],
 "metadata": {
  "kernelspec": {
   "display_name": "Python 3",
   "language": "python",
   "name": "python3"
  },
  "language_info": {
   "codemirror_mode": {
    "name": "ipython",
    "version": 3
   },
   "file_extension": ".py",
   "mimetype": "text/x-python",
   "name": "python",
   "nbconvert_exporter": "python",
   "pygments_lexer": "ipython3",
   "version": "3.6.8"
  }
 },
 "nbformat": 4,
 "nbformat_minor": 5
}
