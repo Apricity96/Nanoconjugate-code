{
 "cells": [
  {
   "cell_type": "code",
   "execution_count": null,
   "id": "392d8729-7d94-4c5a-be54-a9f7a5ee1892",
   "metadata": {},
   "outputs": [],
   "source": []
  },
  {
   "cell_type": "code",
   "execution_count": null,
   "id": "18a41bff-2202-411d-bc97-86308327eb5e",
   "metadata": {},
   "outputs": [],
   "source": [
    "def getlittleimages(bigfol):\n",
    "    %matplotlib inline\n",
    "    dimerpath= r\"D:\\OneDrive - UNSW\\Image_Analysis\\typesofParticles\\NewAItraining\\newmicroscope\\dimer2\"\n",
    "    corepath=r\"D:\\OneDrive - UNSW\\Image_Analysis\\typesofParticles\\NewAItraining\\newmicroscope\\core2\"\n",
    "    subfolders=getindividualfoldersandsuch(bigfol)\n",
    "    firstfolder=subfolders[0]\n",
    "    beforefol,afterfol= searchforsatandtargetfolders(folder)\n",
    "    imaf,imbef,beforeimfile,afterimfile=imageprocessingfunction(beforefol,afterfol)\n",
    "    print(\"processed and converted images\")\n",
    "    transimaf=imgregfun(imbef[0], imaf[0])\n",
    "    #plt.imshow(imbef[0])\n",
    "    centreimagebefore=makeclippingmask(imbef[0])\n",
    "    #plt.imshow(centreimagebefore)\n",
    "    centreimageafter=makeclippingmask(transimaf)\n",
    "    targetpicked,pointsdimer=performtemplatetrainingonimages(centreimageafter,analpath,centreimagebefore)\n",
    "    for pt in targetpicked:\n",
    "        image_crop=centreimageafter[pt[1]-8:pt[1]+8, pt[0]-8:pt[0]+8]\n",
    "        \n",
    "        #plt.imshow(image_crop)\n",
    "        plt.show()\n",
    "        cv.waitKey(0)\n",
    "        username = input(\"Is the particle a core (c), dimer(d) or neither(n):\")\n",
    "        if username==\"c\":\n",
    "            savepath= corepath+'\\\\'+str(pt[1])+\"coreimg\" + \".\" + \"png\"\n",
    "            performsaveimage(image_crop,savepath)\n",
    "        elif username==\"d\":\n",
    "            savepath= dimerpath+'\\\\'+str(pt[1])+\"dimerimg\" + \".\" + \"png\"\n",
    "            performsaveimage(image_crop,savepath)\n",
    "        else:\n",
    "            print(\"not anything of interest\")"
   ]
  }
 ],
 "metadata": {
  "kernelspec": {
   "display_name": "Python 3",
   "language": "python",
   "name": "python3"
  },
  "language_info": {
   "codemirror_mode": {
    "name": "ipython",
    "version": 3
   },
   "file_extension": ".py",
   "mimetype": "text/x-python",
   "name": "python",
   "nbconvert_exporter": "python",
   "pygments_lexer": "ipython3",
   "version": "3.6.8"
  }
 },
 "nbformat": 4,
 "nbformat_minor": 5
}
