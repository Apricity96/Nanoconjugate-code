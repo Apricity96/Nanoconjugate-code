{
 "cells": [
  {
   "cell_type": "code",
   "execution_count": 1,
   "id": "falling-destination",
   "metadata": {
    "scrolled": false
   },
   "outputs": [
    {
     "name": "stdout",
     "output_type": "stream",
     "text": [
      "folder already exists\n",
      "C:\\Users\\Image Processing PC\\Downloads\\s2_20211129\\s2\\w1_control\\Analysisfolder_Template\n",
      "processing images\n",
      "folder already exists\n",
      "C:\\Users\\Image Processing PC\\Downloads\\s2_20211129\\s2\\w1_control\\Analysisfolder_thresholding\n",
      "processing images\n",
      "processed and converted images\n",
      "folder already exists\n",
      "folder already exists\n",
      "calculating image 1 of 23\n",
      "folder already exists\n",
      "folder already exists\n"
     ]
    },
    {
     "name": "stderr",
     "output_type": "stream",
     "text": [
      "c:\\program files\\python36\\lib\\site-packages\\numpy\\core\\fromnumeric.py:3373: RuntimeWarning: Mean of empty slice.\n",
      "  out=out, **kwargs)\n",
      "c:\\program files\\python36\\lib\\site-packages\\numpy\\core\\_methods.py:170: RuntimeWarning: invalid value encountered in double_scalars\n",
      "  ret = ret.dtype.type(ret / rcount)\n"
     ]
    },
    {
     "data": {
      "application/vnd.jupyter.widget-view+json": {
       "model_id": "d33a67c278244576968d7871281d3e98",
       "version_major": 2,
       "version_minor": 0
      },
      "text/plain": [
       "  0%|          | 0/3 [00:00<?, ?it/s]"
      ]
     },
     "metadata": {},
     "output_type": "display_data"
    },
    {
     "data": {
      "application/vnd.jupyter.widget-view+json": {
       "model_id": "ddd54995c82d498fa2ac5c53c74fc1bc",
       "version_major": 2,
       "version_minor": 0
      },
      "text/plain": [
       "  0%|          | 0/4 [00:00<?, ?it/s]"
      ]
     },
     "metadata": {},
     "output_type": "display_data"
    },
    {
     "data": {
      "application/vnd.jupyter.widget-view+json": {
       "model_id": "df3cf9d95b6e45af8844bf94494bba1e",
       "version_major": 2,
       "version_minor": 0
      },
      "text/plain": [
       "  0%|          | 0/6 [00:00<?, ?it/s]"
      ]
     },
     "metadata": {},
     "output_type": "display_data"
    },
    {
     "name": "stdout",
     "output_type": "stream",
     "text": [
      "max is  23.62109375  min is  0.66796875\n",
      "average is  4.986049507168459 median is  4.986049507168459\n",
      "standard deviation is  4.986049507168459\n",
      "max is  16.8515625  min is  0.0\n",
      "average is  1.1038838485663083 median is  1.1038838485663083\n",
      "standard deviation is  1.1038838485663083\n",
      "minus values here ------------\n",
      "max value is  20.3125 min value is  -3.4296875  mean value is  3.8821656586021507\n",
      " median value is  3.203125  standard deviation is  3.2809185266246246\n",
      "folder already exists\n",
      "folder already exists\n",
      "calculating image 2 of 23\n",
      "folder already exists\n",
      "folder already exists\n"
     ]
    },
    {
     "data": {
      "application/vnd.jupyter.widget-view+json": {
       "model_id": "adddaf14399049a4b78a0a0e0528e64d",
       "version_major": 2,
       "version_minor": 0
      },
      "text/plain": [
       "  0%|          | 0/3 [00:00<?, ?it/s]"
      ]
     },
     "metadata": {},
     "output_type": "display_data"
    },
    {
     "data": {
      "application/vnd.jupyter.widget-view+json": {
       "model_id": "4833adfc456a4b11a95f2b01dc770336",
       "version_major": 2,
       "version_minor": 0
      },
      "text/plain": [
       "  0%|          | 0/4 [00:00<?, ?it/s]"
      ]
     },
     "metadata": {},
     "output_type": "display_data"
    },
    {
     "data": {
      "application/vnd.jupyter.widget-view+json": {
       "model_id": "5133d743fbf44f97b77855bd9905a641",
       "version_major": 2,
       "version_minor": 0
      },
      "text/plain": [
       "  0%|          | 0/6 [00:00<?, ?it/s]"
      ]
     },
     "metadata": {},
     "output_type": "display_data"
    },
    {
     "name": "stdout",
     "output_type": "stream",
     "text": [
      "max is  19.8359375  min is  0.7265625\n",
      "average is  5.0709945436507935 median is  5.0709945436507935\n",
      "standard deviation is  5.0709945436507935\n",
      "max is  13.4140625  min is  0.0\n",
      "average is  0.3035128692680776 median is  0.3035128692680776\n",
      "standard deviation is  0.3035128692680776\n",
      "minus values here ------------\n",
      "max value is  19.8359375 min value is  -0.69921875  mean value is  4.767481674382716\n",
      " median value is  3.869140625  standard deviation is  3.258035591842841\n",
      "folder already exists\n",
      "folder already exists\n",
      "calculating image 3 of 23\n",
      "folder already exists\n",
      "folder already exists\n"
     ]
    },
    {
     "data": {
      "application/vnd.jupyter.widget-view+json": {
       "model_id": "4691abe1d21048c3baeac8bc4899eaa3",
       "version_major": 2,
       "version_minor": 0
      },
      "text/plain": [
       "  0%|          | 0/3 [00:00<?, ?it/s]"
      ]
     },
     "metadata": {},
     "output_type": "display_data"
    },
    {
     "data": {
      "application/vnd.jupyter.widget-view+json": {
       "model_id": "fe50244ab15b46d6a1f28ee9b8e288ba",
       "version_major": 2,
       "version_minor": 0
      },
      "text/plain": [
       "  0%|          | 0/4 [00:00<?, ?it/s]"
      ]
     },
     "metadata": {},
     "output_type": "display_data"
    },
    {
     "data": {
      "application/vnd.jupyter.widget-view+json": {
       "model_id": "f386aaa617234f508d2a29a49e69f9b8",
       "version_major": 2,
       "version_minor": 0
      },
      "text/plain": [
       "  0%|          | 0/6 [00:00<?, ?it/s]"
      ]
     },
     "metadata": {},
     "output_type": "display_data"
    },
    {
     "name": "stdout",
     "output_type": "stream",
     "text": [
      "max is  22.74609375  min is  0.79296875\n",
      "average is  5.485067851681957 median is  5.485067851681957\n",
      "standard deviation is  5.485067851681957\n",
      "max is  17.15234375  min is  0.0\n",
      "average is  1.27803062882263 median is  1.27803062882263\n",
      "standard deviation is  1.27803062882263\n",
      "minus values here ------------\n",
      "max value is  20.59765625 min value is  -3.74609375  mean value is  4.207037222859327\n",
      " median value is  3.2421875  standard deviation is  3.7647138893160803\n",
      "folder already exists\n",
      "folder already exists\n",
      "calculating image 4 of 23\n",
      "folder already exists\n",
      "folder already exists\n"
     ]
    },
    {
     "data": {
      "application/vnd.jupyter.widget-view+json": {
       "model_id": "c5544caf902a413294217eee0217dc8c",
       "version_major": 2,
       "version_minor": 0
      },
      "text/plain": [
       "  0%|          | 0/3 [00:00<?, ?it/s]"
      ]
     },
     "metadata": {},
     "output_type": "display_data"
    },
    {
     "data": {
      "application/vnd.jupyter.widget-view+json": {
       "model_id": "0d8d8e76daa74551b41b061a4dea419e",
       "version_major": 2,
       "version_minor": 0
      },
      "text/plain": [
       "  0%|          | 0/4 [00:00<?, ?it/s]"
      ]
     },
     "metadata": {},
     "output_type": "display_data"
    },
    {
     "data": {
      "application/vnd.jupyter.widget-view+json": {
       "model_id": "3053f7fbb0e444cc8050499e42f7b813",
       "version_major": 2,
       "version_minor": 0
      },
      "text/plain": [
       "  0%|          | 0/6 [00:00<?, ?it/s]"
      ]
     },
     "metadata": {},
     "output_type": "display_data"
    },
    {
     "name": "stdout",
     "output_type": "stream",
     "text": [
      "max is  25.67578125  min is  0.5546875\n",
      "average is  5.532081886574074 median is  5.532081886574074\n",
      "standard deviation is  5.532081886574074\n",
      "max is  15.58984375  min is  0.0\n",
      "average is  0.5621222350823045 median is  0.5621222350823045\n",
      "standard deviation is  0.5621222350823045\n",
      "minus values here ------------\n",
      "max value is  24.75 min value is  0.00390625  mean value is  4.969959651491769\n",
      " median value is  4.041015625  standard deviation is  3.472864089501712\n",
      "folder already exists\n",
      "folder already exists\n",
      "calculating image 5 of 23\n",
      "folder already exists\n",
      "folder already exists\n"
     ]
    },
    {
     "data": {
      "application/vnd.jupyter.widget-view+json": {
       "model_id": "4e9dd44f37684e63bb0c7d6f4783f675",
       "version_major": 2,
       "version_minor": 0
      },
      "text/plain": [
       "  0%|          | 0/3 [00:00<?, ?it/s]"
      ]
     },
     "metadata": {},
     "output_type": "display_data"
    },
    {
     "data": {
      "application/vnd.jupyter.widget-view+json": {
       "model_id": "b00452e4581a479f8d8f3ff977b4b122",
       "version_major": 2,
       "version_minor": 0
      },
      "text/plain": [
       "  0%|          | 0/4 [00:00<?, ?it/s]"
      ]
     },
     "metadata": {},
     "output_type": "display_data"
    },
    {
     "data": {
      "application/vnd.jupyter.widget-view+json": {
       "model_id": "25b9ec691517475e8db230bef1c675a6",
       "version_major": 2,
       "version_minor": 0
      },
      "text/plain": [
       "  0%|          | 0/6 [00:00<?, ?it/s]"
      ]
     },
     "metadata": {},
     "output_type": "display_data"
    },
    {
     "name": "stdout",
     "output_type": "stream",
     "text": [
      "max is  28.23046875  min is  0.90234375\n",
      "average is  7.9870625 median is  7.9870625\n",
      "standard deviation is  7.9870625\n",
      "max is  19.859375  min is  0.0\n",
      "average is  3.9250625 median is  3.9250625\n",
      "standard deviation is  3.9250625\n",
      "minus values here ------------\n",
      "max value is  23.39453125 min value is  -0.29296875  mean value is  4.062\n",
      " median value is  2.65234375  standard deviation is  4.230846401541599\n",
      "folder already exists\n",
      "folder already exists\n",
      "calculating image 6 of 23\n",
      "folder already exists\n",
      "folder already exists\n"
     ]
    },
    {
     "data": {
      "application/vnd.jupyter.widget-view+json": {
       "model_id": "d8df98e26b2341858e8f7bdb41c2fba4",
       "version_major": 2,
       "version_minor": 0
      },
      "text/plain": [
       "  0%|          | 0/3 [00:00<?, ?it/s]"
      ]
     },
     "metadata": {},
     "output_type": "display_data"
    },
    {
     "data": {
      "application/vnd.jupyter.widget-view+json": {
       "model_id": "8e77bc2dda924d52ace0723dffd5f30d",
       "version_major": 2,
       "version_minor": 0
      },
      "text/plain": [
       "  0%|          | 0/4 [00:00<?, ?it/s]"
      ]
     },
     "metadata": {},
     "output_type": "display_data"
    },
    {
     "data": {
      "application/vnd.jupyter.widget-view+json": {
       "model_id": "d83996019b9f43ff9fc1e6ed70947407",
       "version_major": 2,
       "version_minor": 0
      },
      "text/plain": [
       "  0%|          | 0/6 [00:00<?, ?it/s]"
      ]
     },
     "metadata": {},
     "output_type": "display_data"
    },
    {
     "name": "stdout",
     "output_type": "stream",
     "text": [
      "max is  22.2265625  min is  0.48828125\n",
      "average is  5.563503539364641 median is  5.563503539364641\n",
      "standard deviation is  5.563503539364641\n",
      "max is  20.06640625  min is  0.0\n",
      "average is  1.7364576139502763 median is  1.7364576139502763\n",
      "standard deviation is  1.7364576139502763\n",
      "minus values here ------------\n",
      "max value is  21.0390625 min value is  -2.3984375  mean value is  3.8270459254143647\n",
      " median value is  3.025390625  standard deviation is  3.9810495355451914\n",
      "folder already exists\n",
      "folder already exists\n",
      "calculating image 7 of 23\n",
      "folder already exists\n",
      "folder already exists\n"
     ]
    },
    {
     "data": {
      "application/vnd.jupyter.widget-view+json": {
       "model_id": "6924e3688401496ba72ec5c7758e8128",
       "version_major": 2,
       "version_minor": 0
      },
      "text/plain": [
       "  0%|          | 0/3 [00:00<?, ?it/s]"
      ]
     },
     "metadata": {},
     "output_type": "display_data"
    },
    {
     "data": {
      "application/vnd.jupyter.widget-view+json": {
       "model_id": "8cf7d7ab1ecb4766a364b3e0c6859a1a",
       "version_major": 2,
       "version_minor": 0
      },
      "text/plain": [
       "  0%|          | 0/4 [00:00<?, ?it/s]"
      ]
     },
     "metadata": {},
     "output_type": "display_data"
    },
    {
     "data": {
      "application/vnd.jupyter.widget-view+json": {
       "model_id": "bb2905b9199441c283f12aba79c66e68",
       "version_major": 2,
       "version_minor": 0
      },
      "text/plain": [
       "  0%|          | 0/6 [00:00<?, ?it/s]"
      ]
     },
     "metadata": {},
     "output_type": "display_data"
    },
    {
     "name": "stdout",
     "output_type": "stream",
     "text": [
      "max is  60.7578125  min is  0.43359375\n",
      "average is  4.996763130868545 median is  4.996763130868545\n",
      "standard deviation is  4.996763130868545\n",
      "max is  37.12109375  min is  0.0\n",
      "average is  1.0691387910798122 median is  1.0691387910798122\n",
      "standard deviation is  1.0691387910798122\n",
      "minus values here ------------\n",
      "max value is  36.78125 min value is  -1.2734375  mean value is  3.9276243397887325\n",
      " median value is  3.16796875  standard deviation is  3.5226683750527368\n",
      "folder already exists\n",
      "folder already exists\n",
      "calculating image 8 of 23\n",
      "folder already exists\n",
      "folder already exists\n"
     ]
    },
    {
     "data": {
      "application/vnd.jupyter.widget-view+json": {
       "model_id": "f575416f26aa4eb8a85029e2b861400f",
       "version_major": 2,
       "version_minor": 0
      },
      "text/plain": [
       "  0%|          | 0/3 [00:00<?, ?it/s]"
      ]
     },
     "metadata": {},
     "output_type": "display_data"
    },
    {
     "data": {
      "application/vnd.jupyter.widget-view+json": {
       "model_id": "5c9c0a96c30f4c3b8ab62700695dce76",
       "version_major": 2,
       "version_minor": 0
      },
      "text/plain": [
       "  0%|          | 0/4 [00:00<?, ?it/s]"
      ]
     },
     "metadata": {},
     "output_type": "display_data"
    },
    {
     "data": {
      "application/vnd.jupyter.widget-view+json": {
       "model_id": "74557d5991df419da87cfec48e6eaa77",
       "version_major": 2,
       "version_minor": 0
      },
      "text/plain": [
       "  0%|          | 0/6 [00:00<?, ?it/s]"
      ]
     },
     "metadata": {},
     "output_type": "display_data"
    },
    {
     "name": "stdout",
     "output_type": "stream",
     "text": [
      "max is  35.72265625  min is  0.4375\n",
      "average is  4.625764715608466 median is  4.625764715608466\n",
      "standard deviation is  4.625764715608466\n",
      "max is  52.78125  min is  0.0\n",
      "average is  1.5513875110229276 median is  1.5513875110229276\n",
      "standard deviation is  1.5513875110229276\n",
      "minus values here ------------\n",
      "max value is  22.7734375 min value is  -17.05859375  mean value is  3.074377204585538\n",
      " median value is  2.39453125  standard deviation is  3.308619286243585\n",
      "folder already exists\n",
      "folder already exists\n",
      "calculating image 9 of 23\n",
      "folder already exists\n",
      "folder already exists\n"
     ]
    },
    {
     "data": {
      "application/vnd.jupyter.widget-view+json": {
       "model_id": "2fc793ec129d4c1e9682bc69e2d8b8c3",
       "version_major": 2,
       "version_minor": 0
      },
      "text/plain": [
       "  0%|          | 0/3 [00:00<?, ?it/s]"
      ]
     },
     "metadata": {},
     "output_type": "display_data"
    },
    {
     "data": {
      "application/vnd.jupyter.widget-view+json": {
       "model_id": "3610696d77014309b7616c5423e955b3",
       "version_major": 2,
       "version_minor": 0
      },
      "text/plain": [
       "  0%|          | 0/4 [00:00<?, ?it/s]"
      ]
     },
     "metadata": {},
     "output_type": "display_data"
    },
    {
     "data": {
      "application/vnd.jupyter.widget-view+json": {
       "model_id": "a0d13257eaaa4b7f9191dac3c8f96bb4",
       "version_major": 2,
       "version_minor": 0
      },
      "text/plain": [
       "  0%|          | 0/6 [00:00<?, ?it/s]"
      ]
     },
     "metadata": {},
     "output_type": "display_data"
    },
    {
     "name": "stdout",
     "output_type": "stream",
     "text": [
      "max is  51.7734375  min is  0.6015625\n",
      "average is  5.661443570483749 median is  5.661443570483749\n",
      "standard deviation is  5.661443570483749\n",
      "max is  82.984375  min is  0.0\n",
      "average is  3.9544625141723357 median is  3.9544625141723357\n",
      "standard deviation is  3.9544625141723357\n",
      "minus values here ------------\n",
      "max value is  36.8125 min value is  -58.85546875  mean value is  1.7069810563114134\n",
      " median value is  2.0859375  standard deviation is  7.908047763920266\n",
      "folder already exists\n",
      "folder already exists\n",
      "calculating image 10 of 23\n",
      "folder already exists\n",
      "folder already exists\n"
     ]
    },
    {
     "data": {
      "application/vnd.jupyter.widget-view+json": {
       "model_id": "f84f6567743a41d48de85129a47cee66",
       "version_major": 2,
       "version_minor": 0
      },
      "text/plain": [
       "  0%|          | 0/3 [00:00<?, ?it/s]"
      ]
     },
     "metadata": {},
     "output_type": "display_data"
    },
    {
     "data": {
      "application/vnd.jupyter.widget-view+json": {
       "model_id": "9603b414c9d14e009745fd01b8454b20",
       "version_major": 2,
       "version_minor": 0
      },
      "text/plain": [
       "  0%|          | 0/4 [00:00<?, ?it/s]"
      ]
     },
     "metadata": {},
     "output_type": "display_data"
    },
    {
     "data": {
      "application/vnd.jupyter.widget-view+json": {
       "model_id": "992811cd1a5e4e1d8873378fd1d2e1e9",
       "version_major": 2,
       "version_minor": 0
      },
      "text/plain": [
       "  0%|          | 0/6 [00:00<?, ?it/s]"
      ]
     },
     "metadata": {},
     "output_type": "display_data"
    },
    {
     "name": "stdout",
     "output_type": "stream",
     "text": [
      "max is  25.1796875  min is  0.57421875\n",
      "average is  5.528751491646778 median is  5.528751491646778\n",
      "standard deviation is  5.528751491646778\n",
      "max is  21.4921875  min is  0.0\n",
      "average is  1.1792959427207637 median is  1.1792959427207637\n",
      "standard deviation is  1.1792959427207637\n",
      "minus values here ------------\n",
      "max value is  21.37890625 min value is  -4.12890625  mean value is  4.349455548926015\n",
      " median value is  3.39453125  standard deviation is  3.565731570855474\n",
      "folder already exists\n",
      "folder already exists\n",
      "calculating image 11 of 23\n",
      "folder already exists\n",
      "folder already exists\n"
     ]
    },
    {
     "data": {
      "application/vnd.jupyter.widget-view+json": {
       "model_id": "8a629263da3d4e05920416dc46890578",
       "version_major": 2,
       "version_minor": 0
      },
      "text/plain": [
       "  0%|          | 0/3 [00:00<?, ?it/s]"
      ]
     },
     "metadata": {},
     "output_type": "display_data"
    },
    {
     "data": {
      "application/vnd.jupyter.widget-view+json": {
       "model_id": "1658e6eb2e414714a27f6b6642ea267f",
       "version_major": 2,
       "version_minor": 0
      },
      "text/plain": [
       "  0%|          | 0/4 [00:00<?, ?it/s]"
      ]
     },
     "metadata": {},
     "output_type": "display_data"
    },
    {
     "data": {
      "application/vnd.jupyter.widget-view+json": {
       "model_id": "ce374b0b89804103855b2c437d7142c5",
       "version_major": 2,
       "version_minor": 0
      },
      "text/plain": [
       "  0%|          | 0/6 [00:00<?, ?it/s]"
      ]
     },
     "metadata": {},
     "output_type": "display_data"
    },
    {
     "name": "stdout",
     "output_type": "stream",
     "text": [
      "max is  63.5234375  min is  0.64453125\n",
      "average is  5.42170274715505 median is  5.42170274715505\n",
      "standard deviation is  5.42170274715505\n",
      "max is  15.48828125  min is  0.0\n",
      "average is  0.3955925497866287 median is  0.3955925497866287\n",
      "standard deviation is  0.3955925497866287\n",
      "minus values here ------------\n",
      "max value is  63.5234375 min value is  -0.16015625  mean value is  5.026110197368421\n",
      " median value is  3.75  standard deviation is  4.775945597451537\n",
      "folder already exists\n",
      "folder already exists\n",
      "calculating image 12 of 23\n",
      "folder already exists\n",
      "folder already exists\n"
     ]
    },
    {
     "data": {
      "application/vnd.jupyter.widget-view+json": {
       "model_id": "a5ec222f650b49739290bd308202c5ca",
       "version_major": 2,
       "version_minor": 0
      },
      "text/plain": [
       "  0%|          | 0/3 [00:00<?, ?it/s]"
      ]
     },
     "metadata": {},
     "output_type": "display_data"
    },
    {
     "data": {
      "application/vnd.jupyter.widget-view+json": {
       "model_id": "c06c7adc0a5b48908728aef2a1b28380",
       "version_major": 2,
       "version_minor": 0
      },
      "text/plain": [
       "  0%|          | 0/4 [00:00<?, ?it/s]"
      ]
     },
     "metadata": {},
     "output_type": "display_data"
    },
    {
     "data": {
      "application/vnd.jupyter.widget-view+json": {
       "model_id": "ab80bd18b19344e68e20b12323b859d2",
       "version_major": 2,
       "version_minor": 0
      },
      "text/plain": [
       "  0%|          | 0/6 [00:00<?, ?it/s]"
      ]
     },
     "metadata": {},
     "output_type": "display_data"
    },
    {
     "name": "stdout",
     "output_type": "stream",
     "text": [
      "max is  15.34765625  min is  0.890625\n",
      "average is  4.25275906133829 median is  4.25275906133829\n",
      "standard deviation is  4.25275906133829\n",
      "max is  9.9609375  min is  0.0\n",
      "average is  2.2357254879182156 median is  2.2357254879182156\n",
      "standard deviation is  2.2357254879182156\n",
      "minus values here ------------\n",
      "max value is  15.34765625 min value is  -2.08203125  mean value is  2.017033573420074\n",
      " median value is  1.0234375  standard deviation is  2.8960503146449983\n",
      "folder already exists\n",
      "folder already exists\n",
      "calculating image 13 of 23\n",
      "folder already exists\n",
      "folder already exists\n"
     ]
    },
    {
     "data": {
      "application/vnd.jupyter.widget-view+json": {
       "model_id": "c6546e3a46ca428fa16b15245714bbdc",
       "version_major": 2,
       "version_minor": 0
      },
      "text/plain": [
       "  0%|          | 0/3 [00:00<?, ?it/s]"
      ]
     },
     "metadata": {},
     "output_type": "display_data"
    },
    {
     "data": {
      "application/vnd.jupyter.widget-view+json": {
       "model_id": "2db7eea0835548bd9b0d3e850350a412",
       "version_major": 2,
       "version_minor": 0
      },
      "text/plain": [
       "  0%|          | 0/4 [00:00<?, ?it/s]"
      ]
     },
     "metadata": {},
     "output_type": "display_data"
    },
    {
     "data": {
      "application/vnd.jupyter.widget-view+json": {
       "model_id": "aae6d2bfe2c74e2c9a83687e4b00187a",
       "version_major": 2,
       "version_minor": 0
      },
      "text/plain": [
       "  0%|          | 0/6 [00:00<?, ?it/s]"
      ]
     },
     "metadata": {},
     "output_type": "display_data"
    },
    {
     "name": "stdout",
     "output_type": "stream",
     "text": [
      "max is  20.234375  min is  0.921875\n",
      "average is  5.78749468537415 median is  5.78749468537415\n",
      "standard deviation is  5.78749468537415\n",
      "max is  16.1875  min is  0.0\n",
      "average is  0.9750212585034014 median is  0.9750212585034014\n",
      "standard deviation is  0.9750212585034014\n",
      "minus values here ------------\n",
      "max value is  18.6171875 min value is  -1.87109375  mean value is  4.812473426870748\n",
      " median value is  3.8828125  standard deviation is  3.9302618311103696\n",
      "folder already exists\n",
      "folder already exists\n",
      "calculating image 14 of 23\n",
      "folder already exists\n",
      "folder already exists\n"
     ]
    },
    {
     "data": {
      "application/vnd.jupyter.widget-view+json": {
       "model_id": "330a5e1fb58142ad8cf0447ee1a37e07",
       "version_major": 2,
       "version_minor": 0
      },
      "text/plain": [
       "  0%|          | 0/3 [00:00<?, ?it/s]"
      ]
     },
     "metadata": {},
     "output_type": "display_data"
    },
    {
     "data": {
      "application/vnd.jupyter.widget-view+json": {
       "model_id": "55070bf35d3f4bbb8cfed4db1aed0bbd",
       "version_major": 2,
       "version_minor": 0
      },
      "text/plain": [
       "  0%|          | 0/4 [00:00<?, ?it/s]"
      ]
     },
     "metadata": {},
     "output_type": "display_data"
    },
    {
     "data": {
      "application/vnd.jupyter.widget-view+json": {
       "model_id": "e8dbb9a35ae247e0b4d0832f8e6b7c20",
       "version_major": 2,
       "version_minor": 0
      },
      "text/plain": [
       "  0%|          | 0/6 [00:00<?, ?it/s]"
      ]
     },
     "metadata": {},
     "output_type": "display_data"
    },
    {
     "name": "stdout",
     "output_type": "stream",
     "text": [
      "max is  24.5625  min is  0.625\n",
      "average is  5.362071349557522 median is  5.362071349557522\n",
      "standard deviation is  5.362071349557522\n",
      "max is  19.21875  min is  0.0\n",
      "average is  0.45330648506637167 median is  0.45330648506637167\n",
      "standard deviation is  0.45330648506637167\n",
      "minus values here ------------\n",
      "max value is  16.33203125 min value is  0.140625  mean value is  4.90876486449115\n",
      " median value is  4.015625  standard deviation is  3.2698645785083245\n",
      "folder already exists\n",
      "folder already exists\n",
      "calculating image 15 of 23\n",
      "folder already exists\n",
      "folder already exists\n"
     ]
    },
    {
     "data": {
      "application/vnd.jupyter.widget-view+json": {
       "model_id": "bfa7dde0db4f4630a11963f52510e8c5",
       "version_major": 2,
       "version_minor": 0
      },
      "text/plain": [
       "  0%|          | 0/3 [00:00<?, ?it/s]"
      ]
     },
     "metadata": {},
     "output_type": "display_data"
    },
    {
     "data": {
      "application/vnd.jupyter.widget-view+json": {
       "model_id": "04711af259d945a8b425cb841961a316",
       "version_major": 2,
       "version_minor": 0
      },
      "text/plain": [
       "  0%|          | 0/4 [00:00<?, ?it/s]"
      ]
     },
     "metadata": {},
     "output_type": "display_data"
    },
    {
     "data": {
      "application/vnd.jupyter.widget-view+json": {
       "model_id": "078b5366015c43e188954fe27c468f01",
       "version_major": 2,
       "version_minor": 0
      },
      "text/plain": [
       "  0%|          | 0/6 [00:00<?, ?it/s]"
      ]
     },
     "metadata": {},
     "output_type": "display_data"
    },
    {
     "name": "stdout",
     "output_type": "stream",
     "text": [
      "max is  24.90234375  min is  0.5390625\n",
      "average is  5.405687824554896 median is  5.405687824554896\n",
      "standard deviation is  5.405687824554896\n",
      "max is  9.515625  min is  0.0\n",
      "average is  0.31327081787833827 median is  0.31327081787833827\n",
      "standard deviation is  0.31327081787833827\n",
      "minus values here ------------\n",
      "max value is  24.90234375 min value is  -0.30859375  mean value is  5.092417006676558\n",
      " median value is  4.19921875  standard deviation is  3.3974320488474037\n",
      "folder already exists\n",
      "folder already exists\n",
      "calculating image 16 of 23\n",
      "folder already exists\n",
      "folder already exists\n"
     ]
    },
    {
     "data": {
      "application/vnd.jupyter.widget-view+json": {
       "model_id": "9ad78b8d06424afe9111c222d253e098",
       "version_major": 2,
       "version_minor": 0
      },
      "text/plain": [
       "  0%|          | 0/3 [00:00<?, ?it/s]"
      ]
     },
     "metadata": {},
     "output_type": "display_data"
    },
    {
     "data": {
      "application/vnd.jupyter.widget-view+json": {
       "model_id": "ed379e6cc774447e90a6ef7f434e2280",
       "version_major": 2,
       "version_minor": 0
      },
      "text/plain": [
       "  0%|          | 0/4 [00:00<?, ?it/s]"
      ]
     },
     "metadata": {},
     "output_type": "display_data"
    },
    {
     "data": {
      "application/vnd.jupyter.widget-view+json": {
       "model_id": "4833492ba22147eb82395e6142065b48",
       "version_major": 2,
       "version_minor": 0
      },
      "text/plain": [
       "  0%|          | 0/6 [00:00<?, ?it/s]"
      ]
     },
     "metadata": {},
     "output_type": "display_data"
    },
    {
     "name": "stdout",
     "output_type": "stream",
     "text": [
      "max is  20.2109375  min is  0.671875\n",
      "average is  5.527728780539174 median is  5.527728780539174\n",
      "standard deviation is  5.527728780539174\n",
      "max is  19.06640625  min is  0.0\n",
      "average is  1.927094302864364 median is  1.927094302864364\n",
      "standard deviation is  1.927094302864364\n",
      "minus values here ------------\n",
      "max value is  20.2109375 min value is  -8.28125  mean value is  3.6006344776748103\n",
      " median value is  2.7265625  standard deviation is  3.7396202489532264\n",
      "folder already exists\n",
      "folder already exists\n",
      "calculating image 17 of 23\n",
      "folder already exists\n",
      "folder already exists\n"
     ]
    },
    {
     "data": {
      "application/vnd.jupyter.widget-view+json": {
       "model_id": "eb14f0d796da4314930f0bd1ea38e679",
       "version_major": 2,
       "version_minor": 0
      },
      "text/plain": [
       "  0%|          | 0/3 [00:00<?, ?it/s]"
      ]
     },
     "metadata": {},
     "output_type": "display_data"
    },
    {
     "data": {
      "application/vnd.jupyter.widget-view+json": {
       "model_id": "b573c5b7b5344b99b2f7ff518527a7e2",
       "version_major": 2,
       "version_minor": 0
      },
      "text/plain": [
       "  0%|          | 0/4 [00:00<?, ?it/s]"
      ]
     },
     "metadata": {},
     "output_type": "display_data"
    },
    {
     "data": {
      "application/vnd.jupyter.widget-view+json": {
       "model_id": "d10cfbd9287f405d830e253c4cc72b9d",
       "version_major": 2,
       "version_minor": 0
      },
      "text/plain": [
       "  0%|          | 0/6 [00:00<?, ?it/s]"
      ]
     },
     "metadata": {},
     "output_type": "display_data"
    },
    {
     "name": "stdout",
     "output_type": "stream",
     "text": [
      "max is  25.82421875  min is  0.703125\n",
      "average is  5.949562220566319 median is  5.949562220566319\n",
      "standard deviation is  5.949562220566319\n",
      "max is  21.86328125  min is  0.0\n",
      "average is  2.6077129517511177 median is  2.6077129517511177\n",
      "standard deviation is  2.6077129517511177\n",
      "minus values here ------------\n",
      "max value is  19.9765625 min value is  -8.0625  mean value is  3.341849268815201\n",
      " median value is  2.490234375  standard deviation is  3.6970360528176625\n",
      "folder already exists\n",
      "folder already exists\n",
      "calculating image 18 of 23\n",
      "folder already exists\n",
      "folder already exists\n"
     ]
    },
    {
     "data": {
      "application/vnd.jupyter.widget-view+json": {
       "model_id": "e528d6f2794d4d1482c84583b7d8408e",
       "version_major": 2,
       "version_minor": 0
      },
      "text/plain": [
       "  0%|          | 0/3 [00:00<?, ?it/s]"
      ]
     },
     "metadata": {},
     "output_type": "display_data"
    },
    {
     "data": {
      "application/vnd.jupyter.widget-view+json": {
       "model_id": "28e85248d52849d9b84a9ea89b475ea2",
       "version_major": 2,
       "version_minor": 0
      },
      "text/plain": [
       "  0%|          | 0/4 [00:00<?, ?it/s]"
      ]
     },
     "metadata": {},
     "output_type": "display_data"
    },
    {
     "data": {
      "application/vnd.jupyter.widget-view+json": {
       "model_id": "9036ef0cd08d4e759e5abe86c2707a17",
       "version_major": 2,
       "version_minor": 0
      },
      "text/plain": [
       "  0%|          | 0/6 [00:00<?, ?it/s]"
      ]
     },
     "metadata": {},
     "output_type": "display_data"
    },
    {
     "name": "stdout",
     "output_type": "stream",
     "text": [
      "max is  25.0546875  min is  0.80078125\n",
      "average is  5.0969460227272725 median is  5.0969460227272725\n",
      "standard deviation is  5.0969460227272725\n",
      "max is  16.296875  min is  0.0\n",
      "average is  0.38734629814365024 median is  0.38734629814365024\n",
      "standard deviation is  0.38734629814365024\n",
      "minus values here ------------\n",
      "max value is  25.0546875 min value is  -1.921875  mean value is  4.709599724583622\n",
      " median value is  3.87109375  standard deviation is  3.316955617824884\n",
      "folder already exists\n",
      "folder already exists\n",
      "calculating image 19 of 23\n",
      "folder already exists\n",
      "folder already exists\n"
     ]
    },
    {
     "data": {
      "application/vnd.jupyter.widget-view+json": {
       "model_id": "63d380ff079148c2a7498734ead0d3af",
       "version_major": 2,
       "version_minor": 0
      },
      "text/plain": [
       "  0%|          | 0/3 [00:00<?, ?it/s]"
      ]
     },
     "metadata": {},
     "output_type": "display_data"
    },
    {
     "data": {
      "application/vnd.jupyter.widget-view+json": {
       "model_id": "995ea8f911b54371ae526f2e5eeaf003",
       "version_major": 2,
       "version_minor": 0
      },
      "text/plain": [
       "  0%|          | 0/4 [00:00<?, ?it/s]"
      ]
     },
     "metadata": {},
     "output_type": "display_data"
    },
    {
     "data": {
      "application/vnd.jupyter.widget-view+json": {
       "model_id": "e294d28b3b2d472da2c9fa4ac97ae698",
       "version_major": 2,
       "version_minor": 0
      },
      "text/plain": [
       "  0%|          | 0/6 [00:00<?, ?it/s]"
      ]
     },
     "metadata": {},
     "output_type": "display_data"
    },
    {
     "name": "stdout",
     "output_type": "stream",
     "text": [
      "max is  25.7265625  min is  0.8046875\n",
      "average is  5.055323736170867 median is  5.055323736170867\n",
      "standard deviation is  5.055323736170867\n",
      "max is  24.2734375  min is  0.0\n",
      "average is  1.6109235748309774 median is  1.6109235748309774\n",
      "standard deviation is  1.6109235748309774\n",
      "minus values here ------------\n",
      "max value is  25.7265625 min value is  -6.421875  mean value is  3.4444001613398894\n",
      " median value is  2.80859375  standard deviation is  3.1928058716765104\n",
      "folder already exists\n",
      "folder already exists\n",
      "calculating image 20 of 23\n",
      "folder already exists\n",
      "folder already exists\n"
     ]
    },
    {
     "data": {
      "application/vnd.jupyter.widget-view+json": {
       "model_id": "52159065b67446abb902b444463f7931",
       "version_major": 2,
       "version_minor": 0
      },
      "text/plain": [
       "  0%|          | 0/3 [00:00<?, ?it/s]"
      ]
     },
     "metadata": {},
     "output_type": "display_data"
    },
    {
     "data": {
      "application/vnd.jupyter.widget-view+json": {
       "model_id": "ac1660f1568d4e3abc1cc9d08a2a8317",
       "version_major": 2,
       "version_minor": 0
      },
      "text/plain": [
       "  0%|          | 0/4 [00:00<?, ?it/s]"
      ]
     },
     "metadata": {},
     "output_type": "display_data"
    },
    {
     "data": {
      "application/vnd.jupyter.widget-view+json": {
       "model_id": "1f15daa873d940239c90198ac12d0c79",
       "version_major": 2,
       "version_minor": 0
      },
      "text/plain": [
       "  0%|          | 0/6 [00:00<?, ?it/s]"
      ]
     },
     "metadata": {},
     "output_type": "display_data"
    },
    {
     "name": "stdout",
     "output_type": "stream",
     "text": [
      "max is  17.078125  min is  0.53125\n",
      "average is  3.9890544458762887 median is  3.9890544458762887\n",
      "standard deviation is  3.9890544458762887\n",
      "max is  16.65625  min is  0.0\n",
      "average is  1.5946923324742268 median is  1.5946923324742268\n",
      "standard deviation is  1.5946923324742268\n",
      "minus values here ------------\n",
      "max value is  17.078125 min value is  -8.96875  mean value is  2.394362113402062\n",
      " median value is  1.9296875  standard deviation is  2.821685078531532\n",
      "folder already exists\n",
      "folder already exists\n",
      "calculating image 21 of 23\n",
      "folder already exists\n",
      "folder already exists\n"
     ]
    },
    {
     "data": {
      "application/vnd.jupyter.widget-view+json": {
       "model_id": "283a96d94c3649aeb0e071591ffee599",
       "version_major": 2,
       "version_minor": 0
      },
      "text/plain": [
       "  0%|          | 0/3 [00:00<?, ?it/s]"
      ]
     },
     "metadata": {},
     "output_type": "display_data"
    },
    {
     "data": {
      "application/vnd.jupyter.widget-view+json": {
       "model_id": "e128c8fdd9af4f7d9dcc1a5d394ccd44",
       "version_major": 2,
       "version_minor": 0
      },
      "text/plain": [
       "  0%|          | 0/4 [00:00<?, ?it/s]"
      ]
     },
     "metadata": {},
     "output_type": "display_data"
    },
    {
     "data": {
      "application/vnd.jupyter.widget-view+json": {
       "model_id": "568286c7f8b24a729558951d5cf4a40f",
       "version_major": 2,
       "version_minor": 0
      },
      "text/plain": [
       "  0%|          | 0/6 [00:00<?, ?it/s]"
      ]
     },
     "metadata": {},
     "output_type": "display_data"
    },
    {
     "name": "stdout",
     "output_type": "stream",
     "text": [
      "max is  19.6328125  min is  0.64453125\n",
      "average is  5.111643928793533 median is  5.111643928793533\n",
      "standard deviation is  5.111643928793533\n",
      "max is  13.765625  min is  0.0\n",
      "average is  0.9313345382462687 median is  0.9313345382462687\n",
      "standard deviation is  0.9313345382462687\n",
      "minus values here ------------\n",
      "max value is  19.6328125 min value is  -3.140625  mean value is  4.180309390547263\n",
      " median value is  3.509765625  standard deviation is  3.1536563415859256\n",
      "folder already exists\n",
      "folder already exists\n",
      "calculating image 22 of 23\n",
      "folder already exists\n",
      "folder already exists\n"
     ]
    },
    {
     "data": {
      "application/vnd.jupyter.widget-view+json": {
       "model_id": "d50be3864f7d4462839c237d250272b2",
       "version_major": 2,
       "version_minor": 0
      },
      "text/plain": [
       "  0%|          | 0/3 [00:00<?, ?it/s]"
      ]
     },
     "metadata": {},
     "output_type": "display_data"
    },
    {
     "data": {
      "application/vnd.jupyter.widget-view+json": {
       "model_id": "cf2c0e79001b44e6b225cf56829bd69e",
       "version_major": 2,
       "version_minor": 0
      },
      "text/plain": [
       "  0%|          | 0/4 [00:00<?, ?it/s]"
      ]
     },
     "metadata": {},
     "output_type": "display_data"
    },
    {
     "data": {
      "application/vnd.jupyter.widget-view+json": {
       "model_id": "48ff0c33ab1b44d491f8dc63198e606c",
       "version_major": 2,
       "version_minor": 0
      },
      "text/plain": [
       "  0%|          | 0/6 [00:00<?, ?it/s]"
      ]
     },
     "metadata": {},
     "output_type": "display_data"
    },
    {
     "name": "stdout",
     "output_type": "stream",
     "text": [
      "max is  23.30078125  min is  0.5625\n",
      "average is  5.2938769332087015 median is  5.2938769332087015\n",
      "standard deviation is  5.2938769332087015\n",
      "max is  22.84375  min is  0.0\n",
      "average is  1.6564943065941535 median is  1.6564943065941535\n",
      "standard deviation is  1.6564943065941535\n",
      "minus values here ------------\n",
      "max value is  18.6015625 min value is  -5.16015625  mean value is  3.637382626614548\n",
      " median value is  2.93359375  standard deviation is  3.3957362823505965\n",
      "folder already exists\n",
      "folder already exists\n",
      "calculating image 23 of 23\n",
      "folder already exists\n",
      "folder already exists\n"
     ]
    },
    {
     "data": {
      "application/vnd.jupyter.widget-view+json": {
       "model_id": "00a01b0979eb40ecb14721deaa314ff8",
       "version_major": 2,
       "version_minor": 0
      },
      "text/plain": [
       "  0%|          | 0/3 [00:00<?, ?it/s]"
      ]
     },
     "metadata": {},
     "output_type": "display_data"
    },
    {
     "data": {
      "application/vnd.jupyter.widget-view+json": {
       "model_id": "a172c62aa12d491ab73d6b714ad530ff",
       "version_major": 2,
       "version_minor": 0
      },
      "text/plain": [
       "  0%|          | 0/4 [00:00<?, ?it/s]"
      ]
     },
     "metadata": {},
     "output_type": "display_data"
    },
    {
     "data": {
      "application/vnd.jupyter.widget-view+json": {
       "model_id": "2c566159a02845fe87d144f0997e02fe",
       "version_major": 2,
       "version_minor": 0
      },
      "text/plain": [
       "  0%|          | 0/6 [00:00<?, ?it/s]"
      ]
     },
     "metadata": {},
     "output_type": "display_data"
    },
    {
     "name": "stdout",
     "output_type": "stream",
     "text": [
      "max is  30.3984375  min is  0.625\n",
      "average is  5.060234851371951 median is  5.060234851371951\n",
      "standard deviation is  5.060234851371951\n",
      "max is  15.3203125  min is  0.0\n",
      "average is  0.4575624047256098 median is  0.4575624047256098\n",
      "standard deviation is  0.4575624047256098\n",
      "minus values here ------------\n",
      "max value is  26.59765625 min value is  -3.44921875  mean value is  4.602672446646341\n",
      " median value is  3.82421875  standard deviation is  3.1870173326834825\n",
      "Finished analysis woohoo\n",
      "folder already exists\n",
      "C:\\Users\\Image Processing PC\\Downloads\\s2_20211129\\s2\\w2_100pm\\Analysisfolder_Template\n",
      "processing images\n",
      "folder already exists\n",
      "C:\\Users\\Image Processing PC\\Downloads\\s2_20211129\\s2\\w2_100pm\\Analysisfolder_thresholding\n",
      "processing images\n",
      "processed and converted images\n",
      "folder already exists\n",
      "folder already exists\n",
      "calculating image 1 of 12\n",
      "folder already exists\n",
      "folder already exists\n"
     ]
    },
    {
     "data": {
      "application/vnd.jupyter.widget-view+json": {
       "model_id": "5d11545429cd4babaf2ad2cab437c6db",
       "version_major": 2,
       "version_minor": 0
      },
      "text/plain": [
       "  0%|          | 0/3 [00:00<?, ?it/s]"
      ]
     },
     "metadata": {},
     "output_type": "display_data"
    },
    {
     "data": {
      "application/vnd.jupyter.widget-view+json": {
       "model_id": "9ffe0d446f384bed84245f9693fd9d98",
       "version_major": 2,
       "version_minor": 0
      },
      "text/plain": [
       "  0%|          | 0/4 [00:00<?, ?it/s]"
      ]
     },
     "metadata": {},
     "output_type": "display_data"
    },
    {
     "data": {
      "application/vnd.jupyter.widget-view+json": {
       "model_id": "0a86e58de59642d2b77c4f2fd6d9f833",
       "version_major": 2,
       "version_minor": 0
      },
      "text/plain": [
       "  0%|          | 0/6 [00:00<?, ?it/s]"
      ]
     },
     "metadata": {},
     "output_type": "display_data"
    },
    {
     "name": "stdout",
     "output_type": "stream",
     "text": [
      "max is  146.57421875  min is  0.41015625\n",
      "average is  9.833123948204937 median is  9.833123948204937\n",
      "standard deviation is  9.833123948204937\n",
      "max is  144.94140625  min is  0.0\n",
      "average is  7.490227070867614 median is  7.490227070867614\n",
      "standard deviation is  7.490227070867614\n",
      "minus values here ------------\n",
      "max value is  123.93359375 min value is  -121.703125  mean value is  2.3428968773373224\n",
      " median value is  3.32421875  standard deviation is  19.27464602518018\n",
      "folder already exists\n",
      "folder already exists\n",
      "calculating image 2 of 12\n",
      "folder already exists\n",
      "folder already exists\n"
     ]
    },
    {
     "data": {
      "application/vnd.jupyter.widget-view+json": {
       "model_id": "ff40f070071c4016ad9a628c3627d349",
       "version_major": 2,
       "version_minor": 0
      },
      "text/plain": [
       "  0%|          | 0/3 [00:00<?, ?it/s]"
      ]
     },
     "metadata": {},
     "output_type": "display_data"
    },
    {
     "data": {
      "application/vnd.jupyter.widget-view+json": {
       "model_id": "87abc8d0eaa6462880698b1b8bdd118d",
       "version_major": 2,
       "version_minor": 0
      },
      "text/plain": [
       "  0%|          | 0/4 [00:00<?, ?it/s]"
      ]
     },
     "metadata": {},
     "output_type": "display_data"
    },
    {
     "data": {
      "application/vnd.jupyter.widget-view+json": {
       "model_id": "48d58871cb63432da18498799084cf53",
       "version_major": 2,
       "version_minor": 0
      },
      "text/plain": [
       "  0%|          | 0/6 [00:00<?, ?it/s]"
      ]
     },
     "metadata": {},
     "output_type": "display_data"
    },
    {
     "name": "stdout",
     "output_type": "stream",
     "text": [
      "max is  40.9453125  min is  0.46875\n",
      "average is  4.962414168635558 median is  4.962414168635558\n",
      "standard deviation is  4.962414168635558\n",
      "max is  7.12109375  min is  0.0\n",
      "average is  0.1263105434140579 median is  0.1263105434140579\n",
      "standard deviation is  0.1263105434140579\n",
      "minus values here ------------\n",
      "max value is  40.9453125 min value is  -1.0625  mean value is  4.8361036252215\n",
      " median value is  3.5703125  standard deviation is  4.31707871863637\n",
      "folder already exists\n",
      "folder already exists\n",
      "calculating image 3 of 12\n",
      "folder already exists\n",
      "folder already exists\n"
     ]
    },
    {
     "data": {
      "application/vnd.jupyter.widget-view+json": {
       "model_id": "379041b5340a4eef93f3813f1b3cac17",
       "version_major": 2,
       "version_minor": 0
      },
      "text/plain": [
       "  0%|          | 0/3 [00:00<?, ?it/s]"
      ]
     },
     "metadata": {},
     "output_type": "display_data"
    },
    {
     "data": {
      "application/vnd.jupyter.widget-view+json": {
       "model_id": "9bd409215eb544e4970bf6d3a4e89348",
       "version_major": 2,
       "version_minor": 0
      },
      "text/plain": [
       "  0%|          | 0/4 [00:00<?, ?it/s]"
      ]
     },
     "metadata": {},
     "output_type": "display_data"
    },
    {
     "data": {
      "application/vnd.jupyter.widget-view+json": {
       "model_id": "a9cd1716dd37473a94c43d9ba9ddf035",
       "version_major": 2,
       "version_minor": 0
      },
      "text/plain": [
       "  0%|          | 0/6 [00:00<?, ?it/s]"
      ]
     },
     "metadata": {},
     "output_type": "display_data"
    },
    {
     "name": "stdout",
     "output_type": "stream",
     "text": [
      "max is  66.87109375  min is  0.53125\n",
      "average is  5.174366507210205 median is  5.174366507210205\n",
      "standard deviation is  5.174366507210205\n",
      "max is  60.44921875  min is  0.0\n",
      "average is  1.419002183860233 median is  1.419002183860233\n",
      "standard deviation is  1.419002183860233\n",
      "minus values here ------------\n",
      "max value is  32.27734375 min value is  -3.46875  mean value is  3.7553643233499723\n",
      " median value is  2.84765625  standard deviation is  4.167940098524413\n",
      "folder already exists\n",
      "folder already exists\n",
      "calculating image 4 of 12\n",
      "folder already exists\n",
      "folder already exists\n"
     ]
    },
    {
     "data": {
      "application/vnd.jupyter.widget-view+json": {
       "model_id": "8d7bd5af7c1242ae9d88ec566850db1d",
       "version_major": 2,
       "version_minor": 0
      },
      "text/plain": [
       "  0%|          | 0/3 [00:00<?, ?it/s]"
      ]
     },
     "metadata": {},
     "output_type": "display_data"
    },
    {
     "data": {
      "application/vnd.jupyter.widget-view+json": {
       "model_id": "d5c0dfb2824b49d68753bc133af85f35",
       "version_major": 2,
       "version_minor": 0
      },
      "text/plain": [
       "  0%|          | 0/4 [00:00<?, ?it/s]"
      ]
     },
     "metadata": {},
     "output_type": "display_data"
    },
    {
     "data": {
      "application/vnd.jupyter.widget-view+json": {
       "model_id": "939b61ba0e7c4dca9fc3b2e154f1b42e",
       "version_major": 2,
       "version_minor": 0
      },
      "text/plain": [
       "  0%|          | 0/6 [00:00<?, ?it/s]"
      ]
     },
     "metadata": {},
     "output_type": "display_data"
    },
    {
     "name": "stdout",
     "output_type": "stream",
     "text": [
      "max is  97.98046875  min is  0.62109375\n",
      "average is  9.489603015988372 median is  9.489603015988372\n",
      "standard deviation is  9.489603015988372\n",
      "max is  116.60546875  min is  0.0\n",
      "average is  12.72859738372093 median is  12.72859738372093\n",
      "standard deviation is  12.72859738372093\n",
      "minus values here ------------\n",
      "max value is  86.76953125 min value is  -78.26171875  mean value is  -3.238994367732558\n",
      " median value is  0.23046875  standard deviation is  15.31101271644001\n",
      "folder already exists\n",
      "folder already exists\n",
      "calculating image 5 of 12\n",
      "folder already exists\n",
      "folder already exists\n"
     ]
    },
    {
     "data": {
      "application/vnd.jupyter.widget-view+json": {
       "model_id": "dedf257f58a944e5890202761a0402ff",
       "version_major": 2,
       "version_minor": 0
      },
      "text/plain": [
       "  0%|          | 0/3 [00:00<?, ?it/s]"
      ]
     },
     "metadata": {},
     "output_type": "display_data"
    },
    {
     "data": {
      "application/vnd.jupyter.widget-view+json": {
       "model_id": "5ba717b6715e46789b1a552474854764",
       "version_major": 2,
       "version_minor": 0
      },
      "text/plain": [
       "  0%|          | 0/4 [00:00<?, ?it/s]"
      ]
     },
     "metadata": {},
     "output_type": "display_data"
    },
    {
     "data": {
      "application/vnd.jupyter.widget-view+json": {
       "model_id": "20221b9611e44b1ca24e272a612fca57",
       "version_major": 2,
       "version_minor": 0
      },
      "text/plain": [
       "  0%|          | 0/6 [00:00<?, ?it/s]"
      ]
     },
     "metadata": {},
     "output_type": "display_data"
    },
    {
     "name": "stdout",
     "output_type": "stream",
     "text": [
      "max is  21.39453125  min is  0.53515625\n",
      "average is  4.719284370725034 median is  4.719284370725034\n",
      "standard deviation is  4.719284370725034\n",
      "max is  14.0390625  min is  0.0\n",
      "average is  0.2624508378932969 median is  0.2624508378932969\n",
      "standard deviation is  0.2624508378932969\n",
      "minus values here ------------\n",
      "max value is  21.39453125 min value is  -1.2109375  mean value is  4.456833532831737\n",
      " median value is  3.4765625  standard deviation is  3.1700591634137885\n",
      "folder already exists\n",
      "folder already exists\n",
      "calculating image 6 of 12\n",
      "folder already exists\n",
      "folder already exists\n"
     ]
    },
    {
     "data": {
      "application/vnd.jupyter.widget-view+json": {
       "model_id": "6712ba311e9049eb8a37e89465a64382",
       "version_major": 2,
       "version_minor": 0
      },
      "text/plain": [
       "  0%|          | 0/3 [00:00<?, ?it/s]"
      ]
     },
     "metadata": {},
     "output_type": "display_data"
    },
    {
     "data": {
      "application/vnd.jupyter.widget-view+json": {
       "model_id": "be6a7c19e0044a548a763d4e5da09f73",
       "version_major": 2,
       "version_minor": 0
      },
      "text/plain": [
       "  0%|          | 0/4 [00:00<?, ?it/s]"
      ]
     },
     "metadata": {},
     "output_type": "display_data"
    },
    {
     "data": {
      "application/vnd.jupyter.widget-view+json": {
       "model_id": "0ca2a87af0d145ea9ef310779e5c6b6e",
       "version_major": 2,
       "version_minor": 0
      },
      "text/plain": [
       "  0%|          | 0/6 [00:00<?, ?it/s]"
      ]
     },
     "metadata": {},
     "output_type": "display_data"
    },
    {
     "name": "stdout",
     "output_type": "stream",
     "text": [
      "max is  122.02734375  min is  0.91796875\n",
      "average is  14.334327290076336 median is  14.334327290076336\n",
      "standard deviation is  14.334327290076336\n",
      "max is  80.12109375  min is  0.0\n",
      "average is  6.465261211832061 median is  6.465261211832061\n",
      "standard deviation is  6.465261211832061\n",
      "minus values here ------------\n",
      "max value is  122.02734375 min value is  -13.234375  mean value is  7.869066078244275\n",
      " median value is  1.65234375  standard deviation is  19.385201967456634\n",
      "folder already exists\n",
      "folder already exists\n",
      "calculating image 7 of 12\n",
      "folder already exists\n",
      "folder already exists\n"
     ]
    },
    {
     "data": {
      "application/vnd.jupyter.widget-view+json": {
       "model_id": "256ba21a5cbe490f81a501f02df07230",
       "version_major": 2,
       "version_minor": 0
      },
      "text/plain": [
       "  0%|          | 0/3 [00:00<?, ?it/s]"
      ]
     },
     "metadata": {},
     "output_type": "display_data"
    },
    {
     "data": {
      "application/vnd.jupyter.widget-view+json": {
       "model_id": "989b16273863461295d9e4f882f57e3c",
       "version_major": 2,
       "version_minor": 0
      },
      "text/plain": [
       "  0%|          | 0/4 [00:00<?, ?it/s]"
      ]
     },
     "metadata": {},
     "output_type": "display_data"
    },
    {
     "data": {
      "application/vnd.jupyter.widget-view+json": {
       "model_id": "7c5e63c96b0a4e9c9e58099d9f7f5ad6",
       "version_major": 2,
       "version_minor": 0
      },
      "text/plain": [
       "  0%|          | 0/6 [00:00<?, ?it/s]"
      ]
     },
     "metadata": {},
     "output_type": "display_data"
    },
    {
     "name": "stdout",
     "output_type": "stream",
     "text": [
      "max is  49.28125  min is  0.55078125\n",
      "average is  5.632582344517185 median is  5.632582344517185\n",
      "standard deviation is  5.632582344517185\n",
      "max is  24.84375  min is  0.0\n",
      "average is  0.9520956935351882 median is  0.9520956935351882\n",
      "standard deviation is  0.9520956935351882\n",
      "minus values here ------------\n",
      "max value is  49.28125 min value is  -3.1015625  mean value is  4.6804866509819965\n",
      " median value is  3.33203125  standard deviation is  4.7640918021138745\n",
      "folder already exists\n",
      "folder already exists\n",
      "calculating image 8 of 12\n",
      "folder already exists\n",
      "folder already exists\n"
     ]
    },
    {
     "data": {
      "application/vnd.jupyter.widget-view+json": {
       "model_id": "5c8d9fccbd4e41e097469f9c5f16d6cf",
       "version_major": 2,
       "version_minor": 0
      },
      "text/plain": [
       "  0%|          | 0/3 [00:00<?, ?it/s]"
      ]
     },
     "metadata": {},
     "output_type": "display_data"
    },
    {
     "data": {
      "application/vnd.jupyter.widget-view+json": {
       "model_id": "7f0072a3282f43a3aa7ad7191460bbbc",
       "version_major": 2,
       "version_minor": 0
      },
      "text/plain": [
       "  0%|          | 0/4 [00:00<?, ?it/s]"
      ]
     },
     "metadata": {},
     "output_type": "display_data"
    },
    {
     "data": {
      "application/vnd.jupyter.widget-view+json": {
       "model_id": "d8155925182b4cbba528636d0e5c7c22",
       "version_major": 2,
       "version_minor": 0
      },
      "text/plain": [
       "  0%|          | 0/6 [00:00<?, ?it/s]"
      ]
     },
     "metadata": {},
     "output_type": "display_data"
    },
    {
     "name": "stdout",
     "output_type": "stream",
     "text": [
      "max is  21.72265625  min is  0.58203125\n",
      "average is  4.453666594454073 median is  4.453666594454073\n",
      "standard deviation is  4.453666594454073\n",
      "max is  16.55859375  min is  0.0\n",
      "average is  0.5584854311091855 median is  0.5584854311091855\n",
      "standard deviation is  0.5584854311091855\n",
      "minus values here ------------\n",
      "max value is  21.72265625 min value is  -0.33203125  mean value is  3.8951811633448874\n",
      " median value is  3.0625  standard deviation is  2.886535594331445\n",
      "folder already exists\n",
      "folder already exists\n",
      "calculating image 9 of 12\n",
      "folder already exists\n",
      "folder already exists\n"
     ]
    },
    {
     "data": {
      "application/vnd.jupyter.widget-view+json": {
       "model_id": "0c766fdfc872426493e1a2e0a964f1f3",
       "version_major": 2,
       "version_minor": 0
      },
      "text/plain": [
       "  0%|          | 0/3 [00:00<?, ?it/s]"
      ]
     },
     "metadata": {},
     "output_type": "display_data"
    },
    {
     "data": {
      "application/vnd.jupyter.widget-view+json": {
       "model_id": "fabd1f1f7437479a996c8350f0a38031",
       "version_major": 2,
       "version_minor": 0
      },
      "text/plain": [
       "  0%|          | 0/4 [00:00<?, ?it/s]"
      ]
     },
     "metadata": {},
     "output_type": "display_data"
    },
    {
     "data": {
      "application/vnd.jupyter.widget-view+json": {
       "model_id": "f66414cb9b7f4de0b25d0bb2e519a768",
       "version_major": 2,
       "version_minor": 0
      },
      "text/plain": [
       "  0%|          | 0/6 [00:00<?, ?it/s]"
      ]
     },
     "metadata": {},
     "output_type": "display_data"
    },
    {
     "name": "stdout",
     "output_type": "stream",
     "text": [
      "max is  71.6328125  min is  0.7421875\n",
      "average is  8.264918895107794 median is  8.264918895107794\n",
      "standard deviation is  8.264918895107794\n",
      "max is  93.1171875  min is  0.0\n",
      "average is  7.232522284411277 median is  7.232522284411277\n",
      "standard deviation is  7.232522284411277\n",
      "minus values here ------------\n",
      "max value is  43.39453125 min value is  -53.9453125  mean value is  1.0323966106965174\n",
      " median value is  1.01953125  standard deviation is  8.972439375973964\n",
      "folder already exists\n",
      "folder already exists\n",
      "calculating image 10 of 12\n",
      "folder already exists\n",
      "folder already exists\n"
     ]
    },
    {
     "data": {
      "application/vnd.jupyter.widget-view+json": {
       "model_id": "29435abc851c4885af8faf1de789433e",
       "version_major": 2,
       "version_minor": 0
      },
      "text/plain": [
       "  0%|          | 0/3 [00:00<?, ?it/s]"
      ]
     },
     "metadata": {},
     "output_type": "display_data"
    },
    {
     "data": {
      "application/vnd.jupyter.widget-view+json": {
       "model_id": "d06cfd15046849639d4b0db496df4586",
       "version_major": 2,
       "version_minor": 0
      },
      "text/plain": [
       "  0%|          | 0/4 [00:00<?, ?it/s]"
      ]
     },
     "metadata": {},
     "output_type": "display_data"
    },
    {
     "data": {
      "application/vnd.jupyter.widget-view+json": {
       "model_id": "3522559c239449c5a1ca0ca0cc4ca964",
       "version_major": 2,
       "version_minor": 0
      },
      "text/plain": [
       "  0%|          | 0/6 [00:00<?, ?it/s]"
      ]
     },
     "metadata": {},
     "output_type": "display_data"
    },
    {
     "name": "stdout",
     "output_type": "stream",
     "text": [
      "max is  63.12890625  min is  0.67578125\n",
      "average is  5.010864473104056 median is  5.010864473104056\n",
      "standard deviation is  5.010864473104056\n",
      "max is  86.25  min is  0.0\n",
      "average is  2.269627700617284 median is  2.269627700617284\n",
      "standard deviation is  2.269627700617284\n",
      "minus values here ------------\n",
      "max value is  39.80078125 min value is  -23.12109375  mean value is  2.7412367724867726\n",
      " median value is  2.12890625  standard deviation is  3.68140758161289\n",
      "folder already exists\n",
      "folder already exists\n",
      "calculating image 11 of 12\n",
      "folder already exists\n",
      "folder already exists\n"
     ]
    },
    {
     "data": {
      "application/vnd.jupyter.widget-view+json": {
       "model_id": "1c5cf7e4ee6c429d904b8dbb20bf5d34",
       "version_major": 2,
       "version_minor": 0
      },
      "text/plain": [
       "  0%|          | 0/3 [00:00<?, ?it/s]"
      ]
     },
     "metadata": {},
     "output_type": "display_data"
    },
    {
     "data": {
      "application/vnd.jupyter.widget-view+json": {
       "model_id": "79c403e0ba984cf6a58e7654a8498ce0",
       "version_major": 2,
       "version_minor": 0
      },
      "text/plain": [
       "  0%|          | 0/4 [00:00<?, ?it/s]"
      ]
     },
     "metadata": {},
     "output_type": "display_data"
    },
    {
     "data": {
      "application/vnd.jupyter.widget-view+json": {
       "model_id": "1d703d814bc34440a877257868b76879",
       "version_major": 2,
       "version_minor": 0
      },
      "text/plain": [
       "  0%|          | 0/6 [00:00<?, ?it/s]"
      ]
     },
     "metadata": {},
     "output_type": "display_data"
    },
    {
     "name": "stdout",
     "output_type": "stream",
     "text": [
      "max is  22.265625  min is  0.56640625\n",
      "average is  5.297687780269058 median is  5.297687780269058\n",
      "standard deviation is  5.297687780269058\n",
      "max is  89.203125  min is  0.0\n",
      "average is  0.25512542040358743 median is  0.25512542040358743\n",
      "standard deviation is  0.25512542040358743\n",
      "minus values here ------------\n",
      "max value is  20.64453125 min value is  -77.140625  mean value is  5.042562359865471\n",
      " median value is  4.43359375  standard deviation is  4.953829614830886\n",
      "folder already exists\n",
      "folder already exists\n",
      "calculating image 12 of 12\n",
      "folder already exists\n",
      "folder already exists\n"
     ]
    },
    {
     "data": {
      "application/vnd.jupyter.widget-view+json": {
       "model_id": "e82263039edc44adaba162b5449e76d6",
       "version_major": 2,
       "version_minor": 0
      },
      "text/plain": [
       "  0%|          | 0/3 [00:00<?, ?it/s]"
      ]
     },
     "metadata": {},
     "output_type": "display_data"
    },
    {
     "data": {
      "application/vnd.jupyter.widget-view+json": {
       "model_id": "3a7e4b9c2c474adeb06dfe57ce341a4e",
       "version_major": 2,
       "version_minor": 0
      },
      "text/plain": [
       "  0%|          | 0/4 [00:00<?, ?it/s]"
      ]
     },
     "metadata": {},
     "output_type": "display_data"
    },
    {
     "data": {
      "application/vnd.jupyter.widget-view+json": {
       "model_id": "b80726e505db48d2ab5c1bd04933a94b",
       "version_major": 2,
       "version_minor": 0
      },
      "text/plain": [
       "  0%|          | 0/6 [00:00<?, ?it/s]"
      ]
     },
     "metadata": {},
     "output_type": "display_data"
    },
    {
     "name": "stdout",
     "output_type": "stream",
     "text": [
      "max is  20.40234375  min is  0.65234375\n",
      "average is  4.313094842850819 median is  4.313094842850819\n",
      "standard deviation is  4.313094842850819\n",
      "max is  125.1015625  min is  0.0\n",
      "average is  1.1689388280212483 median is  1.1689388280212483\n",
      "standard deviation is  1.1689388280212483\n",
      "minus values here ------------\n",
      "max value is  20.40234375 min value is  -122.90625  mean value is  3.1441560148295706\n",
      " median value is  3.55078125  standard deviation is  9.745628974157984\n",
      "Finished analysis woohoo\n",
      "folder already exists\n",
      "C:\\Users\\Image Processing PC\\Downloads\\s2_20211129\\s2\\w3_1pm\\Analysisfolder_Template\n",
      "processing images\n",
      "folder already exists\n",
      "C:\\Users\\Image Processing PC\\Downloads\\s2_20211129\\s2\\w3_1pm\\Analysisfolder_thresholding\n",
      "processing images\n",
      "processed and converted images\n",
      "folder already exists\n",
      "folder already exists\n",
      "calculating image 1 of 13\n",
      "folder already exists\n",
      "folder already exists\n"
     ]
    },
    {
     "data": {
      "application/vnd.jupyter.widget-view+json": {
       "model_id": "3c25d49cef5a4933ad50f01e7ce41aa2",
       "version_major": 2,
       "version_minor": 0
      },
      "text/plain": [
       "  0%|          | 0/3 [00:00<?, ?it/s]"
      ]
     },
     "metadata": {},
     "output_type": "display_data"
    },
    {
     "data": {
      "application/vnd.jupyter.widget-view+json": {
       "model_id": "bd1717fbf5c14b05a4208e6fc0980d48",
       "version_major": 2,
       "version_minor": 0
      },
      "text/plain": [
       "  0%|          | 0/4 [00:00<?, ?it/s]"
      ]
     },
     "metadata": {},
     "output_type": "display_data"
    },
    {
     "data": {
      "application/vnd.jupyter.widget-view+json": {
       "model_id": "7a24b8960d484aa7b97d3eeb49e6efe7",
       "version_major": 2,
       "version_minor": 0
      },
      "text/plain": [
       "  0%|          | 0/6 [00:00<?, ?it/s]"
      ]
     },
     "metadata": {},
     "output_type": "display_data"
    },
    {
     "name": "stdout",
     "output_type": "stream",
     "text": [
      "max is  28.3125  min is  0.26171875\n",
      "average is  4.9048783396946565 median is  4.9048783396946565\n",
      "standard deviation is  4.9048783396946565\n",
      "max is  14.68359375  min is  0.0\n",
      "average is  0.7619681427827897 median is  0.7619681427827897\n",
      "standard deviation is  0.7619681427827897\n",
      "minus values here ------------\n",
      "max value is  28.3125 min value is  -3.4765625  mean value is  4.142910196911867\n",
      " median value is  3.3671875  standard deviation is  3.515782318501968\n",
      "folder already exists\n",
      "folder already exists\n",
      "calculating image 2 of 13\n",
      "folder already exists\n",
      "folder already exists\n"
     ]
    },
    {
     "data": {
      "application/vnd.jupyter.widget-view+json": {
       "model_id": "ead4dd65f3b24efb9e3c7e21ea9ac743",
       "version_major": 2,
       "version_minor": 0
      },
      "text/plain": [
       "  0%|          | 0/3 [00:00<?, ?it/s]"
      ]
     },
     "metadata": {},
     "output_type": "display_data"
    },
    {
     "data": {
      "application/vnd.jupyter.widget-view+json": {
       "model_id": "b2d580760102438d8a1b67fe24d861f1",
       "version_major": 2,
       "version_minor": 0
      },
      "text/plain": [
       "  0%|          | 0/4 [00:00<?, ?it/s]"
      ]
     },
     "metadata": {},
     "output_type": "display_data"
    },
    {
     "data": {
      "application/vnd.jupyter.widget-view+json": {
       "model_id": "b2b26f248e524d4ea8709dbb335629cd",
       "version_major": 2,
       "version_minor": 0
      },
      "text/plain": [
       "  0%|          | 0/6 [00:00<?, ?it/s]"
      ]
     },
     "metadata": {},
     "output_type": "display_data"
    },
    {
     "name": "stdout",
     "output_type": "stream",
     "text": [
      "max is  142.96875  min is  1.0625\n",
      "average is  70.64578125 median is  70.64578125\n",
      "standard deviation is  70.64578125\n",
      "max is  92.71484375  min is  0.91015625\n",
      "average is  22.085078125 median is  22.085078125\n",
      "standard deviation is  22.085078125\n",
      "minus values here ------------\n",
      "max value is  120.796875 min value is  -2.22265625  mean value is  48.560703125\n",
      " median value is  48.947265625  standard deviation is  43.577519500502206\n",
      "folder already exists\n",
      "folder already exists\n",
      "calculating image 3 of 13\n",
      "folder already exists\n",
      "folder already exists\n"
     ]
    },
    {
     "data": {
      "application/vnd.jupyter.widget-view+json": {
       "model_id": "ab94506539d344a28ca364de6fc4ecae",
       "version_major": 2,
       "version_minor": 0
      },
      "text/plain": [
       "  0%|          | 0/3 [00:00<?, ?it/s]"
      ]
     },
     "metadata": {},
     "output_type": "display_data"
    },
    {
     "data": {
      "application/vnd.jupyter.widget-view+json": {
       "model_id": "c900a91fd0b6457fba001f45bcefa441",
       "version_major": 2,
       "version_minor": 0
      },
      "text/plain": [
       "  0%|          | 0/4 [00:00<?, ?it/s]"
      ]
     },
     "metadata": {},
     "output_type": "display_data"
    },
    {
     "data": {
      "application/vnd.jupyter.widget-view+json": {
       "model_id": "465ed2f0c2e2481e9a12a5a12da7dff8",
       "version_major": 2,
       "version_minor": 0
      },
      "text/plain": [
       "  0%|          | 0/6 [00:00<?, ?it/s]"
      ]
     },
     "metadata": {},
     "output_type": "display_data"
    },
    {
     "name": "stdout",
     "output_type": "stream",
     "text": [
      "max is  94.91796875  min is  0.4921875\n",
      "average is  5.546226258833922 median is  5.546226258833922\n",
      "standard deviation is  5.546226258833922\n",
      "max is  103.32421875  min is  0.0\n",
      "average is  2.7538004269729095 median is  2.7538004269729095\n",
      "standard deviation is  2.7538004269729095\n",
      "minus values here ------------\n",
      "max value is  83.51171875 min value is  -9.60546875  mean value is  2.792425831861013\n",
      " median value is  2.078125  standard deviation is  4.469572617882894\n",
      "folder already exists\n",
      "folder already exists\n",
      "calculating image 4 of 13\n",
      "folder already exists\n",
      "folder already exists\n"
     ]
    },
    {
     "data": {
      "application/vnd.jupyter.widget-view+json": {
       "model_id": "b745b0eb26de4601a689a5aa34f2e1de",
       "version_major": 2,
       "version_minor": 0
      },
      "text/plain": [
       "  0%|          | 0/3 [00:00<?, ?it/s]"
      ]
     },
     "metadata": {},
     "output_type": "display_data"
    },
    {
     "data": {
      "application/vnd.jupyter.widget-view+json": {
       "model_id": "2cf6b3ffd54541b388f61b043e889108",
       "version_major": 2,
       "version_minor": 0
      },
      "text/plain": [
       "  0%|          | 0/4 [00:00<?, ?it/s]"
      ]
     },
     "metadata": {},
     "output_type": "display_data"
    },
    {
     "data": {
      "application/vnd.jupyter.widget-view+json": {
       "model_id": "03a5fac7a1614e6ca3bf2abf14af531a",
       "version_major": 2,
       "version_minor": 0
      },
      "text/plain": [
       "  0%|          | 0/6 [00:00<?, ?it/s]"
      ]
     },
     "metadata": {},
     "output_type": "display_data"
    },
    {
     "name": "stdout",
     "output_type": "stream",
     "text": [
      "max is  21.72265625  min is  0.515625\n",
      "average is  5.372785914665971 median is  5.372785914665971\n",
      "standard deviation is  5.372785914665971\n",
      "max is  16.27734375  min is  0.0\n",
      "average is  0.9598651161273486 median is  0.9598651161273486\n",
      "standard deviation is  0.9598651161273486\n",
      "minus values here ------------\n",
      "max value is  18.25390625 min value is  -3.15625  mean value is  4.4129207985386225\n",
      " median value is  3.640625  standard deviation is  3.426143269079815\n",
      "folder already exists\n",
      "folder already exists\n",
      "calculating image 5 of 13\n",
      "folder already exists\n",
      "folder already exists\n"
     ]
    },
    {
     "data": {
      "application/vnd.jupyter.widget-view+json": {
       "model_id": "d8a0f0959c1241298619bb3d0d754b22",
       "version_major": 2,
       "version_minor": 0
      },
      "text/plain": [
       "  0%|          | 0/3 [00:00<?, ?it/s]"
      ]
     },
     "metadata": {},
     "output_type": "display_data"
    },
    {
     "data": {
      "application/vnd.jupyter.widget-view+json": {
       "model_id": "cd64dcc5d26b4866a077730c4ff99870",
       "version_major": 2,
       "version_minor": 0
      },
      "text/plain": [
       "  0%|          | 0/4 [00:00<?, ?it/s]"
      ]
     },
     "metadata": {},
     "output_type": "display_data"
    },
    {
     "data": {
      "application/vnd.jupyter.widget-view+json": {
       "model_id": "a83f3f9749324004adc291db29739ed2",
       "version_major": 2,
       "version_minor": 0
      },
      "text/plain": [
       "  0%|          | 0/6 [00:00<?, ?it/s]"
      ]
     },
     "metadata": {},
     "output_type": "display_data"
    },
    {
     "name": "stdout",
     "output_type": "stream",
     "text": [
      "max is  24.13671875  min is  0.5703125\n",
      "average is  5.450923413301991 median is  5.450923413301991\n",
      "standard deviation is  5.450923413301991\n",
      "max is  16.90234375  min is  0.0\n",
      "average is  1.0106428028207965 median is  1.0106428028207965\n",
      "standard deviation is  1.0106428028207965\n",
      "minus values here ------------\n",
      "max value is  24.13671875 min value is  -4.55859375  mean value is  4.440280610481195\n",
      " median value is  3.76171875  standard deviation is  3.044637780807531\n",
      "folder already exists\n",
      "folder already exists\n",
      "calculating image 6 of 13\n",
      "folder already exists\n",
      "folder already exists\n"
     ]
    },
    {
     "data": {
      "application/vnd.jupyter.widget-view+json": {
       "model_id": "d6d3cbb51b874bc0a90ec1b21b313f60",
       "version_major": 2,
       "version_minor": 0
      },
      "text/plain": [
       "  0%|          | 0/3 [00:00<?, ?it/s]"
      ]
     },
     "metadata": {},
     "output_type": "display_data"
    },
    {
     "data": {
      "application/vnd.jupyter.widget-view+json": {
       "model_id": "a52cfa3ec0144212b83179e7747523e7",
       "version_major": 2,
       "version_minor": 0
      },
      "text/plain": [
       "  0%|          | 0/4 [00:00<?, ?it/s]"
      ]
     },
     "metadata": {},
     "output_type": "display_data"
    },
    {
     "data": {
      "application/vnd.jupyter.widget-view+json": {
       "model_id": "f474786f9f6140a59915f704bf39cbc0",
       "version_major": 2,
       "version_minor": 0
      },
      "text/plain": [
       "  0%|          | 0/6 [00:00<?, ?it/s]"
      ]
     },
     "metadata": {},
     "output_type": "display_data"
    },
    {
     "name": "stdout",
     "output_type": "stream",
     "text": [
      "max is  28.87890625  min is  0.44140625\n",
      "average is  4.493368007596685 median is  4.493368007596685\n",
      "standard deviation is  4.493368007596685\n",
      "max is  22.578125  min is  0.0\n",
      "average is  1.1369593836325966 median is  1.1369593836325966\n",
      "standard deviation is  1.1369593836325966\n",
      "minus values here ------------\n",
      "max value is  21.80078125 min value is  -7.81640625  mean value is  3.3564086239640885\n",
      " median value is  2.828125  standard deviation is  2.98530064272149\n",
      "folder already exists\n",
      "folder already exists\n",
      "calculating image 7 of 13\n",
      "folder already exists\n",
      "folder already exists\n"
     ]
    },
    {
     "data": {
      "application/vnd.jupyter.widget-view+json": {
       "model_id": "6840d6a3e4004b06826b5ad5f212ad74",
       "version_major": 2,
       "version_minor": 0
      },
      "text/plain": [
       "  0%|          | 0/3 [00:00<?, ?it/s]"
      ]
     },
     "metadata": {},
     "output_type": "display_data"
    },
    {
     "data": {
      "application/vnd.jupyter.widget-view+json": {
       "model_id": "6e50c768aeb545efb64d923ce0890994",
       "version_major": 2,
       "version_minor": 0
      },
      "text/plain": [
       "  0%|          | 0/4 [00:00<?, ?it/s]"
      ]
     },
     "metadata": {},
     "output_type": "display_data"
    },
    {
     "data": {
      "application/vnd.jupyter.widget-view+json": {
       "model_id": "83fdd30a088c48599c3c609dfc4ee2c6",
       "version_major": 2,
       "version_minor": 0
      },
      "text/plain": [
       "  0%|          | 0/6 [00:00<?, ?it/s]"
      ]
     },
     "metadata": {},
     "output_type": "display_data"
    },
    {
     "name": "stdout",
     "output_type": "stream",
     "text": [
      "max is  24.33984375  min is  0.36328125\n",
      "average is  4.2392092427248675 median is  4.2392092427248675\n",
      "standard deviation is  4.2392092427248675\n",
      "max is  18.30859375  min is  0.0\n",
      "average is  1.4253968253968254 median is  1.4253968253968254\n",
      "standard deviation is  1.4253968253968254\n",
      "minus values here ------------\n",
      "max value is  23.53515625 min value is  -4.35546875  mean value is  2.8138124173280423\n",
      " median value is  2.34375  standard deviation is  3.181471107640429\n",
      "folder already exists\n",
      "folder already exists\n",
      "calculating image 8 of 13\n",
      "folder already exists\n",
      "folder already exists\n"
     ]
    },
    {
     "data": {
      "application/vnd.jupyter.widget-view+json": {
       "model_id": "ef7f76b5ded94fd5b0cfb826e4bc1547",
       "version_major": 2,
       "version_minor": 0
      },
      "text/plain": [
       "  0%|          | 0/3 [00:00<?, ?it/s]"
      ]
     },
     "metadata": {},
     "output_type": "display_data"
    },
    {
     "data": {
      "application/vnd.jupyter.widget-view+json": {
       "model_id": "3277d1480c9b41469930043f0e036c1b",
       "version_major": 2,
       "version_minor": 0
      },
      "text/plain": [
       "  0%|          | 0/4 [00:00<?, ?it/s]"
      ]
     },
     "metadata": {},
     "output_type": "display_data"
    },
    {
     "data": {
      "application/vnd.jupyter.widget-view+json": {
       "model_id": "cdec7069fa4a4ad481b5ff9e00a867a2",
       "version_major": 2,
       "version_minor": 0
      },
      "text/plain": [
       "  0%|          | 0/6 [00:00<?, ?it/s]"
      ]
     },
     "metadata": {},
     "output_type": "display_data"
    },
    {
     "name": "stdout",
     "output_type": "stream",
     "text": [
      "max is  26.5078125  min is  0.38671875\n",
      "average is  3.9911405217609883 median is  3.9911405217609883\n",
      "standard deviation is  3.9911405217609883\n",
      "max is  16.71484375  min is  0.0\n",
      "average is  1.2639125790002872 median is  1.2639125790002872\n",
      "standard deviation is  1.2639125790002872\n",
      "minus values here ------------\n",
      "max value is  26.5078125 min value is  -6.48828125  mean value is  2.727227942760701\n",
      " median value is  2.27734375  standard deviation is  3.2653627469032696\n",
      "folder already exists\n",
      "folder already exists\n",
      "calculating image 9 of 13\n",
      "folder already exists\n",
      "folder already exists\n"
     ]
    },
    {
     "data": {
      "application/vnd.jupyter.widget-view+json": {
       "model_id": "0cfac113833d4d94b0f406f9a0e85122",
       "version_major": 2,
       "version_minor": 0
      },
      "text/plain": [
       "  0%|          | 0/3 [00:00<?, ?it/s]"
      ]
     },
     "metadata": {},
     "output_type": "display_data"
    },
    {
     "data": {
      "application/vnd.jupyter.widget-view+json": {
       "model_id": "215590828007451ab0ed50f2ac4bcf11",
       "version_major": 2,
       "version_minor": 0
      },
      "text/plain": [
       "  0%|          | 0/4 [00:00<?, ?it/s]"
      ]
     },
     "metadata": {},
     "output_type": "display_data"
    },
    {
     "data": {
      "application/vnd.jupyter.widget-view+json": {
       "model_id": "5bffee0f4d664540b0a2783ecb3c6cff",
       "version_major": 2,
       "version_minor": 0
      },
      "text/plain": [
       "  0%|          | 0/6 [00:00<?, ?it/s]"
      ]
     },
     "metadata": {},
     "output_type": "display_data"
    },
    {
     "name": "stdout",
     "output_type": "stream",
     "text": [
      "max is  20.93359375  min is  0.70703125\n",
      "average is  4.8582083560417315 median is  4.8582083560417315\n",
      "standard deviation is  4.8582083560417315\n",
      "max is  21.953125  min is  0.0\n",
      "average is  2.397410755995017 median is  2.397410755995017\n",
      "standard deviation is  2.397410755995017\n",
      "minus values here ------------\n",
      "max value is  20.93359375 min value is  -5.3203125  mean value is  2.4607976000467144\n",
      " median value is  1.92578125  standard deviation is  3.3746778985552117\n",
      "folder already exists\n",
      "folder already exists\n",
      "calculating image 10 of 13\n",
      "folder already exists\n",
      "folder already exists\n"
     ]
    },
    {
     "data": {
      "application/vnd.jupyter.widget-view+json": {
       "model_id": "074a4c988b394794bdeeb41bd2441f84",
       "version_major": 2,
       "version_minor": 0
      },
      "text/plain": [
       "  0%|          | 0/3 [00:00<?, ?it/s]"
      ]
     },
     "metadata": {},
     "output_type": "display_data"
    },
    {
     "data": {
      "application/vnd.jupyter.widget-view+json": {
       "model_id": "c0d83db37eda4ae2b097f4d237ff60d7",
       "version_major": 2,
       "version_minor": 0
      },
      "text/plain": [
       "  0%|          | 0/4 [00:00<?, ?it/s]"
      ]
     },
     "metadata": {},
     "output_type": "display_data"
    },
    {
     "data": {
      "application/vnd.jupyter.widget-view+json": {
       "model_id": "3872fe3004c845da8580bb11480634c1",
       "version_major": 2,
       "version_minor": 0
      },
      "text/plain": [
       "  0%|          | 0/6 [00:00<?, ?it/s]"
      ]
     },
     "metadata": {},
     "output_type": "display_data"
    },
    {
     "name": "stdout",
     "output_type": "stream",
     "text": [
      "max is  22.62109375  min is  0.72265625\n",
      "average is  4.687973324887388 median is  4.687973324887388\n",
      "standard deviation is  4.687973324887388\n",
      "max is  22.15234375  min is  0.0\n",
      "average is  3.8203037021396398 median is  3.8203037021396398\n",
      "standard deviation is  3.8203037021396398\n",
      "minus values here ------------\n",
      "max value is  22.62109375 min value is  -10.4296875  mean value is  0.8676696227477477\n",
      " median value is  -0.345703125  standard deviation is  3.6524102933815903\n",
      "folder already exists\n",
      "folder already exists\n",
      "calculating image 11 of 13\n",
      "folder already exists\n",
      "folder already exists\n"
     ]
    },
    {
     "data": {
      "application/vnd.jupyter.widget-view+json": {
       "model_id": "5d682b91e9ac4bee80f12d0cae5537a2",
       "version_major": 2,
       "version_minor": 0
      },
      "text/plain": [
       "  0%|          | 0/3 [00:00<?, ?it/s]"
      ]
     },
     "metadata": {},
     "output_type": "display_data"
    },
    {
     "data": {
      "application/vnd.jupyter.widget-view+json": {
       "model_id": "a930b3b729684c0c8aa9776aaaabbb79",
       "version_major": 2,
       "version_minor": 0
      },
      "text/plain": [
       "  0%|          | 0/4 [00:00<?, ?it/s]"
      ]
     },
     "metadata": {},
     "output_type": "display_data"
    },
    {
     "data": {
      "application/vnd.jupyter.widget-view+json": {
       "model_id": "d28370bcfff4433caa94b3e20dd757e1",
       "version_major": 2,
       "version_minor": 0
      },
      "text/plain": [
       "  0%|          | 0/6 [00:00<?, ?it/s]"
      ]
     },
     "metadata": {},
     "output_type": "display_data"
    },
    {
     "name": "stdout",
     "output_type": "stream",
     "text": [
      "max is  97.35546875  min is  0.75\n",
      "average is  5.438057545564339 median is  5.438057545564339\n",
      "standard deviation is  5.438057545564339\n",
      "max is  96.40234375  min is  0.0\n",
      "average is  1.9234927398989898 median is  1.9234927398989898\n",
      "standard deviation is  1.9234927398989898\n",
      "minus values here ------------\n",
      "max value is  23.80859375 min value is  -2.38671875  mean value is  3.514564805665349\n",
      " median value is  2.921875  standard deviation is  3.0714723753995057\n",
      "folder already exists\n",
      "folder already exists\n",
      "calculating image 12 of 13\n",
      "folder already exists\n",
      "folder already exists\n"
     ]
    },
    {
     "data": {
      "application/vnd.jupyter.widget-view+json": {
       "model_id": "c18a7772a6184e9a94be4f7f14353e74",
       "version_major": 2,
       "version_minor": 0
      },
      "text/plain": [
       "  0%|          | 0/3 [00:00<?, ?it/s]"
      ]
     },
     "metadata": {},
     "output_type": "display_data"
    },
    {
     "data": {
      "application/vnd.jupyter.widget-view+json": {
       "model_id": "2dcfd2c41bd24850b3b660f9d66348e0",
       "version_major": 2,
       "version_minor": 0
      },
      "text/plain": [
       "  0%|          | 0/4 [00:00<?, ?it/s]"
      ]
     },
     "metadata": {},
     "output_type": "display_data"
    },
    {
     "data": {
      "application/vnd.jupyter.widget-view+json": {
       "model_id": "fa4c4a628776440897f0a52cf9564a6e",
       "version_major": 2,
       "version_minor": 0
      },
      "text/plain": [
       "  0%|          | 0/6 [00:00<?, ?it/s]"
      ]
     },
     "metadata": {},
     "output_type": "display_data"
    },
    {
     "name": "stdout",
     "output_type": "stream",
     "text": [
      "max is  16.76171875  min is  0.69921875\n",
      "average is  5.0381449244966445 median is  5.0381449244966445\n",
      "standard deviation is  5.0381449244966445\n",
      "max is  26.98828125  min is  0.0\n",
      "average is  4.891359060402684 median is  4.891359060402684\n",
      "standard deviation is  4.891359060402684\n",
      "minus values here ------------\n",
      "max value is  15.65234375 min value is  -13.0078125  mean value is  0.14678586409395974\n",
      " median value is  -0.896484375  standard deviation is  4.811597888534919\n",
      "folder already exists\n",
      "folder already exists\n",
      "calculating image 13 of 13\n",
      "folder already exists\n",
      "folder already exists\n"
     ]
    },
    {
     "data": {
      "application/vnd.jupyter.widget-view+json": {
       "model_id": "a11ae7e242b2411fbf8bc8134b9e5987",
       "version_major": 2,
       "version_minor": 0
      },
      "text/plain": [
       "  0%|          | 0/3 [00:00<?, ?it/s]"
      ]
     },
     "metadata": {},
     "output_type": "display_data"
    },
    {
     "data": {
      "application/vnd.jupyter.widget-view+json": {
       "model_id": "574d384116eb4fbead666dad6535787c",
       "version_major": 2,
       "version_minor": 0
      },
      "text/plain": [
       "  0%|          | 0/4 [00:00<?, ?it/s]"
      ]
     },
     "metadata": {},
     "output_type": "display_data"
    },
    {
     "data": {
      "application/vnd.jupyter.widget-view+json": {
       "model_id": "cd68bb360146491897ad69ffa4bb38ae",
       "version_major": 2,
       "version_minor": 0
      },
      "text/plain": [
       "  0%|          | 0/6 [00:00<?, ?it/s]"
      ]
     },
     "metadata": {},
     "output_type": "display_data"
    },
    {
     "name": "stdout",
     "output_type": "stream",
     "text": [
      "max is  22.37890625  min is  1.00390625\n",
      "average is  5.179075034184138 median is  5.179075034184138\n",
      "standard deviation is  5.179075034184138\n",
      "max is  16.5546875  min is  0.0\n",
      "average is  1.3473963081130356 median is  1.3473963081130356\n",
      "standard deviation is  1.3473963081130356\n",
      "minus values here ------------\n",
      "max value is  16.54296875 min value is  -3.18359375  mean value is  3.831678726071103\n",
      " median value is  3.16015625  standard deviation is  3.107001675092696\n",
      "Finished analysis woohoo\n",
      "folder already exists\n",
      "C:\\Users\\Image Processing PC\\Downloads\\s2_20211129\\s2\\w4_10fm\\Analysisfolder_Template\n",
      "processing images\n",
      "folder already exists\n",
      "C:\\Users\\Image Processing PC\\Downloads\\s2_20211129\\s2\\w4_10fm\\Analysisfolder_thresholding\n",
      "processing images\n",
      "processed and converted images\n",
      "folder already exists\n",
      "folder already exists\n",
      "calculating image 1 of 21\n",
      "folder already exists\n",
      "folder already exists\n"
     ]
    },
    {
     "data": {
      "application/vnd.jupyter.widget-view+json": {
       "model_id": "8fb7d802a7654ecfb58a837afcd6bd88",
       "version_major": 2,
       "version_minor": 0
      },
      "text/plain": [
       "  0%|          | 0/3 [00:00<?, ?it/s]"
      ]
     },
     "metadata": {},
     "output_type": "display_data"
    },
    {
     "data": {
      "application/vnd.jupyter.widget-view+json": {
       "model_id": "7386574488464b48803167be55ede74b",
       "version_major": 2,
       "version_minor": 0
      },
      "text/plain": [
       "  0%|          | 0/4 [00:00<?, ?it/s]"
      ]
     },
     "metadata": {},
     "output_type": "display_data"
    },
    {
     "data": {
      "application/vnd.jupyter.widget-view+json": {
       "model_id": "4fccc300a4924c869326f630f01e9c01",
       "version_major": 2,
       "version_minor": 0
      },
      "text/plain": [
       "  0%|          | 0/6 [00:00<?, ?it/s]"
      ]
     },
     "metadata": {},
     "output_type": "display_data"
    },
    {
     "name": "stdout",
     "output_type": "stream",
     "text": [
      "max is  27.91015625  min is  0.53515625\n",
      "average is  4.33194478930193 median is  4.33194478930193\n",
      "standard deviation is  4.33194478930193\n",
      "max is  16.859375  min is  0.0\n",
      "average is  0.9281289904937571 median is  0.9281289904937571\n",
      "standard deviation is  0.9281289904937571\n",
      "minus values here ------------\n",
      "max value is  26.31640625 min value is  -2.421875  mean value is  3.4038157988081723\n",
      " median value is  2.8046875  standard deviation is  2.798286237431997\n",
      "folder already exists\n",
      "folder already exists\n",
      "calculating image 2 of 21\n",
      "folder already exists\n",
      "folder already exists\n"
     ]
    },
    {
     "data": {
      "application/vnd.jupyter.widget-view+json": {
       "model_id": "bdda5f8cc58441ff9b0161ae347329d8",
       "version_major": 2,
       "version_minor": 0
      },
      "text/plain": [
       "  0%|          | 0/3 [00:00<?, ?it/s]"
      ]
     },
     "metadata": {},
     "output_type": "display_data"
    },
    {
     "data": {
      "application/vnd.jupyter.widget-view+json": {
       "model_id": "cdd2108896564e999f4a444c129c2d76",
       "version_major": 2,
       "version_minor": 0
      },
      "text/plain": [
       "  0%|          | 0/4 [00:00<?, ?it/s]"
      ]
     },
     "metadata": {},
     "output_type": "display_data"
    },
    {
     "data": {
      "application/vnd.jupyter.widget-view+json": {
       "model_id": "149eea2321ed480f90207f21db935844",
       "version_major": 2,
       "version_minor": 0
      },
      "text/plain": [
       "  0%|          | 0/6 [00:00<?, ?it/s]"
      ]
     },
     "metadata": {},
     "output_type": "display_data"
    },
    {
     "name": "stdout",
     "output_type": "stream",
     "text": [
      "max is  98.078125  min is  0.5859375\n",
      "average is  6.179300494476123 median is  6.179300494476123\n",
      "standard deviation is  6.179300494476123\n",
      "max is  101.12890625  min is  0.0\n",
      "average is  2.439524122416251 median is  2.439524122416251\n",
      "standard deviation is  2.439524122416251\n",
      "minus values here ------------\n",
      "max value is  73.3984375 min value is  -16.51171875  mean value is  3.739776372059872\n",
      " median value is  2.62890625  standard deviation is  5.468035537814037\n",
      "folder already exists\n",
      "folder already exists\n",
      "calculating image 3 of 21\n",
      "folder already exists\n",
      "folder already exists\n"
     ]
    },
    {
     "data": {
      "application/vnd.jupyter.widget-view+json": {
       "model_id": "8ec5ffa18ad84ed6947afd07c2b4248a",
       "version_major": 2,
       "version_minor": 0
      },
      "text/plain": [
       "  0%|          | 0/3 [00:00<?, ?it/s]"
      ]
     },
     "metadata": {},
     "output_type": "display_data"
    },
    {
     "data": {
      "application/vnd.jupyter.widget-view+json": {
       "model_id": "0b02bf9ca63e404992a782bde2c8174e",
       "version_major": 2,
       "version_minor": 0
      },
      "text/plain": [
       "  0%|          | 0/4 [00:00<?, ?it/s]"
      ]
     },
     "metadata": {},
     "output_type": "display_data"
    },
    {
     "data": {
      "application/vnd.jupyter.widget-view+json": {
       "model_id": "e4318b6f13b04c09854630f8e612e035",
       "version_major": 2,
       "version_minor": 0
      },
      "text/plain": [
       "  0%|          | 0/6 [00:00<?, ?it/s]"
      ]
     },
     "metadata": {},
     "output_type": "display_data"
    },
    {
     "name": "stdout",
     "output_type": "stream",
     "text": [
      "max is  71.421875  min is  0.609375\n",
      "average is  6.205763386990801 median is  6.205763386990801\n",
      "standard deviation is  6.205763386990801\n",
      "max is  50.88671875  min is  0.0\n",
      "average is  1.1553773817345598 median is  1.1553773817345598\n",
      "standard deviation is  1.1553773817345598\n",
      "minus values here ------------\n",
      "max value is  57.41796875 min value is  -0.8671875  mean value is  5.050386005256242\n",
      " median value is  3.6015625  standard deviation is  5.570604901891638\n",
      "folder already exists\n",
      "folder already exists\n",
      "calculating image 4 of 21\n",
      "folder already exists\n",
      "folder already exists\n"
     ]
    },
    {
     "data": {
      "application/vnd.jupyter.widget-view+json": {
       "model_id": "786660bac2194bf2911a6dbe9736654d",
       "version_major": 2,
       "version_minor": 0
      },
      "text/plain": [
       "  0%|          | 0/3 [00:00<?, ?it/s]"
      ]
     },
     "metadata": {},
     "output_type": "display_data"
    },
    {
     "data": {
      "application/vnd.jupyter.widget-view+json": {
       "model_id": "75ce7e597c5e4141b7198548f032f239",
       "version_major": 2,
       "version_minor": 0
      },
      "text/plain": [
       "  0%|          | 0/4 [00:00<?, ?it/s]"
      ]
     },
     "metadata": {},
     "output_type": "display_data"
    },
    {
     "data": {
      "application/vnd.jupyter.widget-view+json": {
       "model_id": "b24f447ea4ab4d04bc77c6435f5464f5",
       "version_major": 2,
       "version_minor": 0
      },
      "text/plain": [
       "  0%|          | 0/6 [00:00<?, ?it/s]"
      ]
     },
     "metadata": {},
     "output_type": "display_data"
    },
    {
     "name": "stdout",
     "output_type": "stream",
     "text": [
      "max is  21.91015625  min is  0.7109375\n",
      "average is  5.573138515727392 median is  5.573138515727392\n",
      "standard deviation is  5.573138515727392\n",
      "max is  19.9609375  min is  0.0\n",
      "average is  0.9089224279161205 median is  0.9089224279161205\n",
      "standard deviation is  0.9089224279161205\n",
      "minus values here ------------\n",
      "max value is  21.91015625 min value is  -1.25  mean value is  4.664216087811272\n",
      " median value is  3.609375  standard deviation is  3.657868398331483\n",
      "folder already exists\n",
      "folder already exists\n",
      "calculating image 5 of 21\n",
      "folder already exists\n",
      "folder already exists\n"
     ]
    },
    {
     "data": {
      "application/vnd.jupyter.widget-view+json": {
       "model_id": "b6ba2b6bf19148049bd01d3f230bd2fd",
       "version_major": 2,
       "version_minor": 0
      },
      "text/plain": [
       "  0%|          | 0/3 [00:00<?, ?it/s]"
      ]
     },
     "metadata": {},
     "output_type": "display_data"
    },
    {
     "data": {
      "application/vnd.jupyter.widget-view+json": {
       "model_id": "cd987d8d0a6942f09bf6fc269f8028b5",
       "version_major": 2,
       "version_minor": 0
      },
      "text/plain": [
       "  0%|          | 0/4 [00:00<?, ?it/s]"
      ]
     },
     "metadata": {},
     "output_type": "display_data"
    },
    {
     "data": {
      "application/vnd.jupyter.widget-view+json": {
       "model_id": "33900318bd3549b1a473458e0b84c5f1",
       "version_major": 2,
       "version_minor": 0
      },
      "text/plain": [
       "  0%|          | 0/6 [00:00<?, ?it/s]"
      ]
     },
     "metadata": {},
     "output_type": "display_data"
    },
    {
     "name": "stdout",
     "output_type": "stream",
     "text": [
      "max is  31.578125  min is  0.6953125\n",
      "average is  5.620613302139038 median is  5.620613302139038\n",
      "standard deviation is  5.620613302139038\n",
      "max is  33.1015625  min is  0.0\n",
      "average is  1.7160970922459893 median is  1.7160970922459893\n",
      "standard deviation is  1.7160970922459893\n",
      "minus values here ------------\n",
      "max value is  23.4296875 min value is  -3.29296875  mean value is  3.904516209893048\n",
      " median value is  2.8984375  standard deviation is  3.9129059008869973\n",
      "folder already exists\n",
      "folder already exists\n",
      "calculating image 6 of 21\n",
      "folder already exists\n",
      "folder already exists\n"
     ]
    },
    {
     "data": {
      "application/vnd.jupyter.widget-view+json": {
       "model_id": "388b3a77e71f4914abb65c964a4d3a17",
       "version_major": 2,
       "version_minor": 0
      },
      "text/plain": [
       "  0%|          | 0/3 [00:00<?, ?it/s]"
      ]
     },
     "metadata": {},
     "output_type": "display_data"
    },
    {
     "data": {
      "application/vnd.jupyter.widget-view+json": {
       "model_id": "9bdf3c49993c408c95988bb09f344fbe",
       "version_major": 2,
       "version_minor": 0
      },
      "text/plain": [
       "  0%|          | 0/4 [00:00<?, ?it/s]"
      ]
     },
     "metadata": {},
     "output_type": "display_data"
    },
    {
     "data": {
      "application/vnd.jupyter.widget-view+json": {
       "model_id": "5929829ee0ee4e47b81a14110bf567fb",
       "version_major": 2,
       "version_minor": 0
      },
      "text/plain": [
       "  0%|          | 0/6 [00:00<?, ?it/s]"
      ]
     },
     "metadata": {},
     "output_type": "display_data"
    },
    {
     "name": "stdout",
     "output_type": "stream",
     "text": [
      "max is  28.890625  min is  0.53125\n",
      "average is  5.183297649416909 median is  5.183297649416909\n",
      "standard deviation is  5.183297649416909\n",
      "max is  19.25390625  min is  0.0\n",
      "average is  0.866401694606414 median is  0.866401694606414\n",
      "standard deviation is  0.866401694606414\n",
      "minus values here ------------\n",
      "max value is  20.0234375 min value is  -1.3359375  mean value is  4.316895954810495\n",
      " median value is  3.40625  standard deviation is  3.3103247273348853\n",
      "folder already exists\n",
      "folder already exists\n",
      "calculating image 7 of 21\n",
      "folder already exists\n",
      "folder already exists\n"
     ]
    },
    {
     "data": {
      "application/vnd.jupyter.widget-view+json": {
       "model_id": "40eabcd3bfeb4effaa7b2e7b86fdd505",
       "version_major": 2,
       "version_minor": 0
      },
      "text/plain": [
       "  0%|          | 0/3 [00:00<?, ?it/s]"
      ]
     },
     "metadata": {},
     "output_type": "display_data"
    },
    {
     "data": {
      "application/vnd.jupyter.widget-view+json": {
       "model_id": "79322f3090de436eb4051b648a220b88",
       "version_major": 2,
       "version_minor": 0
      },
      "text/plain": [
       "  0%|          | 0/4 [00:00<?, ?it/s]"
      ]
     },
     "metadata": {},
     "output_type": "display_data"
    },
    {
     "data": {
      "application/vnd.jupyter.widget-view+json": {
       "model_id": "17c83061d1674d1ba83544aaa33cc458",
       "version_major": 2,
       "version_minor": 0
      },
      "text/plain": [
       "  0%|          | 0/6 [00:00<?, ?it/s]"
      ]
     },
     "metadata": {},
     "output_type": "display_data"
    },
    {
     "name": "stdout",
     "output_type": "stream",
     "text": [
      "max is  37.25390625  min is  0.4765625\n",
      "average is  6.078209005376344 median is  6.078209005376344\n",
      "standard deviation is  6.078209005376344\n",
      "max is  22.37109375  min is  0.0\n",
      "average is  1.1438547856536503 median is  1.1438547856536503\n",
      "standard deviation is  1.1438547856536503\n",
      "minus values here ------------\n",
      "max value is  37.25390625 min value is  -2.3515625  mean value is  4.934354219722694\n",
      " median value is  3.8046875  standard deviation is  3.5372201108533807\n",
      "folder already exists\n",
      "folder already exists\n",
      "calculating image 8 of 21\n",
      "folder already exists\n",
      "folder already exists\n"
     ]
    },
    {
     "data": {
      "application/vnd.jupyter.widget-view+json": {
       "model_id": "1bc9fe8dc9c043f5aaa3bc1be9abbf7b",
       "version_major": 2,
       "version_minor": 0
      },
      "text/plain": [
       "  0%|          | 0/3 [00:00<?, ?it/s]"
      ]
     },
     "metadata": {},
     "output_type": "display_data"
    },
    {
     "data": {
      "application/vnd.jupyter.widget-view+json": {
       "model_id": "b3d09782ebd64bfd9c859f0c8da00b65",
       "version_major": 2,
       "version_minor": 0
      },
      "text/plain": [
       "  0%|          | 0/4 [00:00<?, ?it/s]"
      ]
     },
     "metadata": {},
     "output_type": "display_data"
    },
    {
     "data": {
      "application/vnd.jupyter.widget-view+json": {
       "model_id": "bfc839fc131142e48801bf17c1fa5d0a",
       "version_major": 2,
       "version_minor": 0
      },
      "text/plain": [
       "  0%|          | 0/6 [00:00<?, ?it/s]"
      ]
     },
     "metadata": {},
     "output_type": "display_data"
    },
    {
     "name": "stdout",
     "output_type": "stream",
     "text": [
      "max is  48.640625  min is  0.640625\n",
      "average is  6.30507328031695 median is  6.30507328031695\n",
      "standard deviation is  6.30507328031695\n",
      "max is  29.390625  min is  0.0\n",
      "average is  1.8001012000459349 median is  1.8001012000459349\n",
      "standard deviation is  1.8001012000459349\n",
      "minus values here ------------\n",
      "max value is  48.640625 min value is  -6.18359375  mean value is  4.504972080271015\n",
      " median value is  3.64453125  standard deviation is  3.391114185425323\n",
      "folder already exists\n",
      "folder already exists\n",
      "calculating image 9 of 21\n",
      "folder already exists\n",
      "folder already exists\n"
     ]
    },
    {
     "data": {
      "application/vnd.jupyter.widget-view+json": {
       "model_id": "bd82de7dbdeb48838babf44b19671515",
       "version_major": 2,
       "version_minor": 0
      },
      "text/plain": [
       "  0%|          | 0/3 [00:00<?, ?it/s]"
      ]
     },
     "metadata": {},
     "output_type": "display_data"
    },
    {
     "data": {
      "application/vnd.jupyter.widget-view+json": {
       "model_id": "4855eea065794d7ebcb229eeffe17124",
       "version_major": 2,
       "version_minor": 0
      },
      "text/plain": [
       "  0%|          | 0/4 [00:00<?, ?it/s]"
      ]
     },
     "metadata": {},
     "output_type": "display_data"
    },
    {
     "data": {
      "application/vnd.jupyter.widget-view+json": {
       "model_id": "92f3abfeb3d6414c93fcfc67408dabcb",
       "version_major": 2,
       "version_minor": 0
      },
      "text/plain": [
       "  0%|          | 0/6 [00:00<?, ?it/s]"
      ]
     },
     "metadata": {},
     "output_type": "display_data"
    },
    {
     "name": "stdout",
     "output_type": "stream",
     "text": [
      "max is  26.69140625  min is  0.69921875\n",
      "average is  4.542853417843389 median is  4.542853417843389\n",
      "standard deviation is  4.542853417843389\n",
      "max is  23.02734375  min is  0.0\n",
      "average is  1.605423620025674 median is  1.605423620025674\n",
      "standard deviation is  1.605423620025674\n",
      "minus values here ------------\n",
      "max value is  21.421875 min value is  -2.14453125  mean value is  2.937429797817715\n",
      " median value is  1.94140625  standard deviation is  3.3261275574009157\n",
      "folder already exists\n",
      "folder already exists\n",
      "calculating image 10 of 21\n",
      "folder already exists\n",
      "folder already exists\n"
     ]
    },
    {
     "data": {
      "application/vnd.jupyter.widget-view+json": {
       "model_id": "1f19c60b294548878427bed2ece3a55d",
       "version_major": 2,
       "version_minor": 0
      },
      "text/plain": [
       "  0%|          | 0/3 [00:00<?, ?it/s]"
      ]
     },
     "metadata": {},
     "output_type": "display_data"
    },
    {
     "data": {
      "application/vnd.jupyter.widget-view+json": {
       "model_id": "a42fc1f572a04fdda6328a5d4b2c8238",
       "version_major": 2,
       "version_minor": 0
      },
      "text/plain": [
       "  0%|          | 0/4 [00:00<?, ?it/s]"
      ]
     },
     "metadata": {},
     "output_type": "display_data"
    },
    {
     "data": {
      "application/vnd.jupyter.widget-view+json": {
       "model_id": "48a53cc004274f3d9e51f4b0aaa2b686",
       "version_major": 2,
       "version_minor": 0
      },
      "text/plain": [
       "  0%|          | 0/6 [00:00<?, ?it/s]"
      ]
     },
     "metadata": {},
     "output_type": "display_data"
    },
    {
     "name": "stdout",
     "output_type": "stream",
     "text": [
      "max is  19.75  min is  0.76171875\n",
      "average is  4.823851495726496 median is  4.823851495726496\n",
      "standard deviation is  4.823851495726496\n",
      "max is  19.5234375  min is  0.0\n",
      "average is  1.1501903044871795 median is  1.1501903044871795\n",
      "standard deviation is  1.1501903044871795\n",
      "minus values here ------------\n",
      "max value is  18.6171875 min value is  -1.37109375  mean value is  3.6736611912393164\n",
      " median value is  2.787109375  standard deviation is  3.3178867347937997\n",
      "folder already exists\n",
      "folder already exists\n",
      "calculating image 11 of 21\n",
      "folder already exists\n",
      "folder already exists\n"
     ]
    },
    {
     "data": {
      "application/vnd.jupyter.widget-view+json": {
       "model_id": "ab5046f210a64685ada26131a60ff197",
       "version_major": 2,
       "version_minor": 0
      },
      "text/plain": [
       "  0%|          | 0/3 [00:00<?, ?it/s]"
      ]
     },
     "metadata": {},
     "output_type": "display_data"
    },
    {
     "data": {
      "application/vnd.jupyter.widget-view+json": {
       "model_id": "a351d95d4bce4c1097a8d27406b30799",
       "version_major": 2,
       "version_minor": 0
      },
      "text/plain": [
       "  0%|          | 0/4 [00:00<?, ?it/s]"
      ]
     },
     "metadata": {},
     "output_type": "display_data"
    },
    {
     "data": {
      "application/vnd.jupyter.widget-view+json": {
       "model_id": "151daa44cc294b60885383ec1de05b63",
       "version_major": 2,
       "version_minor": 0
      },
      "text/plain": [
       "  0%|          | 0/6 [00:00<?, ?it/s]"
      ]
     },
     "metadata": {},
     "output_type": "display_data"
    },
    {
     "name": "stdout",
     "output_type": "stream",
     "text": [
      "max is  28.68359375  min is  0.65234375\n",
      "average is  5.879371995192308 median is  5.879371995192308\n",
      "standard deviation is  5.879371995192308\n",
      "max is  21.07421875  min is  0.0\n",
      "average is  1.907068810096154 median is  1.907068810096154\n",
      "standard deviation is  1.907068810096154\n",
      "minus values here ------------\n",
      "max value is  22.453125 min value is  -1.5625  mean value is  3.9723031850961537\n",
      " median value is  2.84765625  standard deviation is  3.770430797472504\n",
      "folder already exists\n",
      "folder already exists\n",
      "calculating image 12 of 21\n",
      "folder already exists\n",
      "folder already exists\n"
     ]
    },
    {
     "data": {
      "application/vnd.jupyter.widget-view+json": {
       "model_id": "cb0dcb5b6c6449fdbd9c417e3b14255a",
       "version_major": 2,
       "version_minor": 0
      },
      "text/plain": [
       "  0%|          | 0/3 [00:00<?, ?it/s]"
      ]
     },
     "metadata": {},
     "output_type": "display_data"
    },
    {
     "data": {
      "application/vnd.jupyter.widget-view+json": {
       "model_id": "4d4e62b83d344e5ea425aaa56fa1f8d9",
       "version_major": 2,
       "version_minor": 0
      },
      "text/plain": [
       "  0%|          | 0/4 [00:00<?, ?it/s]"
      ]
     },
     "metadata": {},
     "output_type": "display_data"
    },
    {
     "data": {
      "application/vnd.jupyter.widget-view+json": {
       "model_id": "a9a584d21e494fda82926d2a0cdae7dd",
       "version_major": 2,
       "version_minor": 0
      },
      "text/plain": [
       "  0%|          | 0/6 [00:00<?, ?it/s]"
      ]
     },
     "metadata": {},
     "output_type": "display_data"
    },
    {
     "name": "stdout",
     "output_type": "stream",
     "text": [
      "max is  21.12109375  min is  0.59765625\n",
      "average is  5.716711956521739 median is  5.716711956521739\n",
      "standard deviation is  5.716711956521739\n",
      "max is  19.76171875  min is  0.0\n",
      "average is  1.1617378566576086 median is  1.1617378566576086\n",
      "standard deviation is  1.1617378566576086\n",
      "minus values here ------------\n",
      "max value is  21.12109375 min value is  -6.7421875  mean value is  4.554974099864131\n",
      " median value is  3.6015625  standard deviation is  4.104082202608393\n",
      "folder already exists\n",
      "folder already exists\n",
      "calculating image 13 of 21\n",
      "folder already exists\n",
      "folder already exists\n"
     ]
    },
    {
     "data": {
      "application/vnd.jupyter.widget-view+json": {
       "model_id": "0618ab196c0a45c397c679b16f5a9010",
       "version_major": 2,
       "version_minor": 0
      },
      "text/plain": [
       "  0%|          | 0/3 [00:00<?, ?it/s]"
      ]
     },
     "metadata": {},
     "output_type": "display_data"
    },
    {
     "data": {
      "application/vnd.jupyter.widget-view+json": {
       "model_id": "532744bd1d0549d79ad65d5825c2d944",
       "version_major": 2,
       "version_minor": 0
      },
      "text/plain": [
       "  0%|          | 0/4 [00:00<?, ?it/s]"
      ]
     },
     "metadata": {},
     "output_type": "display_data"
    },
    {
     "data": {
      "application/vnd.jupyter.widget-view+json": {
       "model_id": "55162d4aa21a4e93b5d905a94d43d18b",
       "version_major": 2,
       "version_minor": 0
      },
      "text/plain": [
       "  0%|          | 0/6 [00:00<?, ?it/s]"
      ]
     },
     "metadata": {},
     "output_type": "display_data"
    },
    {
     "name": "stdout",
     "output_type": "stream",
     "text": [
      "max is  25.03125  min is  0.76953125\n",
      "average is  5.673179059180576 median is  5.673179059180576\n",
      "standard deviation is  5.673179059180576\n",
      "max is  23.640625  min is  0.0\n",
      "average is  2.527616416919575 median is  2.527616416919575\n",
      "standard deviation is  2.527616416919575\n",
      "minus values here ------------\n",
      "max value is  17.625 min value is  -12.9765625  mean value is  3.1455626422610017\n",
      " median value is  2.546875  standard deviation is  3.764630302315881\n",
      "folder already exists\n",
      "folder already exists\n",
      "calculating image 14 of 21\n",
      "folder already exists\n",
      "folder already exists\n"
     ]
    },
    {
     "data": {
      "application/vnd.jupyter.widget-view+json": {
       "model_id": "31e7f56796144569ba46c57470498bdb",
       "version_major": 2,
       "version_minor": 0
      },
      "text/plain": [
       "  0%|          | 0/3 [00:00<?, ?it/s]"
      ]
     },
     "metadata": {},
     "output_type": "display_data"
    },
    {
     "data": {
      "application/vnd.jupyter.widget-view+json": {
       "model_id": "7c84f31ea6e6479680e873a2fa628d20",
       "version_major": 2,
       "version_minor": 0
      },
      "text/plain": [
       "  0%|          | 0/4 [00:00<?, ?it/s]"
      ]
     },
     "metadata": {},
     "output_type": "display_data"
    },
    {
     "data": {
      "application/vnd.jupyter.widget-view+json": {
       "model_id": "5c2afc938bcf41cda3b2c8e93c8fad1e",
       "version_major": 2,
       "version_minor": 0
      },
      "text/plain": [
       "  0%|          | 0/6 [00:00<?, ?it/s]"
      ]
     },
     "metadata": {},
     "output_type": "display_data"
    },
    {
     "name": "stdout",
     "output_type": "stream",
     "text": [
      "max is  72.0703125  min is  0.59765625\n",
      "average is  5.555359361495246 median is  5.555359361495246\n",
      "standard deviation is  5.555359361495246\n",
      "max is  54.9140625  min is  0.0\n",
      "average is  2.2809528954191878 median is  2.2809528954191878\n",
      "standard deviation is  2.2809528954191878\n",
      "minus values here ------------\n",
      "max value is  50.453125 min value is  -3.63671875  mean value is  3.2744064660760586\n",
      " median value is  2.39453125  standard deviation is  3.413186490396913\n",
      "folder already exists\n",
      "folder already exists\n",
      "calculating image 15 of 21\n",
      "folder already exists\n",
      "folder already exists\n"
     ]
    },
    {
     "data": {
      "application/vnd.jupyter.widget-view+json": {
       "model_id": "02ff8aa7d80e48818b60d4cdd9a809b6",
       "version_major": 2,
       "version_minor": 0
      },
      "text/plain": [
       "  0%|          | 0/3 [00:00<?, ?it/s]"
      ]
     },
     "metadata": {},
     "output_type": "display_data"
    },
    {
     "data": {
      "application/vnd.jupyter.widget-view+json": {
       "model_id": "35a2ae7f2560403fbac6d4d8aa827ba3",
       "version_major": 2,
       "version_minor": 0
      },
      "text/plain": [
       "  0%|          | 0/4 [00:00<?, ?it/s]"
      ]
     },
     "metadata": {},
     "output_type": "display_data"
    },
    {
     "data": {
      "application/vnd.jupyter.widget-view+json": {
       "model_id": "69c5637921b748d5bfb82a2af87365d7",
       "version_major": 2,
       "version_minor": 0
      },
      "text/plain": [
       "  0%|          | 0/6 [00:00<?, ?it/s]"
      ]
     },
     "metadata": {},
     "output_type": "display_data"
    },
    {
     "name": "stdout",
     "output_type": "stream",
     "text": [
      "max is  26.34765625  min is  0.53125\n",
      "average is  5.360132575757576 median is  5.360132575757576\n",
      "standard deviation is  5.360132575757576\n",
      "max is  17.890625  min is  0.0\n",
      "average is  0.9102935606060606 median is  0.9102935606060606\n",
      "standard deviation is  0.9102935606060606\n",
      "minus values here ------------\n",
      "max value is  25.2109375 min value is  -2.859375  mean value is  4.4498390151515155\n",
      " median value is  3.625  standard deviation is  3.624913073157086\n",
      "folder already exists\n",
      "folder already exists\n",
      "calculating image 16 of 21\n",
      "folder already exists\n",
      "folder already exists\n"
     ]
    },
    {
     "data": {
      "application/vnd.jupyter.widget-view+json": {
       "model_id": "3412088cc4d84312a19fd86aaa27cfaf",
       "version_major": 2,
       "version_minor": 0
      },
      "text/plain": [
       "  0%|          | 0/3 [00:00<?, ?it/s]"
      ]
     },
     "metadata": {},
     "output_type": "display_data"
    },
    {
     "data": {
      "application/vnd.jupyter.widget-view+json": {
       "model_id": "e34afa055eb5480582a38a0fe74da33f",
       "version_major": 2,
       "version_minor": 0
      },
      "text/plain": [
       "  0%|          | 0/4 [00:00<?, ?it/s]"
      ]
     },
     "metadata": {},
     "output_type": "display_data"
    },
    {
     "data": {
      "application/vnd.jupyter.widget-view+json": {
       "model_id": "b49a562d3b5e474f8496ff0b27f4b33d",
       "version_major": 2,
       "version_minor": 0
      },
      "text/plain": [
       "  0%|          | 0/6 [00:00<?, ?it/s]"
      ]
     },
     "metadata": {},
     "output_type": "display_data"
    },
    {
     "name": "stdout",
     "output_type": "stream",
     "text": [
      "max is  20.18359375  min is  0.8515625\n",
      "average is  5.037375582855093 median is  5.037375582855093\n",
      "standard deviation is  5.037375582855093\n",
      "max is  14.8515625  min is  0.0\n",
      "average is  1.3712002331420372 median is  1.3712002331420372\n",
      "standard deviation is  1.3712002331420372\n",
      "minus values here ------------\n",
      "max value is  20.18359375 min value is  -4.171875  mean value is  3.666175349713056\n",
      " median value is  2.91796875  standard deviation is  3.5385082329507913\n",
      "folder already exists\n",
      "folder already exists\n",
      "calculating image 17 of 21\n",
      "folder already exists\n",
      "folder already exists\n"
     ]
    },
    {
     "data": {
      "application/vnd.jupyter.widget-view+json": {
       "model_id": "50a123e984d94589a7db0f20ffbe9e2c",
       "version_major": 2,
       "version_minor": 0
      },
      "text/plain": [
       "  0%|          | 0/3 [00:00<?, ?it/s]"
      ]
     },
     "metadata": {},
     "output_type": "display_data"
    },
    {
     "data": {
      "application/vnd.jupyter.widget-view+json": {
       "model_id": "c462c007138c42789cac608012eac120",
       "version_major": 2,
       "version_minor": 0
      },
      "text/plain": [
       "  0%|          | 0/4 [00:00<?, ?it/s]"
      ]
     },
     "metadata": {},
     "output_type": "display_data"
    },
    {
     "data": {
      "application/vnd.jupyter.widget-view+json": {
       "model_id": "a2b157bd6d184d4eadaca75b1423c657",
       "version_major": 2,
       "version_minor": 0
      },
      "text/plain": [
       "  0%|          | 0/6 [00:00<?, ?it/s]"
      ]
     },
     "metadata": {},
     "output_type": "display_data"
    },
    {
     "name": "stdout",
     "output_type": "stream",
     "text": [
      "max is  17.35546875  min is  0.703125\n",
      "average is  4.8592487657091565 median is  4.8592487657091565\n",
      "standard deviation is  4.8592487657091565\n",
      "max is  13.8984375  min is  0.0\n",
      "average is  1.36987348518851 median is  1.36987348518851\n",
      "standard deviation is  1.36987348518851\n",
      "minus values here ------------\n",
      "max value is  16.0078125 min value is  -0.73046875  mean value is  3.489375280520646\n",
      " median value is  2.65234375  standard deviation is  3.1938962269119897\n",
      "folder already exists\n",
      "folder already exists\n",
      "calculating image 18 of 21\n",
      "folder already exists\n",
      "folder already exists\n"
     ]
    },
    {
     "data": {
      "application/vnd.jupyter.widget-view+json": {
       "model_id": "cf6c2c58f5ea4a1abd57ef9eafb5016d",
       "version_major": 2,
       "version_minor": 0
      },
      "text/plain": [
       "  0%|          | 0/3 [00:00<?, ?it/s]"
      ]
     },
     "metadata": {},
     "output_type": "display_data"
    },
    {
     "data": {
      "application/vnd.jupyter.widget-view+json": {
       "model_id": "0217e14bcfc94205941d79da5d4dee2b",
       "version_major": 2,
       "version_minor": 0
      },
      "text/plain": [
       "  0%|          | 0/4 [00:00<?, ?it/s]"
      ]
     },
     "metadata": {},
     "output_type": "display_data"
    },
    {
     "data": {
      "application/vnd.jupyter.widget-view+json": {
       "model_id": "68ae1ce385e6424eaffb014aa44e737e",
       "version_major": 2,
       "version_minor": 0
      },
      "text/plain": [
       "  0%|          | 0/6 [00:00<?, ?it/s]"
      ]
     },
     "metadata": {},
     "output_type": "display_data"
    },
    {
     "name": "stdout",
     "output_type": "stream",
     "text": [
      "max is  19.74609375  min is  0.5078125\n",
      "average is  4.8950179090531565 median is  4.8950179090531565\n",
      "standard deviation is  4.8950179090531565\n",
      "max is  19.26171875  min is  0.0\n",
      "average is  2.035013496677741 median is  2.035013496677741\n",
      "standard deviation is  2.035013496677741\n",
      "minus values here ------------\n",
      "max value is  19.74609375 min value is  -12.1015625  mean value is  2.860004412375415\n",
      " median value is  2.54296875  standard deviation is  3.59346104469309\n",
      "folder already exists\n",
      "folder already exists\n",
      "calculating image 19 of 21\n",
      "folder already exists\n",
      "folder already exists\n"
     ]
    },
    {
     "data": {
      "application/vnd.jupyter.widget-view+json": {
       "model_id": "d9507d94270d4dc0922f26f2abcf78f8",
       "version_major": 2,
       "version_minor": 0
      },
      "text/plain": [
       "  0%|          | 0/3 [00:00<?, ?it/s]"
      ]
     },
     "metadata": {},
     "output_type": "display_data"
    },
    {
     "data": {
      "application/vnd.jupyter.widget-view+json": {
       "model_id": "5d52f776ddd8450abe10655bb43ede99",
       "version_major": 2,
       "version_minor": 0
      },
      "text/plain": [
       "  0%|          | 0/4 [00:00<?, ?it/s]"
      ]
     },
     "metadata": {},
     "output_type": "display_data"
    },
    {
     "data": {
      "application/vnd.jupyter.widget-view+json": {
       "model_id": "1faa0e5b6b5b4cbb84caa0ae20499f76",
       "version_major": 2,
       "version_minor": 0
      },
      "text/plain": [
       "  0%|          | 0/6 [00:00<?, ?it/s]"
      ]
     },
     "metadata": {},
     "output_type": "display_data"
    },
    {
     "name": "stdout",
     "output_type": "stream",
     "text": [
      "max is  22.046875  min is  0.50390625\n",
      "average is  5.300047946750903 median is  5.300047946750903\n",
      "standard deviation is  5.300047946750903\n",
      "max is  14.37109375  min is  0.0\n",
      "average is  0.8484318592057761 median is  0.8484318592057761\n",
      "standard deviation is  0.8484318592057761\n",
      "minus values here ------------\n",
      "max value is  22.046875 min value is  -4.91796875  mean value is  4.451616087545126\n",
      " median value is  3.5703125  standard deviation is  3.3603867320808316\n",
      "folder already exists\n",
      "folder already exists\n",
      "calculating image 20 of 21\n",
      "folder already exists\n",
      "folder already exists\n"
     ]
    },
    {
     "data": {
      "application/vnd.jupyter.widget-view+json": {
       "model_id": "4fd0bf2109484aada226e7d1aa231782",
       "version_major": 2,
       "version_minor": 0
      },
      "text/plain": [
       "  0%|          | 0/3 [00:00<?, ?it/s]"
      ]
     },
     "metadata": {},
     "output_type": "display_data"
    },
    {
     "data": {
      "application/vnd.jupyter.widget-view+json": {
       "model_id": "3b36724ff7c04f1d9d3c9443990b4a17",
       "version_major": 2,
       "version_minor": 0
      },
      "text/plain": [
       "  0%|          | 0/4 [00:00<?, ?it/s]"
      ]
     },
     "metadata": {},
     "output_type": "display_data"
    },
    {
     "data": {
      "application/vnd.jupyter.widget-view+json": {
       "model_id": "5bcdf2a051204dc39ae1cc8c74fa6dc6",
       "version_major": 2,
       "version_minor": 0
      },
      "text/plain": [
       "  0%|          | 0/6 [00:00<?, ?it/s]"
      ]
     },
     "metadata": {},
     "output_type": "display_data"
    },
    {
     "name": "stdout",
     "output_type": "stream",
     "text": [
      "max is  26.375  min is  0.47265625\n",
      "average is  5.221361074270557 median is  5.221361074270557\n",
      "standard deviation is  5.221361074270557\n",
      "max is  20.05859375  min is  0.0\n",
      "average is  1.4324850795755968 median is  1.4324850795755968\n",
      "standard deviation is  1.4324850795755968\n",
      "minus values here ------------\n",
      "max value is  19.60546875 min value is  -4.97265625  mean value is  3.78887599469496\n",
      " median value is  3.0703125  standard deviation is  3.1857081316455393\n",
      "folder already exists\n",
      "folder already exists\n",
      "calculating image 21 of 21\n",
      "folder already exists\n",
      "folder already exists\n"
     ]
    },
    {
     "data": {
      "application/vnd.jupyter.widget-view+json": {
       "model_id": "67a38d227a9541b2a3f442a307b8f394",
       "version_major": 2,
       "version_minor": 0
      },
      "text/plain": [
       "  0%|          | 0/3 [00:00<?, ?it/s]"
      ]
     },
     "metadata": {},
     "output_type": "display_data"
    },
    {
     "data": {
      "application/vnd.jupyter.widget-view+json": {
       "model_id": "048b8d6d9d484dd3a0dc0cd004499d52",
       "version_major": 2,
       "version_minor": 0
      },
      "text/plain": [
       "  0%|          | 0/4 [00:00<?, ?it/s]"
      ]
     },
     "metadata": {},
     "output_type": "display_data"
    },
    {
     "data": {
      "application/vnd.jupyter.widget-view+json": {
       "model_id": "f79f5a84ae01491b872953e3a37b0916",
       "version_major": 2,
       "version_minor": 0
      },
      "text/plain": [
       "  0%|          | 0/6 [00:00<?, ?it/s]"
      ]
     },
     "metadata": {},
     "output_type": "display_data"
    },
    {
     "name": "stdout",
     "output_type": "stream",
     "text": [
      "max is  33.1171875  min is  0.58203125\n",
      "average is  4.740839543812105 median is  4.740839543812105\n",
      "standard deviation is  4.740839543812105\n",
      "max is  54.5625  min is  0.0\n",
      "average is  2.746975920280036 median is  2.746975920280036\n",
      "standard deviation is  2.746975920280036\n",
      "minus values here ------------\n",
      "max value is  17.6015625 min value is  -21.4453125  mean value is  1.9938636235320686\n",
      " median value is  1.06640625  standard deviation is  3.1612584330050653\n",
      "Finished analysis woohoo\n"
     ]
    },
    {
     "ename": "FileCreateError",
     "evalue": "[Errno 13] Permission denied: 'C:\\\\Users\\\\Image Processing PC\\\\Downloads\\\\s2_20211129\\\\s2\\\\w4_10fm\\\\Analysisfolder_Template\\\\responseforallimages.xlsx'",
     "output_type": "error",
     "traceback": [
      "\u001b[1;31m---------------------------------------------------------------------------\u001b[0m",
      "\u001b[1;31mPermissionError\u001b[0m                           Traceback (most recent call last)",
      "\u001b[1;32mc:\\program files\\python36\\lib\\site-packages\\xlsxwriter\\workbook.py\u001b[0m in \u001b[0;36mclose\u001b[1;34m(self)\u001b[0m\n\u001b[0;32m    319\u001b[0m             \u001b[1;32mtry\u001b[0m\u001b[1;33m:\u001b[0m\u001b[1;33m\u001b[0m\u001b[1;33m\u001b[0m\u001b[0m\n\u001b[1;32m--> 320\u001b[1;33m                 \u001b[0mself\u001b[0m\u001b[1;33m.\u001b[0m\u001b[0m_store_workbook\u001b[0m\u001b[1;33m(\u001b[0m\u001b[1;33m)\u001b[0m\u001b[1;33m\u001b[0m\u001b[1;33m\u001b[0m\u001b[0m\n\u001b[0m\u001b[0;32m    321\u001b[0m             \u001b[1;32mexcept\u001b[0m \u001b[0mIOError\u001b[0m \u001b[1;32mas\u001b[0m \u001b[0me\u001b[0m\u001b[1;33m:\u001b[0m\u001b[1;33m\u001b[0m\u001b[1;33m\u001b[0m\u001b[0m\n",
      "\u001b[1;32mc:\\program files\\python36\\lib\\site-packages\\xlsxwriter\\workbook.py\u001b[0m in \u001b[0;36m_store_workbook\u001b[1;34m(self)\u001b[0m\n\u001b[0;32m    637\u001b[0m         \u001b[1;32mexcept\u001b[0m \u001b[0mIOError\u001b[0m \u001b[1;32mas\u001b[0m \u001b[0me\u001b[0m\u001b[1;33m:\u001b[0m\u001b[1;33m\u001b[0m\u001b[1;33m\u001b[0m\u001b[0m\n\u001b[1;32m--> 638\u001b[1;33m             \u001b[1;32mraise\u001b[0m \u001b[0me\u001b[0m\u001b[1;33m\u001b[0m\u001b[1;33m\u001b[0m\u001b[0m\n\u001b[0m\u001b[0;32m    639\u001b[0m \u001b[1;33m\u001b[0m\u001b[0m\n",
      "\u001b[1;32mc:\\program files\\python36\\lib\\site-packages\\xlsxwriter\\workbook.py\u001b[0m in \u001b[0;36m_store_workbook\u001b[1;34m(self)\u001b[0m\n\u001b[0;32m    635\u001b[0m             xlsx_file = ZipFile(self.filename, \"w\", compression=ZIP_DEFLATED,\n\u001b[1;32m--> 636\u001b[1;33m                                 allowZip64=self.allow_zip64)\n\u001b[0m\u001b[0;32m    637\u001b[0m         \u001b[1;32mexcept\u001b[0m \u001b[0mIOError\u001b[0m \u001b[1;32mas\u001b[0m \u001b[0me\u001b[0m\u001b[1;33m:\u001b[0m\u001b[1;33m\u001b[0m\u001b[1;33m\u001b[0m\u001b[0m\n",
      "\u001b[1;32mc:\\program files\\python36\\lib\\zipfile.py\u001b[0m in \u001b[0;36m__init__\u001b[1;34m(self, file, mode, compression, allowZip64)\u001b[0m\n\u001b[0;32m   1112\u001b[0m                 \u001b[1;32mtry\u001b[0m\u001b[1;33m:\u001b[0m\u001b[1;33m\u001b[0m\u001b[1;33m\u001b[0m\u001b[0m\n\u001b[1;32m-> 1113\u001b[1;33m                     \u001b[0mself\u001b[0m\u001b[1;33m.\u001b[0m\u001b[0mfp\u001b[0m \u001b[1;33m=\u001b[0m \u001b[0mio\u001b[0m\u001b[1;33m.\u001b[0m\u001b[0mopen\u001b[0m\u001b[1;33m(\u001b[0m\u001b[0mfile\u001b[0m\u001b[1;33m,\u001b[0m \u001b[0mfilemode\u001b[0m\u001b[1;33m)\u001b[0m\u001b[1;33m\u001b[0m\u001b[1;33m\u001b[0m\u001b[0m\n\u001b[0m\u001b[0;32m   1114\u001b[0m                 \u001b[1;32mexcept\u001b[0m \u001b[0mOSError\u001b[0m\u001b[1;33m:\u001b[0m\u001b[1;33m\u001b[0m\u001b[1;33m\u001b[0m\u001b[0m\n",
      "\u001b[1;31mPermissionError\u001b[0m: [Errno 13] Permission denied: 'C:\\\\Users\\\\Image Processing PC\\\\Downloads\\\\s2_20211129\\\\s2\\\\w4_10fm\\\\Analysisfolder_Template\\\\responseforallimages.xlsx'",
      "\nDuring handling of the above exception, another exception occurred:\n",
      "\u001b[1;31mFileCreateError\u001b[0m                           Traceback (most recent call last)",
      "\u001b[1;32m<ipython-input-1-307397bdb22c>\u001b[0m in \u001b[0;36m<module>\u001b[1;34m\u001b[0m\n\u001b[0;32m   1052\u001b[0m     \u001b[0mresponseforexcel\u001b[0m \u001b[1;33m=\u001b[0m \u001b[0mpd\u001b[0m\u001b[1;33m.\u001b[0m\u001b[0mDataFrame\u001b[0m\u001b[1;33m(\u001b[0m\u001b[1;33m{\u001b[0m\u001b[1;34m'dimers_picked'\u001b[0m\u001b[1;33m:\u001b[0m\u001b[0mnp\u001b[0m\u001b[1;33m.\u001b[0m\u001b[0marray\u001b[0m\u001b[1;33m(\u001b[0m\u001b[0mdimercount\u001b[0m\u001b[1;33m)\u001b[0m\u001b[1;33m,\u001b[0m\u001b[1;34m'target_picked'\u001b[0m\u001b[1;33m:\u001b[0m\u001b[0mnp\u001b[0m\u001b[1;33m.\u001b[0m\u001b[0marray\u001b[0m\u001b[1;33m(\u001b[0m\u001b[0mtargetcount\u001b[0m\u001b[1;33m)\u001b[0m\u001b[1;33m,\u001b[0m\u001b[1;34m'response'\u001b[0m\u001b[1;33m:\u001b[0m \u001b[0mnp\u001b[0m\u001b[1;33m.\u001b[0m\u001b[0marray\u001b[0m\u001b[1;33m(\u001b[0m\u001b[0mresponse\u001b[0m\u001b[1;33m)\u001b[0m\u001b[1;33m}\u001b[0m\u001b[1;33m)\u001b[0m\u001b[1;33m\u001b[0m\u001b[1;33m\u001b[0m\u001b[0m\n\u001b[0;32m   1053\u001b[0m     \u001b[0mresponsepath_temp\u001b[0m\u001b[1;33m=\u001b[0m\u001b[0msavedir_temp\u001b[0m\u001b[1;33m+\u001b[0m\u001b[1;34m'\\\\'\u001b[0m\u001b[1;33m+\u001b[0m\u001b[1;34m\"responseforallimages.xlsx\"\u001b[0m\u001b[1;33m\u001b[0m\u001b[1;33m\u001b[0m\u001b[0m\n\u001b[1;32m-> 1054\u001b[1;33m     \u001b[0mresponseforexcel\u001b[0m\u001b[1;33m.\u001b[0m\u001b[0mto_excel\u001b[0m\u001b[1;33m(\u001b[0m\u001b[0mresponsepath_temp\u001b[0m\u001b[1;33m)\u001b[0m\u001b[1;33m\u001b[0m\u001b[1;33m\u001b[0m\u001b[0m\n\u001b[0m\u001b[0;32m   1055\u001b[0m \u001b[1;33m\u001b[0m\u001b[0m\n\u001b[0;32m   1056\u001b[0m     \u001b[0msearchfolder_thresh\u001b[0m\u001b[1;33m=\u001b[0m\u001b[0moneuppath_thresh\u001b[0m\u001b[1;33m\u001b[0m\u001b[1;33m\u001b[0m\u001b[0m\n",
      "\u001b[1;32mc:\\program files\\python36\\lib\\site-packages\\pandas\\core\\generic.py\u001b[0m in \u001b[0;36mto_excel\u001b[1;34m(self, excel_writer, sheet_name, na_rep, float_format, columns, header, index, index_label, startrow, startcol, engine, merge_cells, encoding, inf_rep, verbose, freeze_panes)\u001b[0m\n\u001b[0;32m   2030\u001b[0m             \u001b[0mstartcol\u001b[0m\u001b[1;33m=\u001b[0m\u001b[0mstartcol\u001b[0m\u001b[1;33m,\u001b[0m\u001b[1;33m\u001b[0m\u001b[1;33m\u001b[0m\u001b[0m\n\u001b[0;32m   2031\u001b[0m             \u001b[0mfreeze_panes\u001b[0m\u001b[1;33m=\u001b[0m\u001b[0mfreeze_panes\u001b[0m\u001b[1;33m,\u001b[0m\u001b[1;33m\u001b[0m\u001b[1;33m\u001b[0m\u001b[0m\n\u001b[1;32m-> 2032\u001b[1;33m             \u001b[0mengine\u001b[0m\u001b[1;33m=\u001b[0m\u001b[0mengine\u001b[0m\u001b[1;33m,\u001b[0m\u001b[1;33m\u001b[0m\u001b[1;33m\u001b[0m\u001b[0m\n\u001b[0m\u001b[0;32m   2033\u001b[0m         )\n\u001b[0;32m   2034\u001b[0m \u001b[1;33m\u001b[0m\u001b[0m\n",
      "\u001b[1;32mc:\\program files\\python36\\lib\\site-packages\\pandas\\io\\formats\\excel.py\u001b[0m in \u001b[0;36mwrite\u001b[1;34m(self, writer, sheet_name, startrow, startcol, freeze_panes, engine)\u001b[0m\n\u001b[0;32m    740\u001b[0m         )\n\u001b[0;32m    741\u001b[0m         \u001b[1;32mif\u001b[0m \u001b[0mneed_save\u001b[0m\u001b[1;33m:\u001b[0m\u001b[1;33m\u001b[0m\u001b[1;33m\u001b[0m\u001b[0m\n\u001b[1;32m--> 742\u001b[1;33m             \u001b[0mwriter\u001b[0m\u001b[1;33m.\u001b[0m\u001b[0msave\u001b[0m\u001b[1;33m(\u001b[0m\u001b[1;33m)\u001b[0m\u001b[1;33m\u001b[0m\u001b[1;33m\u001b[0m\u001b[0m\n\u001b[0m",
      "\u001b[1;32mc:\\program files\\python36\\lib\\site-packages\\pandas\\io\\excel\\_xlsxwriter.py\u001b[0m in \u001b[0;36msave\u001b[1;34m(self)\u001b[0m\n\u001b[0;32m    191\u001b[0m         \u001b[0mSave\u001b[0m \u001b[0mworkbook\u001b[0m \u001b[0mto\u001b[0m \u001b[0mdisk\u001b[0m\u001b[1;33m.\u001b[0m\u001b[1;33m\u001b[0m\u001b[1;33m\u001b[0m\u001b[0m\n\u001b[0;32m    192\u001b[0m         \"\"\"\n\u001b[1;32m--> 193\u001b[1;33m         \u001b[1;32mreturn\u001b[0m \u001b[0mself\u001b[0m\u001b[1;33m.\u001b[0m\u001b[0mbook\u001b[0m\u001b[1;33m.\u001b[0m\u001b[0mclose\u001b[0m\u001b[1;33m(\u001b[0m\u001b[1;33m)\u001b[0m\u001b[1;33m\u001b[0m\u001b[1;33m\u001b[0m\u001b[0m\n\u001b[0m\u001b[0;32m    194\u001b[0m \u001b[1;33m\u001b[0m\u001b[0m\n\u001b[0;32m    195\u001b[0m     def write_cells(\n",
      "\u001b[1;32mc:\\program files\\python36\\lib\\site-packages\\xlsxwriter\\workbook.py\u001b[0m in \u001b[0;36mclose\u001b[1;34m(self)\u001b[0m\n\u001b[0;32m    320\u001b[0m                 \u001b[0mself\u001b[0m\u001b[1;33m.\u001b[0m\u001b[0m_store_workbook\u001b[0m\u001b[1;33m(\u001b[0m\u001b[1;33m)\u001b[0m\u001b[1;33m\u001b[0m\u001b[1;33m\u001b[0m\u001b[0m\n\u001b[0;32m    321\u001b[0m             \u001b[1;32mexcept\u001b[0m \u001b[0mIOError\u001b[0m \u001b[1;32mas\u001b[0m \u001b[0me\u001b[0m\u001b[1;33m:\u001b[0m\u001b[1;33m\u001b[0m\u001b[1;33m\u001b[0m\u001b[0m\n\u001b[1;32m--> 322\u001b[1;33m                 \u001b[1;32mraise\u001b[0m \u001b[0mFileCreateError\u001b[0m\u001b[1;33m(\u001b[0m\u001b[0me\u001b[0m\u001b[1;33m)\u001b[0m\u001b[1;33m\u001b[0m\u001b[1;33m\u001b[0m\u001b[0m\n\u001b[0m\u001b[0;32m    323\u001b[0m             \u001b[1;32mexcept\u001b[0m \u001b[0mLargeZipFile\u001b[0m \u001b[1;32mas\u001b[0m \u001b[0me\u001b[0m\u001b[1;33m:\u001b[0m\u001b[1;33m\u001b[0m\u001b[1;33m\u001b[0m\u001b[0m\n\u001b[0;32m    324\u001b[0m                 raise FileSizeError(\"Filesize would require ZIP64 extensions. \"\n",
      "\u001b[1;31mFileCreateError\u001b[0m: [Errno 13] Permission denied: 'C:\\\\Users\\\\Image Processing PC\\\\Downloads\\\\s2_20211129\\\\s2\\\\w4_10fm\\\\Analysisfolder_Template\\\\responseforallimages.xlsx'"
     ]
    }
   ],
   "source": [
    "##### CHANGE THIS TO YOUR FOLDER##################\n",
    "##################################################\n",
    "bigfol=r\"C:\\Users\\Image Processing PC\\Downloads\\s2_20211129\"\n",
    "##################################################\n",
    "#################################################\n",
    "\n",
    "\n",
    "\n",
    "\n",
    "\n",
    "\n",
    "#initialise dependencies\n",
    "\n",
    "\n",
    "from matplotlib import pyplot as plt\n",
    "from numpy.linalg import norm\n",
    "import numpy as np\n",
    "\n",
    "from scipy import sparse\n",
    "from imutils.object_detection import non_max_suppression\n",
    "\n",
    "\n",
    "from pathlib import Path\n",
    "\n",
    "\n",
    "from os import listdir\n",
    "import os\n",
    "import glob\n",
    "from PIL import Image\n",
    "import rawpy\n",
    "import imageio\n",
    "\n",
    "\n",
    "from PIL import Image\n",
    "import PIL\n",
    "\n",
    "from PIL.ExifTags import TAGS\n",
    "import imutils\n",
    "\n",
    "import os\n",
    "#import hcluster\n",
    "\n",
    "import re\n",
    "from datetime import datetime\n",
    "import pandas as pd\n",
    "import time\n",
    "\n",
    "from math import pow\n",
    "import scipy.signal \n",
    "%matplotlib qt\n",
    "#template matching\n",
    "\n",
    "import cv2 as cv\n",
    "import numpy as np\n",
    "\n",
    "import os\n",
    "import sys\n",
    "from tqdm.notebook import tqdm\n",
    "from time import sleep\n",
    "from skimage.filters import threshold_otsu, threshold_local\n",
    "from skimage.filters import threshold_otsu, rank\n",
    "from skimage.util import img_as_ubyte\n",
    "\n",
    "\n",
    "\n",
    "\n",
    "\n",
    "#General Functions\n",
    "def listdirs(folder):\n",
    "## a function which lists the files in a folder and adds to a list. returns a list of folders, \n",
    "##input folder: the file path to folder\n",
    "    return [\n",
    "        d for d in (os.path.join(folder, d1) for d1 in os.listdir(folder))\n",
    "        if os.path.isdir(d)\n",
    "    ]\n",
    "\n",
    "def makeclippingmask(image):\n",
    "    \n",
    "\n",
    "    #makes a clipping mask around each bright spot so the analysis isn't thrown off\n",
    "    grayA = cv.cvtColor(image, cv.COLOR_RGB2GRAY)\n",
    "    blurred = cv.GaussianBlur(grayA, (11,11), 0)\n",
    "\n",
    "    #watershed thresholding. Based on: https://docs.opencv.org/3.4/d2/dbd/tutorial_distance_transform.html\n",
    "    src = image.copy()\n",
    "    \n",
    "    \n",
    "    # Create a kernel that we will use to sharpen our image\n",
    "    # an approximation of second derivative, a quite strong kernel\n",
    "    kernel = np.array([[1, 1, 1], [1, -8, 1], [1, 1, 1]], dtype=np.float32)\n",
    "    # do the laplacian filtering as it is\n",
    "    # well, we need to convert everything in something more deeper then CV_8U\n",
    "    # because the kernel has some negative values,\n",
    "    # and we can expect in general to have a Laplacian image with negative values\n",
    "    # BUT a 8bits unsigned int (the one we are working with) can contain values from 0 to 255\n",
    "    # so the possible negative number will be truncated\n",
    "    imgLaplacian = cv.filter2D(src, cv.CV_32F, kernel)\n",
    "    sharp = np.float32(src)\n",
    "    imgResult = sharp - imgLaplacian\n",
    "    # convert back to 8bits gray scale\n",
    "    imgResult = np.clip(imgResult, 0, 255)\n",
    "    imgResult = imgResult.astype('uint8')\n",
    "    imgLaplacian = np.clip(imgLaplacian, 0, 255)\n",
    "    imgLaplacian = np.uint8(imgLaplacian)\n",
    "    #cv.imshow('Laplace Filtered Image', imgLaplacian)\n",
    "    #cv.imshow('New Sharped Image', imgResult)\n",
    "    \n",
    "    # Create binary image from source image\n",
    "    # Create binary image from source image\n",
    "    bw = cv.cvtColor(imgResult, cv.COLOR_BGR2GRAY)\n",
    "   # _, bw2 = cv.threshold(grayA, 30, 255, cv.THRESH_BINARY | cv.THRESH_OTSU)\n",
    "    #plt.imshow(bw)\n",
    "    _, bw = cv.threshold(bw, 30, 255, cv.THRESH_BINARY | cv.THRESH_OTSU)\n",
    "    #cv.imshow('Binary Image', bw)\n",
    "    \n",
    "    \n",
    "    opening = cv.morphologyEx(bw,cv.MORPH_OPEN,kernel, iterations = 3)\n",
    "    \n",
    "    \n",
    "    \n",
    "    # sure background area\n",
    "    sure_bg = cv.dilate(opening,kernel,iterations=3)\n",
    "    \n",
    "    # Finding sure foreground area\n",
    "    dist_transform = cv.distanceTransform(opening,cv.DIST_L2,5)\n",
    "    # Threshold to obtain the peaks\n",
    "    # This will be the markers for the foreground objects\n",
    "    _, sure_fg = cv.threshold(dist_transform, 0.2, 1.0, cv.THRESH_BINARY)\n",
    "    # Dilate a bit the dist image\n",
    "    kernel1 = np.ones((3,3), dtype=np.uint8)\n",
    "    sure_fg = cv.dilate(sure_fg, kernel1)\n",
    "    ret, markers = cv.connectedComponents(np.uint8(sure_fg))\n",
    "    \n",
    "    \n",
    "    #cv.imshow('Final Result', sure_fg)\n",
    "    # Finding unknown region\n",
    "    sure_fg = np.float32(sure_fg)\n",
    "    sure_bg = np.float32(sure_bg)\n",
    "    unknown = cv.subtract(sure_bg,sure_fg)\n",
    "    \n",
    "    #cv.imshow('Distance Transform Image', dist_transform)\n",
    "    \n",
    "    # Marker labelling\n",
    "    \n",
    "\n",
    "    # Add one to all labels so that sure background is not 0, but 1\n",
    "    markers = markers+1\n",
    "\n",
    "    # Now, mark the region of unknown with zero\n",
    "    markers[unknown==255] = 0\n",
    "    #print(markers.shape)\n",
    "    \n",
    "    markers = cv.watershed(imgResult,markers)\n",
    "    #print(markers)\n",
    "    \n",
    "    mask2 = np.zeros(image.shape[:2], dtype= np.uint8)\n",
    "    mask2[markers >1] = [255]\n",
    "    \n",
    "    #colours=((255,255,255))\n",
    "    # Fill labeled objects with random colors\n",
    "    #for i in range(markers.shape[0]):\n",
    "    #    for j in range(markers.shape[1]):\n",
    "    #        index = markers[i,j]\n",
    "    #        if index>0:\n",
    "    #            mask2[i,j] = 255\n",
    "    \n",
    "\n",
    "    image_rgb=image.copy()\n",
    "    image_blocked = cv.bitwise_and(image_rgb, image_rgb, mask=mask2)\n",
    "    #plt.imshow(image_blocked)\n",
    "    return image_blocked\n",
    "\n",
    "def imgregfun(imagebef, imageafter):\n",
    "#### A function for image registration, stolen of the internet but I can't remember where from\n",
    "###Inputs: imagebef- the before image\n",
    "##########imageafter- the after image\n",
    "###outputs: transimaf- the translated after image\n",
    "    # Open the image files.\n",
    "    img1_color = imageafter  # Image to be aligned.\n",
    "    img2_color = imagebef  # Reference image.\n",
    "\n",
    "    # Convert to grayscale.\n",
    "    img1 = cv.cvtColor(img1_color, cv.COLOR_BGR2GRAY)\n",
    "    img2 = cv.cvtColor(img2_color, cv.COLOR_BGR2GRAY)\n",
    "    height, width = img2.shape\n",
    "\n",
    "    # Create ORB detector with 5000 features.\n",
    "    orb_detector = cv.ORB_create(5000)\n",
    "\n",
    "    # Find keypoints and descriptors.\n",
    "    # The first arg is the image, second arg is the mask\n",
    "    #  (which is not reqiured in this case).\n",
    "    kp1, d1 = orb_detector.detectAndCompute(img1, None)\n",
    "    kp2, d2 = orb_detector.detectAndCompute(img2, None)\n",
    "\n",
    "    # Match features between the two images.\n",
    "    # We create a Brute Force matcher with\n",
    "    # Hamming distance as measurement mode.\n",
    "    matcher = cv.BFMatcher(cv.NORM_HAMMING, crossCheck=True)\n",
    "\n",
    "    # Match the two sets of descriptors.\n",
    "    matches = matcher.match(d1, d2)\n",
    "\n",
    "    # Sort matches on the basis of their Hamming distance.\n",
    "    matches.sort(key=lambda x: x.distance)\n",
    "\n",
    "    # Take the top 90 % matches forward.\n",
    "    matches = matches[:np.int(len(matches) * 90)]\n",
    "    no_of_matches = len(matches)\n",
    "\n",
    "    # Define empty matrices of shape no_of_matches * 2.\n",
    "    p1 = np.zeros((no_of_matches, 2))\n",
    "    p2 = np.zeros((no_of_matches, 2))\n",
    "\n",
    "    for i in range(len(matches)):\n",
    "        p1[i, :] = kp1[matches[i].queryIdx].pt\n",
    "        p2[i, :] = kp2[matches[i].trainIdx].pt\n",
    "\n",
    "    # Find the homography matrix.\n",
    "    homography, mask = cv.findHomography(p1, p2, cv.RANSAC)\n",
    "\n",
    "    # Use this matrix to transform the\n",
    "    # colored image wrt the reference image.\n",
    "    transformed_img = cv.warpPerspective(img1_color, homography,\n",
    "                                          (width, height))\n",
    "    transimaf=transformed_img\n",
    "    return transimaf\n",
    "def imageprocessingfunction(beforefol,afterfol):\n",
    "###A function for getting all the CR2 files within the before and after folders, then reading them\n",
    "### and saving them on the disk as virtual images \n",
    "##########################################################################\n",
    "###Inputs: beforefol: selected before folder\n",
    "##########afterfol: selected after folder \n",
    "###Outputs: imaf: the images in the after folder as an array\n",
    "###########imbef: the images in the before folder as an array \n",
    "###########beforeimfile: the list of before image files\n",
    "###########afterimfile: the list of after image files\n",
    "    # Get file list\n",
    "    beforeimfile=glob.glob(beforefol+\"\\\\\"+\"*.ARW\")\n",
    "    afterimfile=glob.glob(afterfol+\"\\\\\"+\"*.ARW\")\n",
    "    #print(afterimfile)\n",
    "\n",
    "    #Exifdata is just there in case you need to edit the images in a fancy way.\n",
    "    imaf,labaf,imbef,labef=[],[],[],[]\n",
    "    for impath in afterimfile:\n",
    "        image,exifdata=   convertfilefun(impath)\n",
    "        imaf.append(np.dstack((image)))\n",
    "        labaf.append(exifdata)\n",
    "    for impath in beforeimfile:\n",
    "        image,exifdata= convertfilefun(impath)\n",
    "        imbef.append(np.dstack((image)))\n",
    "        labef.append(exifdata)\n",
    "    return imaf,imbef,beforeimfile,afterimfile\n",
    "\n",
    "def convertfilefun(path):\n",
    "## a function which converts CR2 images to TIFF images the computer can actually read\n",
    "## input: path- path to raw image\n",
    "## output : an image that is readable using cv2\n",
    "    with rawpy.imread(path) as raw:\n",
    "        #Can fiddle with camera settings but I wouldn't reccoment it\n",
    "        rgb = raw.postprocess(use_camera_wb=True,\n",
    "                              no_auto_bright=True,\n",
    "                              gamma=(2.222, 4.5),\n",
    "                              chromatic_aberration=(1, 1))\n",
    "        #cv2.imwrite(path + '.tiff',rgb)\n",
    "        # extract EXIF data to save as metadata\n",
    "        \n",
    "        metdat = Image.fromarray(rgb)\n",
    "        exifdata = metdat.getexif()\n",
    "        image = rgb\n",
    "        image = rgb.reshape(\n",
    "            (1, image.shape[0], image.shape[1], image.shape[2]))\n",
    "        return image, exifdata\n",
    "        #plt.imsave(path + '.png',rgb)\n",
    "        #g=print(path + '.png')\n",
    "        #return g\n",
    "        \n",
    "def saveexcelfun(dimercoord,corecoord,savepath):\n",
    "#Save the coordinates of everything to an excel spreadsheet. Yeah I know it's ugly. \n",
    "#input: dimercoord- the dimer coordinates\n",
    "########corecoord- the core coordinates \n",
    "########savepath- the folder location where the files will be saved \n",
    "    columns=['Before Dimers xval']\n",
    "    saveexcel=savepath+\".\"+\"xlsx\"\n",
    "    beforedimercentres = pd.DataFrame({'Before Dimers xval':dimercoord})\n",
    "    try:\n",
    "        aftercorecentres = pd.DataFrame({'After core xval': corecoord})\n",
    "    except:\n",
    "        aftercorecentres=pd.DataFrame({'After core xval': np.array([0]), \n",
    "                                'After core yval': np.array([0])})\n",
    "\n",
    "   \n",
    "    writer = pd.ExcelWriter(saveexcel,engine='xlsxwriter')\n",
    "    workbook=writer.book\n",
    "    worksheet=workbook.add_worksheet('DimersPicked')\n",
    "    writer.sheets['DimersPicked'] = worksheet\n",
    "    worksheet2=workbook.add_worksheet('CoresPicked')\n",
    "    writer.sheets['CoresPicked'] = worksheet2\n",
    "\n",
    "\n",
    "    beforedimercentres.to_excel(writer,sheet_name='DimersPicked',startrow=1 , startcol=0)\n",
    "    #worksheet.write_string(beforedimercentres.shape[0] + 4, 0, beforedimercentres.name)\n",
    "\n",
    "    aftercorecentres.to_excel(writer,sheet_name='CoresPicked',startrow=1, startcol=3)\n",
    "    \n",
    "\n",
    "    writer.save()\n",
    "def savetextfilefun(data,savepath,datastring):\n",
    "##### A function which saves an array to a text file. Is a little buggy in that sometimes there's weird spaces. \n",
    "##### reccomend the excel save functions instead. Python struggles to re-read these text tiles\n",
    "\n",
    "    savetextstring=savepath+datastring+\".txt\"\n",
    "    file = open(savetextstring,\"w\")\n",
    "    for dataentry in data:\n",
    "        arr_of_strings = np.array2string(dataentry)\n",
    "        file.write(arr_of_strings) \n",
    "    file.close() \n",
    "    \n",
    "\n",
    "def load_images_from_folder(folder):\n",
    "## A function which reads in images and adds them to a list of images.\n",
    "## input: folder- a string which points to the folder location\n",
    "## output: images, a list of images within the folder\n",
    "## note !! The images wil be read in with open cv, and will be in BGR format and will look strange unless converted\n",
    "    images = []\n",
    "    for filename in os.listdir(folder):\n",
    "        img = cv.imread(os.path.join(folder,filename))        \n",
    "        if img is not None:\n",
    "            images.append(img)\n",
    "    return images\n",
    "def load_images_from_foldercv(folder):\n",
    "## A function which reads in images and adds them to a list of images. This function also converts them to RGB\n",
    "## input: folder- a string which points to the folder location\n",
    "## output: images, a list of images within the folder\n",
    "\n",
    "    images = []\n",
    "    for filename in os.listdir(folder):\n",
    "        img = cv.imread(os.path.join(folder,filename))\n",
    "       \n",
    "        if img is not None:\n",
    "            img= cv.cvtColor(img, cv.COLOR_BGR2RGB)\n",
    "            images.append(img)\n",
    "            \n",
    "    return images\n",
    "def load_images_from_folderhsv(folder):\n",
    "## A function which reads in images and adds them to a list of images. This function also converts them to HSV\n",
    "## input: folder- a string which points to the folder location\n",
    "## output: images, a list of images within the folder\n",
    "    images = []\n",
    "    for filename in os.listdir(folder):\n",
    "        img = cv.imread(os.path.join(folder,filename))\n",
    "        img= cv.cvtColor(img,  cv.COLOR_BGR2HSV)\n",
    "        if img is not None:\n",
    "            images.append(img)\n",
    "    return images\n",
    "\n",
    "#####################################################\n",
    "###################################################\n",
    "#Template matching functions\n",
    "\n",
    "\n",
    "def findidealimagescale(image,template):\n",
    "    # loop over the images to find the template in\n",
    "   \n",
    "        # load the image, convert it to grayscale, and initialize the\n",
    "        # bookkeeping variable to keep track of the matched region\n",
    "        \n",
    "    gray = cv.cvtColor(image, cv.COLOR_RGB2GRAY)\n",
    "    template=cv.cvtColor(template, cv.COLOR_HSV2RGB)\n",
    "    template=cv.cvtColor(template, cv.COLOR_RGB2GRAY)\n",
    "    #template.astype(np.uint8)\n",
    "    #gray.astype(np.uint8)\n",
    "    found = None\n",
    "    scalefin= None\n",
    "    (h, w) = template.shape[:2]\n",
    "    i=0\n",
    "    # loop over the scales of the image\n",
    "    for scale in np.linspace(0.2, 1.0, 20)[::-1]:\n",
    "        # resize the image according to the scale, and keep track\n",
    "        # of the ratio of the resizing\n",
    "        resized = imutils.resize(gray, width = int(gray.shape[1] * scale))\n",
    "        r = gray.shape[1] / float(resized.shape[1])\n",
    "        # if the resized image is smaller than the template, then break\n",
    "        # from the loop\n",
    "        if resized.shape[0] < h or resized.shape[1] < w:\n",
    "            break\n",
    "        result = cv.matchTemplate(gray, template,cv.TM_CCOEFF_NORMED)\n",
    "        (minval, _, minloc, _) = cv.minMaxLoc(result)\n",
    "        if found is None or minval < found:\n",
    "            found = minval\n",
    "            scalefin=scale\n",
    "    return scalefin \n",
    "        \n",
    "# Malisiewicz et al.\n",
    "def non_max_suppression_fast(boxes, overlapThresh):\n",
    "    # if there are no boxes, return an empty list\n",
    "    if len(boxes) == 0:\n",
    "        return []\n",
    "    # if the bounding boxes integers, convert them to floats --\n",
    "    # this is important since we'll be doing a bunch of divisions\n",
    "    if boxes.dtype.kind == \"i\":\n",
    "        boxes = boxes.astype(\"float\")\n",
    "    # initialize the list of picked indexes\t\n",
    "    pick = []\n",
    "    # grab the coordinates of the bounding boxes\n",
    "    x1 = boxes[:,0]\n",
    "    y1 = boxes[:,1]\n",
    "    x2 = boxes[:,2]\n",
    "    y2 = boxes[:,3]\n",
    "    # compute the area of the bounding boxes and sort the bounding\n",
    "    # boxes by the bottom-right y-coordinate of the bounding box\n",
    "    area = (x2 - x1 + 1) * (y2 - y1 + 1)\n",
    "    idxs = np.argsort(y2)\n",
    "    # keep looping while some indexes still remain in the indexes\n",
    "    # list\n",
    "    while len(idxs) > 0:\n",
    "        # grab the last index in the indexes list and add the\n",
    "        # index value to the list of picked indexes\n",
    "        last = len(idxs) - 1\n",
    "        i = idxs[last]\n",
    "        pick.append(i)\n",
    "        # find the largest (x, y) coordinates for the start of\n",
    "        # the bounding box and the smallest (x, y) coordinates\n",
    "        # for the end of the bounding box\n",
    "        xx1 = np.maximum(x1[i], x1[idxs[:last]])\n",
    "        yy1 = np.maximum(y1[i], y1[idxs[:last]])\n",
    "        xx2 = np.minimum(x2[i], x2[idxs[:last]])\n",
    "        yy2 = np.minimum(y2[i], y2[idxs[:last]])\n",
    "        # compute the width and height of the bounding box\n",
    "        w = np.maximum(0, xx2 - xx1 + 1)\n",
    "        h = np.maximum(0, yy2 - yy1 + 1)\n",
    "        # compute the ratio of overlap\n",
    "        overlap = (w * h) / area[idxs[:last]]\n",
    "        # delete all indexes from the index list that have\n",
    "        idxs = np.delete(idxs, np.concatenate(([last],\n",
    "            np.where(overlap > overlapThresh)[0])))\n",
    "    # return only the bounding boxes that were picked using the\n",
    "    # integer data type\n",
    "    return boxes[pick].astype(\"int\")\n",
    "        \n",
    "def nonmaxsuppression(xCoords,yCoords,template):\n",
    "    center_coordinates=[]\n",
    "    rects=[]\n",
    "    rectangle_coordinates=[]\n",
    "    (w, h) = template.shape[:2]\n",
    "    #print(w)\n",
    "    #print(h)\n",
    "## stops the overcounting of variables with nonmax suppression and returns an updated list\n",
    "    for (x, y) in zip(xCoords, yCoords):\n",
    "    # update our list of rectangles\n",
    "        rects.append((x, y, x +w, y + h))\n",
    "    picked_rectangles=non_max_suppression_fast(np.array(rects),0.5)\n",
    "        #I hate how opencv does rectangles, so arrange these to finds the centres\n",
    "    for (startX, startY, endX, endY) in picked_rectangles:\n",
    "        #the coordinates are top left hand corner, bottom right hand corner for rectangles \n",
    "        center_coordinates.append((startX+h//2,startY+h//2))\n",
    "        rectangle_coordinates.append((startX, startY, endX, endY))\n",
    "     \n",
    "    #print(\"center coordinates are \",center_coordinates)\n",
    "    #print(\"rectangle_coordinates are \", rectangle_coordinates)\n",
    "    return center_coordinates,rectangle_coordinates,w,h\n",
    "\n",
    "def templatematchingalgorithm(img_hsv,template, method,threshold):\n",
    "# defines the template matching algorithm and finds the minimum locations\n",
    "#inputs: img_rgb- the image to be matched in HSV format\n",
    "#########template- the template to be matched in HSV format\n",
    "#########method- the method of determining the minim. cv.TM_SQDIFF_NORMED is good for colour\n",
    "##### extras found here: https://docs.opencv.org/master/df/dfb/group__imgproc__object.html#ga3a7850640f1fe1f58fe91a2d7583695d\n",
    "#########threshold: the threshold where the minimum is defined. Variable. May want to do something with min_val and max\n",
    "#outputs: locations_of_minimum- a really big array that needs to be zipped. \n",
    "#Note: this works on colour (3 d) images but may want to change to just hue\n",
    "    img_hsv = cv.cvtColor(img_hsv, cv.COLOR_HSV2BGR)\n",
    "    img_hsv = cv.cvtColor(img_hsv, cv.COLOR_BGR2Lab)\n",
    "    _,img_hsv_a,img_hsv_b=cv.split(img_hsv)\n",
    "    template = cv.cvtColor(template, cv.COLOR_HSV2BGR)\n",
    "    template = cv.cvtColor(template, cv.COLOR_BGR2Lab)\n",
    "    _,template_a,template_b=cv.split(template)\n",
    "    \n",
    "    mat_of_matching_results_a=cv.matchTemplate(img_hsv_a,template_a,method)\n",
    "    mat_of_matching_results_b=cv.matchTemplate(img_hsv_b,template_b,method)\n",
    "    \n",
    "    #This is to get some details about the minimum but isn't actually used\n",
    "    #print(\"template matching done\")\n",
    "    (min_val_a, max_val_a, _, max_loc_a) = cv.minMaxLoc(mat_of_matching_results_a)\n",
    "    (min_val_b, max_val_b, _, max_loc_b) = cv.minMaxLoc(mat_of_matching_results_b)\n",
    "    \n",
    "    #print(\"The min is done\")\n",
    "    #print(min_val)\n",
    "    #print(max_val_a)\n",
    "    if max_val_a>threshold:\n",
    "        #threshold=0.6\n",
    "        (yCoords, xCoords) = np.where(np.logical_and(mat_of_matching_results_a >= threshold, mat_of_matching_results_b>=threshold))\n",
    "        while (len(xCoords))>2500000:\n",
    "            threshold=threshold+0.1\n",
    "            #print(threshold)\n",
    "            (yCoords, xCoords) = np.where(np.logical_and(mat_of_matching_results_a >= threshold, mat_of_matching_results_b>=threshold))\n",
    "            \n",
    "    \n",
    "        center_coordinates,rectangle_coordinates,w,h=nonmaxsuppression(xCoords,yCoords,template_a)\n",
    "    else:\n",
    "        center_coordinates=[[0,0]]\n",
    "        rectangle_coordinates=[[0,0,0,0]]\n",
    "        w=0.00001\n",
    "        h=0.00001\n",
    "    \n",
    "    #print(locations_of_minimum)\n",
    "    return center_coordinates,rectangle_coordinates,w,h\n",
    "\n",
    "\n",
    "\n",
    "    \n",
    "    \n",
    "def imagetempmatch(imgpath,img_rgb,threshold,clumpflag):\n",
    "## performs the template matching function on each template image found in imgpath\n",
    "## input: imgpath: a string pointing to the folder the template images are contained in\n",
    "##########img_rgb: the image to be matched, in rgb format \n",
    "##########threshold: the threshold at which the minimum is accepted. The minimum value is the value where the \n",
    "#####################template matching function thinks that the image is matched. Note, this may be a maximum \n",
    "####################for other methods\n",
    "    #loads the template images in as HSV\n",
    "    images=load_images_from_folderhsv(imgpath)\n",
    "    center_list=[]\n",
    "    rectangle_list=[]\n",
    "    r_list=[]\n",
    "    #Creates a mask which has the shape of the image to be matched. The dtype is important or error will occur. \n",
    "    # This mask is to test whether the template matching has counted the same point multiple times\n",
    "    mask = np.zeros(img_rgb.shape, dtype=np.uint8)\n",
    "    res=[];\n",
    "    if clumpflag==1:\n",
    "        scale=findidealimagescale(img_rgb,images[0])\n",
    "    else:\n",
    "        scale=1\n",
    "    #print(scale)\n",
    "    resized = imutils.resize(img_rgb, width = int(img_rgb.shape[1]*scale))\n",
    "    for template in tqdm(images):\n",
    "        #for each template, the width and height is taken\n",
    "        if clumpflag==1:\n",
    "            scale=findidealimagescale(img_rgb,template)\n",
    "        else:\n",
    "            scale=1\n",
    "        #print(scale)\n",
    "        resized = imutils.resize(img_rgb, width = int(img_rgb.shape[1]*scale))\n",
    "\n",
    "        w=16\n",
    "        h=16\n",
    "        \n",
    "        \n",
    "        #big image converted to hsv format\n",
    "        img_hsv= cv.cvtColor(resized,  cv.COLOR_RGB2HSV)\n",
    "        #the location minima identified with the template matching algorithm\n",
    "        center_coordinates,rectangle_coordinates,w,h=templatematchingalgorithm(img_hsv,template,cv.TM_CCOEFF_NORMED,threshold)\n",
    "        center_list.extend(center_coordinates)\n",
    "        rectangle_list.extend(rectangle_coordinates)\n",
    "        r_list.append(w)\n",
    "        \n",
    "        #print(center_coordinates)\n",
    "        \n",
    "        #print(\"locations of min are\", locations_of_min)\n",
    "        # the locations are checked for multiple counting of the same point. \n",
    "        #particle_count=checkfordoublecounting(img_hsv,locations_of_min)\n",
    "        #print(particle_count)\n",
    "    #print(np.array(center_list))\n",
    "    return np.array(center_list),np.array(rectangle_list),np.max(np.array(r_list)),h\n",
    "\n",
    "\n",
    "def blockimagecombo(image_rgb, points,r,bok):\n",
    "    #print(points)\n",
    "    if bok==1:\n",
    "        image_blocked=image_rgb.copy()\n",
    "        for pt in points:\n",
    "            \n",
    "            image_blocked = cv.circle(image_blocked,pt,r, (255,255,255), -1)\n",
    "    else:\n",
    "        mask2 = np.zeros(image_rgb.shape[:2], dtype= np.uint8)\n",
    "        for pt in points: \n",
    "            #print(pt)\n",
    "            mask2 = cv.circle(mask2,pt,r, (255,255,255), -1)\n",
    "            \n",
    "            # a rectangle is drawn on the mask, which marks where the points are \n",
    "        #invmask=255-mask2\n",
    "        #This is an inbuilt cv function which clips the image around the mask. \n",
    "        #plt.imshow(cv.bitwise_and(image_rgb, image_rgb, mask=invmask))\n",
    "        image_blocked = cv.bitwise_and(image_rgb, image_rgb, mask=mask2)\n",
    "    return image_blocked\n",
    "\n",
    "\n",
    "def performtemplatematching(image_rgb,imgpath,bok,threshold,clumpflag):\n",
    "## a function which performs template matching on the images and blocks them depending on whether\n",
    "## we want to keep the particles or block them out for more accuracy \n",
    "#input: image_rgb: the big image in rgb format where we are looking for matches\n",
    "########imgpath: the path to the template images, as a string\n",
    "#########bok: block or keep. 0 is for keeping, 1 is for blocking with a rectange\n",
    "#########threshold: the threshold for the minimum values. Variable. \n",
    "    \n",
    "    center_coordinates,rectangle_coordinates,w,h=imagetempmatch(imgpath,image_rgb,threshold,clumpflag)\n",
    "    r=round(w/1.5)\n",
    "\n",
    "    correctedimg=blockimagecombo(image_rgb,center_coordinates ,r,bok)\n",
    "    return correctedimg,center_coordinates,r\n",
    "\n",
    "def performsaveimage(image,path):\n",
    "## saves image using pillow, which is a lot faster than matplot lib. \n",
    "    img_rgb_corr=image\n",
    "    try:\n",
    "        im_pil = Image.fromarray(img_rgb_corr)\n",
    "        im_pil.save(path, compress_level=1)\n",
    "    except:\n",
    "        exception=1\n",
    "\n",
    "def savetotrainingfol(foldername,image,points):\n",
    "## saves the cropped images to a folder, for use in machine learning. uses a 16 pixel box.\n",
    "#input: foldername: name of the folder where you want the images stored\n",
    "#######image: an image in rgb format which you want to cut up\n",
    "########points: the coordinates of the particles which you have selected. \n",
    "    boxwid=round(16/2)\n",
    "    w=16\n",
    "    for j,pt in enumerate(points):\n",
    "        savepathfol= addstringwithtime(foldername +'\\\\')\n",
    "        savepath= savepathfol+str(j)+\"registeredimg\" + \".\" + \"png\"\n",
    "        #savepath=os.path.join(savepathfol, str(j)+\"registeredimg\" + \".\" + \"png\")\n",
    "        lilimage=image[pt[1]-w:pt[1]+w, pt[0]-w:pt[0]+w]\n",
    "        performsaveimage(lilimage,savepath)\n",
    "def blockoutunwantedparticles(analpath,sat_img,path,threshold,clumpflag):\n",
    "## a function which blocks out that particles which are interfering with analysis i.e. clumps and clusters\n",
    "#inputs: analpath: the path to the analysis folder\n",
    "######## sat_img: the before target image in rgb format\n",
    "#output: correctedimgcore, the corrected image after accounting for cores and clumps\n",
    "# These images are hardcoded into a folder, so the code has some dependencies. But any exmaples of the correct size will do\n",
    "    #The threshold of 0.25 seems to be highly variable\n",
    "    correctedimg,_,r= performtemplatematching(sat_img, path,1,threshold,clumpflag)\n",
    "    #plt.imshow(correctedimg)\n",
    "    #print(r)\n",
    "    return correctedimg,r\n",
    "\n",
    "def unwantedparticleblocking(analpath,sat_img):\n",
    "    #clusterpath=  r\"D:\\OneDrive - UNSW\\Image_Analysis\\typesofParticles\\NewAItraining\\Cluster\"\n",
    "    #threshold= 0.25\n",
    "    #correctedimgcluster=blockoutunwantedparticles(analpath,sat_img,clusterpath,threshold)\n",
    "    \n",
    "    clumppath= r\"D:\\OneDrive - UNSW\\Image_Analysis\\typesofParticles\\NewAItraining\\newmicroscope\\clump2\"\n",
    "    threshold=0.55\n",
    "    savepath=os.path.join(analpath, \"clumpcorrectedimg\" + \".\" + \"png\")\n",
    "    correctedimgclump,r=blockoutunwantedparticles(analpath,sat_img,clumppath,threshold,0)\n",
    "    performsaveimage(correctedimgclump,savepath)\n",
    "    \n",
    "    corepath= r\"D:\\OneDrive - UNSW\\Image_Analysis\\typesofParticles\\NewAItraining\\newmicroscope\\Core3\"\n",
    "    threshold=0.55\n",
    "    correctedimgcore,r=blockoutunwantedparticles(analpath,correctedimgclump,corepath,threshold,1)\n",
    "    savepath=os.path.join(analpath, \"corecorrectedimg\" + \".\" + \"png\")\n",
    "    performsaveimage(correctedimgcore,savepath)\n",
    "    \n",
    "    return correctedimgcore,r\n",
    "    \n",
    "def keepmatchedparticles(path,image,threshold,clumpflag):\n",
    "## a function which keeps the wanted particles and blocks out the rest. \n",
    "#inputs: analpath: the path to the analysis folder\n",
    "######## sat_img: the before target image in rgb format\n",
    "#########path: path to the images to analyse\n",
    "    correctedimgdimer,pointsdimer,r= performtemplatematching(image, path, 0, threshold,clumpflag)\n",
    "    \n",
    "    return correctedimgdimer,pointsdimer,r\n",
    "                                                              \n",
    "\n",
    "def performkeepmatchedparticles(analpath,image):\n",
    "## a function which keeps the wanted particles and blocks out the rest. \n",
    "#inputs: analpath: the path to the analysis folder\n",
    "######## sat_img: the before target image in rgb format\n",
    "#########path: path to the images to analyse\n",
    "#outputs: the selected image and the dimer points selected\n",
    "    dimerpath= r\"D:\\OneDrive - UNSW\\Image_Analysis\\typesofParticles\\NewAItraining\\newmicroscope\\dimer3\"\n",
    "    threshold=0.3\n",
    "    \n",
    "    correctedimgdimer,pointsdimer,r=keepmatchedparticles(dimerpath,image,threshold,1)\n",
    "    savepath=os.path.join(analpath, \"pickeddimersimg\" + \".\" + \"png\")\n",
    "    performsaveimage(correctedimgdimer,savepath)\n",
    "    return correctedimgdimer,pointsdimer,r\n",
    "\n",
    "\n",
    "\n",
    "def getaveragevalueshsv(image,points,w,h,analpath):\n",
    "# a function to get the average values of the image in rgb format\n",
    "#inputs: image: the hsv image\n",
    "#########points: the selected dimer values\n",
    "#########w,h- the width and height in pixels\n",
    "#########analpath: the path to the analysis folder\n",
    "#outputs: an array of the average colour of the red divided by the green vector\n",
    "\n",
    "    average_colour_rDivg=[]\n",
    "    #converts the image to hsv\n",
    "    image = cv.cvtColor(image,  cv.COLOR_RGB2HSV)\n",
    "    image_hue=image[:,:,0]\n",
    "    for i,pt in enumerate(points):           \n",
    "        try: \n",
    "            crop_im=image_hue[pt[1]-w:pt[1]+w, pt[0]-w:pt[0]+w]\n",
    "            dividedval=crop_im.reshape((1,-1))\n",
    "            #print(dividedval)\n",
    "            average_colour_rDivg.append(np.mean(dividedval))\n",
    "            \n",
    "        except:\n",
    "            z=1;\n",
    "    \n",
    "    print(\"max is \",np.max(np.array(average_colour_rDivg)), \" min is \",np.min(np.array(average_colour_rDivg)))\n",
    "    print(\"average is \", np.mean(np.array(average_colour_rDivg)), \"median is \", np.mean(np.array(average_colour_rDivg)) )\n",
    "    print(\"standard deviation is \", np.mean(np.array(average_colour_rDivg)))\n",
    "    return np.array(average_colour_rDivg)\n",
    "\n",
    "def averagehistogramshift(correctedimgdimer,pointsdimer,correctedimgtarget,threshold,analpath):\n",
    "# a function which uses the average shift of the particle colour (either hue or rgb depending ) to \n",
    "#select the particles which have shifted in the after image \n",
    "#inputs: correctedimgdimer: the image with only dimers selected\n",
    "#########pointsdimer: the locations of the dimers in the image\n",
    "#########correctedimgtarget: the registered image after target added wherein the coordinates of the selected\n",
    "# dimers have been used to clip it\n",
    "#########threshold: the values which the shifted average value must be above or below. was 0.2 \n",
    "#output: loc- the shifted selected particles. \n",
    "    r=16\n",
    "    w=8\n",
    "    h=8\n",
    "    avdim=getaveragevalueshsv(correctedimgdimer,pointsdimer,w,h, analpath)\n",
    "    \n",
    "    avcore=getaveragevalueshsv(correctedimgtarget,pointsdimer,w,h, analpath)\n",
    "    minus= np.array(avdim)-np.array(avcore)\n",
    "    \n",
    "    print(\"minus values here ------------\")\n",
    "    print(\"max value is \", np.max(minus), \"min value is \", np.min(minus), \" mean value is \", np.mean(minus))\n",
    "    print(\" median value is \", np.median(minus), \" standard deviation is \", np.std(minus))\n",
    "    loc=np.array(pointsdimer)[minus < threshold]\n",
    "    targetpicked= blockimagecombo(correctedimgtarget,loc,r,0)\n",
    "    \n",
    "    savepath=os.path.join(analpath, \"tarmaskedimg\" + \".\" + \"png\")\n",
    "    performsaveimage(targetpicked,savepath)\n",
    "    return loc\n",
    "    \n",
    "\n",
    "\n",
    "\n",
    "        \n",
    "        \n",
    "def performtemplatetrainingonimages(transtarimg,analpath,sat_img):\n",
    "    \n",
    "\n",
    "    #blocks unwated particles\n",
    "    correctedimgcore,r=unwantedparticleblocking(analpath,sat_img)\n",
    "    \n",
    "    \n",
    "    #selects dimers\n",
    "    correctedimgdimer,pointsdimer,r=performkeepmatchedparticles(analpath, correctedimgcore)\n",
    "    \n",
    "    \n",
    "    \n",
    "    #print(np.unique(np.array(pointsdimer),axis=0))\n",
    "    #pointsdimer_corrected=np.unique(np.array(pointsdimer),axis=0)\n",
    "    pointsdimer_corrected=pointsdimer\n",
    "    #uses those points to select the same points in the target image \n",
    "    \n",
    "    transtarimg=makeclippingmask(transtarimg)\n",
    "    correctedimgtarget=blockimagecombo(transtarimg,pointsdimer_corrected,r,0)\n",
    "    \n",
    "    savepath=os.path.join(analpath, \"targetblocked\" + \".\" + \"png\")\n",
    "    performsaveimage(correctedimgtarget,savepath)\n",
    "    \n",
    "    #scans the before and after dimers to determine if the particles shift in hue\n",
    "    threshold=-10\n",
    "    selected_target_locations=averagehistogramshift(correctedimgdimer,pointsdimer_corrected,correctedimgtarget,threshold,analpath)\n",
    "     \n",
    "    \n",
    "    \n",
    "    #comment out if don't want\n",
    "    #savetotrainingfol(r\"D:\\OneDrive - UNSW\\Image_Analysis\\typesofParticles\\NewAItraining\\newmicroscope\\unsorted\\before\",sat_img,pointsdimer_corrected)\n",
    "    #savetotrainingfol(r\"D:\\OneDrive - UNSW\\Image_Analysis\\typesofParticles\\NewAItraining\\newmicroscope\\unsorted\\after\",transtarimg,selected_target_locations)\n",
    "    \n",
    "    return selected_target_locations,pointsdimer_corrected\n",
    "\n",
    "\n",
    "######### Extra functions\n",
    "\n",
    "def getindividualfoldersandsuch(bigfol):\n",
    "# a function which gets the folders underneath the big folder. Must be the format: bigfol>slide>sample>satellite | target> images\n",
    "    topfolders=listdirs(bigfol)\n",
    "    subfolders=[0]\n",
    "    for nextfolders in topfolders:\n",
    "        subfolders= subfolders+ listdirs(nextfolders)\n",
    "    subfolders.pop(0)\n",
    "    #print(subfolders)\n",
    "    subfolders=np.array(subfolders).reshape(-1,1)\n",
    "    #print(subfolders)\n",
    "    return subfolders\n",
    "def searchforsatandtargetfolders(folder):\n",
    "#finds the satellite and targetfolders using regexp\n",
    "    subfolders2 = folder.tolist()\n",
    "    subfolders3=str(subfolders2).replace('[','').replace(']','').replace('\\\\\\\\','\\\\')\n",
    "\n",
    "    listexpfolders=listdirs(subfolders3[1:len(subfolders3)-1])\n",
    "    beforefol = [x for x in listexpfolders if re.search(\"satellite\",x)]\n",
    "    beforefol=beforefol[0]\n",
    "    afterfol= [x for x in listexpfolders if re.search(\"target\",x)]\n",
    "    afterfol=afterfol[0]\n",
    "    \n",
    "    return beforefol,afterfol\n",
    "\n",
    "def createanalysisfolder(beforefol,string):\n",
    "#creates an analysis folder in the address above where the satellite and target folders are located.\n",
    "    oneuppath=os.path.dirname(beforefol)\n",
    "    analysisfolderpath=oneuppath+\"\\\\\"+string\n",
    "    try:\n",
    "        os.mkdir(analysisfolderpath)\n",
    "    except:\n",
    "        print(\"folder already exists\")\n",
    "    print(analysisfolderpath)\n",
    "    print(\"processing images\")\n",
    "    return analysisfolderpath,oneuppath\n",
    "\n",
    "def createimagesubfolderforsaving(pathtomatch,analysisfolderpath):\n",
    "# creates a folder with the name of the image in the analysis folder \n",
    "    pathtomatch=beforeimfile[j]\n",
    "    #print(pathtomatch)\n",
    "    matchingsearch=re.search(\"DSC.*.ARW\",pathtomatch)\n",
    "    #print(matchingsearch)\n",
    "    savefilespath=analysisfolderpath+\"\\\\\"+matchingsearch.group()+\"\\\\\"\n",
    "    try: \n",
    "        os.mkdir(savefilespath)\n",
    "    except:\n",
    "        print(\"folder already exists\")\n",
    "    return savefilespath\n",
    "def addstringwithtime(savefilespath):\n",
    "# adds the current date and time so there's no saving over the top of different analysis\n",
    "    now = datetime.now()\n",
    "    dt_string = now.strftime(\"%d_%m_%Y_%H_%M_%S\")\n",
    "    savepath=savefilespath+dt_string\n",
    "    return savepath\n",
    "def makeanalysisfolder(savefilespath,string):\n",
    "# makes a directory in the folder which matches the image name which says 'analysis'\n",
    "    analpath=os.path.join(savefilespath,string)\n",
    "                        #saves the registered image\n",
    "    try: \n",
    "        os.mkdir(analpath)\n",
    "    except:\n",
    "        print(\"folder already exists\")\n",
    "    \n",
    "    return analpath\n",
    "\n",
    "################ THRESHOLDING\n",
    "def gethuevaluesthreshHSV(image,points):\n",
    "    image_hsv = cv.cvtColor(image, cv.COLOR_RGB2HSV)\n",
    "    image_hue=image_hsv[:,:,0]\n",
    "    w=8\n",
    "    average_colour_rDivg=[]\n",
    "    for i,pt in enumerate(points):           \n",
    "        try: \n",
    "            crop_im=image_hue[pt[1]-w:pt[1]+w, pt[0]-w:pt[0]+w]\n",
    "            dividedval=crop_im.reshape((1,-1))\n",
    "            #print(dividedval)\n",
    "            average_colour_rDivg.append(np.mean(dividedval))\n",
    "            \n",
    "        except:\n",
    "            z=1;\n",
    "    return np.array(average_colour_rDivg)\n",
    "\n",
    "def getcentroidsandcenters(image):\n",
    "    \n",
    "    #wmakes an excellent binary image\n",
    "    src = image.copy()\n",
    "\n",
    "    \n",
    "    # Create a kernel that we will use to sharpen our image\n",
    "    # an approximation of second derivative, a quite strong kernel\n",
    "    kernel = np.array([[1, 1, 1], [1, -8, 1], [1, 1, 1]], dtype=np.float32)\n",
    "    # do the laplacian filtering as it is\n",
    "    # well, we need to convert everything in something more deeper then CV_8U\n",
    "    # because the kernel has some negative values,\n",
    "    # and we can expect in general to have a Laplacian image with negative values\n",
    "    # BUT a 8bits unsigned int (the one we are working with) can contain values from 0 to 255\n",
    "    # so the possible negative number will be truncated\n",
    "    imgLaplacian = cv.filter2D(src, cv.CV_32F, kernel)\n",
    "    sharp = np.float32(src)\n",
    "    imgResult = sharp - imgLaplacian\n",
    "    # convert back to 8bits gray scale\n",
    "    imgResult = np.clip(imgResult, 0, 255)\n",
    "    imgResult = imgResult.astype('uint8')\n",
    "    \n",
    "    # Create binary image from source image\n",
    "    # Create binary image from source image\n",
    "    bw = cv.cvtColor(imgResult, cv.COLOR_RGB2GRAY)\n",
    "    #_, bw = cv.threshold(bw, 40, 255, cv.THRESH_BINARY | cv.THRESH_OTSU)\n",
    "    contours, hierarchy = cv.findContours(bw, cv.RETR_TREE, cv.CHAIN_APPROX_SIMPLE)\n",
    "    list_of_centres=[]\n",
    "    boundRect = [None]*len(contours)\n",
    "    contours_poly = [None]*len(contours)\n",
    "    for i, c in enumerate(contours):\n",
    "        contours_poly[i] = cv.approxPolyDP(c, 3, True)\n",
    "        center_circle, _ = cv.minEnclosingCircle(contours_poly[i])\n",
    "        list_of_centres.append((np.int(np.round(center_circle[0])),np.int(np.round(center_circle[1]))))\n",
    "        \n",
    "        boundRect[i] = cv.boundingRect(contours_poly[i])\n",
    "        cv.circle(src, ((np.int(np.round(center_circle[0])),np.int(np.round(center_circle[1])))), 20, (255, 255, 0), 1)\n",
    "        \n",
    "        \n",
    "        #print((np.int(np.round(center_circle[0])),np.int(np.round(center_circle[1]))))\n",
    "    #picked_rectangles=non_max_suppression_fast(np.array(boundRect),0.01)\n",
    "    #h=16;\n",
    "    #for (startX, startY, endX, endY) in picked_rectangles:\n",
    "        #the coordinates are top left hand corner, bottom right hand corner for rectangles \n",
    "    #    list_of_centres.append((np.round((startX+endX/2)),np.round((startY+endY/2))))\n",
    "        #cv.circle(src, (np.int(np.round((startX+endX/2))),np.int(np.round((startY+endY/2)))), 20, (255, 255, 0), 1)\n",
    "        \n",
    "    #cv.imshow(\"Image\", src)\n",
    "    #plt.show()\n",
    "    #list_of_centres=np.array(list_of_centres)\n",
    "    #print(list_of_centres)\n",
    "    return list_of_centres\n",
    "\n",
    "\n",
    "def performthresholding(beforeim,afterim,analpath):\n",
    "    list_of_centres=getcentroidsandcenters(beforeim)\n",
    "    average_colour=gethuevaluesthreshHSV(image,list_of_centres)\n",
    "    dimer_points= np.array(list_of_centres)[average_colour <= 20]\n",
    "    \n",
    "    average_colour_dimer=gethuevaluesthreshHSV(image,dimer_points)\n",
    "    dimers_blocked=blockimagecombo(beforeim, dimer_points,16,0)\n",
    "    savepath=os.path.join(analpath, \"dimersblocked\" + \".\" + \"png\")\n",
    "    performsaveimage(dimers_blocked,savepath)\n",
    "    target_image=blockimagecombo(afterim, dimer_points,8,0)\n",
    "    savepath=os.path.join(analpath, \"targetblocked\" + \".\" + \"png\")\n",
    "    performsaveimage(target_image,savepath)\n",
    "    average_colour_after=gethuevaluesthreshHSV(target_image,dimer_points)\n",
    "    particle_difference=average_colour_dimer-average_colour_after\n",
    "    target_points= np.array(dimer_points)[particle_difference < -10]\n",
    "    target_image_picked=blockimagecombo(afterim, target_points,16,0)\n",
    "    savepath=os.path.join(analpath, \"targetpicked\" + \".\" + \"png\")\n",
    "    performsaveimage(target_image_picked,savepath)\n",
    "    return dimer_points,target_points\n",
    "    \n",
    "#########################\n",
    "\n",
    "\n",
    "subfolders=getindividualfoldersandsuch(bigfol)\n",
    "\n",
    "for folder in subfolders:\n",
    "    #automatically find the before and after folder \n",
    "    beforefol,afterfol= searchforsatandtargetfolders(folder)\n",
    "    \n",
    "    #Create the relevant folder for saving,as well as the path one folder up \n",
    "    analysisfolderpath_temp,oneuppath_temp=createanalysisfolder(beforefol,\"Analysisfolder_Template\")\n",
    "    analysisfolderpath_thresh,oneuppath_thresh=createanalysisfolder(beforefol,\"Analysisfolder_thresholding\")\n",
    "    \n",
    "    \n",
    "    #loadsall the images in \n",
    "\n",
    "    imaf,imbef,beforeimfile,afterimfile=imageprocessingfunction(beforefol,afterfol)\n",
    "    print(\"processed and converted images\")\n",
    "    \n",
    "    \n",
    "    response=[0]*len(beforeimfile)\n",
    "    dimercount=[0]*len(beforeimfile)\n",
    "    targetcount=[0]*len(beforeimfile)\n",
    "    response_thresh=[0]*len(beforeimfile)\n",
    "    dimercount_thresh=[0]*len(beforeimfile)\n",
    "    targetcount_thresh=[0]*len(beforeimfile)\n",
    "    #t = tqdm(total=len(imbef))\n",
    "    for j,image in enumerate(imbef):\n",
    "        #with tqdm(total=len(imbef), file=sys.stdout) as pbar:\n",
    "\n",
    "            #pbar.write('processed: %d' % (j+1))\n",
    "            #pbar.update(0.25)\n",
    "            #sleep(0.1)\n",
    "\n",
    "        pathtomatch=beforeimfile[j]\n",
    "        savefilespath_temp= createimagesubfolderforsaving(pathtomatch,analysisfolderpath_temp)\n",
    "        savefilespath_thresh= createimagesubfolderforsaving(pathtomatch,analysisfolderpath_thresh)\n",
    "        \n",
    "        \n",
    "        #add on the currentdate and time \n",
    "        savepath_temp=addstringwithtime(savefilespath_temp)\n",
    "        savepath_thresh=addstringwithtime(savefilespath_thresh)\n",
    "        \n",
    "        \n",
    "        print(\"calculating image \"+str(j+1)+\" of \"+ str(len(imbef)))\n",
    "        \n",
    "        #make an analysis folder which says analysis in the image folder just created \n",
    "        analpath_temp=makeanalysisfolder(savefilespath_temp,\"Analysisimages_Template\")\n",
    "        analpath_thresh=makeanalysisfolder(savefilespath_thresh,\"Analysisimages_thresholding\")\n",
    "        \n",
    "        #spot matches the before and after images \n",
    "        transimaf=imgregfun(image, imaf[j])\n",
    "        #saves the redistered image\n",
    "        saveregisteredimage=os.path.join(analpath_temp, \"registeredimg\" + \".\" + \"png\")\n",
    "        performsaveimage(transimaf,saveregisteredimage)\n",
    "        #with tqdm(total=len(imbef), file=sys.stdout) as pbar:\n",
    "\n",
    "            #pbar.write('processed: %d' % (j+1))\n",
    "        #    pbar.update(0.5)\n",
    "        #    sleep(0.1)\n",
    "        \n",
    "        #uncomment if you want a crop box    \n",
    "        #height, width = image.shape[:2]\n",
    "        #boxwid=round(1500/2)\n",
    "        #centreimagebefore=image[round(height/2)-boxwid:round(height/2)+boxwid,round(width/2)-boxwid:round(width/2)+boxwid]\n",
    "        #centreimageafter=transimaf[round(height/2)-boxwid:round(height/2)+boxwid,round(width/2)-boxwid:round(width/2)+boxwid]\n",
    "        centreimagebefore=makeclippingmask(image)\n",
    "        #plt.imshow(centreimagebefore)\n",
    "        centreimageafter=makeclippingmask(transimaf)\n",
    "        \n",
    "        #with tqdm(total=len(imbef), file=sys.stdout) as pbar:\n",
    "\n",
    "            #pbar.write('processed: %d' % (j+1))\n",
    "            #pbar.update(0.75)\n",
    "            #sleep(0.1)\n",
    "        \n",
    "        dimer_points,target_points=performthresholding(centreimagebefore,centreimageafter,analpath_thresh)\n",
    "        #print(dimer_points)\n",
    "        #perform the template matching and see which particles shift\n",
    "        targetpicked,pointsdimer=performtemplatetrainingonimages(centreimageafter,analpath_temp,centreimagebefore)\n",
    "       \n",
    "        \n",
    "        #saves the to an excel spreadsheet and saves the results to a list to get the overall results at the end \n",
    "        #if I feel bothered I can add something in that uses the already analysed images but meh \n",
    "        dimercount[j]=len(pointsdimer)\n",
    "        targetcount[j]=len(targetpicked)\n",
    "        try: \n",
    "            response[j]=(len(targetpicked)/len(pointsdimer))*100\n",
    "        except:\n",
    "            response[j]=0\n",
    "        \n",
    "        #saveexcelfun(dimer_points,targetpicked,savepath_temp)\n",
    "        \n",
    "        dimercount_thresh[j]=len(dimer_points)\n",
    "        targetcount_thresh[j]=len(target_points)\n",
    "        try: \n",
    "            response_thresh[j]=(len(target_points)/len(dimer_points))*100\n",
    "        except:\n",
    "            response_thresh[j]=0\n",
    "        #print(pointsdimer.type)\n",
    "        #print(dimer_points.type)\n",
    "        #saveexcelfun(dimer_points,target_points,savepath_thresh)\n",
    "  \n",
    "        \n",
    "        \n",
    "        #save important coordinates to a text file for later analysis\n",
    "        #Probably can delete this don't know what it's used for anymore \n",
    "        #savetextfilefun(np.array(pointsdimer),savepath,\"dimerbefore\")\n",
    "        #savetextfilefun(np.array(targetpicked),savepath,\"selectedResponse\")\n",
    "\n",
    "    print(\"Finished analysis woohoo\")\n",
    "    #t.close()\n",
    "    #Find the folders which contain the analysis and read the text files\n",
    "    #Find the image folders\n",
    "    searchfolder=oneuppath_temp\n",
    "    #insearchfolder=os.listdir(searchfolder)\n",
    "    savedir_temp= searchfolder+'\\\\'+\"Analysisfolder_Template\"\n",
    "    imagefilefolders=os.listdir(savedir_temp)\n",
    "    #Write excel worsheet in the analysis folder\n",
    "    responseforexcel = pd.DataFrame({'dimers_picked':np.array(dimercount),'target_picked':np.array(targetcount),'response': np.array(response)})\n",
    "    responsepath_temp=savedir_temp+'\\\\'+\"responseforallimages.xlsx\"\n",
    "    responseforexcel.to_excel(responsepath_temp) \n",
    "    \n",
    "    searchfolder_thresh=oneuppath_thresh\n",
    "    #insearchfolder=os.listdir(searchfolder)\n",
    "    savedir_thresh= searchfolder+'\\\\'+\"Analysisfolder_thresholding\"\n",
    "    imagefilefolders=os.listdir(savedir_thresh)\n",
    "    #Write excel worsheet in the analysis folder\n",
    "    responseforexcel = pd.DataFrame({'dimers_picked':np.array(dimercount_thresh),'target_picked':np.array(targetcount_thresh),'response': np.array(response_thresh)})\n",
    "    responsepath_thresh=savedir_thresh+'\\\\'+\"responseforallimages.xlsx\"\n",
    "    responseforexcel.to_excel(responsepath_thresh) \n"
   ]
  },
  {
   "cell_type": "markdown",
   "id": "senior-silence",
   "metadata": {},
   "source": [
    "#################### TEMPLATE MATCHING MAIN\n"
   ]
  },
  {
   "cell_type": "code",
   "execution_count": null,
   "id": "tough-guest",
   "metadata": {},
   "outputs": [],
   "source": [
    "print(matchingsearch)\n",
    "    \n",
    "    "
   ]
  },
  {
   "cell_type": "code",
   "execution_count": null,
   "id": "sought-blend",
   "metadata": {
    "scrolled": false
   },
   "outputs": [],
   "source": [
    "#getdifferenceimages(bigfol)\n",
    "    "
   ]
  },
  {
   "cell_type": "code",
   "execution_count": null,
   "id": "unsigned-exposure",
   "metadata": {},
   "outputs": [],
   "source": [
    "from skimage.metrics import structural_similarity as ssim\n",
    "\n",
    "\n",
    "def mse(imageA, imageB):\n",
    "    # the 'Mean Squared Error' between the two images is the\n",
    "    # sum of the squared difference between the two images;\n",
    "    # NOTE: the two images must have the same dimension\n",
    "    err = np.sum((imageA.astype(\"float\") - imageB.astype(\"float\")) ** 2)\n",
    "    err /= float(imageA.shape[0] * imageA.shape[1])\n",
    "\n",
    "    # return the MSE, the lower the error, the more \"similar\"\n",
    "    # the two images are\n",
    "    return err\n",
    "def compare_images(imageA, imageB, title):\n",
    "    # compute the mean squared error and structural similarity\n",
    "    # index for the images\n",
    "    m = mse(imageA, imageB)\n",
    "    s = ssim(imageA, imageB)\n",
    "    # setup the figure\n",
    "    fig = plt.figure(title)\n",
    "    plt.suptitle(\"MSE: %.2f, SSIM: %.2f\" % (m, s))\n",
    "    # show first image\n",
    "    ax = fig.add_subplot(1, 2, 1)\n",
    "    plt.imshow(imageA, cmap = plt.cm.gray)\n",
    "    plt.axis(\"off\")\n",
    "    # show the second image\n",
    "    ax = fig.add_subplot(1, 2, 2)\n",
    "    plt.imshow(imageB, cmap = plt.cm.gray)\n",
    "    plt.axis(\"off\")\n",
    "    # show the images\n",
    "    plt.show()\n",
    "def flattenimage(image):\n",
    "    image_shape=image.shape\n",
    "    print(image_shape)\n",
    "    image_flat = image.flatten()\n",
    "    image_flattened=image_flat.reshape(image_shape[0],image_shape[1])\n",
    "    return image_flattened\n",
    "    \n",
    "    \n",
    "def getimagedifference(variable):\n",
    "    %matplotlib qt\n",
    "    beforepath= r\"D:\\OneDrive - UNSW\\Image_Analysis\\typesofParticles\\NewAItraining\\newmicroscope\\difference_images\\before\"\n",
    "    afterpath=r\"D:\\OneDrive - UNSW\\Image_Analysis\\typesofParticles\\NewAItraining\\newmicroscope\\difference_images\\after\"\n",
    "    differencepath=r\"D:\\OneDrive - UNSW\\Image_Analysis\\typesofParticles\\NewAItraining\\newmicroscope\\difference_images\\difference\"\n",
    "    imagelistB=load_images_from_foldercv(beforepath)\n",
    "    imagelistA=load_images_from_foldercv(afterpath)\n",
    "    imageA_flat=flattenimage(imagelistB[0])\n",
    "    imageB_flat=flattenimage(imagelistA[0])\n",
    "    variable=variable+2\n",
    "    compareimages(imageA_flat,imageB_flat,\"Comparison\")\n",
    "    \n",
    "    \n"
   ]
  },
  {
   "cell_type": "code",
   "execution_count": null,
   "id": "danish-employee",
   "metadata": {},
   "outputs": [],
   "source": [
    "getimagedifference(1)"
   ]
  },
  {
   "cell_type": "code",
   "execution_count": null,
   "id": "administrative-prague",
   "metadata": {},
   "outputs": [],
   "source": [
    "\n"
   ]
  },
  {
   "cell_type": "code",
   "execution_count": null,
   "id": "streaming-brush",
   "metadata": {},
   "outputs": [],
   "source": []
  },
  {
   "cell_type": "code",
   "execution_count": null,
   "id": "national-dispatch",
   "metadata": {},
   "outputs": [],
   "source": []
  },
  {
   "cell_type": "code",
   "execution_count": null,
   "id": "precise-beatles",
   "metadata": {},
   "outputs": [],
   "source": []
  }
 ],
 "metadata": {
  "kernelspec": {
   "display_name": "Python 3",
   "language": "python",
   "name": "python3"
  },
  "language_info": {
   "codemirror_mode": {
    "name": "ipython",
    "version": 3
   },
   "file_extension": ".py",
   "mimetype": "text/x-python",
   "name": "python",
   "nbconvert_exporter": "python",
   "pygments_lexer": "ipython3",
   "version": "3.6.8"
  }
 },
 "nbformat": 4,
 "nbformat_minor": 5
}
